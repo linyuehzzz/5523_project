{
 "cells": [
  {
   "cell_type": "markdown",
   "metadata": {
    "colab_type": "text",
    "id": "view-in-github"
   },
   "source": [
    "<a href=\"https://colab.research.google.com/github/linyuehzzz/5523_project/blob/main/sgd.ipynb\" target=\"_parent\"><img src=\"https://colab.research.google.com/assets/colab-badge.svg\" alt=\"Open In Colab\"/></a>"
   ]
  },
  {
   "cell_type": "markdown",
   "metadata": {
    "id": "FlILGcNEEW0E"
   },
   "source": [
    "##**Stochastic Gradient Descent for Logistic Regression**\n",
    "This code implements and tests the SGD algorithm for logistic regression\n",
    "in different scenarios.  \n",
    "Yifei Zhang (zhang.5387 at osu edu), Yue Lin (lin.3326 at osu.edu)  \n",
    "Created: 11/12/2020"
   ]
  },
  {
   "cell_type": "markdown",
   "metadata": {
    "id": "qGQmKFIeFYKY"
   },
   "source": [
    "#### **Set up libraries**"
   ]
  },
  {
   "cell_type": "code",
   "execution_count": 28,
   "metadata": {
    "id": "BUex5ElWFaHO"
   },
   "outputs": [],
   "source": [
    "import numpy as np\n",
    "import random\n",
    "import matplotlib.pyplot as plt\n",
    "import pandas as pd"
   ]
  },
  {
   "cell_type": "markdown",
   "metadata": {
    "id": "YXnNnylopljK"
   },
   "source": [
    "#### **Project**"
   ]
  },
  {
   "cell_type": "markdown",
   "metadata": {
    "id": "MzHKV3T7pvFo"
   },
   "source": [
    "##### Projection function for hypercube"
   ]
  },
  {
   "cell_type": "code",
   "execution_count": 2,
   "metadata": {
    "id": "9ewruRRFp0kP"
   },
   "outputs": [],
   "source": [
    "def cube_prj(sample):\n",
    "  '''\n",
    "  input: a sample with d dimension (1-D array or list)\n",
    "  onput: the euclidean projection of sample\n",
    "  '''\n",
    "  return [np.sign(i) * min(np.abs(i), 1) for i in sample]"
   ]
  },
  {
   "cell_type": "markdown",
   "metadata": {
    "id": "9mrnAQvYqI8q"
   },
   "source": [
    "##### Projection function for unit ball"
   ]
  },
  {
   "cell_type": "code",
   "execution_count": 3,
   "metadata": {
    "id": "kyUbRJAKqRsd"
   },
   "outputs": [],
   "source": [
    "def ball_prj(sample):\n",
    "    '''\n",
    "    input: a sample with d dimension (1-D array or list)\n",
    "    onput: the euclidean projection of sample\n",
    "    '''\n",
    "    ratio = 1 / np.linalg.norm(sample)\n",
    "    return [i * ratio for i in sample]"
   ]
  },
  {
   "cell_type": "markdown",
   "metadata": {
    "id": "eZXfvRgKqXV2"
   },
   "source": [
    "##### Project data"
   ]
  },
  {
   "cell_type": "code",
   "execution_count": 4,
   "metadata": {
    "id": "6dwzkd6WqW7X"
   },
   "outputs": [],
   "source": [
    "def prj_data(x, y, prj_code):\n",
    "    '''\n",
    "    This function is for conduct projection on data array\n",
    "    x: n*d array (n is sample#, d is dimension)\n",
    "    y: 1-d array with label of -1 or +1\n",
    "    prj_code: type of projection, 0 for cube, 1 for ball\n",
    "    return:\n",
    "        prj_x: projected x \n",
    "        y: same as input\n",
    "    '''\n",
    "    if prj_code == 0:\n",
    "        prj_x = np.apply_along_axis(cube_prj, 1, x)\n",
    "    elif prj_code == 1:\n",
    "        prj_x = np.apply_along_axis(ball_prj, 1, x)\n",
    "    else:\n",
    "        print(\"Please input correct code for projection type: 0 for cube, 1 for ball\")\n",
    "      \n",
    "    b = np.ones((prj_x.shape[0], 1))\n",
    "    prj_x = np.append(prj_x, b, axis=1)\n",
    "    return prj_x, y"
   ]
  },
  {
   "cell_type": "markdown",
   "metadata": {
    "id": "eiUQqYKLvAuY"
   },
   "source": [
    "##### Project gradient"
   ]
  },
  {
   "cell_type": "code",
   "execution_count": 5,
   "metadata": {
    "id": "6ThWld5kvaBT"
   },
   "outputs": [],
   "source": [
    "def prj_grad(g, prj_code):\n",
    "    '''\n",
    "    This function is for conduct projection on gradients\n",
    "    g: 1-d array (d is dimension)\n",
    "    prj_code: type of projection, 0 for cube, 1 for ball\n",
    "    return:\n",
    "        prj_g: projected gradient\n",
    "    '''\n",
    "    if prj_code == 0:\n",
    "        prj_g = cube_prj(g)\n",
    "    elif prj_code == 1:\n",
    "        prj_g = ball_prj(g)\n",
    "    else:\n",
    "        print(\"Please input correct code for projection type: 0 for cube, 1 for ball\")\n",
    "    return prj_g"
   ]
  },
  {
   "cell_type": "markdown",
   "metadata": {
    "id": "tu0jhwwRF5ls"
   },
   "source": [
    "#### **Prepare data**"
   ]
  },
  {
   "cell_type": "code",
   "execution_count": 6,
   "metadata": {
    "id": "yMDzFiFcrsg8"
   },
   "outputs": [],
   "source": [
    "def gen_data(sig, n):\n",
    "    '''\n",
    "    The function is to generate data for training and testing\n",
    "    The feature array is 4 dimension array. \n",
    "     + Each feature follows the Normal distribution(mu,sig)\n",
    "     + with probability 1/2, the y =1 , \n",
    "         generate the correspoinding feature vector from N(mu,sig),mu is [1/4,1/4,1/4,1/4],sig is set as you need.\n",
    "    sig: the sigma of  gussian vector\n",
    "    n: the sample number\n",
    "    \n",
    "    Return:\n",
    "     x: n*d_dimension array\n",
    "     y: 1-d dimension array with -1 and +1\n",
    "    '''\n",
    "    d_dimension = 4\n",
    "    y = np.random.choice([-1, 1], p = [0.5, 0.5], size = n)\n",
    "    x = np.array([])\n",
    "    for i in range(n):\n",
    "        if y[i] == -1:\n",
    "            mu = -(1 / 4)\n",
    "            negvec = np.random.normal(mu, sig, d_dimension)\n",
    "            x = np.concatenate([x, negvec], axis=0)\n",
    "        else:\n",
    "            mu = (1/4)\n",
    "            posvec = np.random.normal(mu, sig, d_dimension)\n",
    "            x = np.concatenate([x,posvec], axis=0)\n",
    "    x = np.reshape(x, (n, d_dimension))\n",
    "    return x, y"
   ]
  },
  {
   "cell_type": "markdown",
   "metadata": {
    "id": "aAzwTZ79M6oi"
   },
   "source": [
    "#### **Train**\n",
    "https://machinelearningmastery.com/implement-logistic-regression-stochastic-gradient-descent-scratch-python/"
   ]
  },
  {
   "cell_type": "markdown",
   "metadata": {
    "id": "s8XQyQ8Ycqpo"
   },
   "source": [
    "##### Predict using logistic regression"
   ]
  },
  {
   "cell_type": "code",
   "execution_count": 22,
   "metadata": {
    "id": "dzPxwbmIM6NU"
   },
   "outputs": [],
   "source": [
    "# Make a prediction with coefficients\n",
    "def pred(X, w):\n",
    "    yhat = 0.\n",
    "    for i in range(X.shape[0]):\n",
    "        yhat += w[i] * X[i]\n",
    "    yhat = 1.0 / (1.0 + np.exp(-yhat))\n",
    "    if yhat < 0.5:\n",
    "        yhat = -1\n",
    "    else:\n",
    "        yhat = 1 \n",
    "    return yhat"
   ]
  },
  {
   "cell_type": "markdown",
   "metadata": {
    "id": "iJfOdxzt4M5T"
   },
   "source": [
    "##### Estimate logistic loss"
   ]
  },
  {
   "cell_type": "code",
   "execution_count": 23,
   "metadata": {
    "id": "q_3nPdw4BJV0"
   },
   "outputs": [],
   "source": [
    "def log_loss(X, y, w):\n",
    "    return np.log(1 + np.exp(-y * np.dot(w.T, X)))"
   ]
  },
  {
   "cell_type": "markdown",
   "metadata": {
    "id": "mnfgixZxQqvj"
   },
   "source": [
    "##### Estimate classification error"
   ]
  },
  {
   "cell_type": "code",
   "execution_count": 24,
   "metadata": {
    "id": "DZdcop9KQuGF"
   },
   "outputs": [],
   "source": [
    "def err(yhat, y):\n",
    "    if yhat == y:\n",
    "        return 0\n",
    "    else:\n",
    "        return 1"
   ]
  },
  {
   "cell_type": "markdown",
   "metadata": {
    "id": "lE93wIbQc9Is"
   },
   "source": [
    "##### Estimate weight vector using SGD"
   ]
  },
  {
   "cell_type": "code",
   "execution_count": 10,
   "metadata": {
    "id": "Jb_QkJsIc8Vh"
   },
   "outputs": [],
   "source": [
    "def train_sgd(train_x, train_y, test_x, test_y, l_rate, n_epoch, bs, prj_code):\n",
    "  w = np.random.uniform(-1, 1, (train_x.shape[1]))\n",
    "  risk_all = np.zeros(n_epoch)\n",
    "  cls_err_all = np.zeros(n_epoch)\n",
    "\n",
    "  for epoch in range(n_epoch):\n",
    "    risk = cls_err = grad = 0.\n",
    "    for idx in range(epoch * bs, (epoch + 1) * bs):\n",
    "      # Read data\n",
    "      X = train_x[idx]\n",
    "      y = train_y[idx]\n",
    "      # Calculate gradient\n",
    "      g = (-y * X * np.exp(-y * np.dot(w.T, X)) / (1 + np.exp(-y * np.dot(w.T, X))))\n",
    "      grad += g\n",
    "\n",
    "    # Project gradient\n",
    "    grad = prj_grad(grad / bs, prj_code)\n",
    "    # Backward propagation\n",
    "    w = np.add(w, np.multiply(-l_rate, grad))\n",
    "    \n",
    "    # Evaluate\n",
    "    for idx in range(test_x.shape[0]):\n",
    "      # Read data\n",
    "      X = test_x[idx]\n",
    "      y = test_y[idx]\n",
    "      # Predict\n",
    "      yhat = pred(X, w)\n",
    "      # Evaluate\n",
    "      risk += log_loss(X, y, w) / test_x.shape[0]\n",
    "      cls_err += err(yhat, y) / test_x.shape[0]\n",
    "    \n",
    "    risk_all = np.append(risk_all, risk)\n",
    "    cls_err_all = np.append(cls_err_all, cls_err)\n",
    "    # print('>epoch=%d, lrate=%.3f, risk=%.3f, classification error=%.3f' % (epoch, l_rate, risk, cls_err))\n",
    "  \n",
    "  # Report risk\n",
    "  risk_ave = np.average(risk_all)\n",
    "  risk_min = np.amin(risk_all)\n",
    "  risk_var = np.var(risk_all)\n",
    "  exp_excess_risk = risk_ave - risk_min\n",
    "  # Report classification error\n",
    "  cls_err_ave = np.average(cls_err_all)\n",
    "  cls_err_var = np.var(cls_err_all)\n",
    "  return [w, risk_ave, risk_min, risk_var, exp_excess_risk, cls_err_ave, cls_err_var]"
   ]
  },
  {
   "cell_type": "markdown",
   "metadata": {
    "id": "q3SH2Dm7d71V"
   },
   "source": [
    "#### **Wrapper**"
   ]
  },
  {
   "cell_type": "markdown",
   "metadata": {
    "id": "C0-3MK6Pk7mU"
   },
   "source": [
    "##### Generate data and train"
   ]
  },
  {
   "cell_type": "code",
   "execution_count": 17,
   "metadata": {
    "colab": {
     "base_uri": "https://localhost:8080/"
    },
    "id": "iJ68DlKXd6rP",
    "outputId": "e7690fa3-0384-4a00-d3b7-a9315deae92d"
   },
   "outputs": [
    {
     "name": "stdout",
     "output_type": "stream",
     "text": [
      "[array([ 0.81537278,  1.02232637,  0.92469896, -0.78591769,  0.52977064]), 0.2784881499866211, 0.0, 0.07781306677034856, 0.2784881499866211, 0.20395833333333352, 0.04419131076388896]\n",
      ">scenario=1, sigma=0.10, n=50, log_loss_mean=0.278, log_loss_std_dev=0.078, log_loss_min=0.000,         excess_risk=0.278, cls_error_mean=0.204, cls_error_std_dev=0.044\n",
      "[array([-0.48435138,  0.68363435,  0.24215182, -0.09152958,  0.15859294]), 0.3492377865116855, 0.0, 0.12221683778213396, 0.3492377865116855, 0.2544166666666666, 0.06508861805555555]\n",
      ">scenario=1, sigma=0.10, n=100, log_loss_mean=0.349, log_loss_std_dev=0.122, log_loss_min=0.000,         excess_risk=0.349, cls_error_mean=0.254, cls_error_std_dev=0.065\n",
      "[array([-0.46596826,  0.42713659,  0.09867475,  0.01865117,  0.396528  ]), 0.37927173433541267, 0.0, 0.14424049478114467, 0.37927173433541267, 0.2599999999999999, 0.06759999999999998]\n",
      ">scenario=1, sigma=0.10, n=500, log_loss_mean=0.379, log_loss_std_dev=0.144, log_loss_min=0.000,         excess_risk=0.379, cls_error_mean=0.260, cls_error_std_dev=0.068\n",
      "[array([-0.49014681, -0.07460169,  0.41924651,  0.41143686,  0.30976775]), 0.3544333772448711, 0.0, 0.12592334660563279, 0.3544333772448711, 0.24366666666666692, 0.05937363888888898]\n",
      ">scenario=1, sigma=0.10, n=1000, log_loss_mean=0.354, log_loss_std_dev=0.126, log_loss_min=0.000,         excess_risk=0.354, cls_error_mean=0.244, cls_error_std_dev=0.059\n"
     ]
    }
   ],
   "source": [
    "# Fixed hyperparameters\n",
    "n_epoch = 30    # training epochs\n",
    "test_n = 400    # size of test set\n",
    "\n",
    "# Unfixed hyperparameters\n",
    "prj_code = 0   # code for two scenario: 0 for cube, 1 for ball\n",
    "l_rate = 0.04  # learning rate: 0.04 for cube, 0.18 for ball\n",
    "train_bs = np.array([50, 100, 500, 1000])   # batch size for each training epoch\n",
    "sigma = 0.1     # variance of Gaussian distribution\n",
    "\n",
    "np.random.seed(0)\n",
    "\n",
    "excess_risk = []\n",
    "cls_error = []\n",
    "excess_risk_var = []\n",
    "cls_error_var = []\n",
    "\n",
    "for bs in train_bs:\n",
    "  # Generate training data\n",
    "    train_x, train_y = gen_data(sigma, bs * n_epoch)\n",
    "    train_px, train_py = prj_data(train_x, train_y, prj_code)\n",
    "\n",
    "    # Generate test data\n",
    "    test_x, test_y = gen_data(sigma, test_n)\n",
    "    test_px, test_py = prj_data(test_x, test_y, prj_code)\n",
    "\n",
    "    # Train\n",
    "    output = train_sgd(train_px, train_py, test_px, test_py, l_rate, n_epoch, bs, prj_code)\n",
    "    #[w, risk_ave, risk_min, risk_var, exp_excess_risk, cls_err_ave, cls_err_var]\n",
    "    \n",
    "    print(output)\n",
    "    print('>scenario=%d, sigma=%.2f, n=%d, log_loss_mean=%.3f, log_loss_std_dev=%.3f, log_loss_min=%.3f, \\\n",
    "        excess_risk=%.3f, cls_error_mean=%.3f, cls_error_std_dev=%.3f' \n",
    "        % (prj_code+1, sigma, bs, output[1], output[3], output[2], output[4], output[5], output[6]))\n",
    "\n",
    "    excess_risk = np.append(excess_risk, output[4], axis=None)\n",
    "    cls_error = np.append(cls_error, output[5],  axis=None)\n",
    "    excess_risk_var = np.append(excess_risk_var, output[3], axis=None)\n",
    "    cls_error_var = np.append(cls_error_var, output[6],  axis=None)"
   ]
  },
  {
   "cell_type": "markdown",
   "metadata": {},
   "source": [
    "#### To run all experiments"
   ]
  },
  {
   "cell_type": "code",
   "execution_count": null,
   "metadata": {},
   "outputs": [],
   "source": [
    "# Fixed hyperparameters\n",
    "n_epoch = 30    # training epochs\n",
    "test_n = 400    # size of test set\n",
    "\n",
    "# Unfixed hyperparameters\n",
    "prj_code = 0   # code for two scenario: 0 for cube, 1 for ball\n",
    "l_rate = 0.04  # learning rate: 0.04 for cube, 0.18 for ball\n",
    "train_bs = np.array([50, 100, 500, 1000])   # batch size for each training epoch\n",
    "sigma = 0.1     # variance of Gaussian distribution\n",
    "np.random.seed(0)"
   ]
  },
  {
   "cell_type": "code",
   "execution_count": 137,
   "metadata": {},
   "outputs": [],
   "source": [
    "result_list=[]\n",
    "for prj_code in [0,1]:\n",
    "    for sigma in [0.1,0.35]:\n",
    "        for bs in train_bs:\n",
    "          # Generate training data\n",
    "            train_x, train_y = gen_data(sigma, bs * n_epoch)\n",
    "            train_px, train_py = prj_data(train_x, train_y, prj_code)\n",
    "\n",
    "            # Generate test data\n",
    "            test_x, test_y = gen_data(sigma, test_n)\n",
    "            test_px, test_py = prj_data(test_x, test_y, prj_code)\n",
    "\n",
    "            # Train\n",
    "            output = train_sgd(train_px, train_py, test_px, test_py, l_rate, n_epoch, bs, prj_code)\n",
    "            #[w, risk_ave, risk_min, risk_var, exp_excess_risk, cls_err_ave, cls_err_var]\n",
    "\n",
    "#             print(output)\n",
    "#             print('>scenario=%d, sigma=%.2f, n=%d, log_loss_mean=%.3f, log_loss_std_dev=%.3f, log_loss_min=%.3f, \\\n",
    "#                 excess_risk=%.3f, cls_error_mean=%.3f, cls_error_std_dev=%.3f' \n",
    "#                 % (prj_code+1, sigma, bs, output[1], output[3], output[2], output[4], output[5], output[6]))\n",
    "            result=[prj_code+1, sigma, bs, 30,output[1], output[3], output[2], output[4], output[5], output[6]]\n",
    "            result_list.append(result)\n"
   ]
  },
  {
   "cell_type": "code",
   "execution_count": 145,
   "metadata": {},
   "outputs": [],
   "source": [
    "column_name=[\"Scenario\",\"sigma\",\"N\",\"#trails\",\"Loss_Mean\",\"Loss_StdDev\",\"Loss_Min\",\"Loss_ExcessRisk\",\n",
    "             \"Error_Mean\",\"Error_StdDev\"]"
   ]
  },
  {
   "cell_type": "code",
   "execution_count": 146,
   "metadata": {},
   "outputs": [
    {
     "data": {
      "text/html": [
       "<div>\n",
       "<style scoped>\n",
       "    .dataframe tbody tr th:only-of-type {\n",
       "        vertical-align: middle;\n",
       "    }\n",
       "\n",
       "    .dataframe tbody tr th {\n",
       "        vertical-align: top;\n",
       "    }\n",
       "\n",
       "    .dataframe thead th {\n",
       "        text-align: right;\n",
       "    }\n",
       "</style>\n",
       "<table border=\"1\" class=\"dataframe\">\n",
       "  <thead>\n",
       "    <tr style=\"text-align: right;\">\n",
       "      <th></th>\n",
       "      <th>Scenario</th>\n",
       "      <th>sigma</th>\n",
       "      <th>N</th>\n",
       "      <th>#trails</th>\n",
       "      <th>Loss_Mean</th>\n",
       "      <th>Loss_StdDev</th>\n",
       "      <th>Loss_Min</th>\n",
       "      <th>Loss_ExcessRisk</th>\n",
       "      <th>Error_Mean</th>\n",
       "      <th>Error_StdDev</th>\n",
       "    </tr>\n",
       "  </thead>\n",
       "  <tbody>\n",
       "    <tr>\n",
       "      <th>0</th>\n",
       "      <td>1</td>\n",
       "      <td>0.10</td>\n",
       "      <td>50</td>\n",
       "      <td>30</td>\n",
       "      <td>0.377945</td>\n",
       "      <td>0.143347</td>\n",
       "      <td>0.0</td>\n",
       "      <td>0.377945</td>\n",
       "      <td>0.256250</td>\n",
       "      <td>0.065664</td>\n",
       "    </tr>\n",
       "    <tr>\n",
       "      <th>1</th>\n",
       "      <td>1</td>\n",
       "      <td>0.10</td>\n",
       "      <td>100</td>\n",
       "      <td>30</td>\n",
       "      <td>0.230124</td>\n",
       "      <td>0.053061</td>\n",
       "      <td>0.0</td>\n",
       "      <td>0.230124</td>\n",
       "      <td>0.052208</td>\n",
       "      <td>0.003997</td>\n",
       "    </tr>\n",
       "    <tr>\n",
       "      <th>2</th>\n",
       "      <td>1</td>\n",
       "      <td>0.10</td>\n",
       "      <td>500</td>\n",
       "      <td>30</td>\n",
       "      <td>0.543204</td>\n",
       "      <td>0.295978</td>\n",
       "      <td>0.0</td>\n",
       "      <td>0.543204</td>\n",
       "      <td>0.327042</td>\n",
       "      <td>0.107060</td>\n",
       "    </tr>\n",
       "    <tr>\n",
       "      <th>3</th>\n",
       "      <td>1</td>\n",
       "      <td>0.10</td>\n",
       "      <td>1000</td>\n",
       "      <td>30</td>\n",
       "      <td>0.276275</td>\n",
       "      <td>0.076442</td>\n",
       "      <td>0.0</td>\n",
       "      <td>0.276275</td>\n",
       "      <td>0.008250</td>\n",
       "      <td>0.000135</td>\n",
       "    </tr>\n",
       "    <tr>\n",
       "      <th>4</th>\n",
       "      <td>1</td>\n",
       "      <td>0.35</td>\n",
       "      <td>50</td>\n",
       "      <td>30</td>\n",
       "      <td>0.256690</td>\n",
       "      <td>0.066085</td>\n",
       "      <td>0.0</td>\n",
       "      <td>0.256690</td>\n",
       "      <td>0.155125</td>\n",
       "      <td>0.025419</td>\n",
       "    </tr>\n",
       "    <tr>\n",
       "      <th>5</th>\n",
       "      <td>1</td>\n",
       "      <td>0.35</td>\n",
       "      <td>100</td>\n",
       "      <td>30</td>\n",
       "      <td>0.432885</td>\n",
       "      <td>0.187941</td>\n",
       "      <td>0.0</td>\n",
       "      <td>0.432885</td>\n",
       "      <td>0.326083</td>\n",
       "      <td>0.106390</td>\n",
       "    </tr>\n",
       "    <tr>\n",
       "      <th>6</th>\n",
       "      <td>1</td>\n",
       "      <td>0.35</td>\n",
       "      <td>500</td>\n",
       "      <td>30</td>\n",
       "      <td>0.378052</td>\n",
       "      <td>0.143297</td>\n",
       "      <td>0.0</td>\n",
       "      <td>0.378052</td>\n",
       "      <td>0.238958</td>\n",
       "      <td>0.057198</td>\n",
       "    </tr>\n",
       "    <tr>\n",
       "      <th>7</th>\n",
       "      <td>1</td>\n",
       "      <td>0.35</td>\n",
       "      <td>1000</td>\n",
       "      <td>30</td>\n",
       "      <td>0.321808</td>\n",
       "      <td>0.103821</td>\n",
       "      <td>0.0</td>\n",
       "      <td>0.321808</td>\n",
       "      <td>0.231375</td>\n",
       "      <td>0.054068</td>\n",
       "    </tr>\n",
       "    <tr>\n",
       "      <th>8</th>\n",
       "      <td>2</td>\n",
       "      <td>0.10</td>\n",
       "      <td>50</td>\n",
       "      <td>30</td>\n",
       "      <td>0.288407</td>\n",
       "      <td>0.093159</td>\n",
       "      <td>0.0</td>\n",
       "      <td>0.288407</td>\n",
       "      <td>0.154667</td>\n",
       "      <td>0.046588</td>\n",
       "    </tr>\n",
       "    <tr>\n",
       "      <th>9</th>\n",
       "      <td>2</td>\n",
       "      <td>0.10</td>\n",
       "      <td>100</td>\n",
       "      <td>30</td>\n",
       "      <td>0.329476</td>\n",
       "      <td>0.120796</td>\n",
       "      <td>0.0</td>\n",
       "      <td>0.329476</td>\n",
       "      <td>0.192667</td>\n",
       "      <td>0.052793</td>\n",
       "    </tr>\n",
       "    <tr>\n",
       "      <th>10</th>\n",
       "      <td>2</td>\n",
       "      <td>0.10</td>\n",
       "      <td>500</td>\n",
       "      <td>30</td>\n",
       "      <td>0.408863</td>\n",
       "      <td>0.182245</td>\n",
       "      <td>0.0</td>\n",
       "      <td>0.408863</td>\n",
       "      <td>0.237333</td>\n",
       "      <td>0.058001</td>\n",
       "    </tr>\n",
       "    <tr>\n",
       "      <th>11</th>\n",
       "      <td>2</td>\n",
       "      <td>0.10</td>\n",
       "      <td>1000</td>\n",
       "      <td>30</td>\n",
       "      <td>0.154279</td>\n",
       "      <td>0.027550</td>\n",
       "      <td>0.0</td>\n",
       "      <td>0.154279</td>\n",
       "      <td>0.006750</td>\n",
       "      <td>0.000568</td>\n",
       "    </tr>\n",
       "    <tr>\n",
       "      <th>12</th>\n",
       "      <td>2</td>\n",
       "      <td>0.35</td>\n",
       "      <td>50</td>\n",
       "      <td>30</td>\n",
       "      <td>0.353974</td>\n",
       "      <td>0.130050</td>\n",
       "      <td>0.0</td>\n",
       "      <td>0.353974</td>\n",
       "      <td>0.211417</td>\n",
       "      <td>0.049479</td>\n",
       "    </tr>\n",
       "    <tr>\n",
       "      <th>13</th>\n",
       "      <td>2</td>\n",
       "      <td>0.35</td>\n",
       "      <td>100</td>\n",
       "      <td>30</td>\n",
       "      <td>0.302855</td>\n",
       "      <td>0.094814</td>\n",
       "      <td>0.0</td>\n",
       "      <td>0.302855</td>\n",
       "      <td>0.146208</td>\n",
       "      <td>0.031875</td>\n",
       "    </tr>\n",
       "    <tr>\n",
       "      <th>14</th>\n",
       "      <td>2</td>\n",
       "      <td>0.35</td>\n",
       "      <td>500</td>\n",
       "      <td>30</td>\n",
       "      <td>0.469803</td>\n",
       "      <td>0.229146</td>\n",
       "      <td>0.0</td>\n",
       "      <td>0.469803</td>\n",
       "      <td>0.332500</td>\n",
       "      <td>0.112601</td>\n",
       "    </tr>\n",
       "    <tr>\n",
       "      <th>15</th>\n",
       "      <td>2</td>\n",
       "      <td>0.35</td>\n",
       "      <td>1000</td>\n",
       "      <td>30</td>\n",
       "      <td>0.430206</td>\n",
       "      <td>0.192286</td>\n",
       "      <td>0.0</td>\n",
       "      <td>0.430206</td>\n",
       "      <td>0.288000</td>\n",
       "      <td>0.085552</td>\n",
       "    </tr>\n",
       "  </tbody>\n",
       "</table>\n",
       "</div>"
      ],
      "text/plain": [
       "    Scenario  sigma     N  #trails  Loss_Mean  Loss_StdDev  Loss_Min  \\\n",
       "0          1   0.10    50       30   0.377945     0.143347       0.0   \n",
       "1          1   0.10   100       30   0.230124     0.053061       0.0   \n",
       "2          1   0.10   500       30   0.543204     0.295978       0.0   \n",
       "3          1   0.10  1000       30   0.276275     0.076442       0.0   \n",
       "4          1   0.35    50       30   0.256690     0.066085       0.0   \n",
       "5          1   0.35   100       30   0.432885     0.187941       0.0   \n",
       "6          1   0.35   500       30   0.378052     0.143297       0.0   \n",
       "7          1   0.35  1000       30   0.321808     0.103821       0.0   \n",
       "8          2   0.10    50       30   0.288407     0.093159       0.0   \n",
       "9          2   0.10   100       30   0.329476     0.120796       0.0   \n",
       "10         2   0.10   500       30   0.408863     0.182245       0.0   \n",
       "11         2   0.10  1000       30   0.154279     0.027550       0.0   \n",
       "12         2   0.35    50       30   0.353974     0.130050       0.0   \n",
       "13         2   0.35   100       30   0.302855     0.094814       0.0   \n",
       "14         2   0.35   500       30   0.469803     0.229146       0.0   \n",
       "15         2   0.35  1000       30   0.430206     0.192286       0.0   \n",
       "\n",
       "    Loss_ExcessRisk  Error_Mean  Error_StdDev  \n",
       "0          0.377945    0.256250      0.065664  \n",
       "1          0.230124    0.052208      0.003997  \n",
       "2          0.543204    0.327042      0.107060  \n",
       "3          0.276275    0.008250      0.000135  \n",
       "4          0.256690    0.155125      0.025419  \n",
       "5          0.432885    0.326083      0.106390  \n",
       "6          0.378052    0.238958      0.057198  \n",
       "7          0.321808    0.231375      0.054068  \n",
       "8          0.288407    0.154667      0.046588  \n",
       "9          0.329476    0.192667      0.052793  \n",
       "10         0.408863    0.237333      0.058001  \n",
       "11         0.154279    0.006750      0.000568  \n",
       "12         0.353974    0.211417      0.049479  \n",
       "13         0.302855    0.146208      0.031875  \n",
       "14         0.469803    0.332500      0.112601  \n",
       "15         0.430206    0.288000      0.085552  "
      ]
     },
     "execution_count": 146,
     "metadata": {},
     "output_type": "execute_result"
    }
   ],
   "source": [
    "result_df=pd.DataFrame(result_list,columns=column_name)\n",
    "result_df"
   ]
  },
  {
   "cell_type": "markdown",
   "metadata": {},
   "source": [
    "#### To plot Individual Plot"
   ]
  },
  {
   "cell_type": "markdown",
   "metadata": {
    "id": "saT_I5DNk0rq"
   },
   "source": [
    "+ Plot excess risk"
   ]
  },
  {
   "cell_type": "code",
   "execution_count": 141,
   "metadata": {},
   "outputs": [],
   "source": [
    "resultdf1=resultdf[np.logical_and(result_df[\"Scenario\"]==1,result_df[\"sigma\"]==0.1)]\n",
    "excess_risk = resultdf1[\"Loss_ExcessRisk\"]\n",
    "cls_error = resultdf1[\"Error_Mean\"]\n",
    "excess_risk_var = resultdf1[\"Loss_StdDev\"]\n",
    "cls_error_var = resultdf1[\"Error_Mean\"]"
   ]
  },
  {
   "cell_type": "code",
   "execution_count": 142,
   "metadata": {
    "colab": {
     "base_uri": "https://localhost:8080/",
     "height": 297
    },
    "id": "dkARytwCk0Zj",
    "outputId": "8acd3e4e-1ba3-4f10-ed91-9bfeca9f0df1"
   },
   "outputs": [
    {
     "data": {
      "image/png": "[encoded data removed]",
      "text/plain": [
       "<matplotlib.figure.Figure at 0x11e972048>"
      ]
     },
     "metadata": {},
     "output_type": "display_data"
    }
   ],
   "source": [
    "plt.plot(train_bs, excess_risk, '-o', label='Excess risk')\n",
    "plt.errorbar(train_bs, excess_risk, excess_risk_var)\n",
    "plt.legend()\n",
    "plt.tight_layout()\n",
    "plt.show()"
   ]
  },
  {
   "cell_type": "markdown",
   "metadata": {},
   "source": [
    "+ Plot classification error"
   ]
  },
  {
   "cell_type": "code",
   "execution_count": 143,
   "metadata": {
    "colab": {
     "base_uri": "https://localhost:8080/",
     "height": 297
    },
    "id": "HIBfEnVRoMgT",
    "outputId": "f10d4237-f2ff-43c6-b5f0-06ffb29d92a9"
   },
   "outputs": [
    {
     "data": {
      "image/png": "[encoded data removed]",
      "text/plain": [
       "<matplotlib.figure.Figure at 0x11af775f8>"
      ]
     },
     "metadata": {},
     "output_type": "display_data"
    }
   ],
   "source": [
    "plt.plot(train_bs, cls_error, '-o', label='Classification error')\n",
    "plt.errorbar(train_bs, cls_error, cls_error_var)\n",
    "plt.legend()\n",
    "plt.tight_layout()\n",
    "plt.show()"
   ]
  },
  {
   "cell_type": "markdown",
   "metadata": {},
   "source": [
    "#### Plot Grid"
   ]
  },
  {
   "cell_type": "code",
   "execution_count": 144,
   "metadata": {},
   "outputs": [],
   "source": [
    "def plot_result(estimator):\n",
    "    '''\n",
    "    estimator: \n",
    "        0 is for [\"Loss_ExcessRisk\",\"Loss_StdDev\"]\n",
    "        1 is for [\"Error_Mean\",\"Error_Mean\"]\n",
    "    \n",
    "    '''\n",
    "    if estimator==0:\n",
    "        col=[\"Loss_ExcessRisk\",\"Loss_StdDev\"]\n",
    "    else:\n",
    "        col=[\"Error_Mean\",\"Error_Mean\"]\n",
    "        \n",
    "    fig=plt.figure(figsize=(16,10))\n",
    "    index=0\n",
    "    for senario in [1,2]:\n",
    "        for sigma in [0.1,0.35]:\n",
    "            index += 1\n",
    "            plt.subplot(2,2,index)\n",
    "            df=resultdf[np.logical_and(resultdf[\"Scenario\"]==senario,resultdf[\"sigma\"]==sigma)]\n",
    "            excess_risk,excess_risk_var = df[col[0]],df[col[1]]\n",
    "\n",
    "            plt.plot(train_bs, excess_risk, '-o', label=col[0])\n",
    "            plt.errorbar(train_bs, excess_risk, excess_risk_var)\n",
    "\n",
    "            plt.xlabel(\"N\",fontsize=12)\n",
    "            plt.xticks(fontsize=12)\n",
    "            plt.ylabel(\"Risk\",fontsize=12)\n",
    "            plt.yticks(fontsize=12)\n",
    "            plt.title(\"Scenario \"+str(senario)+\", Sigma=\"+str(sigma),fontsize=15) \n",
    "    fig.legend(col,loc=\"upper right\",fontsize=13)\n",
    "    plt.tight_layout()\n",
    "    plt.show()"
   ]
  },
  {
   "cell_type": "markdown",
   "metadata": {},
   "source": [
    "##### Plot excess risk"
   ]
  },
  {
   "cell_type": "code",
   "execution_count": 134,
   "metadata": {},
   "outputs": [
    {
     "data": {
      "image/png": "[encoded data removed]",
      "text/plain": [
       "<matplotlib.figure.Figure at 0x11adfd0b8>"
      ]
     },
     "metadata": {},
     "output_type": "display_data"
    }
   ],
   "source": [
    "plot_result(0)"
   ]
  },
  {
   "cell_type": "markdown",
   "metadata": {
    "id": "xTAnpHKcoI1N"
   },
   "source": [
    "##### Plot classification error"
   ]
  },
  {
   "cell_type": "code",
   "execution_count": 135,
   "metadata": {},
   "outputs": [
    {
     "data": {
      "image/png": "[encoded data removed]",
      "text/plain": [
       "<matplotlib.figure.Figure at 0x11adfde48>"
      ]
     },
     "metadata": {},
     "output_type": "display_data"
    }
   ],
   "source": [
    "plot_result(1)"
   ]
  },
  {
   "cell_type": "code",
   "execution_count": null,
   "metadata": {},
   "outputs": [],
   "source": []
  },
  {
   "cell_type": "code",
   "execution_count": null,
   "metadata": {},
   "outputs": [],
   "source": []
  }
 ],
 "metadata": {
  "colab": {
   "authorship_tag": "ABX9TyPlhqh37H9Bo5huPBasxkR2",
   "collapsed_sections": [],
   "include_colab_link": true,
   "name": "sgd.ipynb",
   "provenance": [],
   "toc_visible": true
  },
  "kernelspec": {
   "display_name": "Python 3",
   "language": "python",
   "name": "python3"
  },
  "language_info": {
   "codemirror_mode": {
    "name": "ipython",
    "version": 3
   },
   "file_extension": ".py",
   "mimetype": "text/x-python",
   "name": "python",
   "nbconvert_exporter": "python",
   "pygments_lexer": "ipython3",
   "version": "3.6.9"
  }
 },
 "nbformat": 4,
 "nbformat_minor": 1
}
