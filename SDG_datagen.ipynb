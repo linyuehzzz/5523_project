{
 "cells": [
  {
   "cell_type": "code",
   "execution_count": 203,
   "metadata": {},
   "outputs": [],
   "source": [
    "import numpy as np\n",
    "import random\n",
    "import pandas as pd\n",
    "from numpy import linalg as LA"
   ]
  },
  {
   "cell_type": "markdown",
   "metadata": {},
   "source": [
    "#### 1. Function to generate data as required"
   ]
  },
  {
   "cell_type": "code",
   "execution_count": 258,
   "metadata": {},
   "outputs": [],
   "source": [
    "def gen_data(sig,n):\n",
    "    '''\n",
    "    The function is to generate data for training and testing\n",
    "    The feature array is 4 dimension array. \n",
    "     + Each feature follows the Normal distribution(mu,sig)\n",
    "     + with probability 1/2, the y =1 , \n",
    "         generate the correspoinding feature vector from N(mu,sig),mu is [1/4,1/4,1/4,1/4],sig is set as you need.\n",
    "    sig: the sigma of  gussian vector\n",
    "    n: the sample number\n",
    "    \n",
    "    Return:\n",
    "     x: n*d_dimension array\n",
    "     y: 1-d dimension array with -1 and +1\n",
    "    '''\n",
    "    d_dimension=4\n",
    "    y=np.random.choice([-1,1],p=[0.5,0.5],size=n)\n",
    "    x=np.array([])\n",
    "    for i in range(n):\n",
    "        if y[i]==-1:\n",
    "            mu=-(1/4)\n",
    "            negvec=np.random.normal(mu,sig,d_dimension)\n",
    "            x=np.concatenate([x,negvec],axis=0)\n",
    "        else:\n",
    "            mu=(1/4)\n",
    "            posvec=np.random.normal(mu,sig,d_dimension)\n",
    "            x=np.concatenate([x,posvec],axis=0)\n",
    "    x=np.reshape(x,(n,d_dimension))\n",
    "    return x,y"
   ]
  },
  {
   "cell_type": "markdown",
   "metadata": {},
   "source": [
    "#### 2.  Function for projection\n",
    "+ The precision will reduce to digit 8"
   ]
  },
  {
   "cell_type": "code",
   "execution_count": 262,
   "metadata": {},
   "outputs": [],
   "source": [
    "def cube_projection(sample):\n",
    "    '''\n",
    "    input: a sample with d dimension (1-D array or list)\n",
    "    onput: the euclidean projection of sample\n",
    "    '''\n",
    "    proj_sample=[np.sign(i)*min(np.abs(i),1)for i in sample]\n",
    "    return proj_sample"
   ]
  },
  {
   "cell_type": "code",
   "execution_count": 263,
   "metadata": {},
   "outputs": [],
   "source": [
    "def ball_projection(sample):\n",
    "    '''\n",
    "    input: a sample with d dimension (1-D array or list)\n",
    "    onput: the euclidean projection of sample\n",
    "    '''\n",
    "    ratio=1/LA.norm(sample)\n",
    "    proj_sample=[i*ratio for i in sample]\n",
    "    return proj_sample"
   ]
  },
  {
   "cell_type": "code",
   "execution_count": 264,
   "metadata": {},
   "outputs": [],
   "source": [
    "def proj_data(x,y,projection):\n",
    "    '''\n",
    "    This function is for conduct projection on data array\n",
    "    x: n*d array (n is sample#,d is dimension)\n",
    "    y: 1-d array with label of -1 or +1\n",
    "    projection: type of projection,0 is cube, 1 is bal\n",
    "    return:\n",
    "        proj_x:projected array \n",
    "        y: remaining same as input\n",
    "    '''\n",
    "    if projection==0:\n",
    "        proj_x=np.apply_along_axis(cube_projection, 1, x)\n",
    "    elif projection==1:\n",
    "        proj_x=np.apply_along_axis(ball_projection, 1, x)\n",
    "    else:\n",
    "        print(\"Please input correct code for projection type,0 is cube, 1 is ball\")\n",
    "    return proj_x,y"
   ]
  },
  {
   "cell_type": "markdown",
   "metadata": {},
   "source": [
    "#### Generate data and conduct projection on X"
   ]
  },
  {
   "cell_type": "code",
   "execution_count": 278,
   "metadata": {},
   "outputs": [],
   "source": [
    "train_x,train_y=gen_data(0.1,500) #sigma=0.1, n=500\n",
    "train_px,train_py=proj_data(train_x,train_y,1)"
   ]
  },
  {
   "cell_type": "code",
   "execution_count": 279,
   "metadata": {},
   "outputs": [],
   "source": [
    "test_x,test_y=gen_data(0.1,400)  #sigma=0.1, n=500\n",
    "test_px,test_py=proj_data(test_x,test_y,1)"
   ]
  },
  {
   "cell_type": "code",
   "execution_count": 280,
   "metadata": {},
   "outputs": [],
   "source": [
    "# train_data=pd.concat([pd.DataFrame(train_px),pd.DataFrame(train_py)],axis=1)"
   ]
  },
  {
   "cell_type": "code",
   "execution_count": null,
   "metadata": {},
   "outputs": [],
   "source": []
  },
  {
   "cell_type": "code",
   "execution_count": null,
   "metadata": {},
   "outputs": [],
   "source": []
  }
 ],
 "metadata": {
  "kernelspec": {
   "display_name": "Python 3",
   "language": "python",
   "name": "python3"
  },
  "language_info": {
   "codemirror_mode": {
    "name": "ipython",
    "version": 3
   },
   "file_extension": ".py",
   "mimetype": "text/x-python",
   "name": "python",
   "nbconvert_exporter": "python",
   "pygments_lexer": "ipython3",
   "version": "3.6.8"
  }
 },
 "nbformat": 4,
 "nbformat_minor": 2
}
