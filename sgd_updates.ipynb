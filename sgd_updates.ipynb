{
 "cells": [
  {
   "cell_type": "markdown",
   "metadata": {
    "colab_type": "text",
    "id": "view-in-github"
   },
   "source": [
    "<a href=\"https://colab.research.google.com/github/linyuehzzz/5523_project/blob/main/sgd.ipynb\" target=\"_parent\"><img src=\"https://colab.research.google.com/assets/colab-badge.svg\" alt=\"Open In Colab\"/></a>"
   ]
  },
  {
   "cell_type": "markdown",
   "metadata": {
    "id": "FlILGcNEEW0E"
   },
   "source": [
    "##**Stochastic Gradient Descent for Logistic Regression**\n",
    "This code implements and tests the SGD algorithm for logistic regression\n",
    "in different scenarios.  \n",
    "Yifei Zhang (zhang.5387 at osu edu), Yue Lin (lin.3326 at osu.edu)  \n",
    "Created: 11/12/2020"
   ]
  },
  {
   "cell_type": "markdown",
   "metadata": {
    "id": "qGQmKFIeFYKY"
   },
   "source": [
    "#### **Set up libraries**"
   ]
  },
  {
   "cell_type": "code",
   "execution_count": 220,
   "metadata": {
    "id": "BUex5ElWFaHO"
   },
   "outputs": [],
   "source": [
    "import numpy as np\n",
    "import random\n",
    "import matplotlib.pyplot as plt\n",
    "import pandas as pd"
   ]
  },
  {
   "cell_type": "markdown",
   "metadata": {
    "id": "YXnNnylopljK"
   },
   "source": [
    "#### **Project**"
   ]
  },
  {
   "cell_type": "markdown",
   "metadata": {
    "id": "MzHKV3T7pvFo"
   },
   "source": [
    "##### Projection function for hypercube"
   ]
  },
  {
   "cell_type": "code",
   "execution_count": 221,
   "metadata": {
    "id": "9ewruRRFp0kP"
   },
   "outputs": [],
   "source": [
    "def cube_prj(sample):\n",
    "    '''\n",
    "    This function projects both domain and parameter sets to a hypercube.\n",
    "\n",
    "    sample: features or gradients, 1*d array (d: #dimension)\n",
    "\n",
    "    return: \n",
    "        the projected vector onto a hypercube with edge length 2 and centered around the origin\n",
    "    '''\n",
    "    return [np.sign(i) * min(np.abs(i), 1) for i in sample]"
   ]
  },
  {
   "cell_type": "markdown",
   "metadata": {
    "id": "9mrnAQvYqI8q"
   },
   "source": [
    "##### Projection function for unit ball"
   ]
  },
  {
   "cell_type": "code",
   "execution_count": 222,
   "metadata": {
    "id": "kyUbRJAKqRsd"
   },
   "outputs": [],
   "source": [
    "def ball_prj(sample):\n",
    "    '''\n",
    "    This function projects both domain and parameter sets to a unit ball.\n",
    "\n",
    "    sample: features or gradients, 1*d array (d: #dimension)\n",
    "\n",
    "    return: \n",
    "        the projected vector onto a unit ball centered around the origin\n",
    "    '''\n",
    "    if np.linalg.norm(sample)>1:\n",
    "        ratio = 1 / np.linalg.norm(sample)\n",
    "        return [i * ratio for i in sample]\n",
    "    else:\n",
    "        return sample"
   ]
  },
  {
   "cell_type": "markdown",
   "metadata": {
    "id": "eZXfvRgKqXV2"
   },
   "source": [
    "##### Project data"
   ]
  },
  {
   "cell_type": "code",
   "execution_count": 223,
   "metadata": {
    "id": "6dwzkd6WqW7X"
   },
   "outputs": [],
   "source": [
    "def prj_data(x, y, prj_code):\n",
    "    '''\n",
    "    This function projects the domain set in terms for two scenarios.\n",
    "\n",
    "    X: feature vectors, n*d array (n: #sample, d: #dimension)\n",
    "    y: labels, 1*n array with values of -1 or +1\n",
    "    prj_code: type of projection, 0 for cube, 1 for ball\n",
    "\n",
    "    return:\n",
    "        prj_x: projected feature vectors \n",
    "        y: labels, same as the input\n",
    "    '''\n",
    "    if prj_code == 0:\n",
    "        prj_x = np.apply_along_axis(cube_prj, 1, x)\n",
    "    elif prj_code == 1:\n",
    "        prj_x = np.apply_along_axis(ball_prj, 1, x)\n",
    "    else:\n",
    "        print(\"Please input correct code for projection type: 0 for cube, 1 for ball\")\n",
    "      \n",
    "    b = np.ones((prj_x.shape[0], 1))\n",
    "    prj_x = np.append(prj_x, b, axis=1)\n",
    "    return prj_x, y"
   ]
  },
  {
   "cell_type": "markdown",
   "metadata": {
    "id": "eiUQqYKLvAuY"
   },
   "source": [
    "##### Project gradient"
   ]
  },
  {
   "cell_type": "code",
   "execution_count": 224,
   "metadata": {
    "id": "6ThWld5kvaBT"
   },
   "outputs": [],
   "source": [
    "def prj_grad(g, prj_code):\n",
    "    '''\n",
    "    This function projects the parameter set for two scenarios.\n",
    "\n",
    "    g: gradients, 1*d array (d: #dimension)\n",
    "    prj_code: type of projection, 0 for cube, 1 for ball\n",
    "\n",
    "    return:\n",
    "        prj_g: projected gradients\n",
    "    '''\n",
    "    if prj_code == 0:\n",
    "        prj_g = cube_prj(g)\n",
    "    elif prj_code == 1:\n",
    "        prj_g = ball_prj(g)\n",
    "    else:\n",
    "        print(\"Please input correct code for projection type: 0 for cube, 1 for ball\")\n",
    "    return prj_g"
   ]
  },
  {
   "cell_type": "markdown",
   "metadata": {
    "id": "tu0jhwwRF5ls"
   },
   "source": [
    "#### **Prepare data**"
   ]
  },
  {
   "cell_type": "code",
   "execution_count": 225,
   "metadata": {
    "id": "yMDzFiFcrsg8"
   },
   "outputs": [],
   "source": [
    "def gen_data(sig, n, d_dimension):\n",
    "    '''\n",
    "    This function generates the data for training and test.\n",
    "\n",
    "    sigma: standard deviation of the Gaussian function\n",
    "    n: number of samples\n",
    "    d_dimension: dimensionality of the feature vectors\n",
    "    \n",
    "    Return:\n",
    "        X: feature vectors, n*d array (n: #sample, d: #dimension)\n",
    "        y: labels, 1*n array with values of -1 and +1\n",
    "    '''\n",
    "    # d_dimension = 4\n",
    "    y = np.random.choice([-1, 1], p = [0.5, 0.5], size = n)\n",
    "    x = np.array([])\n",
    "    for i in range(n):\n",
    "        if y[i] == -1:\n",
    "            mu = -(1 / 4)\n",
    "            negvec = np.random.normal(mu, sig, d_dimension)\n",
    "            x = np.concatenate([x, negvec], axis=0)\n",
    "        else:\n",
    "            mu = (1 / 4)\n",
    "            posvec = np.random.normal(mu, sig, d_dimension)\n",
    "            x = np.concatenate([x, posvec], axis=0)\n",
    "    x = np.reshape(x, (n, d_dimension))\n",
    "    return x, y"
   ]
  },
  {
   "cell_type": "markdown",
   "metadata": {
    "id": "aAzwTZ79M6oi"
   },
   "source": [
    "#### **Train**\n",
    "https://machinelearningmastery.com/implement-logistic-regression-stochastic-gradient-descent-scratch-python/"
   ]
  },
  {
   "cell_type": "markdown",
   "metadata": {
    "id": "iJfOdxzt4M5T"
   },
   "source": [
    "##### Estimate logistic loss"
   ]
  },
  {
   "cell_type": "code",
   "execution_count": 226,
   "metadata": {
    "id": "q_3nPdw4BJV0"
   },
   "outputs": [],
   "source": [
    "def log_loss(X, y, w):\n",
    "    '''\n",
    "    This function outputs the logistic loss.\n",
    "\n",
    "    X: feature vector, 1*d array (d: #dimension)\n",
    "    y: label\n",
    "    w: weight vector, 1*d array\n",
    "    \n",
    "    Return: logistic loss\n",
    "    '''\n",
    "    return np.log(1 + np.exp(-y * np.dot(w.T, X)))"
   ]
  },
  {
   "cell_type": "markdown",
   "metadata": {
    "id": "mnfgixZxQqvj"
   },
   "source": [
    "##### Estimate classification error"
   ]
  },
  {
   "cell_type": "code",
   "execution_count": 227,
   "metadata": {
    "id": "DZdcop9KQuGF"
   },
   "outputs": [],
   "source": [
    "def err(X, y, w):\n",
    "    '''\n",
    "    This function outputs the classification error.\n",
    "\n",
    "    X: feature vector, 1*d array (d: #dimension)\n",
    "    y: label\n",
    "    w: weight vector, 1*d array\n",
    "    \n",
    "    Return: classification error\n",
    "    '''\n",
    "    yhat = -1 if np.dot(w.T, X) < 0.5 else 1\n",
    "    return 0 if yhat == y else 1"
   ]
  },
  {
   "cell_type": "markdown",
   "metadata": {
    "id": "XsiXCaLYCn6n"
   },
   "source": [
    "##### SGD"
   ]
  },
  {
   "cell_type": "code",
   "execution_count": 228,
   "metadata": {
    "id": "O2-5n_kwCnth"
   },
   "outputs": [],
   "source": [
    "def sgd(X, y, w_t, prj_code, l_rate):\n",
    "    '''\n",
    "    This function implements SGD.\n",
    "\n",
    "    X: feature vector at t, 1*d array (d: #dimension)\n",
    "    y: label\n",
    "    w_t: weight vector at t, 1*d array\n",
    "    prj_code: type of projection, 0 for cube, 1 for ball\n",
    "    l_rate: learning rate\n",
    "    \n",
    "    Return: \n",
    "        w_t: updated weight at t+1\n",
    "    '''\n",
    "    w_t = np.array(w_t)\n",
    "    # Calculate gradient\n",
    "    g = (-y * X * np.exp(-y * np.dot(w_t.T, X)) / (1 + np.exp(-y * np.dot(w_t.T, X))))\n",
    "    # Project gradient\n",
    "    w_t = prj_grad(np.add(w_t, np.multiply(-l_rate, g)), prj_code)\n",
    "    return w_t"
   ]
  },
  {
   "cell_type": "markdown",
   "metadata": {},
   "source": [
    "### SDG function\n",
    "w_t initialize with 0 vector"
   ]
  },
  {
   "cell_type": "code",
   "execution_count": 229,
   "metadata": {},
   "outputs": [],
   "source": [
    "def sdg_0(train_x,train_y):\n",
    "    '''\n",
    "    train_x: feature matrix of one batch\n",
    "    train_y: target of one batch\n",
    "    return: \n",
    "            w-the weight vector trained on one batch\n",
    "    '''\n",
    "    w_all = []\n",
    "    w_t = np.random.uniform(0, 0, (train_x.shape[1]))\n",
    "    for idx in range(train_x.shape[0]):\n",
    "        # Read data\n",
    "        X = train_x[idx]\n",
    "        y = train_y[idx]\n",
    "        w_t=np.array(w_t)\n",
    "        # Calculate gradient\n",
    "        g = (-y * X * np.exp(-y * np.dot(w_t.T, X)) / (1 + np.exp(-y * np.dot(w_t.T, X))))\n",
    "        # Project gradient\n",
    "        w_t = prj_grad(np.add(w_t, np.multiply(-l_rate, g)), prj_code)\n",
    "        # Backward propagation\n",
    "        w_all.append(w_t)\n",
    "    w = np.average(np.array(w_all), axis=0)\n",
    "    return w"
   ]
  },
  {
   "cell_type": "markdown",
   "metadata": {
    "id": "lE93wIbQc9Is"
   },
   "source": [
    "##### Estimate weight vector using SGD"
   ]
  },
  {
   "cell_type": "code",
   "execution_count": 230,
   "metadata": {
    "id": "Jb_QkJsIc8Vh"
   },
   "outputs": [],
   "source": [
    "def train(train_x, train_y, test_x, test_y, l_rate, n_epoch, bs, prj_code):\n",
    "    '''\n",
    "    This function implements and tests the SGD algorithm for logistic regression.\n",
    "\n",
    "    train_x: feature vectors for training, n*d array (n: #sample, d: #dimension)\n",
    "    train_y: labels for training, 1*n array\n",
    "    test_x: feature vectors for test, n*d array (n: #sample, d: #dimension)\n",
    "    test_y: labels for test, 1*n array\n",
    "    l_rate: learning rate\n",
    "    n_epoch: number of trials\n",
    "    bs: training set size\n",
    "    prj_code: type of projection, 0 for cube, 1 for ball\n",
    "    \n",
    "    Return: \n",
    "        w: final weights\n",
    "        risk_ave: average risk\n",
    "        risk_min: minimum of all risks\n",
    "        risk_var: standard deviation of all risks\n",
    "        exp_excess_risk: expected excess risk\n",
    "        cls_err_ave: average classification error\n",
    "        cls_err_var: standard deviation of all classification errors\n",
    "    '''\n",
    "    risk_all = []\n",
    "    cls_err_all = []\n",
    "\n",
    "    for epoch in range(n_epoch):\n",
    "#         w_t = np.random.uniform(-1, 1, (train_x.shape[1]))\n",
    "        risk = cls_err = 0.\n",
    "        \n",
    "        ## SDG training step\n",
    "        train_x0=train_x[epoch * bs:(epoch + 1) * bs] ## use current batch to for trainning\n",
    "        train_y0=train_y[epoch * bs:(epoch + 1) * bs] ## use current batch to for trainning\n",
    "        w=sdg_0(train_x0,train_y0)\n",
    "        \n",
    "        # Evaluate\n",
    "        for idx in range(test_x.shape[0]):\n",
    "            # Read data\n",
    "            X = test_x[idx]\n",
    "            y = test_y[idx]\n",
    "            # Evaluate\n",
    "            risk += log_loss(X, y, w) / test_x.shape[0]\n",
    "            cls_err += err(X, y, w) / test_x.shape[0]\n",
    "    \n",
    "        risk_all = np.append(risk_all, risk)\n",
    "        cls_err_all = np.append(cls_err_all, cls_err)\n",
    "        # print('>epoch=%d, lrate=%.3f, risk=%.3f, classification error=%.3f' % (epoch, l_rate, risk, cls_err))\n",
    "  \n",
    "    # Report risk\n",
    "    # print(risk_all, cls_err_all)\n",
    "    risk_ave = np.average(risk_all)\n",
    "    risk_min = np.amin(risk_all)\n",
    "    risk_var = np.sqrt(np.var(risk_all))\n",
    "    exp_excess_risk = risk_ave - risk_min\n",
    "    # Report classification error\n",
    "    cls_err_ave = np.average(cls_err_all)\n",
    "    cls_err_var = np.sqrt(np.var(cls_err_all))\n",
    "    return [w, risk_ave, risk_min, risk_var, exp_excess_risk, cls_err_ave, cls_err_var]"
   ]
  },
  {
   "cell_type": "markdown",
   "metadata": {
    "id": "q3SH2Dm7d71V"
   },
   "source": [
    "#### **Wrapper test**"
   ]
  },
  {
   "cell_type": "markdown",
   "metadata": {
    "id": "C0-3MK6Pk7mU"
   },
   "source": [
    "##### Generate data and train"
   ]
  },
  {
   "cell_type": "code",
   "execution_count": 231,
   "metadata": {
    "colab": {
     "base_uri": "https://localhost:8080/"
    },
    "id": "iJ68DlKXd6rP",
    "outputId": "8e88d242-a7ee-41a6-9629-d42ce31244ff"
   },
   "outputs": [
    {
     "name": "stdout",
     "output_type": "stream",
     "text": [
      "[array([ 0.46599018,  0.41615107,  0.4256054 ,  0.45123278, -0.20760602]), 0.5036271381353783, 0.49074765038974477, 0.005255278051760884, 0.012879487745633522, 0.3119166666666669, 0.16451656873667447]\n",
      ">scenario=1, sigma=0.10, n=50, log_loss_mean=0.504, log_loss_std_dev=0.005, log_loss_min=0.491,             excess_risk=0.013, cls_error_mean=0.312, cls_error_std_dev=0.165\n",
      "[array([0.72467719, 0.64348223, 0.72143532, 0.71588683, 0.01674944]), 0.40667877675647135, 0.3984492507928269, 0.00556952445892803, 0.008229525963644457, 0.07033333333333336, 0.08185539417506683]\n",
      ">scenario=1, sigma=0.10, n=100, log_loss_mean=0.407, log_loss_std_dev=0.006, log_loss_min=0.398,             excess_risk=0.008, cls_error_mean=0.070, cls_error_std_dev=0.082\n",
      "[array([0.94651369, 0.94340704, 0.93849043, 0.9380563 , 0.1385955 ]), 0.33873100690127045, 0.3372320312833784, 0.0014601548152937734, 0.0014989756178920288, 0.0075000000000000015, 0.00917423929634859]\n",
      ">scenario=1, sigma=0.10, n=500, log_loss_mean=0.339, log_loss_std_dev=0.001, log_loss_min=0.337,             excess_risk=0.001, cls_error_mean=0.008, cls_error_std_dev=0.009\n",
      "[array([0.96993429, 0.97223605, 0.96744568, 0.97436827, 0.04434673]), 0.32451040804237596, 0.3236708819929099, 0.000707887691545573, 0.0008395260494660772, 0.005666666666666668, 0.003411581581743121]\n",
      ">scenario=1, sigma=0.10, n=1000, log_loss_mean=0.325, log_loss_std_dev=0.001, log_loss_min=0.324,             excess_risk=0.001, cls_error_mean=0.006, cls_error_std_dev=0.003\n"
     ]
    }
   ],
   "source": [
    "# Fixed hyperparameters\n",
    "n_epoch = 30    # training epochs\n",
    "test_n = 400    # size of test set\n",
    "\n",
    "# Unfixed hyperparameters\n",
    "prj_code = 0    # code for two scenario: 0 for cube, 1 for ball\n",
    "l_rate = 0.16  # learning rate: 0.04 for cube, 0.18 for ball\n",
    "train_bs = np.array([50, 100, 500, 1000])   # batch size for each training epoch\n",
    "sigma = 0.1     # variance of Gaussian distribution\n",
    "d_dimension = 4\n",
    "\n",
    "np.random.seed(1)\n",
    "\n",
    "excess_risk = []\n",
    "cls_error = []\n",
    "excess_risk_var = []\n",
    "cls_error_var = []\n",
    "\n",
    "for bs in train_bs:\n",
    "    # Generate training data\n",
    "    train_x, train_y = gen_data(sigma, bs * n_epoch, d_dimension)\n",
    "    train_px, train_py = prj_data(train_x, train_y, prj_code)\n",
    "\n",
    "    # Generate test data\n",
    "    test_x, test_y = gen_data(sigma, test_n, d_dimension)\n",
    "    test_px, test_py = prj_data(test_x, test_y, prj_code)\n",
    "\n",
    "    # Train\n",
    "    output = train(train_px, train_py, test_px, test_py, l_rate, n_epoch, bs, prj_code)\n",
    "    print(output)\n",
    "    print('>scenario=%d, sigma=%.2f, n=%d, log_loss_mean=%.3f, log_loss_std_dev=%.3f, log_loss_min=%.3f, \\\n",
    "            excess_risk=%.3f, cls_error_mean=%.3f, cls_error_std_dev=%.3f' \n",
    "            % (prj_code+1, sigma, bs, output[1], output[3], output[2], output[4], output[5], output[6]))\n",
    "    \n",
    "    excess_risk = np.append(excess_risk, output[4], axis=None)\n",
    "    cls_error = np.append(cls_error, output[5],  axis=None)\n",
    "    excess_risk_var = np.append(excess_risk_var, output[3], axis=None)\n",
    "    cls_error_var = np.append(cls_error_var, output[6],  axis=None)"
   ]
  },
  {
   "cell_type": "markdown",
   "metadata": {
    "id": "saT_I5DNk0rq"
   },
   "source": [
    "##### Plot excess risk"
   ]
  },
  {
   "cell_type": "code",
   "execution_count": 232,
   "metadata": {
    "colab": {
     "base_uri": "https://localhost:8080/",
     "height": 297
    },
    "id": "dkARytwCk0Zj",
    "outputId": "49e43d61-77e1-4b84-a5fb-406abfe4cbe6"
   },
   "outputs": [
    {
     "data": {
      "image/png": "[encoded data removed]",
      "text/plain": [
       "<matplotlib.figure.Figure at 0x122414630>"
      ]
     },
     "metadata": {},
     "output_type": "display_data"
    }
   ],
   "source": [
    "plt.plot(train_bs, excess_risk, '-o', label='Excess risk')\n",
    "plt.errorbar(train_bs, excess_risk, excess_risk_var)\n",
    "plt.legend()\n",
    "plt.tight_layout()\n",
    "plt.show()"
   ]
  },
  {
   "cell_type": "markdown",
   "metadata": {
    "id": "xTAnpHKcoI1N"
   },
   "source": [
    "##### Plot classification error"
   ]
  },
  {
   "cell_type": "code",
   "execution_count": 247,
   "metadata": {
    "colab": {
     "base_uri": "https://localhost:8080/",
     "height": 297
    },
    "id": "HIBfEnVRoMgT",
    "outputId": "0978b4a2-41b4-41ae-9b45-1d00e95d3529"
   },
   "outputs": [
    {
     "data": {
      "image/png": "[encoded data removed]",
      "text/plain": [
       "<matplotlib.figure.Figure at 0x122bbdcf8>"
      ]
     },
     "metadata": {},
     "output_type": "display_data"
    }
   ],
   "source": [
    "plt.plot(train_bs, cls_error, '-o', label='Classification error')\n",
    "plt.errorbar(train_bs, cls_error, cls_error_var)\n",
    "plt.legend()\n",
    "plt.tight_layout()\n",
    "plt.show()"
   ]
  },
  {
   "cell_type": "markdown",
   "metadata": {
    "id": "VkFoAOYv0sKN"
   },
   "source": [
    "#### **Wrapper**"
   ]
  },
  {
   "cell_type": "code",
   "execution_count": 234,
   "metadata": {
    "id": "whKZGg6u1T_P"
   },
   "outputs": [],
   "source": [
    "# Set up hyperparameters\n",
    "n_epoch = 30    # training epochs\n",
    "test_n = 400    # size of test set\n",
    "d_dimension = 4\n",
    "train_bs = np.array([50, 100, 500, 1000])  # batch size for each training epoch\n",
    "\n",
    "np.random.seed(0)"
   ]
  },
  {
   "cell_type": "markdown",
   "metadata": {
    "id": "D-4LlMyk1ecf"
   },
   "source": [
    "##### Run all experiments"
   ]
  },
  {
   "cell_type": "code",
   "execution_count": 235,
   "metadata": {
    "colab": {
     "base_uri": "https://localhost:8080/"
    },
    "id": "0_gFZQDT1W_U",
    "outputId": "01d1520a-569a-48c1-c1f0-321ce173118e"
   },
   "outputs": [
    {
     "name": "stdout",
     "output_type": "stream",
     "text": [
      "[array([0.68136097, 0.69656619, 0.66396579, 0.64065531, 0.26259127]), 0.4255150219953823, 0.412032948522446, 0.008567022310537228, 0.01348207347293634, 0.1550833333333334, 0.15963693616731978]\n",
      ">scenario=1, sigma=0.10, n=50, lr=0.28, log_loss_mean=0.426, log_loss_std_dev=0.009, log_loss_min=0.412,                 excess_risk=0.013, cls_error_mean=0.155, cls_error_std_dev=0.160\n",
      "[array([0.7355074 , 0.77452359, 0.76331761, 0.76870088, 0.08510322]), 0.3887374870158604, 0.3825123249112618, 0.0037915699401295574, 0.006225162104598614, 0.0754166666666667, 0.09107708121268618]\n",
      ">scenario=1, sigma=0.10, n=100, lr=0.20, log_loss_mean=0.389, log_loss_std_dev=0.004, log_loss_min=0.383,                 excess_risk=0.006, cls_error_mean=0.075, cls_error_std_dev=0.091\n",
      "[array([0.89367381, 0.89413851, 0.88642355, 0.89043214, 0.02810377]), 0.347186439604419, 0.34570629419856297, 0.0008810178906040549, 0.0014801454058560037, 0.005083333333333334, 0.004764597452974268]\n",
      ">scenario=1, sigma=0.10, n=500, lr=0.09, log_loss_mean=0.347, log_loss_std_dev=0.001, log_loss_min=0.346,                 excess_risk=0.001, cls_error_mean=0.005, cls_error_std_dev=0.005\n",
      "[array([0.92041256, 0.92202757, 0.92150074, 0.92259895, 0.0251501 ]), 0.33860418133721526, 0.3375616165228832, 0.0007360247757711612, 0.0010425648143320698, 0.010333333333333335, 0.005871304984602845]\n",
      ">scenario=1, sigma=0.10, n=1000, lr=0.06, log_loss_mean=0.339, log_loss_std_dev=0.001, log_loss_min=0.338,                 excess_risk=0.001, cls_error_mean=0.010, cls_error_std_dev=0.006\n",
      "[array([ 0.5897761 ,  0.64056776,  0.60495004,  0.76675926, -0.07912957]), 0.4648127319088511, 0.4412713165079455, 0.018165368353320336, 0.023541415400905596, 0.2295833333333335, 0.09408126658491708]\n",
      ">scenario=1, sigma=0.35, n=50, lr=0.28, log_loss_mean=0.465, log_loss_std_dev=0.018, log_loss_min=0.441,                 excess_risk=0.024, cls_error_mean=0.230, cls_error_std_dev=0.094\n",
      "[array([ 0.67370669,  0.74070207,  0.68170269,  0.74285241, -0.10541737]), 0.42798052435100664, 0.4124138614889809, 0.008902979954326826, 0.015566662862025737, 0.1817500000000001, 0.034339906328740455]\n",
      ">scenario=1, sigma=0.35, n=100, lr=0.20, log_loss_mean=0.428, log_loss_std_dev=0.009, log_loss_min=0.412,                 excess_risk=0.016, cls_error_mean=0.182, cls_error_std_dev=0.034\n",
      "[array([ 0.86091239,  0.87136372,  0.87337342,  0.87858965, -0.03926438]), 0.39936216477678427, 0.3940527765906863, 0.001824140035602313, 0.005309388186097941, 0.17000000000000007, 0.016046806535881225]\n",
      ">scenario=1, sigma=0.35, n=500, lr=0.09, log_loss_mean=0.399, log_loss_std_dev=0.002, log_loss_min=0.394,                 excess_risk=0.005, cls_error_mean=0.170, cls_error_std_dev=0.016\n",
      "[array([ 0.91733668,  0.8979296 ,  0.92342352,  0.92528697, -0.05046988]), 0.38370482571780434, 0.38162039330241, 0.0012003463768778919, 0.002084432415394355, 0.15858333333333344, 0.014856021973896285]\n",
      ">scenario=1, sigma=0.35, n=1000, lr=0.06, log_loss_mean=0.384, log_loss_std_dev=0.001, log_loss_min=0.382,                 excess_risk=0.002, cls_error_mean=0.159, cls_error_std_dev=0.015\n",
      "[array([0.36147194, 0.30216231, 0.34879133, 0.3492438 , 0.00695465]), 0.5445562622688598, 0.5347588373425649, 0.005897388881443144, 0.009797424926294873, 0.4160833333333336, 0.10205530227392519]\n",
      ">scenario=2, sigma=0.10, n=50, lr=0.13, log_loss_mean=0.545, log_loss_std_dev=0.006, log_loss_min=0.535,                 excess_risk=0.010, cls_error_mean=0.416, cls_error_std_dev=0.102\n",
      "[array([3.75591963e-01, 3.90678205e-01, 3.95281445e-01, 3.39765018e-01,\n",
      "       2.47849792e-04]), 0.5251089885518538, 0.5186482428714236, 0.007442156451111119, 0.006460745680430202, 0.4689999999999998, 0.10281780001536675]\n",
      ">scenario=2, sigma=0.10, n=100, lr=0.09, log_loss_mean=0.525, log_loss_std_dev=0.007, log_loss_min=0.519,                 excess_risk=0.006, cls_error_mean=0.469, cls_error_std_dev=0.103\n",
      "[array([ 0.43075744,  0.4336305 ,  0.44631899,  0.46200014, -0.03645703]), 0.4974211278531105, 0.4957565617949471, 0.0010918274515793324, 0.001664566058163397, 0.3863333333333337, 0.09166227262195849]\n",
      ">scenario=2, sigma=0.10, n=500, lr=0.04, log_loss_mean=0.497, log_loss_std_dev=0.001, log_loss_min=0.496,                 excess_risk=0.002, cls_error_mean=0.386, cls_error_std_dev=0.092\n",
      "[array([ 0.4636277 ,  0.45912714,  0.47495246,  0.44390901, -0.02519998]), 0.49132708735059066, 0.48954034245222855, 0.001162468405865681, 0.0017867448983621137, 0.3672500000000003, 0.06441192306811946]\n",
      ">scenario=2, sigma=0.10, n=1000, lr=0.03, log_loss_mean=0.491, log_loss_std_dev=0.001, log_loss_min=0.490,                 excess_risk=0.002, cls_error_mean=0.367, cls_error_std_dev=0.064\n",
      "[array([0.3627782 , 0.22782226, 0.32679259, 0.40670218, 0.02966775]), 0.5676853936706021, 0.5499692567348748, 0.011533977176572893, 0.017716136935727267, 0.3697500000000003, 0.08317739576752016]\n",
      ">scenario=2, sigma=0.35, n=50, lr=0.13, log_loss_mean=0.568, log_loss_std_dev=0.012, log_loss_min=0.550,                 excess_risk=0.018, cls_error_mean=0.370, cls_error_std_dev=0.083\n",
      "[array([ 0.31806018,  0.34575755,  0.45930382,  0.37193112, -0.09639662]), 0.5411919191567628, 0.5342528088520778, 0.0059020461115038515, 0.00693911030468497, 0.3525000000000002, 0.07005949852327907]\n",
      ">scenario=2, sigma=0.35, n=100, lr=0.09, log_loss_mean=0.541, log_loss_std_dev=0.006, log_loss_min=0.534,                 excess_risk=0.007, cls_error_mean=0.353, cls_error_std_dev=0.070\n",
      "[array([ 0.47268338,  0.4362966 ,  0.40981117,  0.43057766, -0.01953995]), 0.5218929994029132, 0.5175408542028759, 0.0025597355118969715, 0.0043521452000373495, 0.2706666666666669, 0.027868241582290232]\n",
      ">scenario=2, sigma=0.35, n=500, lr=0.04, log_loss_mean=0.522, log_loss_std_dev=0.003, log_loss_min=0.518,                 excess_risk=0.004, cls_error_mean=0.271, cls_error_std_dev=0.028\n",
      "[array([ 0.44872613,  0.43793697,  0.46148394,  0.45607517, -0.00502096]), 0.510819005678891, 0.5090907552732301, 0.000969620928949133, 0.001728250405660936, 0.27558333333333357, 0.020378535821354363]\n",
      ">scenario=2, sigma=0.35, n=1000, lr=0.03, log_loss_mean=0.511, log_loss_std_dev=0.001, log_loss_min=0.509,                 excess_risk=0.002, cls_error_mean=0.276, cls_error_std_dev=0.020\n"
     ]
    }
   ],
   "source": [
    "result_list = []\n",
    "for prj_code in [0, 1]:\n",
    "    for sigma in [0.1, 0.35]:\n",
    "        for bs in train_bs:\n",
    "\n",
    "            if prj_code == 0:\n",
    "                m = 2 * np.sqrt(d_dimension + 1)\n",
    "            else:\n",
    "                m = 2\n",
    "\n",
    "            rho = np.sqrt(d_dimension + 1)\n",
    "            l_rate = m / (rho * np.sqrt(bs))\n",
    "\n",
    "            # Generate training data\n",
    "            train_x, train_y = gen_data(sigma, bs * n_epoch, d_dimension)\n",
    "            train_px, train_py = prj_data(train_x, train_y, prj_code)\n",
    "\n",
    "            # Generate test data\n",
    "            test_x, test_y = gen_data(sigma, test_n, d_dimension)\n",
    "            test_px, test_py = prj_data(test_x, test_y, prj_code)\n",
    "\n",
    "            # Train\n",
    "            output = train(train_px, train_py, test_px, test_py, l_rate, n_epoch, bs, prj_code)\n",
    "\n",
    "            print(output)\n",
    "            print('>scenario=%d, sigma=%.2f, n=%d, lr=%.2f, log_loss_mean=%.3f, log_loss_std_dev=%.3f, log_loss_min=%.3f, \\\n",
    "                excess_risk=%.3f, cls_error_mean=%.3f, cls_error_std_dev=%.3f' \n",
    "                % (prj_code+1, sigma, bs, l_rate, output[1], output[3], output[2], output[4], output[5], output[6]))\n",
    "            result = [prj_code + 1, sigma, bs, n_epoch,output[1], output[3], output[2], output[4], output[5], output[6]]\n",
    "            result_list.append(result)"
   ]
  },
  {
   "cell_type": "markdown",
   "metadata": {
    "id": "ytSebM2h1z2y"
   },
   "source": [
    "##### Plot table"
   ]
  },
  {
   "cell_type": "code",
   "execution_count": 236,
   "metadata": {
    "colab": {
     "base_uri": "https://localhost:8080/",
     "height": 559
    },
    "id": "vhUYrS5Qi2-C",
    "outputId": "aee98703-7e03-4a12-95c5-a3b05746cc31"
   },
   "outputs": [
    {
     "data": {
      "text/html": [
       "<div>\n",
       "<style scoped>\n",
       "    .dataframe tbody tr th:only-of-type {\n",
       "        vertical-align: middle;\n",
       "    }\n",
       "\n",
       "    .dataframe tbody tr th {\n",
       "        vertical-align: top;\n",
       "    }\n",
       "\n",
       "    .dataframe thead th {\n",
       "        text-align: right;\n",
       "    }\n",
       "</style>\n",
       "<table border=\"1\" class=\"dataframe\">\n",
       "  <thead>\n",
       "    <tr style=\"text-align: right;\">\n",
       "      <th></th>\n",
       "      <th>Scenario</th>\n",
       "      <th>sigma</th>\n",
       "      <th>N</th>\n",
       "      <th>#trails</th>\n",
       "      <th>Loss_Mean</th>\n",
       "      <th>Loss_StdDev</th>\n",
       "      <th>Loss_Min</th>\n",
       "      <th>Loss_ExcessRisk</th>\n",
       "      <th>Error_Mean</th>\n",
       "      <th>Error_StdDev</th>\n",
       "    </tr>\n",
       "  </thead>\n",
       "  <tbody>\n",
       "    <tr>\n",
       "      <th>0</th>\n",
       "      <td>1</td>\n",
       "      <td>0.10</td>\n",
       "      <td>50</td>\n",
       "      <td>30</td>\n",
       "      <td>0.425515</td>\n",
       "      <td>0.008567</td>\n",
       "      <td>0.412033</td>\n",
       "      <td>0.013482</td>\n",
       "      <td>0.155083</td>\n",
       "      <td>0.159637</td>\n",
       "    </tr>\n",
       "    <tr>\n",
       "      <th>1</th>\n",
       "      <td>1</td>\n",
       "      <td>0.10</td>\n",
       "      <td>100</td>\n",
       "      <td>30</td>\n",
       "      <td>0.388737</td>\n",
       "      <td>0.003792</td>\n",
       "      <td>0.382512</td>\n",
       "      <td>0.006225</td>\n",
       "      <td>0.075417</td>\n",
       "      <td>0.091077</td>\n",
       "    </tr>\n",
       "    <tr>\n",
       "      <th>2</th>\n",
       "      <td>1</td>\n",
       "      <td>0.10</td>\n",
       "      <td>500</td>\n",
       "      <td>30</td>\n",
       "      <td>0.347186</td>\n",
       "      <td>0.000881</td>\n",
       "      <td>0.345706</td>\n",
       "      <td>0.001480</td>\n",
       "      <td>0.005083</td>\n",
       "      <td>0.004765</td>\n",
       "    </tr>\n",
       "    <tr>\n",
       "      <th>3</th>\n",
       "      <td>1</td>\n",
       "      <td>0.10</td>\n",
       "      <td>1000</td>\n",
       "      <td>30</td>\n",
       "      <td>0.338604</td>\n",
       "      <td>0.000736</td>\n",
       "      <td>0.337562</td>\n",
       "      <td>0.001043</td>\n",
       "      <td>0.010333</td>\n",
       "      <td>0.005871</td>\n",
       "    </tr>\n",
       "    <tr>\n",
       "      <th>4</th>\n",
       "      <td>1</td>\n",
       "      <td>0.35</td>\n",
       "      <td>50</td>\n",
       "      <td>30</td>\n",
       "      <td>0.464813</td>\n",
       "      <td>0.018165</td>\n",
       "      <td>0.441271</td>\n",
       "      <td>0.023541</td>\n",
       "      <td>0.229583</td>\n",
       "      <td>0.094081</td>\n",
       "    </tr>\n",
       "    <tr>\n",
       "      <th>5</th>\n",
       "      <td>1</td>\n",
       "      <td>0.35</td>\n",
       "      <td>100</td>\n",
       "      <td>30</td>\n",
       "      <td>0.427981</td>\n",
       "      <td>0.008903</td>\n",
       "      <td>0.412414</td>\n",
       "      <td>0.015567</td>\n",
       "      <td>0.181750</td>\n",
       "      <td>0.034340</td>\n",
       "    </tr>\n",
       "    <tr>\n",
       "      <th>6</th>\n",
       "      <td>1</td>\n",
       "      <td>0.35</td>\n",
       "      <td>500</td>\n",
       "      <td>30</td>\n",
       "      <td>0.399362</td>\n",
       "      <td>0.001824</td>\n",
       "      <td>0.394053</td>\n",
       "      <td>0.005309</td>\n",
       "      <td>0.170000</td>\n",
       "      <td>0.016047</td>\n",
       "    </tr>\n",
       "    <tr>\n",
       "      <th>7</th>\n",
       "      <td>1</td>\n",
       "      <td>0.35</td>\n",
       "      <td>1000</td>\n",
       "      <td>30</td>\n",
       "      <td>0.383705</td>\n",
       "      <td>0.001200</td>\n",
       "      <td>0.381620</td>\n",
       "      <td>0.002084</td>\n",
       "      <td>0.158583</td>\n",
       "      <td>0.014856</td>\n",
       "    </tr>\n",
       "    <tr>\n",
       "      <th>8</th>\n",
       "      <td>2</td>\n",
       "      <td>0.10</td>\n",
       "      <td>50</td>\n",
       "      <td>30</td>\n",
       "      <td>0.544556</td>\n",
       "      <td>0.005897</td>\n",
       "      <td>0.534759</td>\n",
       "      <td>0.009797</td>\n",
       "      <td>0.416083</td>\n",
       "      <td>0.102055</td>\n",
       "    </tr>\n",
       "    <tr>\n",
       "      <th>9</th>\n",
       "      <td>2</td>\n",
       "      <td>0.10</td>\n",
       "      <td>100</td>\n",
       "      <td>30</td>\n",
       "      <td>0.525109</td>\n",
       "      <td>0.007442</td>\n",
       "      <td>0.518648</td>\n",
       "      <td>0.006461</td>\n",
       "      <td>0.469000</td>\n",
       "      <td>0.102818</td>\n",
       "    </tr>\n",
       "    <tr>\n",
       "      <th>10</th>\n",
       "      <td>2</td>\n",
       "      <td>0.10</td>\n",
       "      <td>500</td>\n",
       "      <td>30</td>\n",
       "      <td>0.497421</td>\n",
       "      <td>0.001092</td>\n",
       "      <td>0.495757</td>\n",
       "      <td>0.001665</td>\n",
       "      <td>0.386333</td>\n",
       "      <td>0.091662</td>\n",
       "    </tr>\n",
       "    <tr>\n",
       "      <th>11</th>\n",
       "      <td>2</td>\n",
       "      <td>0.10</td>\n",
       "      <td>1000</td>\n",
       "      <td>30</td>\n",
       "      <td>0.491327</td>\n",
       "      <td>0.001162</td>\n",
       "      <td>0.489540</td>\n",
       "      <td>0.001787</td>\n",
       "      <td>0.367250</td>\n",
       "      <td>0.064412</td>\n",
       "    </tr>\n",
       "    <tr>\n",
       "      <th>12</th>\n",
       "      <td>2</td>\n",
       "      <td>0.35</td>\n",
       "      <td>50</td>\n",
       "      <td>30</td>\n",
       "      <td>0.567685</td>\n",
       "      <td>0.011534</td>\n",
       "      <td>0.549969</td>\n",
       "      <td>0.017716</td>\n",
       "      <td>0.369750</td>\n",
       "      <td>0.083177</td>\n",
       "    </tr>\n",
       "    <tr>\n",
       "      <th>13</th>\n",
       "      <td>2</td>\n",
       "      <td>0.35</td>\n",
       "      <td>100</td>\n",
       "      <td>30</td>\n",
       "      <td>0.541192</td>\n",
       "      <td>0.005902</td>\n",
       "      <td>0.534253</td>\n",
       "      <td>0.006939</td>\n",
       "      <td>0.352500</td>\n",
       "      <td>0.070059</td>\n",
       "    </tr>\n",
       "    <tr>\n",
       "      <th>14</th>\n",
       "      <td>2</td>\n",
       "      <td>0.35</td>\n",
       "      <td>500</td>\n",
       "      <td>30</td>\n",
       "      <td>0.521893</td>\n",
       "      <td>0.002560</td>\n",
       "      <td>0.517541</td>\n",
       "      <td>0.004352</td>\n",
       "      <td>0.270667</td>\n",
       "      <td>0.027868</td>\n",
       "    </tr>\n",
       "    <tr>\n",
       "      <th>15</th>\n",
       "      <td>2</td>\n",
       "      <td>0.35</td>\n",
       "      <td>1000</td>\n",
       "      <td>30</td>\n",
       "      <td>0.510819</td>\n",
       "      <td>0.000970</td>\n",
       "      <td>0.509091</td>\n",
       "      <td>0.001728</td>\n",
       "      <td>0.275583</td>\n",
       "      <td>0.020379</td>\n",
       "    </tr>\n",
       "  </tbody>\n",
       "</table>\n",
       "</div>"
      ],
      "text/plain": [
       "    Scenario  sigma     N  #trails  Loss_Mean  Loss_StdDev  Loss_Min  \\\n",
       "0          1   0.10    50       30   0.425515     0.008567  0.412033   \n",
       "1          1   0.10   100       30   0.388737     0.003792  0.382512   \n",
       "2          1   0.10   500       30   0.347186     0.000881  0.345706   \n",
       "3          1   0.10  1000       30   0.338604     0.000736  0.337562   \n",
       "4          1   0.35    50       30   0.464813     0.018165  0.441271   \n",
       "5          1   0.35   100       30   0.427981     0.008903  0.412414   \n",
       "6          1   0.35   500       30   0.399362     0.001824  0.394053   \n",
       "7          1   0.35  1000       30   0.383705     0.001200  0.381620   \n",
       "8          2   0.10    50       30   0.544556     0.005897  0.534759   \n",
       "9          2   0.10   100       30   0.525109     0.007442  0.518648   \n",
       "10         2   0.10   500       30   0.497421     0.001092  0.495757   \n",
       "11         2   0.10  1000       30   0.491327     0.001162  0.489540   \n",
       "12         2   0.35    50       30   0.567685     0.011534  0.549969   \n",
       "13         2   0.35   100       30   0.541192     0.005902  0.534253   \n",
       "14         2   0.35   500       30   0.521893     0.002560  0.517541   \n",
       "15         2   0.35  1000       30   0.510819     0.000970  0.509091   \n",
       "\n",
       "    Loss_ExcessRisk  Error_Mean  Error_StdDev  \n",
       "0          0.013482    0.155083      0.159637  \n",
       "1          0.006225    0.075417      0.091077  \n",
       "2          0.001480    0.005083      0.004765  \n",
       "3          0.001043    0.010333      0.005871  \n",
       "4          0.023541    0.229583      0.094081  \n",
       "5          0.015567    0.181750      0.034340  \n",
       "6          0.005309    0.170000      0.016047  \n",
       "7          0.002084    0.158583      0.014856  \n",
       "8          0.009797    0.416083      0.102055  \n",
       "9          0.006461    0.469000      0.102818  \n",
       "10         0.001665    0.386333      0.091662  \n",
       "11         0.001787    0.367250      0.064412  \n",
       "12         0.017716    0.369750      0.083177  \n",
       "13         0.006939    0.352500      0.070059  \n",
       "14         0.004352    0.270667      0.027868  \n",
       "15         0.001728    0.275583      0.020379  "
      ]
     },
     "execution_count": 236,
     "metadata": {},
     "output_type": "execute_result"
    }
   ],
   "source": [
    "column_name = [\"Scenario\", \"sigma\", \"N\", \"#trails\", \"Loss_Mean\", \"Loss_StdDev\", \"Loss_Min\", \"Loss_ExcessRisk\",\n",
    "             \"Error_Mean\", \"Error_StdDev\"]\n",
    "result_df = pd.DataFrame(result_list, columns = column_name)\n",
    "result_df"
   ]
  },
  {
   "cell_type": "markdown",
   "metadata": {
    "id": "HQPvINDl18k2"
   },
   "source": [
    "##### Plot grid"
   ]
  },
  {
   "cell_type": "code",
   "execution_count": 262,
   "metadata": {
    "id": "rJzILW4Y17TC"
   },
   "outputs": [],
   "source": [
    "def plot_result(estimator, result_df):\n",
    "    '''\n",
    "    estimator: \n",
    "        0 is for [\"Loss_ExcessRisk\", \"Loss_StdDev\"]\n",
    "        1 is for [\"Error_Mean\", \"Error_StdDev\"]\n",
    "    result_df:\n",
    "        result table above\n",
    "    \n",
    "    '''\n",
    "    if estimator == 0:\n",
    "        col = [\"Loss_ExcessRisk\", \"Loss_StdDev\"]\n",
    "    else:\n",
    "        col = [\"Error_Mean\", \"Error_StdDev\"]\n",
    "        \n",
    "    fig = plt.figure(figsize = (16, 10))\n",
    "    index = 0\n",
    "    for senario in [1, 2]:\n",
    "        for sigma in [0.1, 0.35]:\n",
    "            index += 1\n",
    "            plt.subplot(2, 2, index)\n",
    "            df = result_df[np.logical_and(result_df[\"Scenario\"] == senario, result_df[\"sigma\"] == sigma)]\n",
    "            excess_risk, excess_risk_var = df[col[0]], df[col[1]]\n",
    "\n",
    "            plt.plot(train_bs, excess_risk, 'D',markersize=8, label = col[0])\n",
    "            plt.errorbar(train_bs, excess_risk, excess_risk_var)\n",
    "\n",
    "            plt.xlabel(\"N\", fontsize = 12)\n",
    "            plt.xticks(fontsize = 12)\n",
    "            plt.ylabel(\"Risk\", fontsize = 12)\n",
    "            plt.yticks(fontsize = 12)\n",
    "            plt.title(\"Scenario \" + str(senario) + \", Sigma=\" + str(sigma), fontsize=15) \n",
    "    fig.legend(col, loc = \"upper right\", fontsize = 13)\n",
    "    plt.tight_layout()\n",
    "    plt.show()"
   ]
  },
  {
   "cell_type": "markdown",
   "metadata": {
    "id": "LFfG6N4ri2-D"
   },
   "source": [
    "###### Plot excess risk"
   ]
  },
  {
   "cell_type": "code",
   "execution_count": 263,
   "metadata": {
    "colab": {
     "base_uri": "https://localhost:8080/",
     "height": 552
    },
    "id": "IjXrdqjsi2-D",
    "outputId": "47de4d4c-9c3b-4cf9-d236-a922121dd347"
   },
   "outputs": [
    {
     "data": {
      "image/png": "[encoded data removed]",
      "text/plain": [
       "<matplotlib.figure.Figure at 0x1243dfef0>"
      ]
     },
     "metadata": {},
     "output_type": "display_data"
    }
   ],
   "source": [
    "plot_result(0, result_df)"
   ]
  },
  {
   "cell_type": "markdown",
   "metadata": {},
   "source": [
    "Comment on your results. Explain whether or not they agree with the theoretical results we derived in class. Compare your results in Scenarios 1 and 2. Is there any difference? If so, can you justify it? For each scenario, compare between your results for each setting of σ (the standard deviation of the Gaussian distribution). Do you spot any difference? If so, can you justify it?"
   ]
  },
  {
   "cell_type": "markdown",
   "metadata": {},
   "source": [
    "#### Theoretical Excess Risk"
   ]
  },
  {
   "cell_type": "markdown",
   "metadata": {},
   "source": [
    "##### For cube"
   ]
  },
  {
   "cell_type": "code",
   "execution_count": 239,
   "metadata": {},
   "outputs": [
    {
     "data": {
      "text/plain": [
       "[<matplotlib.lines.Line2D at 0x11ee46780>]"
      ]
     },
     "execution_count": 239,
     "metadata": {},
     "output_type": "execute_result"
    },
    {
     "data": {
      "image/png": "[encoded data removed]",
      "text/plain": [
       "<matplotlib.figure.Figure at 0x122407c18>"
      ]
     },
     "metadata": {},
     "output_type": "display_data"
    }
   ],
   "source": [
    "M=2*np.sqrt(5)\n",
    "rho=np.sqrt(5)\n",
    "\n",
    "excess_risk=[M*rho/(np.sqrt(T)) for T in train_bs]\n",
    "plt.plot(train_bs,excess_risk)"
   ]
  },
  {
   "cell_type": "markdown",
   "metadata": {},
   "source": [
    "+ For theory, when T increase the eccess risk decrease, T--> infinity,  --->0\n",
    "+ The empirical excess risk is under theoretical excess risk, same trend as T increase"
   ]
  },
  {
   "cell_type": "markdown",
   "metadata": {},
   "source": [
    "##### For ball"
   ]
  },
  {
   "cell_type": "code",
   "execution_count": 240,
   "metadata": {},
   "outputs": [
    {
     "data": {
      "text/plain": [
       "[<matplotlib.lines.Line2D at 0x120e52550>]"
      ]
     },
     "execution_count": 240,
     "metadata": {},
     "output_type": "execute_result"
    },
    {
     "data": {
      "image/png": "[encoded data removed]",
      "text/plain": [
       "<matplotlib.figure.Figure at 0x121053ef0>"
      ]
     },
     "metadata": {},
     "output_type": "display_data"
    }
   ],
   "source": [
    "M=2\n",
    "rho=np.sqrt(5)\n",
    "ecesss_risk=[M*rho/(np.sqrt(T)) for T in train_bs]\n",
    "plt.plot(train_bs,ecesss_risk)"
   ]
  },
  {
   "cell_type": "markdown",
   "metadata": {},
   "source": [
    "+ For theory, when T increase the eccess risk decrease, T--> infinity,  --->0\n",
    "+ The empirical excess risk is under theoretical excess risk, same trend as T increase"
   ]
  },
  {
   "cell_type": "markdown",
   "metadata": {
    "id": "GqkkaFAS3p4S"
   },
   "source": [
    "###### Plot classification error"
   ]
  },
  {
   "cell_type": "code",
   "execution_count": 241,
   "metadata": {
    "colab": {
     "base_uri": "https://localhost:8080/",
     "height": 552
    },
    "id": "HFdxVESki2-D",
    "outputId": "78c25970-c989-4232-9e69-b2a9a5f5c0f3"
   },
   "outputs": [
    {
     "data": {
      "image/png": "[encoded data removed]",
      "text/plain": [
       "<matplotlib.figure.Figure at 0x122c10390>"
      ]
     },
     "metadata": {},
     "output_type": "display_data"
    }
   ],
   "source": [
    "plot_result(1, result_df)"
   ]
  },
  {
   "cell_type": "markdown",
   "metadata": {},
   "source": []
  },
  {
   "cell_type": "code",
   "execution_count": null,
   "metadata": {},
   "outputs": [],
   "source": []
  },
  {
   "cell_type": "code",
   "execution_count": null,
   "metadata": {},
   "outputs": [],
   "source": []
  },
  {
   "cell_type": "code",
   "execution_count": null,
   "metadata": {},
   "outputs": [],
   "source": []
  }
 ],
 "metadata": {
  "colab": {
   "authorship_tag": "ABX9TyOM7UIhE3vl9RvPMkbiT4UG",
   "collapsed_sections": [],
   "include_colab_link": true,
   "name": "sgd.ipynb",
   "provenance": [],
   "toc_visible": true
  },
  "kernelspec": {
   "display_name": "Python 3",
   "language": "python",
   "name": "python3"
  },
  "language_info": {
   "codemirror_mode": {
    "name": "ipython",
    "version": 3
   },
   "file_extension": ".py",
   "mimetype": "text/x-python",
   "name": "python",
   "nbconvert_exporter": "python",
   "pygments_lexer": "ipython3",
   "version": "3.6.9"
  }
 },
 "nbformat": 4,
 "nbformat_minor": 1
}
