{
  "nbformat": 4,
  "nbformat_minor": 0,
  "metadata": {
    "colab": {
      "name": "sgd.ipynb",
      "provenance": [],
      "collapsed_sections": [],
      "toc_visible": true,
      "include_colab_link": true
    },
    "kernelspec": {
      "display_name": "Python 3",
      "language": "python",
      "name": "python3"
    },
    "language_info": {
      "codemirror_mode": {
        "name": "ipython",
        "version": 3
      },
      "file_extension": ".py",
      "mimetype": "text/x-python",
      "name": "python",
      "nbconvert_exporter": "python",
      "pygments_lexer": "ipython3",
      "version": "3.6.9"
    }
  },
  "cells": [
    {
      "cell_type": "markdown",
      "metadata": {
        "id": "view-in-github",
        "colab_type": "text"
      },
      "source": [
        "<a href=\"https://colab.research.google.com/github/linyuehzzz/5523_project/blob/main/sgd_v1.0.ipynb\" target=\"_parent\"><img src=\"https://colab.research.google.com/assets/colab-badge.svg\" alt=\"Open In Colab\"/></a>"
      ]
    },
    {
      "cell_type": "markdown",
      "metadata": {
        "id": "FlILGcNEEW0E"
      },
      "source": [
        "##**Stochastic Gradient Descent for Logistic Regression**\n",
        "This code implements and tests the SGD algorithm for logistic regression\n",
        "in different scenarios.  \n",
        "Yifei Zhang (zhang.5387 at osu edu), Yue Lin (lin.3326 at osu.edu)  \n",
        "Created: 11/12/2020"
      ]
    },
    {
      "cell_type": "markdown",
      "metadata": {
        "id": "qGQmKFIeFYKY"
      },
      "source": [
        "#### **Set up libraries**"
      ]
    },
    {
      "cell_type": "code",
      "metadata": {
        "id": "BUex5ElWFaHO"
      },
      "source": [
        "import numpy as np\n",
        "import random\n",
        "import matplotlib.pyplot as plt\n",
        "import pandas as pd"
      ],
      "execution_count": null,
      "outputs": []
    },
    {
      "cell_type": "markdown",
      "metadata": {
        "id": "YXnNnylopljK"
      },
      "source": [
        "#### **Project**"
      ]
    },
    {
      "cell_type": "markdown",
      "metadata": {
        "id": "MzHKV3T7pvFo"
      },
      "source": [
        "##### Projection function for hypercube"
      ]
    },
    {
      "cell_type": "code",
      "metadata": {
        "id": "9ewruRRFp0kP"
      },
      "source": [
        "def cube_prj(sample):\n",
        "  '''\n",
        "  input: a sample with d dimension (1-D array or list)\n",
        "  onput: the euclidean projection of sample\n",
        "  '''\n",
        "  return [np.sign(i) * min(np.abs(i), 1) for i in sample]"
      ],
      "execution_count": null,
      "outputs": []
    },
    {
      "cell_type": "markdown",
      "metadata": {
        "id": "9mrnAQvYqI8q"
      },
      "source": [
        "##### Projection function for unit ball"
      ]
    },
    {
      "cell_type": "code",
      "metadata": {
        "id": "kyUbRJAKqRsd"
      },
      "source": [
        "def ball_prj(sample):\n",
        "    '''\n",
        "    input: a sample with d dimension (1-D array or list)\n",
        "    onput: the euclidean projection of sample\n",
        "    '''\n",
        "    ratio = 1 / np.linalg.norm(sample)\n",
        "    return [i * ratio for i in sample]"
      ],
      "execution_count": null,
      "outputs": []
    },
    {
      "cell_type": "markdown",
      "metadata": {
        "id": "eZXfvRgKqXV2"
      },
      "source": [
        "##### Project data"
      ]
    },
    {
      "cell_type": "code",
      "metadata": {
        "id": "6dwzkd6WqW7X"
      },
      "source": [
        "def prj_data(x, y, prj_code):\n",
        "    '''\n",
        "    This function is for conduct projection on data array\n",
        "    x: n*d array (n is sample#, d is dimension)\n",
        "    y: 1-d array with label of -1 or +1\n",
        "    prj_code: type of projection, 0 for cube, 1 for ball\n",
        "    return:\n",
        "        prj_x: projected x \n",
        "        y: same as input\n",
        "    '''\n",
        "    if prj_code == 0:\n",
        "        prj_x = np.apply_along_axis(cube_prj, 1, x)\n",
        "    elif prj_code == 1:\n",
        "        prj_x = np.apply_along_axis(ball_prj, 1, x)\n",
        "    else:\n",
        "        print(\"Please input correct code for projection type: 0 for cube, 1 for ball\")\n",
        "      \n",
        "    b = np.ones((prj_x.shape[0], 1))\n",
        "    prj_x = np.append(prj_x, b, axis=1)\n",
        "    return prj_x, y"
      ],
      "execution_count": null,
      "outputs": []
    },
    {
      "cell_type": "markdown",
      "metadata": {
        "id": "eiUQqYKLvAuY"
      },
      "source": [
        "##### Project gradient"
      ]
    },
    {
      "cell_type": "code",
      "metadata": {
        "id": "6ThWld5kvaBT"
      },
      "source": [
        "def prj_grad(g, prj_code):\n",
        "    '''\n",
        "    This function is for conduct projection on gradients\n",
        "    g: 1-d array (d is dimension)\n",
        "    prj_code: type of projection, 0 for cube, 1 for ball\n",
        "    return:\n",
        "        prj_g: projected gradient\n",
        "    '''\n",
        "    if prj_code == 0:\n",
        "        prj_g = cube_prj(g)\n",
        "    elif prj_code == 1:\n",
        "        prj_g = ball_prj(g)\n",
        "    else:\n",
        "        print(\"Please input correct code for projection type: 0 for cube, 1 for ball\")\n",
        "    return prj_g"
      ],
      "execution_count": null,
      "outputs": []
    },
    {
      "cell_type": "markdown",
      "metadata": {
        "id": "tu0jhwwRF5ls"
      },
      "source": [
        "#### **Prepare data**"
      ]
    },
    {
      "cell_type": "code",
      "metadata": {
        "id": "yMDzFiFcrsg8"
      },
      "source": [
        "def gen_data(sig, n):\n",
        "    '''\n",
        "    The function is to generate data for training and testing\n",
        "    The feature array is 4 dimension array. \n",
        "     + Each feature follows the Normal distribution(mu,sig)\n",
        "     + with probability 1/2, the y =1 , \n",
        "         generate the correspoinding feature vector from N(mu,sig),mu is [1/4,1/4,1/4,1/4],sig is set as you need.\n",
        "    sig: the sigma of  gussian vector\n",
        "    n: the sample number\n",
        "    \n",
        "    Return:\n",
        "     x: n*d_dimension array\n",
        "     y: 1-d dimension array with -1 and +1\n",
        "    '''\n",
        "    d_dimension = 4\n",
        "    y = np.random.choice([-1, 1], p = [0.5, 0.5], size = n)\n",
        "    x = np.array([])\n",
        "    for i in range(n):\n",
        "        if y[i] == -1:\n",
        "            mu = -(1 / 4)\n",
        "            negvec = np.random.normal(mu, sig, d_dimension)\n",
        "            x = np.concatenate([x, negvec], axis=0)\n",
        "        else:\n",
        "            mu = (1/4)\n",
        "            posvec = np.random.normal(mu, sig, d_dimension)\n",
        "            x = np.concatenate([x,posvec], axis=0)\n",
        "    x = np.reshape(x, (n, d_dimension))\n",
        "    return x, y"
      ],
      "execution_count": null,
      "outputs": []
    },
    {
      "cell_type": "markdown",
      "metadata": {
        "id": "aAzwTZ79M6oi"
      },
      "source": [
        "#### **Train**\n",
        "https://machinelearningmastery.com/implement-logistic-regression-stochastic-gradient-descent-scratch-python/"
      ]
    },
    {
      "cell_type": "markdown",
      "metadata": {
        "id": "s8XQyQ8Ycqpo"
      },
      "source": [
        "##### Predict using logistic regression"
      ]
    },
    {
      "cell_type": "code",
      "metadata": {
        "id": "dzPxwbmIM6NU"
      },
      "source": [
        "# Make a prediction with coefficients\n",
        "def pred(X, w):\n",
        "    yhat = 0.\n",
        "    for i in range(X.shape[0]):\n",
        "        yhat += w[i] * X[i]\n",
        "    yhat = 1.0 / (1.0 + np.exp(-yhat))\n",
        "    if yhat < 0.5:\n",
        "        yhat = -1\n",
        "    else:\n",
        "        yhat = 1 \n",
        "    return yhat"
      ],
      "execution_count": null,
      "outputs": []
    },
    {
      "cell_type": "markdown",
      "metadata": {
        "id": "iJfOdxzt4M5T"
      },
      "source": [
        "##### Estimate logistic loss"
      ]
    },
    {
      "cell_type": "code",
      "metadata": {
        "id": "q_3nPdw4BJV0"
      },
      "source": [
        "def log_loss(X, y, w):\n",
        "    return np.log(1 + np.exp(-y * np.dot(w.T, X)))"
      ],
      "execution_count": null,
      "outputs": []
    },
    {
      "cell_type": "markdown",
      "metadata": {
        "id": "mnfgixZxQqvj"
      },
      "source": [
        "##### Estimate classification error"
      ]
    },
    {
      "cell_type": "code",
      "metadata": {
        "id": "DZdcop9KQuGF"
      },
      "source": [
        "def err(yhat, y):\n",
        "    if yhat == y:\n",
        "        return 0\n",
        "    else:\n",
        "        return 1"
      ],
      "execution_count": null,
      "outputs": []
    },
    {
      "cell_type": "markdown",
      "metadata": {
        "id": "lE93wIbQc9Is"
      },
      "source": [
        "##### Estimate weight vector using SGD"
      ]
    },
    {
      "cell_type": "code",
      "metadata": {
        "id": "Jb_QkJsIc8Vh"
      },
      "source": [
        "def train_sgd(train_x, train_y, test_x, test_y, l_rate, n_epoch, bs, prj_code):\n",
        "  w = np.random.uniform(-1, 1, (train_x.shape[1]))\n",
        "  risk_all = np.zeros(n_epoch)\n",
        "  cls_err_all = np.zeros(n_epoch)\n",
        "\n",
        "  for epoch in range(n_epoch):\n",
        "    risk = cls_err = grad = 0.\n",
        "    ### Traning?\n",
        "    for idx in range(epoch * bs, (epoch + 1) * bs):\n",
        "      # Read data\n",
        "      X = train_x[idx]\n",
        "      y = train_y[idx]\n",
        "      # Calculate gradient\n",
        "      g = (-y * X * np.exp(-y * np.dot(w.T, X)) / (1 + np.exp(-y * np.dot(w.T, X))))\n",
        "      grad += g ## what is this for?\n",
        "\n",
        "    # Project gradient\n",
        "    grad = prj_grad(grad / bs, prj_code)## Not sure why?\n",
        "    # Backward propagation\n",
        "    w = np.add(w, np.multiply(-l_rate, grad)) ## I would make projection here\n",
        "    \n",
        "    # Evaluate\n",
        "    for idx in range(test_x.shape[0]):\n",
        "      # Read data\n",
        "      X = test_x[idx]\n",
        "      y = test_y[idx]\n",
        "      # Predict\n",
        "      yhat = pred(X, w)\n",
        "      # Evaluate\n",
        "      risk += log_loss(X, y, w) / test_x.shape[0]\n",
        "      cls_err += err(yhat, y) / test_x.shape[0]\n",
        "    \n",
        "    risk_all = np.append(risk_all, risk)\n",
        "    cls_err_all = np.append(cls_err_all, cls_err)\n",
        "    # print('>epoch=%d, lrate=%.3f, risk=%.3f, classification error=%.3f' % (epoch, l_rate, risk, cls_err))\n",
        "  \n",
        "  # Report risk\n",
        "  risk_ave = np.average(risk_all)\n",
        "  risk_min = np.amin(risk_all)\n",
        "  risk_var = np.var(risk_all)\n",
        "  exp_excess_risk = risk_ave - risk_min\n",
        "  # Report classification error\n",
        "  cls_err_ave = np.average(cls_err_all)\n",
        "  cls_err_var = np.var(cls_err_all)\n",
        "  return [w, risk_ave, risk_min, risk_var, exp_excess_risk, cls_err_ave, cls_err_var]"
      ],
      "execution_count": null,
      "outputs": []
    },
    {
      "cell_type": "markdown",
      "metadata": {
        "id": "L4Vilam6i2-B"
      },
      "source": [
        "### Modified SGD"
      ]
    },
    {
      "cell_type": "code",
      "metadata": {
        "id": "NjWhXU_ri2-B"
      },
      "source": [
        "def train_sgd(train_x, train_y, test_x, test_y, l_rate, n_epoch, bs, prj_code):\n",
        "    w_t = np.random.uniform(-1, 1, (train_x.shape[1]))\n",
        "    risk_all = np.zeros(n_epoch)\n",
        "    cls_err_all = np.zeros(n_epoch)\n",
        "    \n",
        "\n",
        "    for epoch in range(n_epoch):## Run for 30 trails\n",
        "        risk = cls_err = grad = 0.\n",
        "        ws=[]\n",
        "        for idx in range(epoch * bs, (epoch + 1) * bs):\n",
        "#             print(idx)\n",
        "            # Read data\n",
        "            X = train_x[idx]\n",
        "            y = train_y[idx]\n",
        "            # Calculate gradient\n",
        "            g = (-y * X * np.exp(-y * np.dot(w_t.T, X)) / (1 + np.exp(-y * np.dot(w_t.T, X))))\n",
        "#             grad += g ##\n",
        "#             print(g,grad)\n",
        "\n",
        "            # Project gradient\n",
        "#             grad = prj_grad(grad / bs, prj_code)\n",
        "            # Backward propagation\n",
        "            w_t = np.array(prj_grad(np.add(w_t, np.multiply(-l_rate, g)),prj_code))\n",
        "            ws.append(w_t)\n",
        "        w=np.average(np.array(ws),axis=0)\n",
        "\n",
        "        # Evaluate\n",
        "        for idx in range(test_x.shape[0]):\n",
        "            # Read data\n",
        "            X = test_x[idx]\n",
        "            y = test_y[idx]\n",
        "            # Predictb\n",
        "            yhat = pred(X, w)\n",
        "            \n",
        "            # Evaluate\n",
        "            risk += log_loss(X, y, w) / test_x.shape[0]\n",
        "            cls_err += err(yhat, y) / test_x.shape[0]\n",
        "\n",
        "        risk_all = np.append(risk_all, risk)\n",
        "        cls_err_all = np.append(cls_err_all, cls_err)\n",
        "    # print('>epoch=%d, lrate=%.3f, risk=%.3f, classification error=%.3f' % (epoch, l_rate, risk, cls_err))\n",
        "  \n",
        "    # Report risk\n",
        "    risk_ave = np.average(risk_all)\n",
        "    risk_min = np.amin(risk_all)\n",
        "    risk_var = np.var(risk_all)\n",
        "    exp_excess_risk = risk_ave - risk_min\n",
        "    # Report classification error\n",
        "    cls_err_ave = np.average(cls_err_all)\n",
        "    cls_err_var = np.var(cls_err_all)\n",
        "    return [w, risk_ave, risk_min, risk_var, exp_excess_risk, cls_err_ave, cls_err_var]"
      ],
      "execution_count": null,
      "outputs": []
    },
    {
      "cell_type": "code",
      "metadata": {
        "id": "lxX0uHdXi2-B",
        "outputId": "97349f98-400c-4b68-8147-b4d8e3845721"
      },
      "source": [
        "w=np.array([[1,2,3],[4,5,6]])\n",
        "np.average(w,axis=0)"
      ],
      "execution_count": null,
      "outputs": [
        {
          "output_type": "execute_result",
          "data": {
            "text/plain": [
              "array([2.5, 3.5, 4.5])"
            ]
          },
          "metadata": {
            "tags": []
          },
          "execution_count": 445
        }
      ]
    },
    {
      "cell_type": "code",
      "metadata": {
        "id": "koAqn6nqi2-C"
      },
      "source": [
        "\n",
        "# Fixed hyperparameters\n",
        "n_epoch = 30    # training epochs\n",
        "test_n = 400    # size of test set\n",
        "\n",
        "# Unfixed hyperparameters\n",
        "prj_code = 0   # code for two scenario: 0 for cube, 1 for ball\n",
        "l_rate = 0.04  # learning rate: 0.04 for cube, 0.18 for ball\n",
        "train_bs = np.array([50, 100, 500, 1000])   # batch size for each training epoch\n",
        "sigma = 0.1     # variance of Gaussian distribution\n",
        "\n",
        "np.random.seed(0)"
      ],
      "execution_count": null,
      "outputs": []
    },
    {
      "cell_type": "markdown",
      "metadata": {
        "id": "q3SH2Dm7d71V"
      },
      "source": [
        "#### **Wrapper**"
      ]
    },
    {
      "cell_type": "markdown",
      "metadata": {
        "id": "C0-3MK6Pk7mU"
      },
      "source": [
        "##### Generate data and train"
      ]
    },
    {
      "cell_type": "code",
      "metadata": {
        "colab": {
          "base_uri": "https://localhost:8080/"
        },
        "id": "iJ68DlKXd6rP",
        "outputId": "e7690fa3-0384-4a00-d3b7-a9315deae92d"
      },
      "source": [
        "# Fixed hyperparameters\n",
        "n_epoch = 30    # training epochs\n",
        "test_n = 400    # size of test set\n",
        "\n",
        "# Unfixed hyperparameters\n",
        "prj_code = 0   # code for two scenario: 0 for cube, 1 for ball\n",
        "l_rate = 0.04  # learning rate: 0.04 for cube, 0.18 for ball\n",
        "train_bs = np.array([50, 100, 500, 1000])   # batch size for each training epoch\n",
        "sigma = 0.1     # variance of Gaussian distribution\n",
        "\n",
        "np.random.seed(0)\n",
        "\n",
        "excess_risk = []\n",
        "cls_error = []\n",
        "excess_risk_var = []\n",
        "cls_error_var = []\n",
        "\n",
        "for bs in train_bs:\n",
        "  # Generate training data\n",
        "    train_x, train_y = gen_data(sigma, bs * n_epoch)\n",
        "    train_px, train_py = prj_data(train_x, train_y, prj_code)\n",
        "\n",
        "    # Generate test data\n",
        "    test_x, test_y = gen_data(sigma, test_n)\n",
        "    test_px, test_py = prj_data(test_x, test_y, prj_code)\n",
        "\n",
        "    # Train\n",
        "    output = train_sgd(train_px, train_py, test_px, test_py, l_rate, n_epoch, bs, prj_code)\n",
        "    #[w, risk_ave, risk_min, risk_var, exp_excess_risk, cls_err_ave, cls_err_var]\n",
        "    \n",
        "    print(output)\n",
        "    print('>scenario=%d, sigma=%.2f, n=%d, log_loss_mean=%.3f, log_loss_std_dev=%.3f, log_loss_min=%.3f, \\\n",
        "        excess_risk=%.3f, cls_error_mean=%.3f, cls_error_std_dev=%.3f' \n",
        "        % (prj_code+1, sigma, bs, output[1], output[3], output[2], output[4], output[5], output[6]))\n",
        "\n",
        "    excess_risk = np.append(excess_risk, output[4], axis=None)\n",
        "    cls_error = np.append(cls_error, output[5],  axis=None)\n",
        "    excess_risk_var = np.append(excess_risk_var, output[3], axis=None)\n",
        "    cls_error_var = np.append(cls_error_var, output[6],  axis=None)"
      ],
      "execution_count": null,
      "outputs": [
        {
          "output_type": "stream",
          "text": [
            "[array([1.        , 0.99999796, 1.        , 1.        , 0.08232545]), 0.17608841744325096, 0.0, 0.03256166702442605, 0.17608841744325096, 0.008583333333333339, 0.0034194513888888933]\n",
            ">scenario=1, sigma=0.10, n=50, log_loss_mean=0.176, log_loss_std_dev=0.033, log_loss_min=0.000,         excess_risk=0.176, cls_error_mean=0.009, cls_error_std_dev=0.003\n",
            "[array([ 0.99997479,  0.99999971,  1.        ,  1.        , -0.18791443]), 0.16990212773438254, 0.0, 0.030679620301252358, 0.16990212773438254, 0.006625000000000005, 0.0025895468750000024]\n",
            ">scenario=1, sigma=0.10, n=100, log_loss_mean=0.170, log_loss_std_dev=0.031, log_loss_min=0.000,         excess_risk=0.170, cls_error_mean=0.007, cls_error_std_dev=0.003\n",
            "[array([ 0.99999782,  0.99999849,  0.99999188,  0.99999549, -0.04418975]), 0.16068150283634217, 0.0, 0.026001181843220884, 0.16068150283634217, 0.0, 0.0]\n",
            ">scenario=1, sigma=0.10, n=500, log_loss_mean=0.161, log_loss_std_dev=0.026, log_loss_min=0.000,         excess_risk=0.161, cls_error_mean=0.000, cls_error_std_dev=0.000\n",
            "[array([0.99999752, 0.99999796, 0.99999675, 0.99999672, 0.04817521]), 0.15585986261258813, 0.0, 0.02432690287273256, 0.15585986261258813, 0.0, 0.0]\n",
            ">scenario=1, sigma=0.10, n=1000, log_loss_mean=0.156, log_loss_std_dev=0.024, log_loss_min=0.000,         excess_risk=0.156, cls_error_mean=0.000, cls_error_std_dev=0.000\n"
          ],
          "name": "stdout"
        }
      ]
    },
    {
      "cell_type": "markdown",
      "metadata": {
        "id": "SRR_-mO3i2-C"
      },
      "source": [
        "#### Run all experiments"
      ]
    },
    {
      "cell_type": "code",
      "metadata": {
        "id": "vp_RQY81i2-C"
      },
      "source": [
        "# Fixed hyperparameters\n",
        "n_epoch = 30    # training epochs\n",
        "test_n = 400    # size of test set\n",
        "\n",
        "# Unfixed hyperparameters\n",
        "prj_code = 0   # code for two scenario: 0 for cube, 1 for ball\n",
        "l_rate = 0.04  # learning rate: 0.04 for cube, 0.18 for ball\n",
        "train_bs = np.array([50, 100, 500, 1000])  # batch size for each training epoch\n",
        "sigma = 0.1     # variance of Gaussian distribution\n",
        "np.random.seed(0)"
      ],
      "execution_count": null,
      "outputs": []
    },
    {
      "cell_type": "code",
      "metadata": {
        "id": "GKhtKmkUi2-C"
      },
      "source": [
        "result_list=[]\n",
        "for prj_code in [0,1]:\n",
        "    for sigma in [0.1,0.35]:\n",
        "        for bs in train_bs:\n",
        "          # Generate training data\n",
        "            train_x, train_y = gen_data(sigma, bs * n_epoch)\n",
        "            train_px, train_py = prj_data(train_x, train_y, prj_code)\n",
        "\n",
        "            # Generate test data\n",
        "            test_x, test_y = gen_data(sigma, test_n)\n",
        "            test_px, test_py = prj_data(test_x, test_y, prj_code)\n",
        "\n",
        "            # Train\n",
        "            output = train_sgd(train_px, train_py, test_px, test_py, l_rate, n_epoch, bs, prj_code)\n",
        "            #[w, risk_ave, risk_min, risk_var, exp_excess_risk, cls_err_ave, cls_err_var]\n",
        "\n",
        "#             print(output)\n",
        "#             print('>scenario=%d, sigma=%.2f, n=%d, log_loss_mean=%.3f, log_loss_std_dev=%.3f, log_loss_min=%.3f, \\\n",
        "#                 excess_risk=%.3f, cls_error_mean=%.3f, cls_error_std_dev=%.3f' \n",
        "#                 % (prj_code+1, sigma, bs, output[1], output[3], output[2], output[4], output[5], output[6]))\n",
        "            result=[prj_code+1, sigma, bs, n_epoch,output[1], output[3], output[2], output[4], output[5], output[6]]\n",
        "            result_list.append(result)\n"
      ],
      "execution_count": null,
      "outputs": []
    },
    {
      "cell_type": "code",
      "metadata": {
        "id": "RLME1IIpi2-C"
      },
      "source": [
        "column_name=[\"Scenario\",\"sigma\",\"N\",\"#trails\",\"Loss_Mean\",\"Loss_StdDev\",\"Loss_Min\",\"Loss_ExcessRisk\",\n",
        "             \"Error_Mean\",\"Error_StdDev\"]"
      ],
      "execution_count": null,
      "outputs": []
    },
    {
      "cell_type": "code",
      "metadata": {
        "id": "vhUYrS5Qi2-C",
        "outputId": "102fd43c-8bfd-4ed6-d233-c6507ece57f5"
      },
      "source": [
        "result_df=pd.DataFrame(result_list,columns=column_name)\n",
        "result_df"
      ],
      "execution_count": null,
      "outputs": [
        {
          "output_type": "execute_result",
          "data": {
            "text/html": [
              "<div>\n",
              "<style scoped>\n",
              "    .dataframe tbody tr th:only-of-type {\n",
              "        vertical-align: middle;\n",
              "    }\n",
              "\n",
              "    .dataframe tbody tr th {\n",
              "        vertical-align: top;\n",
              "    }\n",
              "\n",
              "    .dataframe thead th {\n",
              "        text-align: right;\n",
              "    }\n",
              "</style>\n",
              "<table border=\"1\" class=\"dataframe\">\n",
              "  <thead>\n",
              "    <tr style=\"text-align: right;\">\n",
              "      <th></th>\n",
              "      <th>Scenario</th>\n",
              "      <th>sigma</th>\n",
              "      <th>N</th>\n",
              "      <th>#trails</th>\n",
              "      <th>Loss_Mean</th>\n",
              "      <th>Loss_StdDev</th>\n",
              "      <th>Loss_Min</th>\n",
              "      <th>Loss_ExcessRisk</th>\n",
              "      <th>Error_Mean</th>\n",
              "      <th>Error_StdDev</th>\n",
              "    </tr>\n",
              "  </thead>\n",
              "  <tbody>\n",
              "    <tr>\n",
              "      <th>0</th>\n",
              "      <td>1</td>\n",
              "      <td>0.10</td>\n",
              "      <td>50</td>\n",
              "      <td>30</td>\n",
              "      <td>0.176088</td>\n",
              "      <td>0.032562</td>\n",
              "      <td>0.0</td>\n",
              "      <td>0.176088</td>\n",
              "      <td>0.008583</td>\n",
              "      <td>0.003419</td>\n",
              "    </tr>\n",
              "    <tr>\n",
              "      <th>1</th>\n",
              "      <td>1</td>\n",
              "      <td>0.10</td>\n",
              "      <td>100</td>\n",
              "      <td>30</td>\n",
              "      <td>0.169902</td>\n",
              "      <td>0.030680</td>\n",
              "      <td>0.0</td>\n",
              "      <td>0.169902</td>\n",
              "      <td>0.006625</td>\n",
              "      <td>0.002590</td>\n",
              "    </tr>\n",
              "    <tr>\n",
              "      <th>2</th>\n",
              "      <td>1</td>\n",
              "      <td>0.10</td>\n",
              "      <td>500</td>\n",
              "      <td>30</td>\n",
              "      <td>0.160682</td>\n",
              "      <td>0.026001</td>\n",
              "      <td>0.0</td>\n",
              "      <td>0.160682</td>\n",
              "      <td>0.000000</td>\n",
              "      <td>0.000000</td>\n",
              "    </tr>\n",
              "    <tr>\n",
              "      <th>3</th>\n",
              "      <td>1</td>\n",
              "      <td>0.10</td>\n",
              "      <td>1000</td>\n",
              "      <td>30</td>\n",
              "      <td>0.155860</td>\n",
              "      <td>0.024327</td>\n",
              "      <td>0.0</td>\n",
              "      <td>0.155860</td>\n",
              "      <td>0.000000</td>\n",
              "      <td>0.000000</td>\n",
              "    </tr>\n",
              "    <tr>\n",
              "      <th>4</th>\n",
              "      <td>1</td>\n",
              "      <td>0.35</td>\n",
              "      <td>50</td>\n",
              "      <td>30</td>\n",
              "      <td>0.195087</td>\n",
              "      <td>0.039590</td>\n",
              "      <td>0.0</td>\n",
              "      <td>0.195087</td>\n",
              "      <td>0.049375</td>\n",
              "      <td>0.002511</td>\n",
              "    </tr>\n",
              "    <tr>\n",
              "      <th>5</th>\n",
              "      <td>1</td>\n",
              "      <td>0.35</td>\n",
              "      <td>100</td>\n",
              "      <td>30</td>\n",
              "      <td>0.188729</td>\n",
              "      <td>0.039230</td>\n",
              "      <td>0.0</td>\n",
              "      <td>0.188729</td>\n",
              "      <td>0.043208</td>\n",
              "      <td>0.006284</td>\n",
              "    </tr>\n",
              "    <tr>\n",
              "      <th>6</th>\n",
              "      <td>1</td>\n",
              "      <td>0.35</td>\n",
              "      <td>500</td>\n",
              "      <td>30</td>\n",
              "      <td>0.185289</td>\n",
              "      <td>0.034336</td>\n",
              "      <td>0.0</td>\n",
              "      <td>0.185289</td>\n",
              "      <td>0.049125</td>\n",
              "      <td>0.002415</td>\n",
              "    </tr>\n",
              "    <tr>\n",
              "      <th>7</th>\n",
              "      <td>1</td>\n",
              "      <td>0.35</td>\n",
              "      <td>1000</td>\n",
              "      <td>30</td>\n",
              "      <td>0.181214</td>\n",
              "      <td>0.032868</td>\n",
              "      <td>0.0</td>\n",
              "      <td>0.181214</td>\n",
              "      <td>0.041708</td>\n",
              "      <td>0.001743</td>\n",
              "    </tr>\n",
              "    <tr>\n",
              "      <th>8</th>\n",
              "      <td>2</td>\n",
              "      <td>0.10</td>\n",
              "      <td>50</td>\n",
              "      <td>30</td>\n",
              "      <td>0.169438</td>\n",
              "      <td>0.029073</td>\n",
              "      <td>0.0</td>\n",
              "      <td>0.169438</td>\n",
              "      <td>0.002333</td>\n",
              "      <td>0.000321</td>\n",
              "    </tr>\n",
              "    <tr>\n",
              "      <th>9</th>\n",
              "      <td>2</td>\n",
              "      <td>0.10</td>\n",
              "      <td>100</td>\n",
              "      <td>30</td>\n",
              "      <td>0.166518</td>\n",
              "      <td>0.027827</td>\n",
              "      <td>0.0</td>\n",
              "      <td>0.166518</td>\n",
              "      <td>0.000000</td>\n",
              "      <td>0.000000</td>\n",
              "    </tr>\n",
              "    <tr>\n",
              "      <th>10</th>\n",
              "      <td>2</td>\n",
              "      <td>0.10</td>\n",
              "      <td>500</td>\n",
              "      <td>30</td>\n",
              "      <td>0.165175</td>\n",
              "      <td>0.027287</td>\n",
              "      <td>0.0</td>\n",
              "      <td>0.165175</td>\n",
              "      <td>0.000000</td>\n",
              "      <td>0.000000</td>\n",
              "    </tr>\n",
              "    <tr>\n",
              "      <th>11</th>\n",
              "      <td>2</td>\n",
              "      <td>0.10</td>\n",
              "      <td>1000</td>\n",
              "      <td>30</td>\n",
              "      <td>0.165372</td>\n",
              "      <td>0.027348</td>\n",
              "      <td>0.0</td>\n",
              "      <td>0.165372</td>\n",
              "      <td>0.000000</td>\n",
              "      <td>0.000000</td>\n",
              "    </tr>\n",
              "    <tr>\n",
              "      <th>12</th>\n",
              "      <td>2</td>\n",
              "      <td>0.35</td>\n",
              "      <td>50</td>\n",
              "      <td>30</td>\n",
              "      <td>0.239261</td>\n",
              "      <td>0.058201</td>\n",
              "      <td>0.0</td>\n",
              "      <td>0.239261</td>\n",
              "      <td>0.042417</td>\n",
              "      <td>0.004156</td>\n",
              "    </tr>\n",
              "    <tr>\n",
              "      <th>13</th>\n",
              "      <td>2</td>\n",
              "      <td>0.35</td>\n",
              "      <td>100</td>\n",
              "      <td>30</td>\n",
              "      <td>0.231268</td>\n",
              "      <td>0.053553</td>\n",
              "      <td>0.0</td>\n",
              "      <td>0.231268</td>\n",
              "      <td>0.036875</td>\n",
              "      <td>0.001731</td>\n",
              "    </tr>\n",
              "    <tr>\n",
              "      <th>14</th>\n",
              "      <td>2</td>\n",
              "      <td>0.35</td>\n",
              "      <td>500</td>\n",
              "      <td>30</td>\n",
              "      <td>0.235278</td>\n",
              "      <td>0.055386</td>\n",
              "      <td>0.0</td>\n",
              "      <td>0.235278</td>\n",
              "      <td>0.044417</td>\n",
              "      <td>0.002000</td>\n",
              "    </tr>\n",
              "    <tr>\n",
              "      <th>15</th>\n",
              "      <td>2</td>\n",
              "      <td>0.35</td>\n",
              "      <td>1000</td>\n",
              "      <td>30</td>\n",
              "      <td>0.233684</td>\n",
              "      <td>0.054610</td>\n",
              "      <td>0.0</td>\n",
              "      <td>0.233684</td>\n",
              "      <td>0.042125</td>\n",
              "      <td>0.001779</td>\n",
              "    </tr>\n",
              "  </tbody>\n",
              "</table>\n",
              "</div>"
            ],
            "text/plain": [
              "    Scenario  sigma     N  #trails  Loss_Mean  Loss_StdDev  Loss_Min  \\\n",
              "0          1   0.10    50       30   0.176088     0.032562       0.0   \n",
              "1          1   0.10   100       30   0.169902     0.030680       0.0   \n",
              "2          1   0.10   500       30   0.160682     0.026001       0.0   \n",
              "3          1   0.10  1000       30   0.155860     0.024327       0.0   \n",
              "4          1   0.35    50       30   0.195087     0.039590       0.0   \n",
              "5          1   0.35   100       30   0.188729     0.039230       0.0   \n",
              "6          1   0.35   500       30   0.185289     0.034336       0.0   \n",
              "7          1   0.35  1000       30   0.181214     0.032868       0.0   \n",
              "8          2   0.10    50       30   0.169438     0.029073       0.0   \n",
              "9          2   0.10   100       30   0.166518     0.027827       0.0   \n",
              "10         2   0.10   500       30   0.165175     0.027287       0.0   \n",
              "11         2   0.10  1000       30   0.165372     0.027348       0.0   \n",
              "12         2   0.35    50       30   0.239261     0.058201       0.0   \n",
              "13         2   0.35   100       30   0.231268     0.053553       0.0   \n",
              "14         2   0.35   500       30   0.235278     0.055386       0.0   \n",
              "15         2   0.35  1000       30   0.233684     0.054610       0.0   \n",
              "\n",
              "    Loss_ExcessRisk  Error_Mean  Error_StdDev  \n",
              "0          0.176088    0.008583      0.003419  \n",
              "1          0.169902    0.006625      0.002590  \n",
              "2          0.160682    0.000000      0.000000  \n",
              "3          0.155860    0.000000      0.000000  \n",
              "4          0.195087    0.049375      0.002511  \n",
              "5          0.188729    0.043208      0.006284  \n",
              "6          0.185289    0.049125      0.002415  \n",
              "7          0.181214    0.041708      0.001743  \n",
              "8          0.169438    0.002333      0.000321  \n",
              "9          0.166518    0.000000      0.000000  \n",
              "10         0.165175    0.000000      0.000000  \n",
              "11         0.165372    0.000000      0.000000  \n",
              "12         0.239261    0.042417      0.004156  \n",
              "13         0.231268    0.036875      0.001731  \n",
              "14         0.235278    0.044417      0.002000  \n",
              "15         0.233684    0.042125      0.001779  "
            ]
          },
          "metadata": {
            "tags": []
          },
          "execution_count": 451
        }
      ]
    },
    {
      "cell_type": "markdown",
      "metadata": {
        "id": "UgzrRurwi2-C"
      },
      "source": [
        "#### Plot Individual Plot"
      ]
    },
    {
      "cell_type": "markdown",
      "metadata": {
        "id": "saT_I5DNk0rq"
      },
      "source": [
        "+ Plot excess risk"
      ]
    },
    {
      "cell_type": "code",
      "metadata": {
        "id": "Wdq40h5Qi2-C"
      },
      "source": [
        "df=result_df[np.logical_and(result_df[\"Scenario\"]==1,result_df[\"sigma\"]==0.1)]\n",
        "excess_risk = df[\"Loss_ExcessRisk\"]\n",
        "cls_error = df[\"Error_Mean\"]\n",
        "excess_risk_var = df[\"Loss_StdDev\"]\n",
        "cls_error_var = df[\"Error_Mean\"]"
      ],
      "execution_count": null,
      "outputs": []
    },
    {
      "cell_type": "code",
      "metadata": {
        "id": "sl_HNjz6i2-C",
        "outputId": "f8cb7550-1bd3-4c56-b8ea-15aabc38797c"
      },
      "source": [
        "plt.plot(train_bs, excess_risk, '-o', label='Excess risk')\n",
        "plt.errorbar(train_bs, excess_risk, excess_risk_var)\n",
        "plt.legend()\n",
        "plt.tight_layout()\n",
        "plt.show()"
      ],
      "execution_count": null,
      "outputs": [
        {
          "output_type": "display_data",
          "data": {
            "image/png": "[encoded data removed]",
            "text/plain": [
              "<matplotlib.figure.Figure at 0x11e9f0518>"
            ]
          },
          "metadata": {
            "tags": []
          }
        }
      ]
    },
    {
      "cell_type": "markdown",
      "metadata": {
        "id": "um2yTlaUi2-C"
      },
      "source": [
        "+ Plot classification error"
      ]
    },
    {
      "cell_type": "code",
      "metadata": {
        "colab": {
          "base_uri": "https://localhost:8080/",
          "height": 297
        },
        "id": "HIBfEnVRoMgT",
        "outputId": "f10d4237-f2ff-43c6-b5f0-06ffb29d92a9"
      },
      "source": [
        "plt.plot(train_bs, cls_error, '-o', label='Classification error')\n",
        "plt.errorbar(train_bs, cls_error, cls_error_var)\n",
        "plt.legend()\n",
        "plt.tight_layout()\n",
        "plt.show()"
      ],
      "execution_count": null,
      "outputs": [
        {
          "output_type": "display_data",
          "data": {
            "image/png": "[encoded data removed]",
            "text/plain": [
              "<matplotlib.figure.Figure at 0x114f960b8>"
            ]
          },
          "metadata": {
            "tags": []
          }
        }
      ]
    },
    {
      "cell_type": "markdown",
      "metadata": {
        "id": "mYmtLewIi2-D"
      },
      "source": [
        "#### Plot Grid"
      ]
    },
    {
      "cell_type": "code",
      "metadata": {
        "id": "NYdYtYMKi2-D"
      },
      "source": [
        "def plot_result(estimator,result_df):\n",
        "    '''\n",
        "    estimator: \n",
        "        0 is for [\"Loss_ExcessRisk\",\"Loss_StdDev\"]\n",
        "        1 is for [\"Error_Mean\",\"Error_Mean\"]\n",
        "    result_df:\n",
        "        result table above\n",
        "    \n",
        "    '''\n",
        "    if estimator==0:\n",
        "        col=[\"Loss_ExcessRisk\",\"Loss_StdDev\"]\n",
        "    else:\n",
        "        col=[\"Error_Mean\",\"Error_Mean\"]\n",
        "        \n",
        "    fig=plt.figure(figsize=(16,10))\n",
        "    index=0\n",
        "    for senario in [1,2]:\n",
        "        for sigma in [0.1,0.35]:\n",
        "            index += 1\n",
        "            plt.subplot(2,2,index)\n",
        "            df=result_df[np.logical_and(result_df[\"Scenario\"]==senario,result_df[\"sigma\"]==sigma)]\n",
        "            excess_risk,excess_risk_var = df[col[0]],df[col[1]]\n",
        "\n",
        "            plt.plot(train_bs, excess_risk, '-o', label=col[0])\n",
        "            plt.errorbar(train_bs, excess_risk, excess_risk_var)\n",
        "\n",
        "            plt.xlabel(\"N\",fontsize=12)\n",
        "            plt.xticks(fontsize=12)\n",
        "            plt.ylabel(\"Risk\",fontsize=12)\n",
        "            plt.yticks(fontsize=12)\n",
        "            plt.title(\"Scenario \"+str(senario)+\", Sigma=\"+str(sigma),fontsize=15) \n",
        "    fig.legend(col,loc=\"upper right\",fontsize=13)\n",
        "    plt.tight_layout()\n",
        "    plt.show()"
      ],
      "execution_count": null,
      "outputs": []
    },
    {
      "cell_type": "markdown",
      "metadata": {
        "id": "LFfG6N4ri2-D"
      },
      "source": [
        "##### Plot excess risk"
      ]
    },
    {
      "cell_type": "code",
      "metadata": {
        "id": "IjXrdqjsi2-D",
        "outputId": "057083db-b341-4312-fa22-b4276982fb3d"
      },
      "source": [
        "plot_result(0,result_df)"
      ],
      "execution_count": null,
      "outputs": [
        {
          "output_type": "display_data",
          "data": {
            "image/png": "[encoded data removed]",
            "text/plain": [
              "<matplotlib.figure.Figure at 0x11c7e27f0>"
            ]
          },
          "metadata": {
            "tags": []
          }
        }
      ]
    },
    {
      "cell_type": "markdown",
      "metadata": {
        "id": "xTAnpHKcoI1N"
      },
      "source": [
        "##### Plot classification error"
      ]
    },
    {
      "cell_type": "code",
      "metadata": {
        "id": "HFdxVESki2-D",
        "outputId": "92fe5480-a478-4119-c22d-5892ca6b0e82"
      },
      "source": [
        "plot_result(1,result_df)"
      ],
      "execution_count": null,
      "outputs": [
        {
          "output_type": "display_data",
          "data": {
            "image/png": "[encoded data removed]",
            "text/plain": [
              "<matplotlib.figure.Figure at 0x11c615ba8>"
            ]
          },
          "metadata": {
            "tags": []
          }
        }
      ]
    },
    {
      "cell_type": "code",
      "metadata": {
        "id": "1Ro2SHSbi2-D"
      },
      "source": [
        ""
      ],
      "execution_count": null,
      "outputs": []
    },
    {
      "cell_type": "code",
      "metadata": {
        "id": "xi4K7u7Di2-D"
      },
      "source": [
        ""
      ],
      "execution_count": null,
      "outputs": []
    }
  ]
}