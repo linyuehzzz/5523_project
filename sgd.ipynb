{
  "nbformat": 4,
  "nbformat_minor": 0,
  "metadata": {
    "colab": {
      "name": "sgd.ipynb",
      "provenance": [],
      "collapsed_sections": [],
      "toc_visible": true,
      "authorship_tag": "ABX9TyOts6RKoxR7ZYG6OCv4Vffq",
      "include_colab_link": true
    },
    "kernelspec": {
      "name": "python3",
      "display_name": "Python 3"
    }
  },
  "cells": [
    {
      "cell_type": "markdown",
      "metadata": {
        "id": "view-in-github",
        "colab_type": "text"
      },
      "source": [
        "<a href=\"https://colab.research.google.com/github/linyuehzzz/5523_project/blob/main/sgd.ipynb\" target=\"_parent\"><img src=\"https://colab.research.google.com/assets/colab-badge.svg\" alt=\"Open In Colab\"/></a>"
      ]
    },
    {
      "cell_type": "markdown",
      "metadata": {
        "id": "FlILGcNEEW0E"
      },
      "source": [
        "##**Stochastic Gradient Descent for Logistic Regression**\n",
        "This code implements and tests the SGD algorithm for logistic regression\n",
        "in different scenarios.  \n",
        "Yifei Zhang (zhang.5387 at osu edu), Yue Lin (lin.3326 at osu.edu)  \n",
        "Created: 11/12/2020"
      ]
    },
    {
      "cell_type": "markdown",
      "metadata": {
        "id": "qGQmKFIeFYKY"
      },
      "source": [
        "#### **Set up libraries**"
      ]
    },
    {
      "cell_type": "code",
      "metadata": {
        "id": "BUex5ElWFaHO"
      },
      "source": [
        "import numpy as np\n",
        "import random\n",
        "import matplotlib.pyplot as plt"
      ],
      "execution_count": 417,
      "outputs": []
    },
    {
      "cell_type": "markdown",
      "metadata": {
        "id": "YXnNnylopljK"
      },
      "source": [
        "#### **Project**"
      ]
    },
    {
      "cell_type": "markdown",
      "metadata": {
        "id": "MzHKV3T7pvFo"
      },
      "source": [
        "##### Projection function for hypercube"
      ]
    },
    {
      "cell_type": "code",
      "metadata": {
        "id": "9ewruRRFp0kP"
      },
      "source": [
        "def cube_prj(sample):\n",
        "  '''\n",
        "  input: a sample with d dimension (1-D array or list)\n",
        "  onput: the euclidean projection of sample\n",
        "  '''\n",
        "  return [np.sign(i) * min(np.abs(i), 1) for i in sample]"
      ],
      "execution_count": 418,
      "outputs": []
    },
    {
      "cell_type": "markdown",
      "metadata": {
        "id": "9mrnAQvYqI8q"
      },
      "source": [
        "##### Projection function for unit ball"
      ]
    },
    {
      "cell_type": "code",
      "metadata": {
        "id": "kyUbRJAKqRsd"
      },
      "source": [
        "def ball_prj(sample):\n",
        "    '''\n",
        "    input: a sample with d dimension (1-D array or list)\n",
        "    onput: the euclidean projection of sample\n",
        "    '''\n",
        "    ratio = 1 / np.linalg.norm(sample)\n",
        "    return [i * ratio for i in sample]"
      ],
      "execution_count": 419,
      "outputs": []
    },
    {
      "cell_type": "markdown",
      "metadata": {
        "id": "eZXfvRgKqXV2"
      },
      "source": [
        "##### Project data"
      ]
    },
    {
      "cell_type": "code",
      "metadata": {
        "id": "6dwzkd6WqW7X"
      },
      "source": [
        "def prj_data(x, y, prj_code):\n",
        "    '''\n",
        "    This function is for conduct projection on data array\n",
        "    x: n*d array (n is sample#, d is dimension)\n",
        "    y: 1-d array with label of -1 or +1\n",
        "    prj_code: type of projection, 0 for cube, 1 for ball\n",
        "    return:\n",
        "        prj_x: projected x \n",
        "        y: same as input\n",
        "    '''\n",
        "    if prj_code == 0:\n",
        "        prj_x = np.apply_along_axis(cube_prj, 1, x)\n",
        "    elif prj_code == 1:\n",
        "        prj_x = np.apply_along_axis(ball_prj, 1, x)\n",
        "    else:\n",
        "        print(\"Please input correct code for projection type: 0 for cube, 1 for ball\")\n",
        "      \n",
        "    b = np.ones((prj_x.shape[0], 1))\n",
        "    prj_x = np.append(prj_x, b, axis=1)\n",
        "    return prj_x, y"
      ],
      "execution_count": 420,
      "outputs": []
    },
    {
      "cell_type": "markdown",
      "metadata": {
        "id": "eiUQqYKLvAuY"
      },
      "source": [
        "##### Project gradient"
      ]
    },
    {
      "cell_type": "code",
      "metadata": {
        "id": "6ThWld5kvaBT"
      },
      "source": [
        "def prj_grad(g, prj_code):\n",
        "    '''\n",
        "    This function is for conduct projection on gradients\n",
        "    g: 1-d array (d is dimension)\n",
        "    prj_code: type of projection, 0 for cube, 1 for ball\n",
        "    return:\n",
        "        prj_g: projected gradient\n",
        "    '''\n",
        "    if prj_code == 0:\n",
        "        prj_g = cube_prj(g)\n",
        "    elif prj_code == 1:\n",
        "        prj_g = ball_prj(g)\n",
        "    else:\n",
        "        print(\"Please input correct code for projection type: 0 for cube, 1 for ball\")\n",
        "    return prj_g"
      ],
      "execution_count": 421,
      "outputs": []
    },
    {
      "cell_type": "markdown",
      "metadata": {
        "id": "tu0jhwwRF5ls"
      },
      "source": [
        "#### **Prepare data**"
      ]
    },
    {
      "cell_type": "code",
      "metadata": {
        "id": "yMDzFiFcrsg8"
      },
      "source": [
        "def gen_data(sig, n):\n",
        "    '''\n",
        "    The function is to generate data for training and testing\n",
        "    The feature array is 4 dimension array. \n",
        "     + Each feature follows the Normal distribution(mu,sig)\n",
        "     + with probability 1/2, the y =1 , \n",
        "         generate the correspoinding feature vector from N(mu,sig),mu is [1/4,1/4,1/4,1/4],sig is set as you need.\n",
        "    sig: the sigma of  gussian vector\n",
        "    n: the sample number\n",
        "    \n",
        "    Return:\n",
        "     x: n*d_dimension array\n",
        "     y: 1-d dimension array with -1 and +1\n",
        "    '''\n",
        "    d_dimension = 4\n",
        "    y = np.random.choice([-1, 1], p = [0.5, 0.5], size = n)\n",
        "    x = np.array([])\n",
        "    for i in range(n):\n",
        "        if y[i] == -1:\n",
        "            mu = -(1 / 4)\n",
        "            negvec = np.random.normal(mu, sig, d_dimension)\n",
        "            x = np.concatenate([x, negvec], axis=0)\n",
        "        else:\n",
        "            mu = (1/4)\n",
        "            posvec = np.random.normal(mu, sig, d_dimension)\n",
        "            x = np.concatenate([x,posvec], axis=0)\n",
        "    x = np.reshape(x, (n, d_dimension))\n",
        "    return x, y"
      ],
      "execution_count": 422,
      "outputs": []
    },
    {
      "cell_type": "markdown",
      "metadata": {
        "id": "aAzwTZ79M6oi"
      },
      "source": [
        "#### **Train**\n",
        "https://machinelearningmastery.com/implement-logistic-regression-stochastic-gradient-descent-scratch-python/"
      ]
    },
    {
      "cell_type": "markdown",
      "metadata": {
        "id": "s8XQyQ8Ycqpo"
      },
      "source": [
        "##### Predict using logistic regression"
      ]
    },
    {
      "cell_type": "code",
      "metadata": {
        "id": "dzPxwbmIM6NU"
      },
      "source": [
        "# Make a prediction with coefficients\n",
        "def pred(X, w):\n",
        "  yhat = 0.\n",
        "  for i in range(X.shape[0]):\n",
        "    yhat += w[i] * X[i]\n",
        "  yhat = 1.0 / (1.0 + np.exp(-yhat))\n",
        "  if yhat < 0.5:\n",
        "    yhat = -1\n",
        "  else:\n",
        "    yhat = 1 \n",
        "  return yhat"
      ],
      "execution_count": 423,
      "outputs": []
    },
    {
      "cell_type": "markdown",
      "metadata": {
        "id": "iJfOdxzt4M5T"
      },
      "source": [
        "##### Estimate logistic loss"
      ]
    },
    {
      "cell_type": "code",
      "metadata": {
        "id": "q_3nPdw4BJV0"
      },
      "source": [
        "def log_loss(X, y, w):\n",
        "  return np.log(1 + np.exp(-y * np.dot(w.T, X)))"
      ],
      "execution_count": 424,
      "outputs": []
    },
    {
      "cell_type": "markdown",
      "metadata": {
        "id": "mnfgixZxQqvj"
      },
      "source": [
        "##### Estimate classification error"
      ]
    },
    {
      "cell_type": "code",
      "metadata": {
        "id": "DZdcop9KQuGF"
      },
      "source": [
        "def err(yhat, y):\n",
        "  if yhat == y:\n",
        "    return 0\n",
        "  else:\n",
        "    return 1"
      ],
      "execution_count": 425,
      "outputs": []
    },
    {
      "cell_type": "markdown",
      "metadata": {
        "id": "lE93wIbQc9Is"
      },
      "source": [
        "##### Estimate weight vector using SGD"
      ]
    },
    {
      "cell_type": "code",
      "metadata": {
        "id": "Jb_QkJsIc8Vh"
      },
      "source": [
        "def train_sgd(train_x, train_y, test_x, test_y, l_rate, n_epoch, bs, prj_code):\n",
        "  w = np.random.uniform(-1, 1, (train_x.shape[1]))\n",
        "  risk_all = np.zeros(n_epoch)\n",
        "  cls_err_all = np.zeros(n_epoch)\n",
        "\n",
        "  for epoch in range(n_epoch):\n",
        "    risk = cls_err = grad = 0.\n",
        "    for idx in range(epoch * bs, (epoch + 1) * bs):\n",
        "      # Read data\n",
        "      X = train_x[idx]\n",
        "      y = train_y[idx]\n",
        "      # Calculate gradient\n",
        "      g = (-y * X * np.exp(-y * np.dot(w.T, X)) / (1 + np.exp(-y * np.dot(w.T, X))))\n",
        "      grad += g\n",
        "\n",
        "    # Project gradient\n",
        "    grad = prj_grad(grad / bs, prj_code)\n",
        "    # Backward propagation\n",
        "    w = np.add(w, np.multiply(-l_rate, grad))\n",
        "    \n",
        "    # Evaluate\n",
        "    for idx in range(test_x.shape[0]):\n",
        "      # Read data\n",
        "      X = test_x[idx]\n",
        "      y = test_y[idx]\n",
        "      # Predict\n",
        "      yhat = pred(X, w)\n",
        "      # Evaluate\n",
        "      risk += log_loss(X, y, w) / test_x.shape[0]\n",
        "      cls_err += err(yhat, y) / test_x.shape[0]\n",
        "    \n",
        "    risk_all = np.append(risk_all, risk)\n",
        "    cls_err_all = np.append(cls_err_all, cls_err)\n",
        "    # print('>epoch=%d, lrate=%.3f, risk=%.3f, classification error=%.3f' % (epoch, l_rate, risk, cls_err))\n",
        "  \n",
        "  # Report risk\n",
        "  risk_ave = np.average(risk_all)\n",
        "  risk_min = np.amin(risk_all)\n",
        "  risk_var = np.var(risk_all)\n",
        "  exp_excess_risk = risk_ave - risk_min\n",
        "  # Report classification error\n",
        "  cls_err_ave = np.average(cls_err_all)\n",
        "  cls_err_var = np.var(cls_err_all)\n",
        "  return [w, risk_ave, risk_min, risk_var, exp_excess_risk, cls_err_ave, cls_err_var]"
      ],
      "execution_count": 426,
      "outputs": []
    },
    {
      "cell_type": "markdown",
      "metadata": {
        "id": "q3SH2Dm7d71V"
      },
      "source": [
        "#### **Wrapper**"
      ]
    },
    {
      "cell_type": "markdown",
      "metadata": {
        "id": "C0-3MK6Pk7mU"
      },
      "source": [
        "##### Generate data and train"
      ]
    },
    {
      "cell_type": "code",
      "metadata": {
        "id": "iJ68DlKXd6rP",
        "outputId": "6d1a8065-33fd-4acf-be9e-ca1fbff3a084",
        "colab": {
          "base_uri": "https://localhost:8080/"
        }
      },
      "source": [
        "# Fixed hyperparameters\n",
        "n_epoch = 30    # training epochs\n",
        "test_n = 400    # size of test set\n",
        "\n",
        "# Unfixed hyperparameters\n",
        "prj_code = 1    # code for two scenario: 0 for cube, 1 for ball\n",
        "l_rate = 0.04  # learning rate: 0.04 for cube, 0.18 for ball\n",
        "train_bs = np.array([50, 100, 500, 1000])   # batch size for each training epoch\n",
        "sigma = 0.1     # variance of Gaussian distribution\n",
        "\n",
        "np.random.seed(0)\n",
        "\n",
        "excess_risk = []\n",
        "cls_error = []\n",
        "\n",
        "for bs in train_bs:\n",
        "  # Generate training data\n",
        "  train_x, train_y = gen_data(sigma, bs * n_epoch)\n",
        "  train_px, train_py = prj_data(train_x, train_y, prj_code)\n",
        "\n",
        "  # Generate test data\n",
        "  test_x, test_y = gen_data(sigma, test_n)\n",
        "  test_px, test_py = prj_data(test_x, test_y, prj_code)\n",
        "\n",
        "  # Train\n",
        "  output = train_sgd(train_px, train_py, test_px, test_py, l_rate, n_epoch, bs, prj_code)\n",
        "  print(output)\n",
        "  print('>scenario=%d, sigma=%.2f, n=%d, log_loss_mean=%.3f, log_loss_std_dev=%.3f, log_loss_min=%.3f, \\\n",
        "        excess_risk=%.3f, cls_error_mean=%.3f, cls_error_std_dev=%.3f' \n",
        "        % (prj_code+1, sigma, bs, output[1], output[3], output[2], output[4], output[5], output[6]))\n",
        "  \n",
        "  excess_risk = np.append(excess_risk, output[4], axis=None)\n",
        "  cls_error = np.append(cls_error, output[5],  axis=None)"
      ],
      "execution_count": 427,
      "outputs": [
        {
          "output_type": "stream",
          "text": [
            "[array([ 1.24843322,  1.43596784,  1.35377148, -0.3138855 ,  0.2992243 ]), 0.14773302024606283, 0.0, 0.025500772174598854, 0.14773302024606283, 0.01708333333333334, 0.0018658680555555572]\n",
            ">scenario=2, sigma=0.10, n=50, log_loss_mean=0.148, log_loss_std_dev=0.026, log_loss_min=0.000,         excess_risk=0.148, cls_error_mean=0.017, cls_error_std_dev=0.002\n",
            "[array([-0.02797822,  1.11189753,  0.68490599,  0.35741401,  0.09121464]), 0.25724598758925993, 0.0, 0.07455191716946045, 0.25724598758925993, 0.07558333333333331, 0.026334868055555512]\n",
            ">scenario=2, sigma=0.10, n=100, log_loss_mean=0.257, log_loss_std_dev=0.075, log_loss_min=0.000,         excess_risk=0.257, cls_error_mean=0.076, cls_error_std_dev=0.026\n",
            "[array([-0.02607736,  0.84896602,  0.52668798,  0.44797691,  0.26493745]), 0.29586059666010234, 0.0, 0.09817218428174751, 0.29586059666010234, 0.1460833333333334, 0.046697576388888905]\n",
            ">scenario=2, sigma=0.10, n=500, log_loss_mean=0.296, log_loss_std_dev=0.098, log_loss_min=0.000,         excess_risk=0.296, cls_error_mean=0.146, cls_error_std_dev=0.047\n",
            "[array([-0.03710533,  0.36840007,  0.85048324,  0.84240897,  0.2011087 ]), 0.26491121258900724, 0.0, 0.07900018726125183, 0.26491121258900724, 0.10187500000000009, 0.03162242187500004]\n",
            ">scenario=2, sigma=0.10, n=1000, log_loss_mean=0.265, log_loss_std_dev=0.079, log_loss_min=0.000,         excess_risk=0.265, cls_error_mean=0.102, cls_error_std_dev=0.032\n"
          ],
          "name": "stdout"
        }
      ]
    },
    {
      "cell_type": "markdown",
      "metadata": {
        "id": "saT_I5DNk0rq"
      },
      "source": [
        "##### Plot excess risk"
      ]
    },
    {
      "cell_type": "code",
      "metadata": {
        "id": "dkARytwCk0Zj",
        "outputId": "a60551a2-3ab5-4776-f7d7-62edd66d15bc",
        "colab": {
          "base_uri": "https://localhost:8080/",
          "height": 297
        }
      },
      "source": [
        "plt.plot(train_bs, excess_risk, '-o', label='Excess risk')\n",
        "plt.legend()\n",
        "plt.tight_layout()\n",
        "plt.show()"
      ],
      "execution_count": 428,
      "outputs": [
        {
          "output_type": "display_data",
          "data": {
            "image/png": "[encoded data removed]",
            "text/plain": [
              "<Figure size 432x288 with 1 Axes>"
            ]
          },
          "metadata": {
            "tags": [],
            "needs_background": "light"
          }
        }
      ]
    },
    {
      "cell_type": "markdown",
      "metadata": {
        "id": "xTAnpHKcoI1N"
      },
      "source": [
        "##### Plot classification error"
      ]
    },
    {
      "cell_type": "code",
      "metadata": {
        "id": "HIBfEnVRoMgT",
        "outputId": "fab0131a-9cc1-4ae2-b947-962f79533a6e",
        "colab": {
          "base_uri": "https://localhost:8080/",
          "height": 297
        }
      },
      "source": [
        "plt.plot(train_bs, cls_error, '-o', label='Classification error')\n",
        "plt.legend()\n",
        "plt.tight_layout()\n",
        "plt.show()"
      ],
      "execution_count": 429,
      "outputs": [
        {
          "output_type": "display_data",
          "data": {
            "image/png": "[encoded data removed]",
            "text/plain": [
              "<Figure size 432x288 with 1 Axes>"
            ]
          },
          "metadata": {
            "tags": [],
            "needs_background": "light"
          }
        }
      ]
    }
  ]
}