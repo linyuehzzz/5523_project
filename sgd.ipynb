{
  "nbformat": 4,
  "nbformat_minor": 0,
  "metadata": {
    "colab": {
      "name": "sgd.ipynb",
      "provenance": [],
      "collapsed_sections": [],
      "toc_visible": true,
      "authorship_tag": "ABX9TyNu+k/KOzS8k/ERGP0+1bwM",
      "include_colab_link": true
    },
    "kernelspec": {
      "name": "python3",
      "display_name": "Python 3"
    }
  },
  "cells": [
    {
      "cell_type": "markdown",
      "metadata": {
        "id": "view-in-github",
        "colab_type": "text"
      },
      "source": [
        "<a href=\"https://colab.research.google.com/github/linyuehzzz/5523_project/blob/main/sgd.ipynb\" target=\"_parent\"><img src=\"https://colab.research.google.com/assets/colab-badge.svg\" alt=\"Open In Colab\"/></a>"
      ]
    },
    {
      "cell_type": "markdown",
      "metadata": {
        "id": "FlILGcNEEW0E"
      },
      "source": [
        "##**Stochastic Gradient Descent for Logistic Regression**\n",
        "This code implements and tests the SGD algorithm for logistic regression\n",
        "in different scenarios.  \n",
        "Yifei Zhang (zhang.5387 at osu edu), Yue Lin (lin.3326 at osu.edu)  \n",
        "Created: 11/12/2020"
      ]
    },
    {
      "cell_type": "markdown",
      "metadata": {
        "id": "qGQmKFIeFYKY"
      },
      "source": [
        "#### **Set up libraries**"
      ]
    },
    {
      "cell_type": "code",
      "metadata": {
        "id": "BUex5ElWFaHO"
      },
      "source": [
        "import numpy as np\n",
        "import random\n",
        "import matplotlib.pyplot as plt\n",
        "import pandas as pd"
      ],
      "execution_count": null,
      "outputs": []
    },
    {
      "cell_type": "markdown",
      "metadata": {
        "id": "YXnNnylopljK"
      },
      "source": [
        "#### **Project**"
      ]
    },
    {
      "cell_type": "markdown",
      "metadata": {
        "id": "MzHKV3T7pvFo"
      },
      "source": [
        "##### Projection function for hypercube"
      ]
    },
    {
      "cell_type": "code",
      "metadata": {
        "id": "9ewruRRFp0kP"
      },
      "source": [
        "def cube_prj(sample):\n",
        "    '''\n",
        "    This function projects both domain and parameter sets to a hypercube.\n",
        "\n",
        "    sample: features or gradients, 1*d array (d: #dimension)\n",
        "\n",
        "    return: \n",
        "        the projected vector onto a hypercube with edge length 2 and centered around the origin\n",
        "    '''\n",
        "    return [np.sign(i) * min(np.abs(i), 1) for i in sample]"
      ],
      "execution_count": null,
      "outputs": []
    },
    {
      "cell_type": "markdown",
      "metadata": {
        "id": "9mrnAQvYqI8q"
      },
      "source": [
        "##### Projection function for unit ball"
      ]
    },
    {
      "cell_type": "code",
      "metadata": {
        "id": "kyUbRJAKqRsd"
      },
      "source": [
        "def ball_prj(sample):\n",
        "    '''\n",
        "    This function projects both domain and parameter sets to a unit ball.\n",
        "\n",
        "    sample: features or gradients, 1*d array (d: #dimension)\n",
        "\n",
        "    return: \n",
        "        the projected vector onto a unit ball centered around the origin\n",
        "    '''\n",
        "    if np.linalg.norm(sample, ord=2) > 1:\n",
        "        return sample / np.linalg.norm(sample, ord=2)\n",
        "    else:\n",
        "        return sample"
      ],
      "execution_count": null,
      "outputs": []
    },
    {
      "cell_type": "markdown",
      "metadata": {
        "id": "eZXfvRgKqXV2"
      },
      "source": [
        "##### Project data"
      ]
    },
    {
      "cell_type": "code",
      "metadata": {
        "id": "6dwzkd6WqW7X"
      },
      "source": [
        "def prj_data(x, y, prj_code):\n",
        "    '''\n",
        "    This function projects the domain set in terms for two scenarios.\n",
        "\n",
        "    X: feature vectors, n*d array (n: #sample, d: #dimension)\n",
        "    y: labels, 1*n array with values of -1 or +1\n",
        "    prj_code: type of projection, 0 for cube, 1 for ball\n",
        "\n",
        "    return:\n",
        "        prj_x: projected feature vectors \n",
        "        y: labels, same as the input\n",
        "    '''\n",
        "    if prj_code == 0:\n",
        "        prj_x = np.apply_along_axis(cube_prj, 1, x)\n",
        "    elif prj_code == 1:\n",
        "        prj_x = np.apply_along_axis(ball_prj, 1, x)\n",
        "    else:\n",
        "        print(\"Please input correct code for projection type: 0 for cube, 1 for ball\")\n",
        "      \n",
        "    b = np.ones((prj_x.shape[0], 1))\n",
        "    prj_x = np.append(prj_x, b, axis=1)\n",
        "    return prj_x, y"
      ],
      "execution_count": null,
      "outputs": []
    },
    {
      "cell_type": "markdown",
      "metadata": {
        "id": "eiUQqYKLvAuY"
      },
      "source": [
        "##### Project gradient"
      ]
    },
    {
      "cell_type": "code",
      "metadata": {
        "id": "6ThWld5kvaBT"
      },
      "source": [
        "def prj_grad(g, prj_code):\n",
        "    '''\n",
        "    This function projects the parameter set for two scenarios.\n",
        "\n",
        "    g: gradients, 1*d array (d: #dimension)\n",
        "    prj_code: type of projection, 0 for cube, 1 for ball\n",
        "\n",
        "    return:\n",
        "        prj_g: projected gradients\n",
        "    '''\n",
        "    if prj_code == 0:\n",
        "        prj_g = cube_prj(g)\n",
        "    elif prj_code == 1:\n",
        "        prj_g = ball_prj(g)\n",
        "    else:\n",
        "        print(\"Please input correct code for projection type: 0 for cube, 1 for ball\")\n",
        "    return prj_g"
      ],
      "execution_count": null,
      "outputs": []
    },
    {
      "cell_type": "markdown",
      "metadata": {
        "id": "tu0jhwwRF5ls"
      },
      "source": [
        "#### **Prepare data**"
      ]
    },
    {
      "cell_type": "code",
      "metadata": {
        "id": "yMDzFiFcrsg8"
      },
      "source": [
        "def gen_data(sig, n, d_dimension):\n",
        "    '''\n",
        "    This function generates the data for training and test.\n",
        "\n",
        "    sig: standard deviation of the Gaussian function\n",
        "    n: number of samples\n",
        "    d_dimension: dimensionality of the feature vectors\n",
        "    \n",
        "    Return:\n",
        "        X: feature vectors, n*d array (n: #sample, d: #dimension)\n",
        "        y: labels, 1*n array with values of -1 and +1\n",
        "    '''\n",
        "    # d_dimension = 4\n",
        "    y = np.random.choice([-1, 1], p = [0.5, 0.5], size = n)\n",
        "    x = np.array([])\n",
        "    for i in range(n):\n",
        "        if y[i] == -1:\n",
        "            mu = -(1 / 4)\n",
        "            negvec = np.random.normal(mu, sig, d_dimension)\n",
        "            x = np.concatenate([x, negvec], axis=0)\n",
        "        else:\n",
        "            mu = (1 / 4)\n",
        "            posvec = np.random.normal(mu, sig, d_dimension)\n",
        "            x = np.concatenate([x, posvec], axis=0)\n",
        "    x = np.reshape(x, (n, d_dimension))\n",
        "    return x, y"
      ],
      "execution_count": null,
      "outputs": []
    },
    {
      "cell_type": "markdown",
      "metadata": {
        "id": "aAzwTZ79M6oi"
      },
      "source": [
        "#### **Train**\n",
        "https://machinelearningmastery.com/implement-logistic-regression-stochastic-gradient-descent-scratch-python/"
      ]
    },
    {
      "cell_type": "markdown",
      "metadata": {
        "id": "iJfOdxzt4M5T"
      },
      "source": [
        "##### Estimate logistic loss"
      ]
    },
    {
      "cell_type": "code",
      "metadata": {
        "id": "q_3nPdw4BJV0"
      },
      "source": [
        "def log_loss(X, y, w):\n",
        "    '''\n",
        "    This function outputs the logistic loss.\n",
        "\n",
        "    X: feature vector, 1*d array (d: #dimension)\n",
        "    y: label\n",
        "    w: weight vector, 1*d array\n",
        "    \n",
        "    Return: logistic loss\n",
        "    '''\n",
        "    return np.log(1 + np.exp(-y * np.dot(w.T, X)))"
      ],
      "execution_count": null,
      "outputs": []
    },
    {
      "cell_type": "markdown",
      "metadata": {
        "id": "mnfgixZxQqvj"
      },
      "source": [
        "##### Estimate classification error"
      ]
    },
    {
      "cell_type": "code",
      "metadata": {
        "id": "DZdcop9KQuGF"
      },
      "source": [
        "def err(X, y, w):\n",
        "    '''\n",
        "    This function outputs the classification error.\n",
        "\n",
        "    X: feature vector, 1*d array (d: #dimension)\n",
        "    y: label\n",
        "    w: weight vector, 1*d array\n",
        "    \n",
        "    Return: classification error\n",
        "    '''\n",
        "    yhat = -1 if np.dot(w.T, X) < 0.5 else 1\n",
        "    return 0 if yhat == y else 1"
      ],
      "execution_count": null,
      "outputs": []
    },
    {
      "cell_type": "markdown",
      "metadata": {
        "id": "XsiXCaLYCn6n"
      },
      "source": [
        "##### SGD"
      ]
    },
    {
      "cell_type": "code",
      "metadata": {
        "id": "O2-5n_kwCnth"
      },
      "source": [
        "def sdg(train_x, train_y):\n",
        "    '''\n",
        "    train_x: feature vectors one batch\n",
        "    train_y: lables in one batch\n",
        "    return: \n",
        "            w: weight vector trained on one batch\n",
        "    '''\n",
        "    w_all = []\n",
        "    w_t = np.zeros(train_x.shape[1])\n",
        "    for idx in range(train_x.shape[0]):\n",
        "        # Read data\n",
        "        X = train_x[idx]\n",
        "        y = train_y[idx]\n",
        "        w_t = np.array(w_t)\n",
        "        # Calculate gradient\n",
        "        g = (-y * X * np.exp(-y * np.dot(w_t.T, X)) / (1 + np.exp(-y * np.dot(w_t.T, X))))\n",
        "        # Project gradient\n",
        "        w_t = prj_grad(np.add(w_t, np.multiply(-l_rate, g)), prj_code)\n",
        "        # Backward propagation\n",
        "        w_all.append(w_t)\n",
        "    return np.average(np.array(w_all), axis=0)"
      ],
      "execution_count": null,
      "outputs": []
    },
    {
      "cell_type": "markdown",
      "metadata": {
        "id": "lE93wIbQc9Is"
      },
      "source": [
        "##### Estimate weight vector using SGD"
      ]
    },
    {
      "cell_type": "code",
      "metadata": {
        "id": "Jb_QkJsIc8Vh"
      },
      "source": [
        "def train(train_x, train_y, test_x, test_y, l_rate, n_epoch, bs, prj_code):\n",
        "    '''\n",
        "    This function implements and tests the SGD algorithm for logistic regression.\n",
        "\n",
        "    train_x: feature vectors for training, n*d array (n: #sample, d: #dimension)\n",
        "    train_y: labels for training, 1*n array\n",
        "    test_x: feature vectors for test, n*d array (n: #sample, d: #dimension)\n",
        "    test_y: labels for test, 1*n array\n",
        "    l_rate: learning rate\n",
        "    n_epoch: number of trials\n",
        "    bs: training set size\n",
        "    prj_code: type of projection, 0 for cube, 1 for ball\n",
        "    \n",
        "    Return: \n",
        "        w: final weights\n",
        "        risk_ave: average risk\n",
        "        risk_min: minimum of all risks\n",
        "        risk_var: standard deviation of all risks\n",
        "        exp_excess_risk: expected excess risk\n",
        "        cls_err_ave: average classification error\n",
        "        cls_err_var: standard deviation of all classification errors\n",
        "    '''\n",
        "    risk_all = []\n",
        "    cls_err_all = []\n",
        "\n",
        "    for epoch in range(n_epoch):\n",
        "        risk = cls_err = 0.\n",
        "        train_x0 = train_x[epoch * bs: (epoch + 1) * bs] ## use current batch to for trainning\n",
        "        train_y0 = train_y[epoch * bs: (epoch + 1) * bs] ## use current batch to for trainning\n",
        "        w = sdg(train_x0, train_y0)\n",
        "    \n",
        "        # Evaluate\n",
        "        for idx in range(test_x.shape[0]):\n",
        "            # Read data\n",
        "            X = test_x[idx]\n",
        "            y = test_y[idx]\n",
        "            # Evaluate\n",
        "            risk += log_loss(X, y, w) / test_x.shape[0]\n",
        "            cls_err += err(X, y, w) / test_x.shape[0]\n",
        "    \n",
        "        risk_all = np.append(risk_all, risk)\n",
        "        cls_err_all = np.append(cls_err_all, cls_err)\n",
        "        # print('>epoch=%d, lrate=%.3f, risk=%.3f, classification error=%.3f' % (epoch, l_rate, risk, cls_err))\n",
        "  \n",
        "    # Report risk\n",
        "    # print(risk_all, cls_err_all)\n",
        "    risk_ave = np.average(risk_all)\n",
        "    risk_min = np.amin(risk_all)\n",
        "    risk_var = np.sqrt(np.var(risk_all))\n",
        "    exp_excess_risk = risk_ave - risk_min\n",
        "    # Report classification error\n",
        "    cls_err_ave = np.average(cls_err_all)\n",
        "    cls_err_var = np.sqrt(np.var(cls_err_all))\n",
        "    return [w, risk_ave, risk_min, risk_var, exp_excess_risk, cls_err_ave, cls_err_var]"
      ],
      "execution_count": null,
      "outputs": []
    },
    {
      "cell_type": "markdown",
      "metadata": {
        "id": "q3SH2Dm7d71V"
      },
      "source": [
        "#### **Wrapper test**"
      ]
    },
    {
      "cell_type": "markdown",
      "metadata": {
        "id": "C0-3MK6Pk7mU"
      },
      "source": [
        "##### Generate data and train"
      ]
    },
    {
      "cell_type": "code",
      "metadata": {
        "id": "iJ68DlKXd6rP",
        "colab": {
          "base_uri": "https://localhost:8080/"
        },
        "outputId": "8d6fe255-8ec1-4ac8-ebeb-ed4077efe60e"
      },
      "source": [
        "# Fixed hyperparameters\n",
        "n_epoch = 30    # training epochs\n",
        "test_n = 400    # size of test set\n",
        "\n",
        "# Unfixed hyperparameters\n",
        "prj_code = 0    # code for two scenario: 0 for cube, 1 for ball\n",
        "l_rate = 0.16  # learning rate: 0.04 for cube, 0.18 for ball\n",
        "train_bs = np.array([50, 100, 500, 1000])   # batch size for each training epoch\n",
        "sigma = 0.1     # variance of Gaussian distribution\n",
        "d_dimension = 4\n",
        "\n",
        "# np.random.seed(0)\n",
        "\n",
        "excess_risk = []\n",
        "cls_error = []\n",
        "excess_risk_var = []\n",
        "cls_error_var = []\n",
        "\n",
        "for bs in train_bs:\n",
        "    # Generate training data\n",
        "    train_x, train_y = gen_data(sigma, bs * n_epoch, d_dimension)\n",
        "    train_px, train_py = prj_data(train_x, train_y, prj_code)\n",
        "\n",
        "    # Generate test data\n",
        "    test_x, test_y = gen_data(sigma, test_n, d_dimension)\n",
        "    test_px, test_py = prj_data(test_x, test_y, prj_code)\n",
        "\n",
        "    # Train\n",
        "    output = train(train_px, train_py, test_px, test_py, l_rate, n_epoch, bs, prj_code)\n",
        "    print(output)\n",
        "    print('>scenario=%d, sigma=%.2f, n=%d, log_loss_mean=%.3f, log_loss_std_dev=%.3f, log_loss_min=%.3f, \\\n",
        "            excess_risk=%.3f, cls_error_mean=%.3f, cls_error_std_dev=%.3f' \n",
        "            % (prj_code+1, sigma, bs, output[1], output[3], output[2], output[4], output[5], output[6]))\n",
        "    \n",
        "    excess_risk = np.append(excess_risk, output[4], axis=None)\n",
        "    cls_error = np.append(cls_error, output[5],  axis=None)\n",
        "    excess_risk_var = np.append(excess_risk_var, output[3], axis=None)\n",
        "    cls_error_var = np.append(cls_error_var, output[6],  axis=None)"
      ],
      "execution_count": null,
      "outputs": [
        {
          "output_type": "stream",
          "text": [
            "[array([0.43409094, 0.42690314, 0.42699114, 0.39099351, 0.39206856]), 0.5049026883798923, 0.4908381595110121, 0.011539563208869036, 0.014064528868880155, 0.3305833333333333, 0.20468439459052282]\n",
            ">scenario=1, sigma=0.10, n=50, log_loss_mean=0.505, log_loss_std_dev=0.012, log_loss_min=0.491,             excess_risk=0.014, cls_error_mean=0.331, cls_error_std_dev=0.205\n",
            "[array([0.64968103, 0.71911413, 0.66553032, 0.70843714, 0.00236606]), 0.40478100556920665, 0.3952899506549751, 0.007145041602516374, 0.009491054914231578, 0.061666666666666696, 0.0893619357196092]\n",
            ">scenario=1, sigma=0.10, n=100, log_loss_mean=0.405, log_loss_std_dev=0.007, log_loss_min=0.395,             excess_risk=0.009, cls_error_mean=0.062, cls_error_std_dev=0.089\n",
            "[array([ 0.94485908,  0.93742797,  0.94765835,  0.93511143, -0.0088307 ]), 0.3379285216656365, 0.33627774576982455, 0.0013192143276518796, 0.0016507758958119734, 0.003916666666666667, 0.006044395935262862]\n",
            ">scenario=1, sigma=0.10, n=500, log_loss_mean=0.338, log_loss_std_dev=0.001, log_loss_min=0.336,             excess_risk=0.002, cls_error_mean=0.004, cls_error_std_dev=0.006\n",
            "[array([0.97016038, 0.96688358, 0.96986457, 0.96395837, 0.1230832 ]), 0.31875089048119964, 0.3178477618296948, 0.0006162143257985382, 0.0009031286515048254, 0.0013333333333333333, 0.003912231531435168]\n",
            ">scenario=1, sigma=0.10, n=1000, log_loss_mean=0.319, log_loss_std_dev=0.001, log_loss_min=0.318,             excess_risk=0.001, cls_error_mean=0.001, cls_error_std_dev=0.004\n"
          ],
          "name": "stdout"
        }
      ]
    },
    {
      "cell_type": "markdown",
      "metadata": {
        "id": "saT_I5DNk0rq"
      },
      "source": [
        "##### Plot excess risk"
      ]
    },
    {
      "cell_type": "code",
      "metadata": {
        "id": "dkARytwCk0Zj",
        "colab": {
          "base_uri": "https://localhost:8080/",
          "height": 297
        },
        "outputId": "acbd349f-1004-4663-eb0f-6904456b1523"
      },
      "source": [
        "plt.plot(train_bs, excess_risk, '-o', label='Excess risk')\n",
        "plt.errorbar(train_bs, excess_risk, excess_risk_var)\n",
        "plt.legend()\n",
        "plt.tight_layout()\n",
        "plt.show()"
      ],
      "execution_count": null,
      "outputs": [
        {
          "output_type": "display_data",
          "data": {
            "image/png": "[encoded data removed]",
            "text/plain": [
              "<Figure size 432x288 with 1 Axes>"
            ]
          },
          "metadata": {
            "tags": [],
            "needs_background": "light"
          }
        }
      ]
    },
    {
      "cell_type": "markdown",
      "metadata": {
        "id": "xTAnpHKcoI1N"
      },
      "source": [
        "##### Plot classification error"
      ]
    },
    {
      "cell_type": "code",
      "metadata": {
        "id": "HIBfEnVRoMgT",
        "colab": {
          "base_uri": "https://localhost:8080/",
          "height": 297
        },
        "outputId": "04559208-0ec5-4a11-972e-fffe7479c52f"
      },
      "source": [
        "plt.plot(train_bs, cls_error, '-o', label='Classification error')\n",
        "plt.errorbar(train_bs, cls_error, cls_error_var)\n",
        "plt.legend()\n",
        "plt.tight_layout()\n",
        "plt.show()"
      ],
      "execution_count": null,
      "outputs": [
        {
          "output_type": "display_data",
          "data": {
            "image/png": "[encoded data removed]",
            "text/plain": [
              "<Figure size 432x288 with 1 Axes>"
            ]
          },
          "metadata": {
            "tags": [],
            "needs_background": "light"
          }
        }
      ]
    },
    {
      "cell_type": "markdown",
      "metadata": {
        "id": "VkFoAOYv0sKN"
      },
      "source": [
        "#### **Wrapper**"
      ]
    },
    {
      "cell_type": "code",
      "metadata": {
        "id": "whKZGg6u1T_P"
      },
      "source": [
        "# Set up hyperparameters\n",
        "n_epoch = 30    # training epochs\n",
        "test_n = 400    # size of test set\n",
        "d_dimension = 4\n",
        "train_bs = np.array([50, 100, 500, 1000])  # batch size for each training epoch\n",
        "\n",
        "np.random.seed(3)"
      ],
      "execution_count": null,
      "outputs": []
    },
    {
      "cell_type": "markdown",
      "metadata": {
        "id": "D-4LlMyk1ecf"
      },
      "source": [
        "##### Run all experiments"
      ]
    },
    {
      "cell_type": "code",
      "metadata": {
        "id": "0_gFZQDT1W_U",
        "colab": {
          "base_uri": "https://localhost:8080/"
        },
        "outputId": "61b4ed3a-2857-4900-d937-564e1ec53b46"
      },
      "source": [
        "result_list = []\n",
        "for prj_code in [0, 1]:\n",
        "    for sigma in [0.1, 0.35]:\n",
        "        for bs in train_bs:\n",
        "\n",
        "            if prj_code == 0:\n",
        "                rho = np.sqrt(d_dimension + 1)\n",
        "                m = 2 * np.sqrt(d_dimension + 1)\n",
        "            else:\n",
        "                rho = np.sqrt(2)\n",
        "                m = 2\n",
        "            \n",
        "            l_rate = m / (rho * np.sqrt(bs))\n",
        "\n",
        "            # Generate training data\n",
        "            train_x, train_y = gen_data(sigma, bs * n_epoch, d_dimension)\n",
        "            train_px, train_py = prj_data(train_x, train_y, prj_code)\n",
        "\n",
        "            # Generate test data\n",
        "            test_x, test_y = gen_data(sigma, test_n, d_dimension)\n",
        "            test_px, test_py = prj_data(test_x, test_y, prj_code)\n",
        "\n",
        "            # Train\n",
        "            output = train(train_px, train_py, test_px, test_py, l_rate, n_epoch, bs, prj_code)\n",
        "\n",
        "            print(output)\n",
        "            print('>scenario=%d, sigma=%.2f, n=%d, lr=%.2f, log_loss_mean=%.3f, log_loss_std_dev=%.3f, log_loss_min=%.3f, \\\n",
        "                excess_risk=%.3f, cls_error_mean=%.3f, cls_error_std_dev=%.3f' \n",
        "                % (prj_code+1, sigma, bs, l_rate, output[1], output[3], output[2], output[4], output[5], output[6]))\n",
        "            result = [prj_code + 1, sigma, bs, n_epoch,output[1], output[3], output[2], output[4], output[5], output[6]]\n",
        "            result_list.append(result)"
      ],
      "execution_count": null,
      "outputs": [
        {
          "output_type": "stream",
          "text": [
            "[array([ 0.67547051,  0.6758275 ,  0.65342979,  0.66033909, -0.11939478]), 0.4222767948915829, 0.411645021105253, 0.010351662389670294, 0.010631773786329901, 0.1290000000000001, 0.14415645435891294]\n",
            ">scenario=1, sigma=0.10, n=50, lr=0.28, log_loss_mean=0.422, log_loss_std_dev=0.010, log_loss_min=0.412,                 excess_risk=0.011, cls_error_mean=0.129, cls_error_std_dev=0.144\n",
            "[array([0.77445133, 0.78500146, 0.70571113, 0.78316496, 0.00525608]), 0.3849366578114302, 0.3786385794830568, 0.003894441748600809, 0.006298078328373424, 0.050833333333333355, 0.07338066654250444]\n",
            ">scenario=1, sigma=0.10, n=100, lr=0.20, log_loss_mean=0.385, log_loss_std_dev=0.004, log_loss_min=0.379,                 excess_risk=0.006, cls_error_mean=0.051, cls_error_std_dev=0.073\n",
            "[array([ 0.89551235,  0.88866145,  0.89292803,  0.89159092, -0.028138  ]), 0.3499273608999994, 0.348222461281334, 0.0009981842923834315, 0.0017048996186653786, 0.021166666666666667, 0.012259916621068657]\n",
            ">scenario=1, sigma=0.10, n=500, lr=0.09, log_loss_mean=0.350, log_loss_std_dev=0.001, log_loss_min=0.348,                 excess_risk=0.002, cls_error_mean=0.021, cls_error_std_dev=0.012\n",
            "[array([0.92294585, 0.92224426, 0.92575085, 0.92501723, 0.01354258]), 0.33492362118667535, 0.33348696797020977, 0.0008839133461024971, 0.0014366532164655776, 0.007916666666666667, 0.0027449448486667675]\n",
            ">scenario=1, sigma=0.10, n=1000, lr=0.06, log_loss_mean=0.335, log_loss_std_dev=0.001, log_loss_min=0.333,                 excess_risk=0.001, cls_error_mean=0.008, cls_error_std_dev=0.003\n",
            "[array([0.68975257, 0.38965902, 0.74220516, 0.69510632, 0.10067775]), 0.46922454867831986, 0.44077434198489873, 0.014752610708096392, 0.02845020669342113, 0.23108333333333347, 0.07888198815671146]\n",
            ">scenario=1, sigma=0.35, n=50, lr=0.28, log_loss_mean=0.469, log_loss_std_dev=0.015, log_loss_min=0.441,                 excess_risk=0.028, cls_error_mean=0.231, cls_error_std_dev=0.079\n",
            "[array([ 0.68125261,  0.63895617,  0.75181863,  0.77485222, -0.23745412]), 0.4242137320772668, 0.40487275709193815, 0.0068709398770241785, 0.019340974985328663, 0.1612500000000001, 0.046751782497212555]\n",
            ">scenario=1, sigma=0.35, n=100, lr=0.20, log_loss_mean=0.424, log_loss_std_dev=0.007, log_loss_min=0.405,                 excess_risk=0.019, cls_error_mean=0.161, cls_error_std_dev=0.047\n",
            "[array([ 0.89138448,  0.86112512,  0.87483902,  0.87312006, -0.10437303]), 0.39438749112823035, 0.38859753794697355, 0.0021064273978501275, 0.005789953181256802, 0.1518333333333334, 0.013600449338982246]\n",
            ">scenario=1, sigma=0.35, n=500, lr=0.09, log_loss_mean=0.394, log_loss_std_dev=0.002, log_loss_min=0.389,                 excess_risk=0.006, cls_error_mean=0.152, cls_error_std_dev=0.014\n",
            "[array([0.92101507, 0.9119142 , 0.90433189, 0.88813354, 0.04212   ]), 0.3951251147987768, 0.39313478653973033, 0.0011071419268643468, 0.001990328259046492, 0.1559166666666668, 0.007970867093498821]\n",
            ">scenario=1, sigma=0.35, n=1000, lr=0.06, log_loss_mean=0.395, log_loss_std_dev=0.001, log_loss_min=0.393,                 excess_risk=0.002, cls_error_mean=0.156, cls_error_std_dev=0.008\n",
            "[array([ 0.38539378,  0.3620812 ,  0.39428836,  0.37824957, -0.20784245]), 0.5229667937336655, 0.513848775341307, 0.0073923325622570245, 0.009118018392358485, 0.39100000000000007, 0.14995916110728277]\n",
            ">scenario=2, sigma=0.10, n=50, lr=0.20, log_loss_mean=0.523, log_loss_std_dev=0.007, log_loss_min=0.514,                 excess_risk=0.009, cls_error_mean=0.391, cls_error_std_dev=0.150\n",
            "[array([ 0.40147675,  0.44118727,  0.41654928,  0.46163302, -0.02700526]), 0.5080586821232783, 0.5045328321194016, 0.0030428525803055675, 0.0035258500038767293, 0.36516666666666686, 0.1413166263710286]\n",
            ">scenario=2, sigma=0.10, n=100, lr=0.14, log_loss_mean=0.508, log_loss_std_dev=0.003, log_loss_min=0.505,                 excess_risk=0.004, cls_error_mean=0.365, cls_error_std_dev=0.141\n",
            "[array([0.47218874, 0.46141795, 0.46513155, 0.45244832, 0.07288557]), 0.4884920560390764, 0.4868100534905426, 0.0008336896481147743, 0.0016820025485337897, 0.3236666666666669, 0.08063480775832627]\n",
            ">scenario=2, sigma=0.10, n=500, lr=0.06, log_loss_mean=0.488, log_loss_std_dev=0.001, log_loss_min=0.487,                 excess_risk=0.002, cls_error_mean=0.324, cls_error_std_dev=0.081\n",
            "[array([ 0.4751404 ,  0.47582174,  0.46939645,  0.47997586, -0.03722259]), 0.4837977562469672, 0.4824432526283526, 0.0007205345664887235, 0.0013545036186146109, 0.3008333333333335, 0.04846533698313562]\n",
            ">scenario=2, sigma=0.10, n=1000, lr=0.04, log_loss_mean=0.484, log_loss_std_dev=0.001, log_loss_min=0.482,                 excess_risk=0.001, cls_error_mean=0.301, cls_error_std_dev=0.048\n",
            "[array([ 0.25682384,  0.40479015,  0.40680536,  0.39759946, -0.20916739]), 0.5445542255588564, 0.5292424539329272, 0.00767557726202607, 0.015311771625929116, 0.341916666666667, 0.09217890967509274]\n",
            ">scenario=2, sigma=0.35, n=50, lr=0.20, log_loss_mean=0.545, log_loss_std_dev=0.008, log_loss_min=0.529,                 excess_risk=0.015, cls_error_mean=0.342, cls_error_std_dev=0.092\n",
            "[array([ 0.30934208,  0.48021367,  0.36474335,  0.45049953, -0.09355655]), 0.5253727626102158, 0.5155734097868891, 0.00581892427125779, 0.009799352823326668, 0.28533333333333355, 0.06043844435088946]\n",
            ">scenario=2, sigma=0.35, n=100, lr=0.14, log_loss_mean=0.525, log_loss_std_dev=0.006, log_loss_min=0.516,                 excess_risk=0.010, cls_error_mean=0.285, cls_error_std_dev=0.060\n",
            "[array([ 0.43352633,  0.45922938,  0.47598674,  0.46461577, -0.0495134 ]), 0.5140802757056663, 0.5110404670928644, 0.001362294134186117, 0.003039808612801842, 0.2621666666666668, 0.03282360261898275]\n",
            ">scenario=2, sigma=0.35, n=500, lr=0.06, log_loss_mean=0.514, log_loss_std_dev=0.001, log_loss_min=0.511,                 excess_risk=0.003, cls_error_mean=0.262, cls_error_std_dev=0.033\n",
            "[array([0.44139352, 0.47232015, 0.48111822, 0.47727965, 0.04245213]), 0.5024129560545274, 0.5009517626595648, 0.0006876781902907009, 0.0014611933949626454, 0.25050000000000017, 0.01662578318957237]\n",
            ">scenario=2, sigma=0.35, n=1000, lr=0.04, log_loss_mean=0.502, log_loss_std_dev=0.001, log_loss_min=0.501,                 excess_risk=0.001, cls_error_mean=0.251, cls_error_std_dev=0.017\n"
          ],
          "name": "stdout"
        }
      ]
    },
    {
      "cell_type": "markdown",
      "metadata": {
        "id": "ytSebM2h1z2y"
      },
      "source": [
        "##### Plot table"
      ]
    },
    {
      "cell_type": "code",
      "metadata": {
        "colab": {
          "base_uri": "https://localhost:8080/",
          "height": 559
        },
        "id": "vhUYrS5Qi2-C",
        "outputId": "4a033fff-b679-4c66-9b42-e46734b79584"
      },
      "source": [
        "column_name = [\"Scenario\", \"sigma\", \"N\", \"#trails\", \"Loss_Mean\", \"Loss_StdDev\", \"Loss_Min\", \"Loss_ExcessRisk\",\n",
        "             \"Error_Mean\", \"Error_StdDev\"]\n",
        "result_df = pd.DataFrame(result_list, columns = column_name)\n",
        "result_df"
      ],
      "execution_count": null,
      "outputs": [
        {
          "output_type": "execute_result",
          "data": {
            "text/html": [
              "<div>\n",
              "<style scoped>\n",
              "    .dataframe tbody tr th:only-of-type {\n",
              "        vertical-align: middle;\n",
              "    }\n",
              "\n",
              "    .dataframe tbody tr th {\n",
              "        vertical-align: top;\n",
              "    }\n",
              "\n",
              "    .dataframe thead th {\n",
              "        text-align: right;\n",
              "    }\n",
              "</style>\n",
              "<table border=\"1\" class=\"dataframe\">\n",
              "  <thead>\n",
              "    <tr style=\"text-align: right;\">\n",
              "      <th></th>\n",
              "      <th>Scenario</th>\n",
              "      <th>sigma</th>\n",
              "      <th>N</th>\n",
              "      <th>#trails</th>\n",
              "      <th>Loss_Mean</th>\n",
              "      <th>Loss_StdDev</th>\n",
              "      <th>Loss_Min</th>\n",
              "      <th>Loss_ExcessRisk</th>\n",
              "      <th>Error_Mean</th>\n",
              "      <th>Error_StdDev</th>\n",
              "    </tr>\n",
              "  </thead>\n",
              "  <tbody>\n",
              "    <tr>\n",
              "      <th>0</th>\n",
              "      <td>1</td>\n",
              "      <td>0.10</td>\n",
              "      <td>50</td>\n",
              "      <td>30</td>\n",
              "      <td>0.422277</td>\n",
              "      <td>0.010352</td>\n",
              "      <td>0.411645</td>\n",
              "      <td>0.010632</td>\n",
              "      <td>0.129000</td>\n",
              "      <td>0.144156</td>\n",
              "    </tr>\n",
              "    <tr>\n",
              "      <th>1</th>\n",
              "      <td>1</td>\n",
              "      <td>0.10</td>\n",
              "      <td>100</td>\n",
              "      <td>30</td>\n",
              "      <td>0.384937</td>\n",
              "      <td>0.003894</td>\n",
              "      <td>0.378639</td>\n",
              "      <td>0.006298</td>\n",
              "      <td>0.050833</td>\n",
              "      <td>0.073381</td>\n",
              "    </tr>\n",
              "    <tr>\n",
              "      <th>2</th>\n",
              "      <td>1</td>\n",
              "      <td>0.10</td>\n",
              "      <td>500</td>\n",
              "      <td>30</td>\n",
              "      <td>0.349927</td>\n",
              "      <td>0.000998</td>\n",
              "      <td>0.348222</td>\n",
              "      <td>0.001705</td>\n",
              "      <td>0.021167</td>\n",
              "      <td>0.012260</td>\n",
              "    </tr>\n",
              "    <tr>\n",
              "      <th>3</th>\n",
              "      <td>1</td>\n",
              "      <td>0.10</td>\n",
              "      <td>1000</td>\n",
              "      <td>30</td>\n",
              "      <td>0.334924</td>\n",
              "      <td>0.000884</td>\n",
              "      <td>0.333487</td>\n",
              "      <td>0.001437</td>\n",
              "      <td>0.007917</td>\n",
              "      <td>0.002745</td>\n",
              "    </tr>\n",
              "    <tr>\n",
              "      <th>4</th>\n",
              "      <td>1</td>\n",
              "      <td>0.35</td>\n",
              "      <td>50</td>\n",
              "      <td>30</td>\n",
              "      <td>0.469225</td>\n",
              "      <td>0.014753</td>\n",
              "      <td>0.440774</td>\n",
              "      <td>0.028450</td>\n",
              "      <td>0.231083</td>\n",
              "      <td>0.078882</td>\n",
              "    </tr>\n",
              "    <tr>\n",
              "      <th>5</th>\n",
              "      <td>1</td>\n",
              "      <td>0.35</td>\n",
              "      <td>100</td>\n",
              "      <td>30</td>\n",
              "      <td>0.424214</td>\n",
              "      <td>0.006871</td>\n",
              "      <td>0.404873</td>\n",
              "      <td>0.019341</td>\n",
              "      <td>0.161250</td>\n",
              "      <td>0.046752</td>\n",
              "    </tr>\n",
              "    <tr>\n",
              "      <th>6</th>\n",
              "      <td>1</td>\n",
              "      <td>0.35</td>\n",
              "      <td>500</td>\n",
              "      <td>30</td>\n",
              "      <td>0.394387</td>\n",
              "      <td>0.002106</td>\n",
              "      <td>0.388598</td>\n",
              "      <td>0.005790</td>\n",
              "      <td>0.151833</td>\n",
              "      <td>0.013600</td>\n",
              "    </tr>\n",
              "    <tr>\n",
              "      <th>7</th>\n",
              "      <td>1</td>\n",
              "      <td>0.35</td>\n",
              "      <td>1000</td>\n",
              "      <td>30</td>\n",
              "      <td>0.395125</td>\n",
              "      <td>0.001107</td>\n",
              "      <td>0.393135</td>\n",
              "      <td>0.001990</td>\n",
              "      <td>0.155917</td>\n",
              "      <td>0.007971</td>\n",
              "    </tr>\n",
              "    <tr>\n",
              "      <th>8</th>\n",
              "      <td>2</td>\n",
              "      <td>0.10</td>\n",
              "      <td>50</td>\n",
              "      <td>30</td>\n",
              "      <td>0.522967</td>\n",
              "      <td>0.007392</td>\n",
              "      <td>0.513849</td>\n",
              "      <td>0.009118</td>\n",
              "      <td>0.391000</td>\n",
              "      <td>0.149959</td>\n",
              "    </tr>\n",
              "    <tr>\n",
              "      <th>9</th>\n",
              "      <td>2</td>\n",
              "      <td>0.10</td>\n",
              "      <td>100</td>\n",
              "      <td>30</td>\n",
              "      <td>0.508059</td>\n",
              "      <td>0.003043</td>\n",
              "      <td>0.504533</td>\n",
              "      <td>0.003526</td>\n",
              "      <td>0.365167</td>\n",
              "      <td>0.141317</td>\n",
              "    </tr>\n",
              "    <tr>\n",
              "      <th>10</th>\n",
              "      <td>2</td>\n",
              "      <td>0.10</td>\n",
              "      <td>500</td>\n",
              "      <td>30</td>\n",
              "      <td>0.488492</td>\n",
              "      <td>0.000834</td>\n",
              "      <td>0.486810</td>\n",
              "      <td>0.001682</td>\n",
              "      <td>0.323667</td>\n",
              "      <td>0.080635</td>\n",
              "    </tr>\n",
              "    <tr>\n",
              "      <th>11</th>\n",
              "      <td>2</td>\n",
              "      <td>0.10</td>\n",
              "      <td>1000</td>\n",
              "      <td>30</td>\n",
              "      <td>0.483798</td>\n",
              "      <td>0.000721</td>\n",
              "      <td>0.482443</td>\n",
              "      <td>0.001355</td>\n",
              "      <td>0.300833</td>\n",
              "      <td>0.048465</td>\n",
              "    </tr>\n",
              "    <tr>\n",
              "      <th>12</th>\n",
              "      <td>2</td>\n",
              "      <td>0.35</td>\n",
              "      <td>50</td>\n",
              "      <td>30</td>\n",
              "      <td>0.544554</td>\n",
              "      <td>0.007676</td>\n",
              "      <td>0.529242</td>\n",
              "      <td>0.015312</td>\n",
              "      <td>0.341917</td>\n",
              "      <td>0.092179</td>\n",
              "    </tr>\n",
              "    <tr>\n",
              "      <th>13</th>\n",
              "      <td>2</td>\n",
              "      <td>0.35</td>\n",
              "      <td>100</td>\n",
              "      <td>30</td>\n",
              "      <td>0.525373</td>\n",
              "      <td>0.005819</td>\n",
              "      <td>0.515573</td>\n",
              "      <td>0.009799</td>\n",
              "      <td>0.285333</td>\n",
              "      <td>0.060438</td>\n",
              "    </tr>\n",
              "    <tr>\n",
              "      <th>14</th>\n",
              "      <td>2</td>\n",
              "      <td>0.35</td>\n",
              "      <td>500</td>\n",
              "      <td>30</td>\n",
              "      <td>0.514080</td>\n",
              "      <td>0.001362</td>\n",
              "      <td>0.511040</td>\n",
              "      <td>0.003040</td>\n",
              "      <td>0.262167</td>\n",
              "      <td>0.032824</td>\n",
              "    </tr>\n",
              "    <tr>\n",
              "      <th>15</th>\n",
              "      <td>2</td>\n",
              "      <td>0.35</td>\n",
              "      <td>1000</td>\n",
              "      <td>30</td>\n",
              "      <td>0.502413</td>\n",
              "      <td>0.000688</td>\n",
              "      <td>0.500952</td>\n",
              "      <td>0.001461</td>\n",
              "      <td>0.250500</td>\n",
              "      <td>0.016626</td>\n",
              "    </tr>\n",
              "  </tbody>\n",
              "</table>\n",
              "</div>"
            ],
            "text/plain": [
              "    Scenario  sigma     N  ...  Loss_ExcessRisk  Error_Mean  Error_StdDev\n",
              "0          1   0.10    50  ...         0.010632    0.129000      0.144156\n",
              "1          1   0.10   100  ...         0.006298    0.050833      0.073381\n",
              "2          1   0.10   500  ...         0.001705    0.021167      0.012260\n",
              "3          1   0.10  1000  ...         0.001437    0.007917      0.002745\n",
              "4          1   0.35    50  ...         0.028450    0.231083      0.078882\n",
              "5          1   0.35   100  ...         0.019341    0.161250      0.046752\n",
              "6          1   0.35   500  ...         0.005790    0.151833      0.013600\n",
              "7          1   0.35  1000  ...         0.001990    0.155917      0.007971\n",
              "8          2   0.10    50  ...         0.009118    0.391000      0.149959\n",
              "9          2   0.10   100  ...         0.003526    0.365167      0.141317\n",
              "10         2   0.10   500  ...         0.001682    0.323667      0.080635\n",
              "11         2   0.10  1000  ...         0.001355    0.300833      0.048465\n",
              "12         2   0.35    50  ...         0.015312    0.341917      0.092179\n",
              "13         2   0.35   100  ...         0.009799    0.285333      0.060438\n",
              "14         2   0.35   500  ...         0.003040    0.262167      0.032824\n",
              "15         2   0.35  1000  ...         0.001461    0.250500      0.016626\n",
              "\n",
              "[16 rows x 10 columns]"
            ]
          },
          "metadata": {
            "tags": []
          },
          "execution_count": 16
        }
      ]
    },
    {
      "cell_type": "markdown",
      "metadata": {
        "id": "HQPvINDl18k2"
      },
      "source": [
        "##### Plot grid"
      ]
    },
    {
      "cell_type": "code",
      "metadata": {
        "id": "rJzILW4Y17TC"
      },
      "source": [
        "def plot_result(estimator, result_df):\n",
        "    '''\n",
        "    estimator: \n",
        "        0 is for [\"Loss_ExcessRisk\", \"Loss_StdDev\"]\n",
        "        1 is for [\"Error_Mean\", \"Error_StdDev\"]\n",
        "    result_df:\n",
        "        result table above\n",
        "    \n",
        "    '''\n",
        "    labels = {0: \"Excess Risk\", 1: \"Error\"}\n",
        "    if estimator == 0:\n",
        "        col = [\"Loss_ExcessRisk\", \"Loss_StdDev\"]\n",
        "    else:\n",
        "        col = [\"Error_Mean\", \"Error_StdDev\"]\n",
        "        \n",
        "    fig = plt.figure(figsize = (16, 10))\n",
        "    index = 0\n",
        "    for senario in [1, 2]:\n",
        "        for sigma in [0.1, 0.35]:\n",
        "            index += 1\n",
        "            plt.subplot(2, 2, index)\n",
        "            df = result_df[np.logical_and(result_df[\"Scenario\"] == senario, result_df[\"sigma\"] == sigma)]\n",
        "            excess_risk, excess_risk_var = df[col[0]], df[col[1]]\n",
        "\n",
        "            plt.plot(train_bs, excess_risk, 'D', label = col[0])\n",
        "            plt.errorbar(train_bs, excess_risk, excess_risk_var, ecolor=\"black\", ls=\"--\")\n",
        "\n",
        "            plt.xlabel(\"n\", fontsize = 12)\n",
        "            plt.xticks(fontsize = 12)\n",
        "            plt.ylabel(labels[estimator], fontsize = 12)\n",
        "            plt.yticks(fontsize = 12)\n",
        "            plt.title(\"Scenario \" + str(senario) + \", Sigma=\" + str(sigma), fontsize=15) \n",
        "    fig.legend(col, loc = \"upper right\", fontsize=13)\n",
        "    plt.tight_layout()\n",
        "    plt.show()"
      ],
      "execution_count": null,
      "outputs": []
    },
    {
      "cell_type": "markdown",
      "metadata": {
        "id": "LFfG6N4ri2-D"
      },
      "source": [
        "###### Plot excess risk"
      ]
    },
    {
      "cell_type": "code",
      "metadata": {
        "colab": {
          "base_uri": "https://localhost:8080/",
          "height": 552
        },
        "id": "IjXrdqjsi2-D",
        "outputId": "95ca2d7e-624c-4f5d-f93a-eecf8bdf62e7"
      },
      "source": [
        "plot_result(0, result_df)"
      ],
      "execution_count": null,
      "outputs": [
        {
          "output_type": "display_data",
          "data": {
            "image/png": "[encoded data removed]",
            "text/plain": [
              "<Figure size 1152x720 with 4 Axes>"
            ]
          },
          "metadata": {
            "tags": [],
            "needs_background": "light"
          }
        }
      ]
    },
    {
      "cell_type": "markdown",
      "metadata": {
        "id": "GqkkaFAS3p4S"
      },
      "source": [
        "###### Plot classification error"
      ]
    },
    {
      "cell_type": "code",
      "metadata": {
        "colab": {
          "base_uri": "https://localhost:8080/",
          "height": 552
        },
        "id": "HFdxVESki2-D",
        "outputId": "35ca56ff-a0f4-4094-f3be-75a859dbb07f"
      },
      "source": [
        "plot_result(1, result_df)"
      ],
      "execution_count": null,
      "outputs": [
        {
          "output_type": "display_data",
          "data": {
            "image/png": "[encoded data removed]",
            "text/plain": [
              "<Figure size 1152x720 with 4 Axes>"
            ]
          },
          "metadata": {
            "tags": [],
            "needs_background": "light"
          }
        }
      ]
    }
  ]
}