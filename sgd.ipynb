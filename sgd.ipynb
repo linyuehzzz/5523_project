{
  "nbformat": 4,
  "nbformat_minor": 0,
  "metadata": {
    "colab": {
      "name": "sgd.ipynb",
      "provenance": [],
      "collapsed_sections": [],
      "toc_visible": true,
      "authorship_tag": "ABX9TyOM7UIhE3vl9RvPMkbiT4UG",
      "include_colab_link": true
    },
    "kernelspec": {
      "name": "python3",
      "display_name": "Python 3"
    }
  },
  "cells": [
    {
      "cell_type": "markdown",
      "metadata": {
        "id": "view-in-github",
        "colab_type": "text"
      },
      "source": [
        "<a href=\"https://colab.research.google.com/github/linyuehzzz/5523_project/blob/main/sgd.ipynb\" target=\"_parent\"><img src=\"https://colab.research.google.com/assets/colab-badge.svg\" alt=\"Open In Colab\"/></a>"
      ]
    },
    {
      "cell_type": "markdown",
      "metadata": {
        "id": "FlILGcNEEW0E"
      },
      "source": [
        "##**Stochastic Gradient Descent for Logistic Regression**\n",
        "This code implements and tests the SGD algorithm for logistic regression\n",
        "in different scenarios.  \n",
        "Yifei Zhang (zhang.5387 at osu edu), Yue Lin (lin.3326 at osu.edu)  \n",
        "Created: 11/12/2020"
      ]
    },
    {
      "cell_type": "markdown",
      "metadata": {
        "id": "qGQmKFIeFYKY"
      },
      "source": [
        "#### **Set up libraries**"
      ]
    },
    {
      "cell_type": "code",
      "metadata": {
        "id": "BUex5ElWFaHO"
      },
      "source": [
        "import numpy as np\n",
        "import random\n",
        "import matplotlib.pyplot as plt\n",
        "import pandas as pd"
      ],
      "execution_count": 41,
      "outputs": []
    },
    {
      "cell_type": "markdown",
      "metadata": {
        "id": "YXnNnylopljK"
      },
      "source": [
        "#### **Project**"
      ]
    },
    {
      "cell_type": "markdown",
      "metadata": {
        "id": "MzHKV3T7pvFo"
      },
      "source": [
        "##### Projection function for hypercube"
      ]
    },
    {
      "cell_type": "code",
      "metadata": {
        "id": "9ewruRRFp0kP"
      },
      "source": [
        "def cube_prj(sample):\n",
        "    '''\n",
        "    This function projects both domain and parameter sets to a hypercube.\n",
        "\n",
        "    sample: features or gradients, 1*d array (d: #dimension)\n",
        "\n",
        "    return: \n",
        "        a hypercube with edge length 2 and centered around the origin\n",
        "    '''\n",
        "    return [np.sign(i) * min(np.abs(i), 1) for i in sample]"
      ],
      "execution_count": 42,
      "outputs": []
    },
    {
      "cell_type": "markdown",
      "metadata": {
        "id": "9mrnAQvYqI8q"
      },
      "source": [
        "##### Projection function for unit ball"
      ]
    },
    {
      "cell_type": "code",
      "metadata": {
        "id": "kyUbRJAKqRsd"
      },
      "source": [
        "def ball_prj(sample):\n",
        "    '''\n",
        "    This function projects both domain and parameter sets to a unit ball.\n",
        "\n",
        "    sample: features or gradients, 1*d array (d: #dimension)\n",
        "\n",
        "    return: \n",
        "        a unit ball centered around the origin\n",
        "    '''\n",
        "    ratio = 1 / np.linalg.norm(sample)\n",
        "    return [i * ratio for i in sample]"
      ],
      "execution_count": 43,
      "outputs": []
    },
    {
      "cell_type": "markdown",
      "metadata": {
        "id": "eZXfvRgKqXV2"
      },
      "source": [
        "##### Project data"
      ]
    },
    {
      "cell_type": "code",
      "metadata": {
        "id": "6dwzkd6WqW7X"
      },
      "source": [
        "def prj_data(x, y, prj_code):\n",
        "    '''\n",
        "    This function projects the domain set in terms for two scenarios.\n",
        "\n",
        "    X: feature vectors, n*d array (n: #sample, d: #dimension)\n",
        "    y: labels, 1*n array with values of -1 or +1\n",
        "    prj_code: type of projection, 0 for cube, 1 for ball\n",
        "\n",
        "    return:\n",
        "        prj_x: projected feature vectors \n",
        "        y: labels, same as the input\n",
        "    '''\n",
        "    if prj_code == 0:\n",
        "        prj_x = np.apply_along_axis(cube_prj, 1, x)\n",
        "    elif prj_code == 1:\n",
        "        prj_x = np.apply_along_axis(ball_prj, 1, x)\n",
        "    else:\n",
        "        print(\"Please input correct code for projection type: 0 for cube, 1 for ball\")\n",
        "      \n",
        "    b = np.ones((prj_x.shape[0], 1))\n",
        "    prj_x = np.append(prj_x, b, axis=1)\n",
        "    return prj_x, y"
      ],
      "execution_count": 44,
      "outputs": []
    },
    {
      "cell_type": "markdown",
      "metadata": {
        "id": "eiUQqYKLvAuY"
      },
      "source": [
        "##### Project gradient"
      ]
    },
    {
      "cell_type": "code",
      "metadata": {
        "id": "6ThWld5kvaBT"
      },
      "source": [
        "def prj_grad(g, prj_code):\n",
        "    '''\n",
        "    This function projects the parameter set for two scenarios.\n",
        "\n",
        "    g: gradients, 1*d array (d: #dimension)\n",
        "    prj_code: type of projection, 0 for cube, 1 for ball\n",
        "\n",
        "    return:\n",
        "        prj_g: projected gradients\n",
        "    '''\n",
        "    if prj_code == 0:\n",
        "        prj_g = cube_prj(g)\n",
        "    elif prj_code == 1:\n",
        "        prj_g = ball_prj(g)\n",
        "    else:\n",
        "        print(\"Please input correct code for projection type: 0 for cube, 1 for ball\")\n",
        "    return prj_g"
      ],
      "execution_count": 45,
      "outputs": []
    },
    {
      "cell_type": "markdown",
      "metadata": {
        "id": "tu0jhwwRF5ls"
      },
      "source": [
        "#### **Prepare data**"
      ]
    },
    {
      "cell_type": "code",
      "metadata": {
        "id": "yMDzFiFcrsg8"
      },
      "source": [
        "def gen_data(sig, n, d_dimension):\n",
        "    '''\n",
        "    This function generates the data for training and test.\n",
        "\n",
        "    sig: standard deviation of the Gaussian function\n",
        "    n: number of samples\n",
        "    d_dimension: dimensionality of the feature vectors\n",
        "    \n",
        "    Return:\n",
        "        X: feature vectors, n*d array (n: #sample, d: #dimension)\n",
        "        y: labels, 1*n array with values of -1 and +1\n",
        "    '''\n",
        "    # d_dimension = 4\n",
        "    y = np.random.choice([-1, 1], p = [0.5, 0.5], size = n)\n",
        "    x = np.array([])\n",
        "    for i in range(n):\n",
        "        if y[i] == -1:\n",
        "            mu = -(1 / 4)\n",
        "            negvec = np.random.normal(mu, sig, d_dimension)\n",
        "            x = np.concatenate([x, negvec], axis=0)\n",
        "        else:\n",
        "            mu = (1 / 4)\n",
        "            posvec = np.random.normal(mu, sig, d_dimension)\n",
        "            x = np.concatenate([x, posvec], axis=0)\n",
        "    x = np.reshape(x, (n, d_dimension))\n",
        "    return x, y"
      ],
      "execution_count": 46,
      "outputs": []
    },
    {
      "cell_type": "markdown",
      "metadata": {
        "id": "aAzwTZ79M6oi"
      },
      "source": [
        "#### **Train**\n",
        "https://machinelearningmastery.com/implement-logistic-regression-stochastic-gradient-descent-scratch-python/"
      ]
    },
    {
      "cell_type": "markdown",
      "metadata": {
        "id": "iJfOdxzt4M5T"
      },
      "source": [
        "##### Estimate logistic loss"
      ]
    },
    {
      "cell_type": "code",
      "metadata": {
        "id": "q_3nPdw4BJV0"
      },
      "source": [
        "def log_loss(X, y, w):\n",
        "    '''\n",
        "    This function outputs the logistic loss.\n",
        "\n",
        "    X: feature vector, 1*d array (d: #dimension)\n",
        "    y: label\n",
        "    w: weight vector, 1*d array\n",
        "    \n",
        "    Return: logistic loss\n",
        "    '''\n",
        "    return np.log(1 + np.exp(-y * np.dot(w.T, X)))"
      ],
      "execution_count": 47,
      "outputs": []
    },
    {
      "cell_type": "markdown",
      "metadata": {
        "id": "mnfgixZxQqvj"
      },
      "source": [
        "##### Estimate classification error"
      ]
    },
    {
      "cell_type": "code",
      "metadata": {
        "id": "DZdcop9KQuGF"
      },
      "source": [
        "def err(X, y, w):\n",
        "    '''\n",
        "    This function outputs the classification error.\n",
        "\n",
        "    X: feature vector, 1*d array (d: #dimension)\n",
        "    y: label\n",
        "    w: weight vector, 1*d array\n",
        "    \n",
        "    Return: classification error\n",
        "    '''\n",
        "    yhat = -1 if np.dot(w.T, X) < 0.5 else 1\n",
        "    return 0 if yhat == y else 1"
      ],
      "execution_count": 48,
      "outputs": []
    },
    {
      "cell_type": "markdown",
      "metadata": {
        "id": "XsiXCaLYCn6n"
      },
      "source": [
        "##### SGD"
      ]
    },
    {
      "cell_type": "code",
      "metadata": {
        "id": "O2-5n_kwCnth"
      },
      "source": [
        "def sgd(X, y, w_t, prj_code, l_rate):\n",
        "    '''\n",
        "    This function implements SGD.\n",
        "\n",
        "    X: feature vector at t, 1*d array (d: #dimension)\n",
        "    y: label\n",
        "    w_t: weight vector at t, 1*d array\n",
        "    prj_code: type of projection, 0 for cube, 1 for ball\n",
        "    l_rate: learning rate\n",
        "    \n",
        "    Return: \n",
        "        w_t: updated weight at t+1\n",
        "    '''\n",
        "    w_t = np.array(w_t)\n",
        "    # Calculate gradient\n",
        "    g = (-y * X * np.exp(-y * np.dot(w_t.T, X)) / (1 + np.exp(-y * np.dot(w_t.T, X))))\n",
        "    # Project gradient\n",
        "    w_t = prj_grad(np.add(w_t, np.multiply(-l_rate, g)), prj_code)\n",
        "    return w_t"
      ],
      "execution_count": 49,
      "outputs": []
    },
    {
      "cell_type": "markdown",
      "metadata": {
        "id": "lE93wIbQc9Is"
      },
      "source": [
        "##### Estimate weight vector using SGD"
      ]
    },
    {
      "cell_type": "code",
      "metadata": {
        "id": "Jb_QkJsIc8Vh"
      },
      "source": [
        "def train(train_x, train_y, test_x, test_y, l_rate, n_epoch, bs, prj_code):\n",
        "    '''\n",
        "    This function implements and tests the SGD algorithm for logistic regression.\n",
        "\n",
        "    train_x: feature vectors for training, n*d array (n: #sample, d: #dimension)\n",
        "    train_y: labels for training, 1*n array\n",
        "    test_x: feature vectors for test, n*d array (n: #sample, d: #dimension)\n",
        "    test_y: labels for test, 1*n array\n",
        "    l_rate: learning rate\n",
        "    n_epoch: number of trials\n",
        "    bs: training set size\n",
        "    prj_code: type of projection, 0 for cube, 1 for ball\n",
        "    \n",
        "    Return: \n",
        "        w: final weights\n",
        "        risk_ave: average risk\n",
        "        risk_min: minimum of all risks\n",
        "        risk_var: standard deviation of all risks\n",
        "        exp_excess_risk: expected excess risk\n",
        "        cls_err_ave: average classification error\n",
        "        cls_err_var: standard deviation of all classification errors\n",
        "    '''\n",
        "    risk_all = []\n",
        "    cls_err_all = []\n",
        "\n",
        "    for epoch in range(n_epoch):\n",
        "        w_t = np.random.uniform(-1, 1, (train_x.shape[1]))\n",
        "        risk = cls_err = 0.\n",
        "        w_all = []\n",
        "        for idx in range(epoch * bs, (epoch + 1) * bs):\n",
        "            # Read data\n",
        "            X = train_x[idx]\n",
        "            y = train_y[idx]\n",
        "            # SGD\n",
        "            w_t = sgd(X, y, w_t, prj_code, l_rate)\n",
        "            # Backward propagation\n",
        "            w_all.append(w_t)\n",
        "    \n",
        "        w = np.average(np.array(w_all), axis=0)\n",
        "    \n",
        "        # Evaluate\n",
        "        for idx in range(test_x.shape[0]):\n",
        "            # Read data\n",
        "            X = test_x[idx]\n",
        "            y = test_y[idx]\n",
        "            # Evaluate\n",
        "            risk += log_loss(X, y, w) / test_x.shape[0]\n",
        "            cls_err += err(X, y, w) / test_x.shape[0]\n",
        "    \n",
        "        risk_all = np.append(risk_all, risk)\n",
        "        cls_err_all = np.append(cls_err_all, cls_err)\n",
        "        # print('>epoch=%d, lrate=%.3f, risk=%.3f, classification error=%.3f' % (epoch, l_rate, risk, cls_err))\n",
        "  \n",
        "    # Report risk\n",
        "    # print(risk_all, cls_err_all)\n",
        "    risk_ave = np.average(risk_all)\n",
        "    risk_min = np.amin(risk_all)\n",
        "    risk_var = np.sqrt(np.var(risk_all))\n",
        "    exp_excess_risk = risk_ave - risk_min\n",
        "    # Report classification error\n",
        "    cls_err_ave = np.average(cls_err_all)\n",
        "    cls_err_var = np.sqrt(np.var(cls_err_all))\n",
        "    return [w, risk_ave, risk_min, risk_var, exp_excess_risk, cls_err_ave, cls_err_var]"
      ],
      "execution_count": 50,
      "outputs": []
    },
    {
      "cell_type": "markdown",
      "metadata": {
        "id": "q3SH2Dm7d71V"
      },
      "source": [
        "#### **Wrapper test**"
      ]
    },
    {
      "cell_type": "markdown",
      "metadata": {
        "id": "C0-3MK6Pk7mU"
      },
      "source": [
        "##### Generate data and train"
      ]
    },
    {
      "cell_type": "code",
      "metadata": {
        "id": "iJ68DlKXd6rP",
        "colab": {
          "base_uri": "https://localhost:8080/"
        },
        "outputId": "8e88d242-a7ee-41a6-9629-d42ce31244ff"
      },
      "source": [
        "# Fixed hyperparameters\n",
        "n_epoch = 30    # training epochs\n",
        "test_n = 400    # size of test set\n",
        "\n",
        "# Unfixed hyperparameters\n",
        "prj_code = 0    # code for two scenario: 0 for cube, 1 for ball\n",
        "l_rate = 0.16  # learning rate: 0.04 for cube, 0.18 for ball\n",
        "train_bs = np.array([50, 100, 500, 1000])   # batch size for each training epoch\n",
        "sigma = 0.1     # variance of Gaussian distribution\n",
        "d_dimension = 4\n",
        "\n",
        "np.random.seed(1)\n",
        "\n",
        "excess_risk = []\n",
        "cls_error = []\n",
        "excess_risk_var = []\n",
        "cls_error_var = []\n",
        "\n",
        "for bs in train_bs:\n",
        "    # Generate training data\n",
        "    train_x, train_y = gen_data(sigma, bs * n_epoch, d_dimension)\n",
        "    train_px, train_py = prj_data(train_x, train_y, prj_code)\n",
        "\n",
        "    # Generate test data\n",
        "    test_x, test_y = gen_data(sigma, test_n, d_dimension)\n",
        "    test_px, test_py = prj_data(test_x, test_y, prj_code)\n",
        "\n",
        "    # Train\n",
        "    output = train(train_px, train_py, test_px, test_py, l_rate, n_epoch, bs, prj_code)\n",
        "    print(output)\n",
        "    print('>scenario=%d, sigma=%.2f, n=%d, log_loss_mean=%.3f, log_loss_std_dev=%.3f, log_loss_min=%.3f, \\\n",
        "            excess_risk=%.3f, cls_error_mean=%.3f, cls_error_std_dev=%.3f' \n",
        "            % (prj_code+1, sigma, bs, output[1], output[3], output[2], output[4], output[5], output[6]))\n",
        "    \n",
        "    excess_risk = np.append(excess_risk, output[4], axis=None)\n",
        "    cls_error = np.append(cls_error, output[5],  axis=None)\n",
        "    excess_risk_var = np.append(excess_risk_var, output[3], axis=None)\n",
        "    cls_error_var = np.append(cls_error_var, output[6],  axis=None)"
      ],
      "execution_count": 51,
      "outputs": [
        {
          "output_type": "stream",
          "text": [
            "[array([-0.18897699,  0.05354815,  0.34840153, -0.07563363, -0.04980467]), 0.5208856714013164, 0.37094769357192814, 0.08603300863131619, 0.14993797782938822, 0.2879166666666669, 0.20731023786157374]\n",
            ">scenario=1, sigma=0.10, n=50, log_loss_mean=0.521, log_loss_std_dev=0.086, log_loss_min=0.371,             excess_risk=0.150, cls_error_mean=0.288, cls_error_std_dev=0.207\n",
            "[array([ 0.9814903 ,  0.94495039,  0.32290242, -0.04594593, -0.11793739]), 0.4530631058684069, 0.3372746650374369, 0.04633832285216711, 0.11578844083097001, 0.18008333333333332, 0.17801156719594244]\n",
            ">scenario=1, sigma=0.10, n=100, log_loss_mean=0.453, log_loss_std_dev=0.046, log_loss_min=0.337,             excess_risk=0.116, cls_error_mean=0.180, cls_error_std_dev=0.178\n",
            "[array([0.92026751, 0.99258903, 0.86635786, 0.78921267, 0.10112228]), 0.3445910000876896, 0.33173363062021854, 0.007622486945538221, 0.01285736946747107, 0.010416666666666666, 0.01373989527697436]\n",
            ">scenario=1, sigma=0.10, n=500, log_loss_mean=0.345, log_loss_std_dev=0.008, log_loss_min=0.332,             excess_risk=0.013, cls_error_mean=0.010, cls_error_std_dev=0.014\n",
            "[array([0.95360249, 0.90905433, 0.96044051, 0.98798487, 0.03924237]), 0.3281938954910119, 0.3198542427404748, 0.003190437354090507, 0.008339652750537108, 0.006666666666666668, 0.004844813951249544]\n",
            ">scenario=1, sigma=0.10, n=1000, log_loss_mean=0.328, log_loss_std_dev=0.003, log_loss_min=0.320,             excess_risk=0.008, cls_error_mean=0.007, cls_error_std_dev=0.005\n"
          ],
          "name": "stdout"
        }
      ]
    },
    {
      "cell_type": "markdown",
      "metadata": {
        "id": "saT_I5DNk0rq"
      },
      "source": [
        "##### Plot excess risk"
      ]
    },
    {
      "cell_type": "code",
      "metadata": {
        "id": "dkARytwCk0Zj",
        "colab": {
          "base_uri": "https://localhost:8080/",
          "height": 297
        },
        "outputId": "49e43d61-77e1-4b84-a5fb-406abfe4cbe6"
      },
      "source": [
        "plt.plot(train_bs, excess_risk, '-o', label='Excess risk')\n",
        "plt.errorbar(train_bs, excess_risk, excess_risk_var)\n",
        "plt.legend()\n",
        "plt.tight_layout()\n",
        "plt.show()"
      ],
      "execution_count": 52,
      "outputs": [
        {
          "output_type": "display_data",
          "data": {
            "image/png": "[encoded data removed]",
            "text/plain": [
              "<Figure size 432x288 with 1 Axes>"
            ]
          },
          "metadata": {
            "tags": [],
            "needs_background": "light"
          }
        }
      ]
    },
    {
      "cell_type": "markdown",
      "metadata": {
        "id": "xTAnpHKcoI1N"
      },
      "source": [
        "##### Plot classification error"
      ]
    },
    {
      "cell_type": "code",
      "metadata": {
        "id": "HIBfEnVRoMgT",
        "colab": {
          "base_uri": "https://localhost:8080/",
          "height": 297
        },
        "outputId": "0978b4a2-41b4-41ae-9b45-1d00e95d3529"
      },
      "source": [
        "plt.plot(train_bs, cls_error, '-o', label='Classification error')\n",
        "plt.errorbar(train_bs, cls_error, cls_error_var)\n",
        "plt.legend()\n",
        "plt.tight_layout()\n",
        "plt.show()"
      ],
      "execution_count": 53,
      "outputs": [
        {
          "output_type": "display_data",
          "data": {
            "image/png": "[encoded data removed]",
            "text/plain": [
              "<Figure size 432x288 with 1 Axes>"
            ]
          },
          "metadata": {
            "tags": [],
            "needs_background": "light"
          }
        }
      ]
    },
    {
      "cell_type": "markdown",
      "metadata": {
        "id": "VkFoAOYv0sKN"
      },
      "source": [
        "#### **Wrapper**"
      ]
    },
    {
      "cell_type": "code",
      "metadata": {
        "id": "whKZGg6u1T_P"
      },
      "source": [
        "# Set up hyperparameters\n",
        "n_epoch = 30    # training epochs\n",
        "test_n = 400    # size of test set\n",
        "d_dimension = 4\n",
        "train_bs = np.array([50, 100, 500, 1000])  # batch size for each training epoch\n",
        "\n",
        "np.random.seed(0)"
      ],
      "execution_count": 54,
      "outputs": []
    },
    {
      "cell_type": "markdown",
      "metadata": {
        "id": "D-4LlMyk1ecf"
      },
      "source": [
        "##### Run all experiments"
      ]
    },
    {
      "cell_type": "code",
      "metadata": {
        "id": "0_gFZQDT1W_U",
        "colab": {
          "base_uri": "https://localhost:8080/"
        },
        "outputId": "01d1520a-569a-48c1-c1f0-321ce173118e"
      },
      "source": [
        "result_list = []\n",
        "for prj_code in [0, 1]:\n",
        "    for sigma in [0.1, 0.35]:\n",
        "        for bs in train_bs:\n",
        "\n",
        "            if prj_code == 0:\n",
        "                m = 2 * np.sqrt(d_dimension + 1)\n",
        "            else:\n",
        "                m = 2\n",
        "\n",
        "            rho = d_dimension + 1\n",
        "            l_rate = m / (rho * np.sqrt(bs))\n",
        "\n",
        "            # Generate training data\n",
        "            train_x, train_y = gen_data(sigma, bs * n_epoch, d_dimension)\n",
        "            train_px, train_py = prj_data(train_x, train_y, prj_code)\n",
        "\n",
        "            # Generate test data\n",
        "            test_x, test_y = gen_data(sigma, test_n, d_dimension)\n",
        "            test_px, test_py = prj_data(test_x, test_y, prj_code)\n",
        "\n",
        "            # Train\n",
        "            output = train(train_px, train_py, test_px, test_py, l_rate, n_epoch, bs, prj_code)\n",
        "\n",
        "            print(output)\n",
        "            print('>scenario=%d, sigma=%.2f, n=%d, lr=%.2f, log_loss_mean=%.3f, log_loss_std_dev=%.3f, log_loss_min=%.3f, \\\n",
        "                excess_risk=%.3f, cls_error_mean=%.3f, cls_error_std_dev=%.3f' \n",
        "                % (prj_code+1, sigma, bs, l_rate, output[1], output[3], output[2], output[4], output[5], output[6]))\n",
        "            result = [prj_code + 1, sigma, bs, n_epoch,output[1], output[3], output[2], output[4], output[5], output[6]]\n",
        "            result_list.append(result)"
      ],
      "execution_count": 55,
      "outputs": [
        {
          "output_type": "stream",
          "text": [
            "[array([-0.15081655, -0.08092021, -0.28102588, -0.28717358,  0.65391213]), 0.5676093027213286, 0.39061848845416436, 0.1190487152108478, 0.17699081426716423, 0.37024999999999986, 0.20503084117598763]\n",
            ">scenario=1, sigma=0.10, n=50, lr=0.13, log_loss_mean=0.568, log_loss_std_dev=0.119, log_loss_min=0.391,                 excess_risk=0.177, cls_error_mean=0.370, cls_error_std_dev=0.205\n",
            "[array([-0.06520929,  0.13087667, -0.12552021,  0.92479987,  0.41641619]), 0.504290117419858, 0.38913631883024763, 0.08893686180796084, 0.11515379858961033, 0.2970000000000002, 0.17870646322950956]\n",
            ">scenario=1, sigma=0.10, n=100, lr=0.09, log_loss_mean=0.504, log_loss_std_dev=0.089, log_loss_min=0.389,                 excess_risk=0.115, cls_error_mean=0.297, cls_error_std_dev=0.179\n",
            "[array([ 0.81634485,  0.18091707,  0.79043285,  0.73687371, -0.109004  ]), 0.4071909895574312, 0.3357294572546298, 0.03441537953997927, 0.07146153230280139, 0.06566666666666669, 0.08366085637195508]\n",
            ">scenario=1, sigma=0.10, n=500, lr=0.04, log_loss_mean=0.407, log_loss_std_dev=0.034, log_loss_min=0.336,                 excess_risk=0.071, cls_error_mean=0.066, cls_error_std_dev=0.084\n",
            "[array([0.96742364, 0.89867252, 0.47500903, 0.85089365, 0.18508597]), 0.3830727257961415, 0.3254806144848901, 0.02816550266961118, 0.057592111311251415, 0.04400000000000001, 0.06298677109785306]\n",
            ">scenario=1, sigma=0.10, n=1000, lr=0.03, log_loss_mean=0.383, log_loss_std_dev=0.028, log_loss_min=0.325,                 excess_risk=0.058, cls_error_mean=0.044, cls_error_std_dev=0.063\n",
            "[array([ 0.79659773, -0.30692939, -0.17296079,  0.01234537,  0.10293294]), 0.5754147196760616, 0.42822573134699443, 0.08784298564890865, 0.14718898832906718, 0.3430000000000002, 0.11903325865768222]\n",
            ">scenario=1, sigma=0.35, n=50, lr=0.13, log_loss_mean=0.575, log_loss_std_dev=0.088, log_loss_min=0.428,                 excess_risk=0.147, cls_error_mean=0.343, cls_error_std_dev=0.119\n",
            "[array([ 0.82758446,  0.32075383,  0.31478055,  0.59045426, -0.43331696]), 0.5433285266991617, 0.4054361123175083, 0.06672484975413051, 0.13789241438165334, 0.3243333333333336, 0.11909718253967604]\n",
            ">scenario=1, sigma=0.35, n=100, lr=0.09, log_loss_mean=0.543, log_loss_std_dev=0.067, log_loss_min=0.405,                 excess_risk=0.138, cls_error_mean=0.324, cls_error_std_dev=0.119\n",
            "[array([ 0.82875852,  0.60723001,  0.6706764 ,  0.93868804, -0.14220027]), 0.44536441079488337, 0.3932890134267045, 0.02862884754942878, 0.052075397368178844, 0.21925000000000014, 0.048231861875735256]\n",
            ">scenario=1, sigma=0.35, n=500, lr=0.04, log_loss_mean=0.445, log_loss_std_dev=0.029, log_loss_min=0.393,                 excess_risk=0.052, cls_error_mean=0.219, cls_error_std_dev=0.048\n",
            "[array([0.90569378, 0.61232572, 0.48127968, 0.80367208, 0.06753598]), 0.42573165587966666, 0.38539413083144586, 0.017438057677180395, 0.0403375250482208, 0.17908333333333343, 0.02661048769856646]\n",
            ">scenario=1, sigma=0.35, n=1000, lr=0.03, log_loss_mean=0.426, log_loss_std_dev=0.017, log_loss_min=0.385,                 excess_risk=0.040, cls_error_mean=0.179, cls_error_std_dev=0.027\n",
            "[array([-0.62490109, -0.14151381, -0.65100985, -0.15697431,  0.26256594]), 0.5738802280851855, 0.33546051329519366, 0.20275897799466222, 0.2384197147899918, 0.29774999999999946, 0.27955273056556923]\n",
            ">scenario=2, sigma=0.10, n=50, lr=0.06, log_loss_mean=0.574, log_loss_std_dev=0.203, log_loss_min=0.335,                 excess_risk=0.238, cls_error_mean=0.298, cls_error_std_dev=0.280\n",
            "[array([ 0.09945779,  0.76910617,  0.57657456,  0.11637657, -0.10080983]), 0.48155805536917545, 0.3627277754017857, 0.09144997169808604, 0.11883027996738976, 0.2919999999999999, 0.21901617139684745]\n",
            ">scenario=2, sigma=0.10, n=100, lr=0.04, log_loss_mean=0.482, log_loss_std_dev=0.091, log_loss_min=0.363,                 excess_risk=0.119, cls_error_mean=0.292, cls_error_std_dev=0.219\n",
            "[array([ 0.61713333,  0.21567905,  0.42765361,  0.57347318, -0.07375861]), 0.3791517446695828, 0.332826946334039, 0.0338398385689348, 0.046324798335543815, 0.038166666666666654, 0.10616405020323756]\n",
            ">scenario=2, sigma=0.10, n=500, lr=0.02, log_loss_mean=0.379, log_loss_std_dev=0.034, log_loss_min=0.333,                 excess_risk=0.046, cls_error_mean=0.038, cls_error_std_dev=0.106\n",
            "[array([ 0.33090683,  0.60192953,  0.31779873,  0.58634296, -0.04612912]), 0.36498634265356145, 0.3362637806053237, 0.021352776951453396, 0.028722562048237754, 0.003416666666666667, 0.008202726511485205]\n",
            ">scenario=2, sigma=0.10, n=1000, lr=0.01, log_loss_mean=0.365, log_loss_std_dev=0.021, log_loss_min=0.336,                 excess_risk=0.029, cls_error_mean=0.003, cls_error_std_dev=0.008\n",
            "[array([ 0.56266252,  0.33169639,  0.13274032, -0.61904874,  0.35466972]), 0.6895118403127413, 0.5127218276441082, 0.1335786011068436, 0.17679001266863303, 0.42274999999999924, 0.1929489893728372]\n",
            ">scenario=2, sigma=0.35, n=50, lr=0.06, log_loss_mean=0.690, log_loss_std_dev=0.134, log_loss_min=0.513,                 excess_risk=0.177, cls_error_mean=0.423, cls_error_std_dev=0.193\n",
            "[array([ 0.52956525, -0.43621737,  0.0666117 , -0.32544739, -0.5502091 ]), 0.6088491550656339, 0.47486112082661147, 0.08856932655024057, 0.1339880342390224, 0.36191666666666683, 0.12203941189450038]\n",
            ">scenario=2, sigma=0.35, n=100, lr=0.04, log_loss_mean=0.609, log_loss_std_dev=0.089, log_loss_min=0.475,                 excess_risk=0.134, cls_error_mean=0.362, cls_error_std_dev=0.122\n",
            "[array([ 0.6503549 ,  0.27165508, -0.02894478,  0.62087594,  0.10195633]), 0.5589880219701896, 0.47026605563432666, 0.0657299344096376, 0.08872196633586293, 0.29883333333333356, 0.10294159617094657]\n",
            ">scenario=2, sigma=0.35, n=500, lr=0.02, log_loss_mean=0.559, log_loss_std_dev=0.066, log_loss_min=0.470,                 excess_risk=0.089, cls_error_mean=0.299, cls_error_std_dev=0.103\n",
            "[array([0.10522923, 0.59565206, 0.47304919, 0.54948662, 0.0653712 ]), 0.5133212299883, 0.4696815179223835, 0.03712845020996292, 0.04363971206591649, 0.2670000000000001, 0.08681733697827873]\n",
            ">scenario=2, sigma=0.35, n=1000, lr=0.01, log_loss_mean=0.513, log_loss_std_dev=0.037, log_loss_min=0.470,                 excess_risk=0.044, cls_error_mean=0.267, cls_error_std_dev=0.087\n"
          ],
          "name": "stdout"
        }
      ]
    },
    {
      "cell_type": "markdown",
      "metadata": {
        "id": "ytSebM2h1z2y"
      },
      "source": [
        "##### Plot table"
      ]
    },
    {
      "cell_type": "code",
      "metadata": {
        "colab": {
          "base_uri": "https://localhost:8080/",
          "height": 559
        },
        "id": "vhUYrS5Qi2-C",
        "outputId": "aee98703-7e03-4a12-95c5-a3b05746cc31"
      },
      "source": [
        "column_name = [\"Scenario\", \"sigma\", \"N\", \"#trails\", \"Loss_Mean\", \"Loss_StdDev\", \"Loss_Min\", \"Loss_ExcessRisk\",\n",
        "             \"Error_Mean\", \"Error_StdDev\"]\n",
        "result_df = pd.DataFrame(result_list, columns = column_name)\n",
        "result_df"
      ],
      "execution_count": 56,
      "outputs": [
        {
          "output_type": "execute_result",
          "data": {
            "text/html": [
              "<div>\n",
              "<style scoped>\n",
              "    .dataframe tbody tr th:only-of-type {\n",
              "        vertical-align: middle;\n",
              "    }\n",
              "\n",
              "    .dataframe tbody tr th {\n",
              "        vertical-align: top;\n",
              "    }\n",
              "\n",
              "    .dataframe thead th {\n",
              "        text-align: right;\n",
              "    }\n",
              "</style>\n",
              "<table border=\"1\" class=\"dataframe\">\n",
              "  <thead>\n",
              "    <tr style=\"text-align: right;\">\n",
              "      <th></th>\n",
              "      <th>Scenario</th>\n",
              "      <th>sigma</th>\n",
              "      <th>N</th>\n",
              "      <th>#trails</th>\n",
              "      <th>Loss_Mean</th>\n",
              "      <th>Loss_StdDev</th>\n",
              "      <th>Loss_Min</th>\n",
              "      <th>Loss_ExcessRisk</th>\n",
              "      <th>Error_Mean</th>\n",
              "      <th>Error_StdDev</th>\n",
              "    </tr>\n",
              "  </thead>\n",
              "  <tbody>\n",
              "    <tr>\n",
              "      <th>0</th>\n",
              "      <td>1</td>\n",
              "      <td>0.10</td>\n",
              "      <td>50</td>\n",
              "      <td>30</td>\n",
              "      <td>0.567609</td>\n",
              "      <td>0.119049</td>\n",
              "      <td>0.390618</td>\n",
              "      <td>0.176991</td>\n",
              "      <td>0.370250</td>\n",
              "      <td>0.205031</td>\n",
              "    </tr>\n",
              "    <tr>\n",
              "      <th>1</th>\n",
              "      <td>1</td>\n",
              "      <td>0.10</td>\n",
              "      <td>100</td>\n",
              "      <td>30</td>\n",
              "      <td>0.504290</td>\n",
              "      <td>0.088937</td>\n",
              "      <td>0.389136</td>\n",
              "      <td>0.115154</td>\n",
              "      <td>0.297000</td>\n",
              "      <td>0.178706</td>\n",
              "    </tr>\n",
              "    <tr>\n",
              "      <th>2</th>\n",
              "      <td>1</td>\n",
              "      <td>0.10</td>\n",
              "      <td>500</td>\n",
              "      <td>30</td>\n",
              "      <td>0.407191</td>\n",
              "      <td>0.034415</td>\n",
              "      <td>0.335729</td>\n",
              "      <td>0.071462</td>\n",
              "      <td>0.065667</td>\n",
              "      <td>0.083661</td>\n",
              "    </tr>\n",
              "    <tr>\n",
              "      <th>3</th>\n",
              "      <td>1</td>\n",
              "      <td>0.10</td>\n",
              "      <td>1000</td>\n",
              "      <td>30</td>\n",
              "      <td>0.383073</td>\n",
              "      <td>0.028166</td>\n",
              "      <td>0.325481</td>\n",
              "      <td>0.057592</td>\n",
              "      <td>0.044000</td>\n",
              "      <td>0.062987</td>\n",
              "    </tr>\n",
              "    <tr>\n",
              "      <th>4</th>\n",
              "      <td>1</td>\n",
              "      <td>0.35</td>\n",
              "      <td>50</td>\n",
              "      <td>30</td>\n",
              "      <td>0.575415</td>\n",
              "      <td>0.087843</td>\n",
              "      <td>0.428226</td>\n",
              "      <td>0.147189</td>\n",
              "      <td>0.343000</td>\n",
              "      <td>0.119033</td>\n",
              "    </tr>\n",
              "    <tr>\n",
              "      <th>5</th>\n",
              "      <td>1</td>\n",
              "      <td>0.35</td>\n",
              "      <td>100</td>\n",
              "      <td>30</td>\n",
              "      <td>0.543329</td>\n",
              "      <td>0.066725</td>\n",
              "      <td>0.405436</td>\n",
              "      <td>0.137892</td>\n",
              "      <td>0.324333</td>\n",
              "      <td>0.119097</td>\n",
              "    </tr>\n",
              "    <tr>\n",
              "      <th>6</th>\n",
              "      <td>1</td>\n",
              "      <td>0.35</td>\n",
              "      <td>500</td>\n",
              "      <td>30</td>\n",
              "      <td>0.445364</td>\n",
              "      <td>0.028629</td>\n",
              "      <td>0.393289</td>\n",
              "      <td>0.052075</td>\n",
              "      <td>0.219250</td>\n",
              "      <td>0.048232</td>\n",
              "    </tr>\n",
              "    <tr>\n",
              "      <th>7</th>\n",
              "      <td>1</td>\n",
              "      <td>0.35</td>\n",
              "      <td>1000</td>\n",
              "      <td>30</td>\n",
              "      <td>0.425732</td>\n",
              "      <td>0.017438</td>\n",
              "      <td>0.385394</td>\n",
              "      <td>0.040338</td>\n",
              "      <td>0.179083</td>\n",
              "      <td>0.026610</td>\n",
              "    </tr>\n",
              "    <tr>\n",
              "      <th>8</th>\n",
              "      <td>2</td>\n",
              "      <td>0.10</td>\n",
              "      <td>50</td>\n",
              "      <td>30</td>\n",
              "      <td>0.573880</td>\n",
              "      <td>0.202759</td>\n",
              "      <td>0.335461</td>\n",
              "      <td>0.238420</td>\n",
              "      <td>0.297750</td>\n",
              "      <td>0.279553</td>\n",
              "    </tr>\n",
              "    <tr>\n",
              "      <th>9</th>\n",
              "      <td>2</td>\n",
              "      <td>0.10</td>\n",
              "      <td>100</td>\n",
              "      <td>30</td>\n",
              "      <td>0.481558</td>\n",
              "      <td>0.091450</td>\n",
              "      <td>0.362728</td>\n",
              "      <td>0.118830</td>\n",
              "      <td>0.292000</td>\n",
              "      <td>0.219016</td>\n",
              "    </tr>\n",
              "    <tr>\n",
              "      <th>10</th>\n",
              "      <td>2</td>\n",
              "      <td>0.10</td>\n",
              "      <td>500</td>\n",
              "      <td>30</td>\n",
              "      <td>0.379152</td>\n",
              "      <td>0.033840</td>\n",
              "      <td>0.332827</td>\n",
              "      <td>0.046325</td>\n",
              "      <td>0.038167</td>\n",
              "      <td>0.106164</td>\n",
              "    </tr>\n",
              "    <tr>\n",
              "      <th>11</th>\n",
              "      <td>2</td>\n",
              "      <td>0.10</td>\n",
              "      <td>1000</td>\n",
              "      <td>30</td>\n",
              "      <td>0.364986</td>\n",
              "      <td>0.021353</td>\n",
              "      <td>0.336264</td>\n",
              "      <td>0.028723</td>\n",
              "      <td>0.003417</td>\n",
              "      <td>0.008203</td>\n",
              "    </tr>\n",
              "    <tr>\n",
              "      <th>12</th>\n",
              "      <td>2</td>\n",
              "      <td>0.35</td>\n",
              "      <td>50</td>\n",
              "      <td>30</td>\n",
              "      <td>0.689512</td>\n",
              "      <td>0.133579</td>\n",
              "      <td>0.512722</td>\n",
              "      <td>0.176790</td>\n",
              "      <td>0.422750</td>\n",
              "      <td>0.192949</td>\n",
              "    </tr>\n",
              "    <tr>\n",
              "      <th>13</th>\n",
              "      <td>2</td>\n",
              "      <td>0.35</td>\n",
              "      <td>100</td>\n",
              "      <td>30</td>\n",
              "      <td>0.608849</td>\n",
              "      <td>0.088569</td>\n",
              "      <td>0.474861</td>\n",
              "      <td>0.133988</td>\n",
              "      <td>0.361917</td>\n",
              "      <td>0.122039</td>\n",
              "    </tr>\n",
              "    <tr>\n",
              "      <th>14</th>\n",
              "      <td>2</td>\n",
              "      <td>0.35</td>\n",
              "      <td>500</td>\n",
              "      <td>30</td>\n",
              "      <td>0.558988</td>\n",
              "      <td>0.065730</td>\n",
              "      <td>0.470266</td>\n",
              "      <td>0.088722</td>\n",
              "      <td>0.298833</td>\n",
              "      <td>0.102942</td>\n",
              "    </tr>\n",
              "    <tr>\n",
              "      <th>15</th>\n",
              "      <td>2</td>\n",
              "      <td>0.35</td>\n",
              "      <td>1000</td>\n",
              "      <td>30</td>\n",
              "      <td>0.513321</td>\n",
              "      <td>0.037128</td>\n",
              "      <td>0.469682</td>\n",
              "      <td>0.043640</td>\n",
              "      <td>0.267000</td>\n",
              "      <td>0.086817</td>\n",
              "    </tr>\n",
              "  </tbody>\n",
              "</table>\n",
              "</div>"
            ],
            "text/plain": [
              "    Scenario  sigma     N  ...  Loss_ExcessRisk  Error_Mean  Error_StdDev\n",
              "0          1   0.10    50  ...         0.176991    0.370250      0.205031\n",
              "1          1   0.10   100  ...         0.115154    0.297000      0.178706\n",
              "2          1   0.10   500  ...         0.071462    0.065667      0.083661\n",
              "3          1   0.10  1000  ...         0.057592    0.044000      0.062987\n",
              "4          1   0.35    50  ...         0.147189    0.343000      0.119033\n",
              "5          1   0.35   100  ...         0.137892    0.324333      0.119097\n",
              "6          1   0.35   500  ...         0.052075    0.219250      0.048232\n",
              "7          1   0.35  1000  ...         0.040338    0.179083      0.026610\n",
              "8          2   0.10    50  ...         0.238420    0.297750      0.279553\n",
              "9          2   0.10   100  ...         0.118830    0.292000      0.219016\n",
              "10         2   0.10   500  ...         0.046325    0.038167      0.106164\n",
              "11         2   0.10  1000  ...         0.028723    0.003417      0.008203\n",
              "12         2   0.35    50  ...         0.176790    0.422750      0.192949\n",
              "13         2   0.35   100  ...         0.133988    0.361917      0.122039\n",
              "14         2   0.35   500  ...         0.088722    0.298833      0.102942\n",
              "15         2   0.35  1000  ...         0.043640    0.267000      0.086817\n",
              "\n",
              "[16 rows x 10 columns]"
            ]
          },
          "metadata": {
            "tags": []
          },
          "execution_count": 56
        }
      ]
    },
    {
      "cell_type": "markdown",
      "metadata": {
        "id": "HQPvINDl18k2"
      },
      "source": [
        "##### Plot grid"
      ]
    },
    {
      "cell_type": "code",
      "metadata": {
        "id": "rJzILW4Y17TC"
      },
      "source": [
        "def plot_result(estimator, result_df):\n",
        "    '''\n",
        "    estimator: \n",
        "        0 is for [\"Loss_ExcessRisk\", \"Loss_StdDev\"]\n",
        "        1 is for [\"Error_Mean\", \"Error_StdDev\"]\n",
        "    result_df:\n",
        "        result table above\n",
        "    \n",
        "    '''\n",
        "    if estimator == 0:\n",
        "        col = [\"Loss_ExcessRisk\", \"Loss_StdDev\"]\n",
        "    else:\n",
        "        col = [\"Error_Mean\", \"Error_StdDev\"]\n",
        "        \n",
        "    fig = plt.figure(figsize = (16, 10))\n",
        "    index = 0\n",
        "    for senario in [1, 2]:\n",
        "        for sigma in [0.1, 0.35]:\n",
        "            index += 1\n",
        "            plt.subplot(2, 2, index)\n",
        "            df = result_df[np.logical_and(result_df[\"Scenario\"] == senario, result_df[\"sigma\"] == sigma)]\n",
        "            excess_risk, excess_risk_var = df[col[0]], df[col[1]]\n",
        "\n",
        "            plt.plot(train_bs, excess_risk, '-o', label = col[0])\n",
        "            plt.errorbar(train_bs, excess_risk, excess_risk_var)\n",
        "\n",
        "            plt.xlabel(\"N\", fontsize = 12)\n",
        "            plt.xticks(fontsize = 12)\n",
        "            plt.ylabel(\"Risk\", fontsize = 12)\n",
        "            plt.yticks(fontsize = 12)\n",
        "            plt.title(\"Scenario \" + str(senario) + \", Sigma=\" + str(sigma), fontsize=15) \n",
        "    fig.legend(col, loc = \"upper right\", fontsize = 13)\n",
        "    plt.tight_layout()\n",
        "    plt.show()"
      ],
      "execution_count": 57,
      "outputs": []
    },
    {
      "cell_type": "markdown",
      "metadata": {
        "id": "LFfG6N4ri2-D"
      },
      "source": [
        "###### Plot excess risk"
      ]
    },
    {
      "cell_type": "code",
      "metadata": {
        "colab": {
          "base_uri": "https://localhost:8080/",
          "height": 552
        },
        "id": "IjXrdqjsi2-D",
        "outputId": "47de4d4c-9c3b-4cf9-d236-a922121dd347"
      },
      "source": [
        "plot_result(0, result_df)"
      ],
      "execution_count": 58,
      "outputs": [
        {
          "output_type": "display_data",
          "data": {
            "image/png": "[encoded data removed]",
            "text/plain": [
              "<Figure size 1152x720 with 4 Axes>"
            ]
          },
          "metadata": {
            "tags": [],
            "needs_background": "light"
          }
        }
      ]
    },
    {
      "cell_type": "markdown",
      "metadata": {
        "id": "GqkkaFAS3p4S"
      },
      "source": [
        "###### Plot classification error"
      ]
    },
    {
      "cell_type": "code",
      "metadata": {
        "colab": {
          "base_uri": "https://localhost:8080/",
          "height": 552
        },
        "id": "HFdxVESki2-D",
        "outputId": "78c25970-c989-4232-9e69-b2a9a5f5c0f3"
      },
      "source": [
        "plot_result(1, result_df)"
      ],
      "execution_count": 59,
      "outputs": [
        {
          "output_type": "display_data",
          "data": {
            "image/png": "[encoded data removed]",
            "text/plain": [
              "<Figure size 1152x720 with 4 Axes>"
            ]
          },
          "metadata": {
            "tags": [],
            "needs_background": "light"
          }
        }
      ]
    }
  ]
}