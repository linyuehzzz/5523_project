{
  "nbformat": 4,
  "nbformat_minor": 0,
  "metadata": {
    "colab": {
      "name": "sgd.ipynb",
      "provenance": [],
      "collapsed_sections": [],
      "toc_visible": true,
      "authorship_tag": "ABX9TyPU2F7LHdK1/qGhxS3yhYBl",
      "include_colab_link": true
    },
    "kernelspec": {
      "name": "python3",
      "display_name": "Python 3"
    }
  },
  "cells": [
    {
      "cell_type": "markdown",
      "metadata": {
        "id": "view-in-github",
        "colab_type": "text"
      },
      "source": [
        "<a href=\"https://colab.research.google.com/github/linyuehzzz/5523_project/blob/main/sgd.ipynb\" target=\"_parent\"><img src=\"https://colab.research.google.com/assets/colab-badge.svg\" alt=\"Open In Colab\"/></a>"
      ]
    },
    {
      "cell_type": "markdown",
      "metadata": {
        "id": "FlILGcNEEW0E"
      },
      "source": [
        "##**Stochastic Gradient Descent for Logistic Regression**\n",
        "This code implements and tests the SGD algorithm for logistic regression\n",
        "in different scenarios.  \n",
        "Yifei Zhang (zhang.5387 at osu edu), Yue Lin (lin.3326 at osu.edu)  \n",
        "Created: 11/12/2020"
      ]
    },
    {
      "cell_type": "markdown",
      "metadata": {
        "id": "qGQmKFIeFYKY"
      },
      "source": [
        "#### **Set up libraries**"
      ]
    },
    {
      "cell_type": "code",
      "metadata": {
        "id": "BUex5ElWFaHO"
      },
      "source": [
        "import numpy as np\n",
        "import random\n",
        "import matplotlib.pyplot as plt\n",
        "import pandas as pd"
      ],
      "execution_count": 64,
      "outputs": []
    },
    {
      "cell_type": "markdown",
      "metadata": {
        "id": "YXnNnylopljK"
      },
      "source": [
        "#### **Project**"
      ]
    },
    {
      "cell_type": "markdown",
      "metadata": {
        "id": "MzHKV3T7pvFo"
      },
      "source": [
        "##### Projection function for hypercube"
      ]
    },
    {
      "cell_type": "code",
      "metadata": {
        "id": "9ewruRRFp0kP"
      },
      "source": [
        "def cube_prj(sample):\n",
        "    '''\n",
        "    This function projects both domain and parameter sets to a hypercube.\n",
        "\n",
        "    sample: features or gradients, 1*d array (d: #dimension)\n",
        "\n",
        "    return: \n",
        "        the projected vector onto a hypercube with edge length 2 and centered around the origin\n",
        "    '''\n",
        "    return [np.sign(i) * min(np.abs(i), 1) for i in sample]"
      ],
      "execution_count": 65,
      "outputs": []
    },
    {
      "cell_type": "markdown",
      "metadata": {
        "id": "9mrnAQvYqI8q"
      },
      "source": [
        "##### Projection function for unit ball"
      ]
    },
    {
      "cell_type": "code",
      "metadata": {
        "id": "kyUbRJAKqRsd"
      },
      "source": [
        "def ball_prj(sample):\n",
        "    '''\n",
        "    This function projects both domain and parameter sets to a unit ball.\n",
        "\n",
        "    sample: features or gradients, 1*d array (d: #dimension)\n",
        "\n",
        "    return: \n",
        "        the projected vector onto a unit ball centered around the origin\n",
        "    '''\n",
        "    if np.linalg.norm(sample, ord=2) > 1:\n",
        "        return sample / np.linalg.norm(sample, ord=2)\n",
        "    else:\n",
        "        return sample"
      ],
      "execution_count": 66,
      "outputs": []
    },
    {
      "cell_type": "markdown",
      "metadata": {
        "id": "eZXfvRgKqXV2"
      },
      "source": [
        "##### Project data"
      ]
    },
    {
      "cell_type": "code",
      "metadata": {
        "id": "6dwzkd6WqW7X"
      },
      "source": [
        "def prj_data(x, y, prj_code):\n",
        "    '''\n",
        "    This function projects the domain set in terms for two scenarios.\n",
        "\n",
        "    X: feature vectors, n*d array (n: #sample, d: #dimension)\n",
        "    y: labels, 1*n array with values of -1 or +1\n",
        "    prj_code: type of projection, 0 for cube, 1 for ball\n",
        "\n",
        "    return:\n",
        "        prj_x: projected feature vectors \n",
        "        y: labels, same as the input\n",
        "    '''\n",
        "    if prj_code == 0:\n",
        "        prj_x = np.apply_along_axis(cube_prj, 1, x)\n",
        "    elif prj_code == 1:\n",
        "        prj_x = np.apply_along_axis(ball_prj, 1, x)\n",
        "    else:\n",
        "        print(\"Please input correct code for projection type: 0 for cube, 1 for ball\")\n",
        "      \n",
        "    b = np.ones((prj_x.shape[0], 1))\n",
        "    prj_x = np.append(prj_x, b, axis=1)\n",
        "    return prj_x, y"
      ],
      "execution_count": 67,
      "outputs": []
    },
    {
      "cell_type": "markdown",
      "metadata": {
        "id": "eiUQqYKLvAuY"
      },
      "source": [
        "##### Project gradient"
      ]
    },
    {
      "cell_type": "code",
      "metadata": {
        "id": "6ThWld5kvaBT"
      },
      "source": [
        "def prj_grad(g, prj_code):\n",
        "    '''\n",
        "    This function projects the parameter set for two scenarios.\n",
        "\n",
        "    g: gradients, 1*d array (d: #dimension)\n",
        "    prj_code: type of projection, 0 for cube, 1 for ball\n",
        "\n",
        "    return:\n",
        "        prj_g: projected gradients\n",
        "    '''\n",
        "    if prj_code == 0:\n",
        "        prj_g = cube_prj(g)\n",
        "    elif prj_code == 1:\n",
        "        prj_g = ball_prj(g)\n",
        "    else:\n",
        "        print(\"Please input correct code for projection type: 0 for cube, 1 for ball\")\n",
        "    return prj_g"
      ],
      "execution_count": 68,
      "outputs": []
    },
    {
      "cell_type": "markdown",
      "metadata": {
        "id": "tu0jhwwRF5ls"
      },
      "source": [
        "#### **Prepare data**"
      ]
    },
    {
      "cell_type": "code",
      "metadata": {
        "id": "yMDzFiFcrsg8"
      },
      "source": [
        "def gen_data(sig, n, d_dimension):\n",
        "    '''\n",
        "    This function generates the data for training and test.\n",
        "\n",
        "    sig: standard deviation of the Gaussian function\n",
        "    n: number of samples\n",
        "    d_dimension: dimensionality of the feature vectors\n",
        "    \n",
        "    Return:\n",
        "        X: feature vectors, n*d array (n: #sample, d: #dimension)\n",
        "        y: labels, 1*n array with values of -1 and +1\n",
        "    '''\n",
        "    # d_dimension = 4\n",
        "    y = np.random.choice([-1, 1], p = [0.5, 0.5], size = n)\n",
        "    x = np.array([])\n",
        "    for i in range(n):\n",
        "        if y[i] == -1:\n",
        "            mu = -(1 / 4)\n",
        "            negvec = np.random.normal(mu, sig, d_dimension)\n",
        "            x = np.concatenate([x, negvec], axis=0)\n",
        "        else:\n",
        "            mu = (1 / 4)\n",
        "            posvec = np.random.normal(mu, sig, d_dimension)\n",
        "            x = np.concatenate([x, posvec], axis=0)\n",
        "    x = np.reshape(x, (n, d_dimension))\n",
        "    return x, y"
      ],
      "execution_count": 69,
      "outputs": []
    },
    {
      "cell_type": "markdown",
      "metadata": {
        "id": "aAzwTZ79M6oi"
      },
      "source": [
        "#### **Train**\n",
        "https://machinelearningmastery.com/implement-logistic-regression-stochastic-gradient-descent-scratch-python/"
      ]
    },
    {
      "cell_type": "markdown",
      "metadata": {
        "id": "iJfOdxzt4M5T"
      },
      "source": [
        "##### Estimate logistic loss"
      ]
    },
    {
      "cell_type": "code",
      "metadata": {
        "id": "q_3nPdw4BJV0"
      },
      "source": [
        "def log_loss(X, y, w):\n",
        "    '''\n",
        "    This function outputs the logistic loss.\n",
        "\n",
        "    X: feature vector, 1*d array (d: #dimension)\n",
        "    y: label\n",
        "    w: weight vector, 1*d array\n",
        "    \n",
        "    Return: logistic loss\n",
        "    '''\n",
        "    return np.log(1 + np.exp(-y * np.dot(w.T, X)))"
      ],
      "execution_count": 70,
      "outputs": []
    },
    {
      "cell_type": "markdown",
      "metadata": {
        "id": "mnfgixZxQqvj"
      },
      "source": [
        "##### Estimate classification error"
      ]
    },
    {
      "cell_type": "code",
      "metadata": {
        "id": "DZdcop9KQuGF"
      },
      "source": [
        "def err(X, y, w):\n",
        "    '''\n",
        "    This function outputs the classification error.\n",
        "\n",
        "    X: feature vector, 1*d array (d: #dimension)\n",
        "    y: label\n",
        "    w: weight vector, 1*d array\n",
        "    \n",
        "    Return: classification error\n",
        "    '''\n",
        "    return 0 if np.sign(np.dot(w.T, X)) == y else 1"
      ],
      "execution_count": 71,
      "outputs": []
    },
    {
      "cell_type": "markdown",
      "metadata": {
        "id": "XsiXCaLYCn6n"
      },
      "source": [
        "##### SGD"
      ]
    },
    {
      "cell_type": "code",
      "metadata": {
        "id": "O2-5n_kwCnth"
      },
      "source": [
        "def sdg(train_x, train_y):\n",
        "    '''\n",
        "    train_x: feature vectors one batch\n",
        "    train_y: lables in one batch\n",
        "    return: \n",
        "            w: weight vector trained on one batch\n",
        "    '''\n",
        "    w_all = []\n",
        "    w_t = np.zeros(train_x.shape[1])\n",
        "    for idx in range(train_x.shape[0]):\n",
        "        # Read data\n",
        "        X = train_x[idx]\n",
        "        y = train_y[idx]\n",
        "        w_t = np.array(w_t)\n",
        "        # Calculate gradient\n",
        "        g = (-y * X * np.exp(-y * np.dot(w_t.T, X)) / (1 + np.exp(-y * np.dot(w_t.T, X))))\n",
        "        # Project gradient\n",
        "        w_t = prj_grad(np.add(w_t, np.multiply(-l_rate, g)), prj_code)\n",
        "        # Backward propagation\n",
        "        w_all.append(w_t)\n",
        "    return np.average(np.array(w_all), axis=0)"
      ],
      "execution_count": 72,
      "outputs": []
    },
    {
      "cell_type": "markdown",
      "metadata": {
        "id": "lE93wIbQc9Is"
      },
      "source": [
        "##### Estimate weight vector using SGD"
      ]
    },
    {
      "cell_type": "code",
      "metadata": {
        "id": "Jb_QkJsIc8Vh"
      },
      "source": [
        "def train(train_x, train_y, test_x, test_y, l_rate, n_epoch, bs, prj_code):\n",
        "    '''\n",
        "    This function implements and tests the SGD algorithm for logistic regression.\n",
        "\n",
        "    train_x: feature vectors for training, n*d array (n: #sample, d: #dimension)\n",
        "    train_y: labels for training, 1*n array\n",
        "    test_x: feature vectors for test, n*d array (n: #sample, d: #dimension)\n",
        "    test_y: labels for test, 1*n array\n",
        "    l_rate: learning rate\n",
        "    n_epoch: number of trials\n",
        "    bs: training set size\n",
        "    prj_code: type of projection, 0 for cube, 1 for ball\n",
        "    \n",
        "    Return: \n",
        "        w: final weights\n",
        "        risk_ave: average risk\n",
        "        risk_min: minimum of all risks\n",
        "        risk_var: standard deviation of all risks\n",
        "        exp_excess_risk: expected excess risk\n",
        "        cls_err_ave: average classification error\n",
        "        cls_err_var: standard deviation of all classification errors\n",
        "    '''\n",
        "    risk_all = []\n",
        "    cls_err_all = []\n",
        "\n",
        "    for epoch in range(n_epoch):\n",
        "        risk = cls_err = 0.\n",
        "        train_x0 = train_x[epoch * bs: (epoch + 1) * bs] ## use current batch to for trainning\n",
        "        train_y0 = train_y[epoch * bs: (epoch + 1) * bs] ## use current batch to for trainning\n",
        "        w = sdg(train_x0, train_y0)\n",
        "    \n",
        "        # Evaluate\n",
        "        for idx in range(test_x.shape[0]):\n",
        "            # Read data\n",
        "            X = test_x[idx]\n",
        "            y = test_y[idx]\n",
        "            # Evaluate\n",
        "            risk += log_loss(X, y, w) / test_x.shape[0]\n",
        "            cls_err += err(X, y, w) / test_x.shape[0]\n",
        "    \n",
        "        risk_all = np.append(risk_all, risk)\n",
        "        cls_err_all = np.append(cls_err_all, cls_err)\n",
        "        # print('>epoch=%d, lrate=%.3f, risk=%.3f, classification error=%.3f' % (epoch, l_rate, risk, cls_err))\n",
        "  \n",
        "    # Report risk\n",
        "    # print(risk_all, cls_err_all)\n",
        "    risk_ave = np.average(risk_all)\n",
        "    risk_min = np.amin(risk_all)\n",
        "    risk_var = np.sqrt(np.var(risk_all))\n",
        "    exp_excess_risk = risk_ave - risk_min\n",
        "    # Report classification error\n",
        "    cls_err_ave = np.average(cls_err_all)\n",
        "    cls_err_var = np.sqrt(np.var(cls_err_all))\n",
        "    return [w, risk_ave, risk_min, risk_var, exp_excess_risk, cls_err_ave, cls_err_var]"
      ],
      "execution_count": 73,
      "outputs": []
    },
    {
      "cell_type": "markdown",
      "metadata": {
        "id": "q3SH2Dm7d71V"
      },
      "source": [
        "#### **Wrapper test**"
      ]
    },
    {
      "cell_type": "markdown",
      "metadata": {
        "id": "C0-3MK6Pk7mU"
      },
      "source": [
        "##### Generate data and train"
      ]
    },
    {
      "cell_type": "code",
      "metadata": {
        "id": "iJ68DlKXd6rP",
        "colab": {
          "base_uri": "https://localhost:8080/"
        },
        "outputId": "1ae07ea8-5507-46be-a300-21f2984c2d0d"
      },
      "source": [
        "# Fixed hyperparameters\n",
        "n_epoch = 30    # training epochs\n",
        "test_n = 400    # size of test set\n",
        "\n",
        "# Unfixed hyperparameters\n",
        "prj_code = 1    # code for two scenario: 0 for cube, 1 for ball\n",
        "l_rate = 0.16  # learning rate: 0.04 for cube, 0.18 for ball\n",
        "train_bs = np.array([50, 100, 500, 1000])   # batch size for each training epoch\n",
        "sigma = 0.1     # variance of Gaussian distribution\n",
        "d_dimension = 4\n",
        "\n",
        "# np.random.seed(0)\n",
        "\n",
        "excess_risk = []\n",
        "cls_error = []\n",
        "excess_risk_var = []\n",
        "cls_error_var = []\n",
        "\n",
        "for bs in train_bs:\n",
        "    # Generate training data\n",
        "    train_x, train_y = gen_data(sigma, bs * n_epoch, d_dimension)\n",
        "    train_px, train_py = prj_data(train_x, train_y, prj_code)\n",
        "\n",
        "    # Generate test data\n",
        "    test_x, test_y = gen_data(sigma, test_n, d_dimension)\n",
        "    test_px, test_py = prj_data(test_x, test_y, prj_code)\n",
        "\n",
        "    # Train\n",
        "    output = train(train_px, train_py, test_px, test_py, l_rate, n_epoch, bs, prj_code)\n",
        "    print(output)\n",
        "    print('>scenario=%d, sigma=%.2f, n=%d, log_loss_mean=%.3f, log_loss_std_dev=%.3f, log_loss_min=%.3f, \\\n",
        "            excess_risk=%.3f, cls_error_mean=%.3f, cls_error_std_dev=%.3f' \n",
        "            % (prj_code+1, sigma, bs, output[1], output[3], output[2], output[4], output[5], output[6]))\n",
        "    \n",
        "    excess_risk = np.append(excess_risk, output[4], axis=None)\n",
        "    cls_error = np.append(cls_error, output[5],  axis=None)\n",
        "    excess_risk_var = np.append(excess_risk_var, output[3], axis=None)\n",
        "    cls_error_var = np.append(cls_error_var, output[6],  axis=None)"
      ],
      "execution_count": 74,
      "outputs": [
        {
          "output_type": "stream",
          "text": [
            "[array([0.3744133 , 0.3927996 , 0.35683688, 0.34664222, 0.20370563]), 0.5335345339521229, 0.5243968290592895, 0.006107054255037317, 0.009137704892833387, 0.014916666666666668, 0.026319220902011692]\n",
            ">scenario=2, sigma=0.10, n=50, log_loss_mean=0.534, log_loss_std_dev=0.006, log_loss_min=0.524,             excess_risk=0.009, cls_error_mean=0.015, cls_error_std_dev=0.026\n",
            "[array([ 0.42616915,  0.42959132,  0.43580235,  0.43469545, -0.09872164]), 0.5050671923945232, 0.5017356815809559, 0.003017145106202241, 0.0033315108135673066, 0.0003333333333333333, 0.001404358295529393]\n",
            ">scenario=2, sigma=0.10, n=100, log_loss_mean=0.505, log_loss_std_dev=0.003, log_loss_min=0.502,             excess_risk=0.003, cls_error_mean=0.000, cls_error_std_dev=0.001\n",
            "[array([ 0.48499799,  0.47776798,  0.47003138,  0.4878303 , -0.02222235]), 0.48267224632236405, 0.4804573593373066, 0.0014069399847521154, 0.0022148869850574515, 0.0, 0.0]\n",
            ">scenario=2, sigma=0.10, n=500, log_loss_mean=0.483, log_loss_std_dev=0.001, log_loss_min=0.480,             excess_risk=0.002, cls_error_mean=0.000, cls_error_std_dev=0.000\n",
            "[array([0.47833374, 0.491884  , 0.4923058 , 0.48272511, 0.01880165]), 0.4810675084425359, 0.48010788335254645, 0.0004718280543654398, 0.0009596250899894243, 0.0, 0.0]\n",
            ">scenario=2, sigma=0.10, n=1000, log_loss_mean=0.481, log_loss_std_dev=0.000, log_loss_min=0.480,             excess_risk=0.001, cls_error_mean=0.000, cls_error_std_dev=0.000\n"
          ],
          "name": "stdout"
        }
      ]
    },
    {
      "cell_type": "markdown",
      "metadata": {
        "id": "saT_I5DNk0rq"
      },
      "source": [
        "##### Plot excess risk"
      ]
    },
    {
      "cell_type": "code",
      "metadata": {
        "id": "dkARytwCk0Zj",
        "colab": {
          "base_uri": "https://localhost:8080/",
          "height": 297
        },
        "outputId": "a955fafe-acea-4fc5-8871-a0695a0d87eb"
      },
      "source": [
        "plt.plot(train_bs, excess_risk, '-o', label='Excess risk')\n",
        "plt.errorbar(train_bs, excess_risk, excess_risk_var)\n",
        "plt.legend()\n",
        "plt.tight_layout()\n",
        "plt.show()"
      ],
      "execution_count": 75,
      "outputs": [
        {
          "output_type": "display_data",
          "data": {
            "image/png": "[encoded data removed]",
            "text/plain": [
              "<Figure size 432x288 with 1 Axes>"
            ]
          },
          "metadata": {
            "tags": [],
            "needs_background": "light"
          }
        }
      ]
    },
    {
      "cell_type": "markdown",
      "metadata": {
        "id": "xTAnpHKcoI1N"
      },
      "source": [
        "##### Plot classification error"
      ]
    },
    {
      "cell_type": "code",
      "metadata": {
        "id": "HIBfEnVRoMgT",
        "colab": {
          "base_uri": "https://localhost:8080/",
          "height": 297
        },
        "outputId": "833f269b-79a3-485b-b48c-4e1ac2ffd039"
      },
      "source": [
        "plt.plot(train_bs, cls_error, '-o', label='Classification error')\n",
        "plt.errorbar(train_bs, cls_error, cls_error_var)\n",
        "plt.legend()\n",
        "plt.tight_layout()\n",
        "plt.show()"
      ],
      "execution_count": 76,
      "outputs": [
        {
          "output_type": "display_data",
          "data": {
            "image/png": "[encoded data removed]",
            "text/plain": [
              "<Figure size 432x288 with 1 Axes>"
            ]
          },
          "metadata": {
            "tags": [],
            "needs_background": "light"
          }
        }
      ]
    },
    {
      "cell_type": "markdown",
      "metadata": {
        "id": "VkFoAOYv0sKN"
      },
      "source": [
        "#### **Wrapper**"
      ]
    },
    {
      "cell_type": "code",
      "metadata": {
        "id": "whKZGg6u1T_P"
      },
      "source": [
        "# Set up hyperparameters\n",
        "n_epoch = 30    # training epochs\n",
        "test_n = 400    # size of test set\n",
        "d_dimension = 4\n",
        "train_bs = np.array([50, 100, 500, 1000])  # batch size for each training epoch\n",
        "\n",
        "np.random.seed(4)"
      ],
      "execution_count": 89,
      "outputs": []
    },
    {
      "cell_type": "markdown",
      "metadata": {
        "id": "D-4LlMyk1ecf"
      },
      "source": [
        "##### Run all experiments"
      ]
    },
    {
      "cell_type": "code",
      "metadata": {
        "id": "0_gFZQDT1W_U",
        "colab": {
          "base_uri": "https://localhost:8080/"
        },
        "outputId": "f2171451-1ab4-4875-d3af-52a43e1d81a1"
      },
      "source": [
        "result_list = []\n",
        "for prj_code in [0, 1]:\n",
        "    for sigma in [0.1, 0.35]:\n",
        "        for bs in train_bs:\n",
        "\n",
        "            if prj_code == 0:\n",
        "                rho = np.sqrt(d_dimension + 1)\n",
        "                m = 2 * np.sqrt(d_dimension + 1)\n",
        "            else:\n",
        "                rho = np.sqrt(2)\n",
        "                m = 2\n",
        "            \n",
        "            l_rate = m / (rho * np.sqrt(bs))\n",
        "\n",
        "            # Generate training data\n",
        "            train_x, train_y = gen_data(sigma, bs * n_epoch, d_dimension)\n",
        "            train_px, train_py = prj_data(train_x, train_y, prj_code)\n",
        "\n",
        "            # Generate test data\n",
        "            test_x, test_y = gen_data(sigma, test_n, d_dimension)\n",
        "            test_px, test_py = prj_data(test_x, test_y, prj_code)\n",
        "\n",
        "            # Train\n",
        "            output = train(train_px, train_py, test_px, test_py, l_rate, n_epoch, bs, prj_code)\n",
        "\n",
        "            print(output)\n",
        "            print('>scenario=%d, sigma=%.2f, n=%d, lr=%.2f, log_loss_mean=%.3f, log_loss_std_dev=%.3f, log_loss_min=%.3f, \\\n",
        "                excess_risk=%.3f, cls_error_mean=%.3f, cls_error_std_dev=%.3f' \n",
        "                % (prj_code+1, sigma, bs, l_rate, output[1], output[3], output[2], output[4], output[5], output[6]))\n",
        "            result = [prj_code + 1, sigma, bs, n_epoch,output[1], output[3], output[2], output[4], output[5], output[6]]\n",
        "            result_list.append(result)"
      ],
      "execution_count": 90,
      "outputs": [
        {
          "output_type": "stream",
          "text": [
            "[array([0.68234056, 0.71372647, 0.7123906 , 0.68696536, 0.04203999]), 0.4185615074575312, 0.40399525421443605, 0.00875290352037952, 0.014566253243095129, 0.0010833333333333333, 0.003962497809322914]\n",
            ">scenario=1, sigma=0.10, n=50, lr=0.28, log_loss_mean=0.419, log_loss_std_dev=0.009, log_loss_min=0.404,                 excess_risk=0.015, cls_error_mean=0.001, cls_error_std_dev=0.004\n",
            "[array([ 0.77077816,  0.71456118,  0.74844444,  0.77495381, -0.19130667]), 0.38785187765986334, 0.3810592560051286, 0.0036007959222030092, 0.006792621654734765, 8.333333333333333e-05, 0.0004487637339278754]\n",
            ">scenario=1, sigma=0.10, n=100, lr=0.20, log_loss_mean=0.388, log_loss_std_dev=0.004, log_loss_min=0.381,                 excess_risk=0.007, cls_error_mean=0.000, cls_error_std_dev=0.000\n",
            "[array([0.89389088, 0.89140508, 0.89501314, 0.89433571, 0.12972752]), 0.34769550755332534, 0.3463566476817184, 0.0007342871843126639, 0.0013388598716069233, 0.0, 0.0]\n",
            ">scenario=1, sigma=0.10, n=500, lr=0.09, log_loss_mean=0.348, log_loss_std_dev=0.001, log_loss_min=0.346,                 excess_risk=0.001, cls_error_mean=0.000, cls_error_std_dev=0.000\n",
            "[array([0.91281344, 0.92966469, 0.92216972, 0.92675892, 0.09347783]), 0.33925854763963575, 0.33812156042920943, 0.0007082377796305396, 0.0011369872104263212, 0.0, 0.0]\n",
            ">scenario=1, sigma=0.10, n=1000, lr=0.06, log_loss_mean=0.339, log_loss_std_dev=0.001, log_loss_min=0.338,                 excess_risk=0.001, cls_error_mean=0.000, cls_error_std_dev=0.000\n",
            "[array([0.72100445, 0.65035398, 0.76691189, 0.46459076, 0.1467954 ]), 0.46456650005963335, 0.43887395202226787, 0.01759176795405355, 0.02569254803736548, 0.10350000000000008, 0.03356957948301808]\n",
            ">scenario=1, sigma=0.35, n=50, lr=0.28, log_loss_mean=0.465, log_loss_std_dev=0.018, log_loss_min=0.439,                 excess_risk=0.026, cls_error_mean=0.104, cls_error_std_dev=0.034\n",
            "[array([ 0.58511484,  0.75347091,  0.71068642,  0.61782624, -0.14271226]), 0.4270018567321048, 0.413489449859149, 0.007681641412565573, 0.013512406872955796, 0.09625000000000003, 0.012889756915215028]\n",
            ">scenario=1, sigma=0.35, n=100, lr=0.20, log_loss_mean=0.427, log_loss_std_dev=0.008, log_loss_min=0.413,                 excess_risk=0.014, cls_error_mean=0.096, cls_error_std_dev=0.013\n",
            "[array([ 0.85660163,  0.88635522,  0.87780649,  0.88931101, -0.12160499]), 0.38028105667377593, 0.3758189726608115, 0.0021989766988872376, 0.00446208401296444, 0.08625000000000006, 0.007381000383868488]\n",
            ">scenario=1, sigma=0.35, n=500, lr=0.09, log_loss_mean=0.380, log_loss_std_dev=0.002, log_loss_min=0.376,                 excess_risk=0.004, cls_error_mean=0.086, cls_error_std_dev=0.007\n",
            "[array([0.88804708, 0.89991258, 0.92981073, 0.90705894, 0.00310956]), 0.37290194100322543, 0.37135555340206833, 0.0010152207745410262, 0.0015463876011571065, 0.07008333333333336, 0.0025399584423546973]\n",
            ">scenario=1, sigma=0.35, n=1000, lr=0.06, log_loss_mean=0.373, log_loss_std_dev=0.001, log_loss_min=0.371,                 excess_risk=0.002, cls_error_mean=0.070, cls_error_std_dev=0.003\n",
            "[array([0.39532032, 0.39038017, 0.36407708, 0.41605563, 0.15891928]), 0.5177612853555008, 0.5086928636967624, 0.006740774684549163, 0.009068421658738446, 0.015916666666666676, 0.06339191369742853]\n",
            ">scenario=2, sigma=0.10, n=50, lr=0.20, log_loss_mean=0.518, log_loss_std_dev=0.007, log_loss_min=0.509,                 excess_risk=0.009, cls_error_mean=0.016, cls_error_std_dev=0.063\n",
            "[array([ 0.42884072,  0.43033637,  0.39675501,  0.40572294, -0.1603235 ]), 0.5062151259980704, 0.5025313380378954, 0.00275430463055189, 0.003683787960174989, 8.333333333333333e-05, 0.00044876373392787537]\n",
            ">scenario=2, sigma=0.10, n=100, lr=0.14, log_loss_mean=0.506, log_loss_std_dev=0.003, log_loss_min=0.503,                 excess_risk=0.004, cls_error_mean=0.000, cls_error_std_dev=0.000\n",
            "[array([0.46626349, 0.45765953, 0.45783016, 0.46948064, 0.01562861]), 0.4887866434014437, 0.4874843677141357, 0.001266583717816009, 0.0013022756873079522, 0.0, 0.0]\n",
            ">scenario=2, sigma=0.10, n=500, lr=0.06, log_loss_mean=0.489, log_loss_std_dev=0.001, log_loss_min=0.487,                 excess_risk=0.001, cls_error_mean=0.000, cls_error_std_dev=0.000\n",
            "[array([ 0.46327157,  0.4830573 ,  0.46824515,  0.48157057, -0.01154536]), 0.4882055062809104, 0.48703637032456826, 0.0008815988770338803, 0.00116913595634216, 0.0, 0.0]\n",
            ">scenario=2, sigma=0.10, n=1000, lr=0.04, log_loss_mean=0.488, log_loss_std_dev=0.001, log_loss_min=0.487,                 excess_risk=0.001, cls_error_mean=0.000, cls_error_std_dev=0.000\n",
            "[array([ 0.38520932,  0.31124723,  0.42461152,  0.40285612, -0.16477643]), 0.5468552539058976, 0.5329571314362188, 0.010036279417828402, 0.013898122469678809, 0.12850000000000003, 0.06557629144744316]\n",
            ">scenario=2, sigma=0.35, n=50, lr=0.20, log_loss_mean=0.547, log_loss_std_dev=0.010, log_loss_min=0.533,                 excess_risk=0.014, cls_error_mean=0.129, cls_error_std_dev=0.066\n",
            "[array([ 0.32989659,  0.39608278,  0.44092493,  0.46486908, -0.06143299]), 0.5341138352726773, 0.5272850851290194, 0.005336145387810163, 0.0068287501436579134, 0.0946666666666667, 0.022264820282729053]\n",
            ">scenario=2, sigma=0.35, n=100, lr=0.14, log_loss_mean=0.534, log_loss_std_dev=0.005, log_loss_min=0.527,                 excess_risk=0.007, cls_error_mean=0.095, cls_error_std_dev=0.022\n",
            "[array([0.41092516, 0.48374141, 0.42646595, 0.48610618, 0.04808648]), 0.506864434673534, 0.5047167745312904, 0.0012284980750197066, 0.002147660142243657, 0.07158333333333335, 0.005102423171613882]\n",
            ">scenario=2, sigma=0.35, n=500, lr=0.06, log_loss_mean=0.507, log_loss_std_dev=0.001, log_loss_min=0.505,                 excess_risk=0.002, cls_error_mean=0.072, cls_error_std_dev=0.005\n",
            "[array([0.47497444, 0.464387  , 0.46849094, 0.47574582, 0.00559695]), 0.5051852447842332, 0.5027680299560431, 0.0009972157370401144, 0.0024172148281901285, 0.07000000000000003, 0.003227486121839517]\n",
            ">scenario=2, sigma=0.35, n=1000, lr=0.04, log_loss_mean=0.505, log_loss_std_dev=0.001, log_loss_min=0.503,                 excess_risk=0.002, cls_error_mean=0.070, cls_error_std_dev=0.003\n"
          ],
          "name": "stdout"
        }
      ]
    },
    {
      "cell_type": "markdown",
      "metadata": {
        "id": "ytSebM2h1z2y"
      },
      "source": [
        "##### Plot table"
      ]
    },
    {
      "cell_type": "code",
      "metadata": {
        "colab": {
          "base_uri": "https://localhost:8080/",
          "height": 559
        },
        "id": "vhUYrS5Qi2-C",
        "outputId": "a2c9a500-edae-4c05-f783-18bb7f79f68c"
      },
      "source": [
        "column_name = [\"Scenario\", \"sigma\", \"N\", \"#trails\", \"Loss_Mean\", \"Loss_StdDev\", \"Loss_Min\", \"Loss_ExcessRisk\",\n",
        "             \"Error_Mean\", \"Error_StdDev\"]\n",
        "result_df = pd.DataFrame(result_list, columns = column_name)\n",
        "result_df"
      ],
      "execution_count": 91,
      "outputs": [
        {
          "output_type": "execute_result",
          "data": {
            "text/html": [
              "<div>\n",
              "<style scoped>\n",
              "    .dataframe tbody tr th:only-of-type {\n",
              "        vertical-align: middle;\n",
              "    }\n",
              "\n",
              "    .dataframe tbody tr th {\n",
              "        vertical-align: top;\n",
              "    }\n",
              "\n",
              "    .dataframe thead th {\n",
              "        text-align: right;\n",
              "    }\n",
              "</style>\n",
              "<table border=\"1\" class=\"dataframe\">\n",
              "  <thead>\n",
              "    <tr style=\"text-align: right;\">\n",
              "      <th></th>\n",
              "      <th>Scenario</th>\n",
              "      <th>sigma</th>\n",
              "      <th>N</th>\n",
              "      <th>#trails</th>\n",
              "      <th>Loss_Mean</th>\n",
              "      <th>Loss_StdDev</th>\n",
              "      <th>Loss_Min</th>\n",
              "      <th>Loss_ExcessRisk</th>\n",
              "      <th>Error_Mean</th>\n",
              "      <th>Error_StdDev</th>\n",
              "    </tr>\n",
              "  </thead>\n",
              "  <tbody>\n",
              "    <tr>\n",
              "      <th>0</th>\n",
              "      <td>1</td>\n",
              "      <td>0.10</td>\n",
              "      <td>50</td>\n",
              "      <td>30</td>\n",
              "      <td>0.418562</td>\n",
              "      <td>0.008753</td>\n",
              "      <td>0.403995</td>\n",
              "      <td>0.014566</td>\n",
              "      <td>0.001083</td>\n",
              "      <td>0.003962</td>\n",
              "    </tr>\n",
              "    <tr>\n",
              "      <th>1</th>\n",
              "      <td>1</td>\n",
              "      <td>0.10</td>\n",
              "      <td>100</td>\n",
              "      <td>30</td>\n",
              "      <td>0.387852</td>\n",
              "      <td>0.003601</td>\n",
              "      <td>0.381059</td>\n",
              "      <td>0.006793</td>\n",
              "      <td>0.000083</td>\n",
              "      <td>0.000449</td>\n",
              "    </tr>\n",
              "    <tr>\n",
              "      <th>2</th>\n",
              "      <td>1</td>\n",
              "      <td>0.10</td>\n",
              "      <td>500</td>\n",
              "      <td>30</td>\n",
              "      <td>0.347696</td>\n",
              "      <td>0.000734</td>\n",
              "      <td>0.346357</td>\n",
              "      <td>0.001339</td>\n",
              "      <td>0.000000</td>\n",
              "      <td>0.000000</td>\n",
              "    </tr>\n",
              "    <tr>\n",
              "      <th>3</th>\n",
              "      <td>1</td>\n",
              "      <td>0.10</td>\n",
              "      <td>1000</td>\n",
              "      <td>30</td>\n",
              "      <td>0.339259</td>\n",
              "      <td>0.000708</td>\n",
              "      <td>0.338122</td>\n",
              "      <td>0.001137</td>\n",
              "      <td>0.000000</td>\n",
              "      <td>0.000000</td>\n",
              "    </tr>\n",
              "    <tr>\n",
              "      <th>4</th>\n",
              "      <td>1</td>\n",
              "      <td>0.35</td>\n",
              "      <td>50</td>\n",
              "      <td>30</td>\n",
              "      <td>0.464567</td>\n",
              "      <td>0.017592</td>\n",
              "      <td>0.438874</td>\n",
              "      <td>0.025693</td>\n",
              "      <td>0.103500</td>\n",
              "      <td>0.033570</td>\n",
              "    </tr>\n",
              "    <tr>\n",
              "      <th>5</th>\n",
              "      <td>1</td>\n",
              "      <td>0.35</td>\n",
              "      <td>100</td>\n",
              "      <td>30</td>\n",
              "      <td>0.427002</td>\n",
              "      <td>0.007682</td>\n",
              "      <td>0.413489</td>\n",
              "      <td>0.013512</td>\n",
              "      <td>0.096250</td>\n",
              "      <td>0.012890</td>\n",
              "    </tr>\n",
              "    <tr>\n",
              "      <th>6</th>\n",
              "      <td>1</td>\n",
              "      <td>0.35</td>\n",
              "      <td>500</td>\n",
              "      <td>30</td>\n",
              "      <td>0.380281</td>\n",
              "      <td>0.002199</td>\n",
              "      <td>0.375819</td>\n",
              "      <td>0.004462</td>\n",
              "      <td>0.086250</td>\n",
              "      <td>0.007381</td>\n",
              "    </tr>\n",
              "    <tr>\n",
              "      <th>7</th>\n",
              "      <td>1</td>\n",
              "      <td>0.35</td>\n",
              "      <td>1000</td>\n",
              "      <td>30</td>\n",
              "      <td>0.372902</td>\n",
              "      <td>0.001015</td>\n",
              "      <td>0.371356</td>\n",
              "      <td>0.001546</td>\n",
              "      <td>0.070083</td>\n",
              "      <td>0.002540</td>\n",
              "    </tr>\n",
              "    <tr>\n",
              "      <th>8</th>\n",
              "      <td>2</td>\n",
              "      <td>0.10</td>\n",
              "      <td>50</td>\n",
              "      <td>30</td>\n",
              "      <td>0.517761</td>\n",
              "      <td>0.006741</td>\n",
              "      <td>0.508693</td>\n",
              "      <td>0.009068</td>\n",
              "      <td>0.015917</td>\n",
              "      <td>0.063392</td>\n",
              "    </tr>\n",
              "    <tr>\n",
              "      <th>9</th>\n",
              "      <td>2</td>\n",
              "      <td>0.10</td>\n",
              "      <td>100</td>\n",
              "      <td>30</td>\n",
              "      <td>0.506215</td>\n",
              "      <td>0.002754</td>\n",
              "      <td>0.502531</td>\n",
              "      <td>0.003684</td>\n",
              "      <td>0.000083</td>\n",
              "      <td>0.000449</td>\n",
              "    </tr>\n",
              "    <tr>\n",
              "      <th>10</th>\n",
              "      <td>2</td>\n",
              "      <td>0.10</td>\n",
              "      <td>500</td>\n",
              "      <td>30</td>\n",
              "      <td>0.488787</td>\n",
              "      <td>0.001267</td>\n",
              "      <td>0.487484</td>\n",
              "      <td>0.001302</td>\n",
              "      <td>0.000000</td>\n",
              "      <td>0.000000</td>\n",
              "    </tr>\n",
              "    <tr>\n",
              "      <th>11</th>\n",
              "      <td>2</td>\n",
              "      <td>0.10</td>\n",
              "      <td>1000</td>\n",
              "      <td>30</td>\n",
              "      <td>0.488206</td>\n",
              "      <td>0.000882</td>\n",
              "      <td>0.487036</td>\n",
              "      <td>0.001169</td>\n",
              "      <td>0.000000</td>\n",
              "      <td>0.000000</td>\n",
              "    </tr>\n",
              "    <tr>\n",
              "      <th>12</th>\n",
              "      <td>2</td>\n",
              "      <td>0.35</td>\n",
              "      <td>50</td>\n",
              "      <td>30</td>\n",
              "      <td>0.546855</td>\n",
              "      <td>0.010036</td>\n",
              "      <td>0.532957</td>\n",
              "      <td>0.013898</td>\n",
              "      <td>0.128500</td>\n",
              "      <td>0.065576</td>\n",
              "    </tr>\n",
              "    <tr>\n",
              "      <th>13</th>\n",
              "      <td>2</td>\n",
              "      <td>0.35</td>\n",
              "      <td>100</td>\n",
              "      <td>30</td>\n",
              "      <td>0.534114</td>\n",
              "      <td>0.005336</td>\n",
              "      <td>0.527285</td>\n",
              "      <td>0.006829</td>\n",
              "      <td>0.094667</td>\n",
              "      <td>0.022265</td>\n",
              "    </tr>\n",
              "    <tr>\n",
              "      <th>14</th>\n",
              "      <td>2</td>\n",
              "      <td>0.35</td>\n",
              "      <td>500</td>\n",
              "      <td>30</td>\n",
              "      <td>0.506864</td>\n",
              "      <td>0.001228</td>\n",
              "      <td>0.504717</td>\n",
              "      <td>0.002148</td>\n",
              "      <td>0.071583</td>\n",
              "      <td>0.005102</td>\n",
              "    </tr>\n",
              "    <tr>\n",
              "      <th>15</th>\n",
              "      <td>2</td>\n",
              "      <td>0.35</td>\n",
              "      <td>1000</td>\n",
              "      <td>30</td>\n",
              "      <td>0.505185</td>\n",
              "      <td>0.000997</td>\n",
              "      <td>0.502768</td>\n",
              "      <td>0.002417</td>\n",
              "      <td>0.070000</td>\n",
              "      <td>0.003227</td>\n",
              "    </tr>\n",
              "  </tbody>\n",
              "</table>\n",
              "</div>"
            ],
            "text/plain": [
              "    Scenario  sigma     N  ...  Loss_ExcessRisk  Error_Mean  Error_StdDev\n",
              "0          1   0.10    50  ...         0.014566    0.001083      0.003962\n",
              "1          1   0.10   100  ...         0.006793    0.000083      0.000449\n",
              "2          1   0.10   500  ...         0.001339    0.000000      0.000000\n",
              "3          1   0.10  1000  ...         0.001137    0.000000      0.000000\n",
              "4          1   0.35    50  ...         0.025693    0.103500      0.033570\n",
              "5          1   0.35   100  ...         0.013512    0.096250      0.012890\n",
              "6          1   0.35   500  ...         0.004462    0.086250      0.007381\n",
              "7          1   0.35  1000  ...         0.001546    0.070083      0.002540\n",
              "8          2   0.10    50  ...         0.009068    0.015917      0.063392\n",
              "9          2   0.10   100  ...         0.003684    0.000083      0.000449\n",
              "10         2   0.10   500  ...         0.001302    0.000000      0.000000\n",
              "11         2   0.10  1000  ...         0.001169    0.000000      0.000000\n",
              "12         2   0.35    50  ...         0.013898    0.128500      0.065576\n",
              "13         2   0.35   100  ...         0.006829    0.094667      0.022265\n",
              "14         2   0.35   500  ...         0.002148    0.071583      0.005102\n",
              "15         2   0.35  1000  ...         0.002417    0.070000      0.003227\n",
              "\n",
              "[16 rows x 10 columns]"
            ]
          },
          "metadata": {
            "tags": []
          },
          "execution_count": 91
        }
      ]
    },
    {
      "cell_type": "markdown",
      "metadata": {
        "id": "HQPvINDl18k2"
      },
      "source": [
        "##### Plot grid"
      ]
    },
    {
      "cell_type": "code",
      "metadata": {
        "id": "rJzILW4Y17TC"
      },
      "source": [
        "def plot_result(estimator, result_df):\n",
        "    '''\n",
        "    estimator: \n",
        "        0 is for [\"Loss_ExcessRisk\", \"Loss_StdDev\"]\n",
        "        1 is for [\"Error_Mean\", \"Error_StdDev\"]\n",
        "    result_df:\n",
        "        result table above\n",
        "    \n",
        "    '''\n",
        "    labels = {0: \"Excess Risk\", 1: \"Error\"}\n",
        "    if estimator == 0:\n",
        "        col = [\"Loss_ExcessRisk\", \"Loss_StdDev\"]\n",
        "    else:\n",
        "        col = [\"Error_Mean\", \"Error_StdDev\"]\n",
        "        \n",
        "    fig = plt.figure(figsize = (16, 10))\n",
        "    index = 0\n",
        "    for senario in [1, 2]:\n",
        "        for sigma in [0.1, 0.35]:\n",
        "            index += 1\n",
        "            plt.subplot(2, 2, index)\n",
        "            df = result_df[np.logical_and(result_df[\"Scenario\"] == senario, result_df[\"sigma\"] == sigma)]\n",
        "            excess_risk, excess_risk_var = df[col[0]], df[col[1]]\n",
        "\n",
        "            plt.plot(train_bs, excess_risk, 'D', label = col[0])\n",
        "            plt.errorbar(train_bs, excess_risk, excess_risk_var, ecolor=\"black\", ls=\"--\")\n",
        "\n",
        "            plt.xlabel(\"n\", fontsize = 12)\n",
        "            plt.xticks(fontsize = 12)\n",
        "            plt.ylabel(labels[estimator], fontsize = 12)\n",
        "            plt.yticks(fontsize = 12)\n",
        "            plt.title(\"Scenario \" + str(senario) + \", Sigma=\" + str(sigma), fontsize=15) \n",
        "    fig.legend(col, loc = \"upper right\", fontsize=13)\n",
        "    plt.tight_layout()\n",
        "    plt.show()"
      ],
      "execution_count": 92,
      "outputs": []
    },
    {
      "cell_type": "markdown",
      "metadata": {
        "id": "LFfG6N4ri2-D"
      },
      "source": [
        "###### Plot excess risk"
      ]
    },
    {
      "cell_type": "code",
      "metadata": {
        "colab": {
          "base_uri": "https://localhost:8080/",
          "height": 552
        },
        "id": "IjXrdqjsi2-D",
        "outputId": "2d6fb62e-346e-4f8b-9617-acfb6531674d"
      },
      "source": [
        "plot_result(0, result_df)"
      ],
      "execution_count": 93,
      "outputs": [
        {
          "output_type": "display_data",
          "data": {
            "image/png": "[encoded data removed]",
            "text/plain": [
              "<Figure size 1152x720 with 4 Axes>"
            ]
          },
          "metadata": {
            "tags": [],
            "needs_background": "light"
          }
        }
      ]
    },
    {
      "cell_type": "markdown",
      "metadata": {
        "id": "GqkkaFAS3p4S"
      },
      "source": [
        "###### Plot classification error"
      ]
    },
    {
      "cell_type": "code",
      "metadata": {
        "colab": {
          "base_uri": "https://localhost:8080/",
          "height": 552
        },
        "id": "HFdxVESki2-D",
        "outputId": "ca54d94d-de00-4816-f517-75cc408aa16f"
      },
      "source": [
        "plot_result(1, result_df)"
      ],
      "execution_count": 94,
      "outputs": [
        {
          "output_type": "display_data",
          "data": {
            "image/png": "[encoded data removed]",
            "text/plain": [
              "<Figure size 1152x720 with 4 Axes>"
            ]
          },
          "metadata": {
            "tags": [],
            "needs_background": "light"
          }
        }
      ]
    }
  ]
}