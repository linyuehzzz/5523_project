{
  "nbformat": 4,
  "nbformat_minor": 0,
  "metadata": {
    "colab": {
      "name": "sgd.ipynb",
      "provenance": [],
      "collapsed_sections": [],
      "toc_visible": true,
      "authorship_tag": "ABX9TyMLWK97oxMziOweX01CZTY6",
      "include_colab_link": true
    },
    "kernelspec": {
      "name": "python3",
      "display_name": "Python 3"
    }
  },
  "cells": [
    {
      "cell_type": "markdown",
      "metadata": {
        "id": "view-in-github",
        "colab_type": "text"
      },
      "source": [
        "<a href=\"https://colab.research.google.com/github/linyuehzzz/5523_project/blob/main/sgd.ipynb\" target=\"_parent\"><img src=\"https://colab.research.google.com/assets/colab-badge.svg\" alt=\"Open In Colab\"/></a>"
      ]
    },
    {
      "cell_type": "markdown",
      "metadata": {
        "id": "FlILGcNEEW0E"
      },
      "source": [
        "##**Stochastic Gradient Descent for Logistic Regression**\n",
        "This code implements and tests the SGD algorithm for logistic regression\n",
        "in different scenarios.  \n",
        "Yifei Zhang (zhang.5387 at osu edu), Yue Lin (lin.3326 at osu.edu)  \n",
        "Created: 11/12/2020"
      ]
    },
    {
      "cell_type": "markdown",
      "metadata": {
        "id": "qGQmKFIeFYKY"
      },
      "source": [
        "#### **Set up libraries**"
      ]
    },
    {
      "cell_type": "code",
      "metadata": {
        "id": "BUex5ElWFaHO"
      },
      "source": [
        "import numpy as np\n",
        "import random\n",
        "import matplotlib.pyplot as plt\n",
        "import pandas as pd"
      ],
      "execution_count": 60,
      "outputs": []
    },
    {
      "cell_type": "markdown",
      "metadata": {
        "id": "YXnNnylopljK"
      },
      "source": [
        "#### **Project**"
      ]
    },
    {
      "cell_type": "markdown",
      "metadata": {
        "id": "MzHKV3T7pvFo"
      },
      "source": [
        "##### Projection function for hypercube"
      ]
    },
    {
      "cell_type": "code",
      "metadata": {
        "id": "9ewruRRFp0kP"
      },
      "source": [
        "def cube_prj(sample):\n",
        "    '''\n",
        "    This function projects both domain and parameter sets to a hypercube.\n",
        "\n",
        "    sample: features or gradients, 1*d array (d: #dimension)\n",
        "\n",
        "    return: \n",
        "        a hypercube with edge length 2 and centered around the origin\n",
        "    '''\n",
        "    return [np.sign(i) * min(np.abs(i), 1) for i in sample]"
      ],
      "execution_count": 61,
      "outputs": []
    },
    {
      "cell_type": "markdown",
      "metadata": {
        "id": "9mrnAQvYqI8q"
      },
      "source": [
        "##### Projection function for unit ball"
      ]
    },
    {
      "cell_type": "code",
      "metadata": {
        "id": "kyUbRJAKqRsd"
      },
      "source": [
        "def ball_prj(sample):\n",
        "    '''\n",
        "    This function projects both domain and parameter sets to a unit ball.\n",
        "\n",
        "    sample: features or gradients, 1*d array (d: #dimension)\n",
        "\n",
        "    return: \n",
        "        a unit ball centered around the origin\n",
        "    '''\n",
        "    if np.linalg.norm(sample, ord=2) > 1:\n",
        "        return sample / np.linalg.norm(sample, ord=2)\n",
        "    else:\n",
        "        return sample"
      ],
      "execution_count": 62,
      "outputs": []
    },
    {
      "cell_type": "markdown",
      "metadata": {
        "id": "eZXfvRgKqXV2"
      },
      "source": [
        "##### Project data"
      ]
    },
    {
      "cell_type": "code",
      "metadata": {
        "id": "6dwzkd6WqW7X"
      },
      "source": [
        "def prj_data(x, y, prj_code):\n",
        "    '''\n",
        "    This function projects the domain set in terms for two scenarios.\n",
        "\n",
        "    X: feature vectors, n*d array (n: #sample, d: #dimension)\n",
        "    y: labels, 1*n array with values of -1 or +1\n",
        "    prj_code: type of projection, 0 for cube, 1 for ball\n",
        "\n",
        "    return:\n",
        "        prj_x: projected feature vectors \n",
        "        y: labels, same as the input\n",
        "    '''\n",
        "    if prj_code == 0:\n",
        "        prj_x = np.apply_along_axis(cube_prj, 1, x)\n",
        "    elif prj_code == 1:\n",
        "        prj_x = np.apply_along_axis(ball_prj, 1, x)\n",
        "    else:\n",
        "        print(\"Please input correct code for projection type: 0 for cube, 1 for ball\")\n",
        "      \n",
        "    b = np.ones((prj_x.shape[0], 1))\n",
        "    prj_x = np.append(prj_x, b, axis=1)\n",
        "    return prj_x, y"
      ],
      "execution_count": 63,
      "outputs": []
    },
    {
      "cell_type": "markdown",
      "metadata": {
        "id": "eiUQqYKLvAuY"
      },
      "source": [
        "##### Project gradient"
      ]
    },
    {
      "cell_type": "code",
      "metadata": {
        "id": "6ThWld5kvaBT"
      },
      "source": [
        "def prj_grad(g, prj_code):\n",
        "    '''\n",
        "    This function projects the parameter set for two scenarios.\n",
        "\n",
        "    g: gradients, 1*d array (d: #dimension)\n",
        "    prj_code: type of projection, 0 for cube, 1 for ball\n",
        "\n",
        "    return:\n",
        "        prj_g: projected gradients\n",
        "    '''\n",
        "    if prj_code == 0:\n",
        "        prj_g = cube_prj(g)\n",
        "    elif prj_code == 1:\n",
        "        prj_g = ball_prj(g)\n",
        "    else:\n",
        "        print(\"Please input correct code for projection type: 0 for cube, 1 for ball\")\n",
        "    return prj_g"
      ],
      "execution_count": 64,
      "outputs": []
    },
    {
      "cell_type": "markdown",
      "metadata": {
        "id": "tu0jhwwRF5ls"
      },
      "source": [
        "#### **Prepare data**"
      ]
    },
    {
      "cell_type": "code",
      "metadata": {
        "id": "yMDzFiFcrsg8"
      },
      "source": [
        "def gen_data(sig, n, d_dimension):\n",
        "    '''\n",
        "    This function generates the data for training and test.\n",
        "\n",
        "    sig: standard deviation of the Gaussian function\n",
        "    n: number of samples\n",
        "    d_dimension: dimensionality of the feature vectors\n",
        "    \n",
        "    Return:\n",
        "        X: feature vectors, n*d array (n: #sample, d: #dimension)\n",
        "        y: labels, 1*n array with values of -1 and +1\n",
        "    '''\n",
        "    # d_dimension = 4\n",
        "    y = np.random.choice([-1, 1], p = [0.5, 0.5], size = n)\n",
        "    x = np.array([])\n",
        "    for i in range(n):\n",
        "        if y[i] == -1:\n",
        "            mu = -(1 / 4)\n",
        "            negvec = np.random.normal(mu, sig, d_dimension)\n",
        "            x = np.concatenate([x, negvec], axis=0)\n",
        "        else:\n",
        "            mu = (1 / 4)\n",
        "            posvec = np.random.normal(mu, sig, d_dimension)\n",
        "            x = np.concatenate([x, posvec], axis=0)\n",
        "    x = np.reshape(x, (n, d_dimension))\n",
        "    return x, y"
      ],
      "execution_count": 65,
      "outputs": []
    },
    {
      "cell_type": "markdown",
      "metadata": {
        "id": "aAzwTZ79M6oi"
      },
      "source": [
        "#### **Train**\n",
        "https://machinelearningmastery.com/implement-logistic-regression-stochastic-gradient-descent-scratch-python/"
      ]
    },
    {
      "cell_type": "markdown",
      "metadata": {
        "id": "iJfOdxzt4M5T"
      },
      "source": [
        "##### Estimate logistic loss"
      ]
    },
    {
      "cell_type": "code",
      "metadata": {
        "id": "q_3nPdw4BJV0"
      },
      "source": [
        "def log_loss(X, y, w):\n",
        "    '''\n",
        "    This function outputs the logistic loss.\n",
        "\n",
        "    X: feature vector, 1*d array (d: #dimension)\n",
        "    y: label\n",
        "    w: weight vector, 1*d array\n",
        "    \n",
        "    Return: logistic loss\n",
        "    '''\n",
        "    return np.log(1 + np.exp(-y * np.dot(w.T, X)))"
      ],
      "execution_count": 66,
      "outputs": []
    },
    {
      "cell_type": "markdown",
      "metadata": {
        "id": "mnfgixZxQqvj"
      },
      "source": [
        "##### Estimate classification error"
      ]
    },
    {
      "cell_type": "code",
      "metadata": {
        "id": "DZdcop9KQuGF"
      },
      "source": [
        "def err(X, y, w):\n",
        "    '''\n",
        "    This function outputs the classification error.\n",
        "\n",
        "    X: feature vector, 1*d array (d: #dimension)\n",
        "    y: label\n",
        "    w: weight vector, 1*d array\n",
        "    \n",
        "    Return: classification error\n",
        "    '''\n",
        "    yhat = -1 if np.dot(w.T, X) < 0.5 else 1\n",
        "    return 0 if yhat == y else 1"
      ],
      "execution_count": 67,
      "outputs": []
    },
    {
      "cell_type": "markdown",
      "metadata": {
        "id": "XsiXCaLYCn6n"
      },
      "source": [
        "##### SGD"
      ]
    },
    {
      "cell_type": "code",
      "metadata": {
        "id": "O2-5n_kwCnth"
      },
      "source": [
        "def sgd(X, y, w_t, prj_code, l_rate):\n",
        "    '''\n",
        "    This function implements SGD.\n",
        "\n",
        "    X: feature vector at t, 1*d array (d: #dimension)\n",
        "    y: label\n",
        "    w_t: weight vector at t, 1*d array\n",
        "    prj_code: type of projection, 0 for cube, 1 for ball\n",
        "    l_rate: learning rate\n",
        "    \n",
        "    Return: \n",
        "        w_t: updated weight at t+1\n",
        "    '''\n",
        "    w_t = np.array(w_t)\n",
        "    # Calculate gradient\n",
        "    g = (-y * X * np.exp(-y * np.dot(w_t.T, X)) / (1 + np.exp(-y * np.dot(w_t.T, X))))\n",
        "    # Project gradient\n",
        "    w_t = prj_grad(np.add(w_t, np.multiply(-l_rate, g)), prj_code)\n",
        "    return w_t"
      ],
      "execution_count": 68,
      "outputs": []
    },
    {
      "cell_type": "markdown",
      "metadata": {
        "id": "lE93wIbQc9Is"
      },
      "source": [
        "##### Estimate weight vector using SGD"
      ]
    },
    {
      "cell_type": "code",
      "metadata": {
        "id": "Jb_QkJsIc8Vh"
      },
      "source": [
        "def train(train_x, train_y, test_x, test_y, l_rate, n_epoch, bs, prj_code):\n",
        "    '''\n",
        "    This function implements and tests the SGD algorithm for logistic regression.\n",
        "\n",
        "    train_x: feature vectors for training, n*d array (n: #sample, d: #dimension)\n",
        "    train_y: labels for training, 1*n array\n",
        "    test_x: feature vectors for test, n*d array (n: #sample, d: #dimension)\n",
        "    test_y: labels for test, 1*n array\n",
        "    l_rate: learning rate\n",
        "    n_epoch: number of trials\n",
        "    bs: training set size\n",
        "    prj_code: type of projection, 0 for cube, 1 for ball\n",
        "    \n",
        "    Return: \n",
        "        w: final weights\n",
        "        risk_ave: average risk\n",
        "        risk_min: minimum of all risks\n",
        "        risk_var: standard deviation of all risks\n",
        "        exp_excess_risk: expected excess risk\n",
        "        cls_err_ave: average classification error\n",
        "        cls_err_var: standard deviation of all classification errors\n",
        "    '''\n",
        "    risk_all = []\n",
        "    cls_err_all = []\n",
        "\n",
        "    for epoch in range(n_epoch):\n",
        "        w_t = np.random.uniform(-1, 1, (train_x.shape[1]))\n",
        "        risk = cls_err = 0.\n",
        "        w_all = []\n",
        "        for idx in range(epoch * bs, (epoch + 1) * bs):\n",
        "            # Read data\n",
        "            X = train_x[idx]\n",
        "            y = train_y[idx]\n",
        "            # SGD\n",
        "            w_t = sgd(X, y, w_t, prj_code, l_rate)\n",
        "            # Backward propagation\n",
        "            w_all.append(w_t)\n",
        "    \n",
        "        w = np.average(np.array(w_all), axis=0)\n",
        "    \n",
        "        # Evaluate\n",
        "        for idx in range(test_x.shape[0]):\n",
        "            # Read data\n",
        "            X = test_x[idx]\n",
        "            y = test_y[idx]\n",
        "            # Evaluate\n",
        "            risk += log_loss(X, y, w) / test_x.shape[0]\n",
        "            cls_err += err(X, y, w) / test_x.shape[0]\n",
        "    \n",
        "        risk_all = np.append(risk_all, risk)\n",
        "        cls_err_all = np.append(cls_err_all, cls_err)\n",
        "        # print('>epoch=%d, lrate=%.3f, risk=%.3f, classification error=%.3f' % (epoch, l_rate, risk, cls_err))\n",
        "  \n",
        "    # Report risk\n",
        "    # print(risk_all, cls_err_all)\n",
        "    risk_ave = np.average(risk_all)\n",
        "    risk_min = np.amin(risk_all)\n",
        "    risk_var = np.sqrt(np.var(risk_all))\n",
        "    exp_excess_risk = risk_ave - risk_min\n",
        "    # Report classification error\n",
        "    cls_err_ave = np.average(cls_err_all)\n",
        "    cls_err_var = np.sqrt(np.var(cls_err_all))\n",
        "    return [w, risk_ave, risk_min, risk_var, exp_excess_risk, cls_err_ave, cls_err_var]"
      ],
      "execution_count": 69,
      "outputs": []
    },
    {
      "cell_type": "markdown",
      "metadata": {
        "id": "q3SH2Dm7d71V"
      },
      "source": [
        "#### **Wrapper test**"
      ]
    },
    {
      "cell_type": "markdown",
      "metadata": {
        "id": "C0-3MK6Pk7mU"
      },
      "source": [
        "##### Generate data and train"
      ]
    },
    {
      "cell_type": "code",
      "metadata": {
        "id": "iJ68DlKXd6rP",
        "colab": {
          "base_uri": "https://localhost:8080/"
        },
        "outputId": "43da75f7-d8fe-4d34-86f8-220c12604552"
      },
      "source": [
        "# Fixed hyperparameters\n",
        "n_epoch = 30    # training epochs\n",
        "test_n = 400    # size of test set\n",
        "\n",
        "# Unfixed hyperparameters\n",
        "prj_code = 0    # code for two scenario: 0 for cube, 1 for ball\n",
        "l_rate = 0.16  # learning rate: 0.04 for cube, 0.18 for ball\n",
        "train_bs = np.array([50, 100, 500, 1000])   # batch size for each training epoch\n",
        "sigma = 0.1     # variance of Gaussian distribution\n",
        "d_dimension = 4\n",
        "\n",
        "# np.random.seed(0)\n",
        "\n",
        "excess_risk = []\n",
        "cls_error = []\n",
        "excess_risk_var = []\n",
        "cls_error_var = []\n",
        "\n",
        "for bs in train_bs:\n",
        "    # Generate training data\n",
        "    train_x, train_y = gen_data(sigma, bs * n_epoch, d_dimension)\n",
        "    train_px, train_py = prj_data(train_x, train_y, prj_code)\n",
        "\n",
        "    # Generate test data\n",
        "    test_x, test_y = gen_data(sigma, test_n, d_dimension)\n",
        "    test_px, test_py = prj_data(test_x, test_y, prj_code)\n",
        "\n",
        "    # Train\n",
        "    output = train(train_px, train_py, test_px, test_py, l_rate, n_epoch, bs, prj_code)\n",
        "    print(output)\n",
        "    print('>scenario=%d, sigma=%.2f, n=%d, log_loss_mean=%.3f, log_loss_std_dev=%.3f, log_loss_min=%.3f, \\\n",
        "            excess_risk=%.3f, cls_error_mean=%.3f, cls_error_std_dev=%.3f' \n",
        "            % (prj_code+1, sigma, bs, output[1], output[3], output[2], output[4], output[5], output[6]))\n",
        "    \n",
        "    excess_risk = np.append(excess_risk, output[4], axis=None)\n",
        "    cls_error = np.append(cls_error, output[5],  axis=None)\n",
        "    excess_risk_var = np.append(excess_risk_var, output[3], axis=None)\n",
        "    cls_error_var = np.append(cls_error_var, output[6],  axis=None)"
      ],
      "execution_count": 70,
      "outputs": [
        {
          "output_type": "stream",
          "text": [
            "[array([0.9920296 , 0.99933723, 0.21782017, 0.99974533, 0.12346781]), 0.5312197770487329, 0.3438722311154513, 0.10203254593723088, 0.18734754593328162, 0.34208333333333363, 0.19758340362714918]\n",
            ">scenario=1, sigma=0.10, n=50, log_loss_mean=0.531, log_loss_std_dev=0.102, log_loss_min=0.344,             excess_risk=0.187, cls_error_mean=0.342, cls_error_std_dev=0.198\n",
            "[array([ 0.24917033,  0.80798274, -0.05942021,  0.51105525,  0.25501769]), 0.4610176893086579, 0.36796488090240476, 0.054290898194915685, 0.09305280840625313, 0.14008333333333342, 0.13709407252767078]\n",
            ">scenario=1, sigma=0.10, n=100, log_loss_mean=0.461, log_loss_std_dev=0.054, log_loss_min=0.368,             excess_risk=0.093, cls_error_mean=0.140, cls_error_std_dev=0.137\n",
            "[array([ 0.85798765,  0.99947235,  0.99861448,  0.98645526, -0.03200983]), 0.33378392491931297, 0.3178746744312668, 0.007876555747391222, 0.015909250488046145, 0.007666666666666668, 0.009872802146413262]\n",
            ">scenario=1, sigma=0.10, n=500, log_loss_mean=0.334, log_loss_std_dev=0.008, log_loss_min=0.318,             excess_risk=0.016, cls_error_mean=0.008, cls_error_std_dev=0.010\n",
            "[array([ 0.94292484,  0.97409003,  0.9020957 ,  0.95923626, -0.04339748]), 0.3274609781587001, 0.32035461556169387, 0.004562274793764906, 0.007106362597006255, 0.007916666666666667, 0.0030333791205335494]\n",
            ">scenario=1, sigma=0.10, n=1000, log_loss_mean=0.327, log_loss_std_dev=0.005, log_loss_min=0.320,             excess_risk=0.007, cls_error_mean=0.008, cls_error_std_dev=0.003\n"
          ],
          "name": "stdout"
        }
      ]
    },
    {
      "cell_type": "markdown",
      "metadata": {
        "id": "saT_I5DNk0rq"
      },
      "source": [
        "##### Plot excess risk"
      ]
    },
    {
      "cell_type": "code",
      "metadata": {
        "id": "dkARytwCk0Zj",
        "colab": {
          "base_uri": "https://localhost:8080/",
          "height": 297
        },
        "outputId": "0e7b2b0a-8c2f-4a7e-dade-3cf1b7750cf0"
      },
      "source": [
        "plt.plot(train_bs, excess_risk, '-o', label='Excess risk')\n",
        "plt.errorbar(train_bs, excess_risk, excess_risk_var)\n",
        "plt.legend()\n",
        "plt.tight_layout()\n",
        "plt.show()"
      ],
      "execution_count": 71,
      "outputs": [
        {
          "output_type": "display_data",
          "data": {
            "image/png": "[encoded data removed]",
            "text/plain": [
              "<Figure size 432x288 with 1 Axes>"
            ]
          },
          "metadata": {
            "tags": [],
            "needs_background": "light"
          }
        }
      ]
    },
    {
      "cell_type": "markdown",
      "metadata": {
        "id": "xTAnpHKcoI1N"
      },
      "source": [
        "##### Plot classification error"
      ]
    },
    {
      "cell_type": "code",
      "metadata": {
        "id": "HIBfEnVRoMgT",
        "colab": {
          "base_uri": "https://localhost:8080/",
          "height": 297
        },
        "outputId": "467e8ed2-9dbc-4c7a-d9bc-095057ea24cc"
      },
      "source": [
        "plt.plot(train_bs, cls_error, '-o', label='Classification error')\n",
        "plt.errorbar(train_bs, cls_error, cls_error_var)\n",
        "plt.legend()\n",
        "plt.tight_layout()\n",
        "plt.show()"
      ],
      "execution_count": 72,
      "outputs": [
        {
          "output_type": "display_data",
          "data": {
            "image/png": "[encoded data removed]",
            "text/plain": [
              "<Figure size 432x288 with 1 Axes>"
            ]
          },
          "metadata": {
            "tags": [],
            "needs_background": "light"
          }
        }
      ]
    },
    {
      "cell_type": "markdown",
      "metadata": {
        "id": "VkFoAOYv0sKN"
      },
      "source": [
        "#### **Wrapper**"
      ]
    },
    {
      "cell_type": "code",
      "metadata": {
        "id": "whKZGg6u1T_P"
      },
      "source": [
        "# Set up hyperparameters\n",
        "n_epoch = 30    # training epochs\n",
        "test_n = 400    # size of test set\n",
        "d_dimension = 4\n",
        "train_bs = np.array([50, 100, 500, 1000])  # batch size for each training epoch\n",
        "\n",
        "np.random.seed(3)"
      ],
      "execution_count": 136,
      "outputs": []
    },
    {
      "cell_type": "markdown",
      "metadata": {
        "id": "D-4LlMyk1ecf"
      },
      "source": [
        "##### Run all experiments"
      ]
    },
    {
      "cell_type": "code",
      "metadata": {
        "id": "0_gFZQDT1W_U",
        "colab": {
          "base_uri": "https://localhost:8080/"
        },
        "outputId": "6f104ea7-bbba-4c1f-ff23-7e03d4843edd"
      },
      "source": [
        "result_list = []\n",
        "for prj_code in [0, 1]:\n",
        "    for sigma in [0.1, 0.35]:\n",
        "        for bs in train_bs:\n",
        "\n",
        "            if prj_code == 0:\n",
        "                m = 2 * np.sqrt(d_dimension + 1)\n",
        "            else:\n",
        "                m = 2\n",
        "\n",
        "            rho = np.sqrt(d_dimension + 1)\n",
        "            l_rate = m / (rho * np.sqrt(bs))\n",
        "\n",
        "            # Generate training data\n",
        "            train_x, train_y = gen_data(sigma, bs * n_epoch, d_dimension)\n",
        "            train_px, train_py = prj_data(train_x, train_y, prj_code)\n",
        "\n",
        "            # Generate test data\n",
        "            test_x, test_y = gen_data(sigma, test_n, d_dimension)\n",
        "            test_px, test_py = prj_data(test_x, test_y, prj_code)\n",
        "\n",
        "            # Train\n",
        "            output = train(train_px, train_py, test_px, test_py, l_rate, n_epoch, bs, prj_code)\n",
        "\n",
        "            print(output)\n",
        "            print('>scenario=%d, sigma=%.2f, n=%d, lr=%.2f, log_loss_mean=%.3f, log_loss_std_dev=%.3f, log_loss_min=%.3f, \\\n",
        "                excess_risk=%.3f, cls_error_mean=%.3f, cls_error_std_dev=%.3f' \n",
        "                % (prj_code+1, sigma, bs, l_rate, output[1], output[3], output[2], output[4], output[5], output[6]))\n",
        "            result = [prj_code + 1, sigma, bs, n_epoch,output[1], output[3], output[2], output[4], output[5], output[6]]\n",
        "            result_list.append(result)"
      ],
      "execution_count": 137,
      "outputs": [
        {
          "output_type": "stream",
          "text": [
            "[array([ 0.54910309,  0.84380602, -0.02725903,  0.99860861, -0.10371849]), 0.47827832151059607, 0.35296412545692035, 0.06750060208213009, 0.12531419605367572, 0.21775000000000005, 0.1958191661542182]\n",
            ">scenario=1, sigma=0.10, n=50, lr=0.28, log_loss_mean=0.478, log_loss_std_dev=0.068, log_loss_min=0.353,                 excess_risk=0.125, cls_error_mean=0.218, cls_error_std_dev=0.196\n",
            "[array([ 0.47220597,  0.56542496,  0.94379343,  0.53061136, -0.27733361]), 0.4169931929192391, 0.3341572639494298, 0.037942167772895115, 0.08283592896980929, 0.1796666666666668, 0.17207282050212233]\n",
            ">scenario=1, sigma=0.10, n=100, lr=0.20, log_loss_mean=0.417, log_loss_std_dev=0.038, log_loss_min=0.334,                 excess_risk=0.083, cls_error_mean=0.180, cls_error_std_dev=0.172\n",
            "[array([0.91687069, 0.99999445, 0.88335476, 0.97022101, 0.07441371]), 0.3574386944444522, 0.31967763236823316, 0.018623292060911033, 0.03776106207621904, 0.022583333333333334, 0.019132033928002074]\n",
            ">scenario=1, sigma=0.10, n=500, lr=0.09, log_loss_mean=0.357, log_loss_std_dev=0.019, log_loss_min=0.320,                 excess_risk=0.038, cls_error_mean=0.023, cls_error_std_dev=0.019\n",
            "[array([ 0.73991621,  0.85871342,  0.9100711 ,  0.93355058, -0.03652637]), 0.3443337298083191, 0.31919569336817205, 0.011260752431773303, 0.02513803644014706, 0.009000000000000001, 0.008103497187428811]\n",
            ">scenario=1, sigma=0.10, n=1000, lr=0.06, log_loss_mean=0.344, log_loss_std_dev=0.011, log_loss_min=0.319,                 excess_risk=0.025, cls_error_mean=0.009, cls_error_std_dev=0.008\n",
            "[array([0.97500287, 0.52062815, 0.67071374, 0.70521302, 0.21750363]), 0.496650511138265, 0.38882954678514453, 0.05773238191021811, 0.1078209643531205, 0.2585000000000002, 0.10653559655501693]\n",
            ">scenario=1, sigma=0.35, n=50, lr=0.28, log_loss_mean=0.497, log_loss_std_dev=0.058, log_loss_min=0.389,                 excess_risk=0.108, cls_error_mean=0.259, cls_error_std_dev=0.107\n",
            "[array([0.95997618, 0.91577294, 0.86090398, 0.47086512, 0.17736018]), 0.4544049602066383, 0.3845693922231248, 0.03914192609551741, 0.06983556798351348, 0.17316666666666675, 0.06792438606437477]\n",
            ">scenario=1, sigma=0.35, n=100, lr=0.20, log_loss_mean=0.454, log_loss_std_dev=0.039, log_loss_min=0.385,                 excess_risk=0.070, cls_error_mean=0.173, cls_error_std_dev=0.068\n",
            "[array([0.89291385, 0.84606117, 0.94083718, 0.98559184, 0.06887638]), 0.3885989412849816, 0.3565992663757947, 0.014436703895649019, 0.031999674909186926, 0.16266666666666676, 0.029197126951503696]\n",
            ">scenario=1, sigma=0.35, n=500, lr=0.09, log_loss_mean=0.389, log_loss_std_dev=0.014, log_loss_min=0.357,                 excess_risk=0.032, cls_error_mean=0.163, cls_error_std_dev=0.029\n",
            "[array([0.99614613, 0.93017308, 0.69625297, 0.98542001, 0.01826875]), 0.36533675180016423, 0.348272386062641, 0.007391424110384354, 0.017064365737523235, 0.10716666666666673, 0.0173173002771474]\n",
            ">scenario=1, sigma=0.35, n=1000, lr=0.06, log_loss_mean=0.365, log_loss_std_dev=0.007, log_loss_min=0.348,                 excess_risk=0.017, cls_error_mean=0.107, cls_error_std_dev=0.017\n",
            "[array([0.32742319, 0.13615697, 0.67370795, 0.5507459 , 0.28970553]), 0.5740496924258564, 0.4870547864069022, 0.06093671429962613, 0.08699490601895415, 0.3845, 0.19518410112848159]\n",
            ">scenario=2, sigma=0.10, n=50, lr=0.13, log_loss_mean=0.574, log_loss_std_dev=0.061, log_loss_min=0.487,                 excess_risk=0.087, cls_error_mean=0.385, cls_error_std_dev=0.195\n",
            "[array([0.09214793, 0.54190194, 0.5455611 , 0.58561653, 0.03128061]), 0.546844497160503, 0.48751256631274276, 0.03885576279460752, 0.05933193084776023, 0.30341666666666695, 0.1691553567647867]\n",
            ">scenario=2, sigma=0.10, n=100, lr=0.09, log_loss_mean=0.547, log_loss_std_dev=0.039, log_loss_min=0.488,                 excess_risk=0.059, cls_error_mean=0.303, cls_error_std_dev=0.169\n",
            "[array([0.55137284, 0.2723471 , 0.49034476, 0.55496778, 0.03407657]), 0.5010906061059061, 0.4794838132687207, 0.013410591203402948, 0.021606792837185362, 0.350666666666667, 0.114500606500092]\n",
            ">scenario=2, sigma=0.10, n=500, lr=0.04, log_loss_mean=0.501, log_loss_std_dev=0.013, log_loss_min=0.479,                 excess_risk=0.022, cls_error_mean=0.351, cls_error_std_dev=0.115\n",
            "[array([0.28695284, 0.32228351, 0.61174752, 0.53299409, 0.03983232]), 0.4942991454105051, 0.4776393438672874, 0.01134379538063237, 0.016659801543217723, 0.35166666666666685, 0.11517438469073273]\n",
            ">scenario=2, sigma=0.10, n=1000, lr=0.03, log_loss_mean=0.494, log_loss_std_dev=0.011, log_loss_min=0.478,                 excess_risk=0.017, cls_error_mean=0.352, cls_error_std_dev=0.115\n",
            "[array([ 0.51303755,  0.70098907, -0.08700581, -0.17466225,  0.26767007]), 0.5934391190801994, 0.5113370873911945, 0.04731078812944628, 0.08210203168900487, 0.3786666666666668, 0.11981536722066252]\n",
            ">scenario=2, sigma=0.35, n=50, lr=0.13, log_loss_mean=0.593, log_loss_std_dev=0.047, log_loss_min=0.511,                 excess_risk=0.082, cls_error_mean=0.379, cls_error_std_dev=0.120\n",
            "[array([ 0.24482288,  0.5407654 ,  0.47316992, -0.15072641, -0.35281484]), 0.5789692510351115, 0.5120525843189104, 0.037193171384981905, 0.06691666671620111, 0.3746666666666668, 0.1062538888177223]\n",
            ">scenario=2, sigma=0.35, n=100, lr=0.09, log_loss_mean=0.579, log_loss_std_dev=0.037, log_loss_min=0.512,                 excess_risk=0.067, cls_error_mean=0.375, cls_error_std_dev=0.106\n",
            "[array([0.21785344, 0.6341333 , 0.52181909, 0.41669226, 0.05550017]), 0.5345076107168456, 0.5160735407903646, 0.014529842210838277, 0.018434069926481, 0.32708333333333356, 0.053611578869577174]\n",
            ">scenario=2, sigma=0.35, n=500, lr=0.04, log_loss_mean=0.535, log_loss_std_dev=0.015, log_loss_min=0.516,                 excess_risk=0.018, cls_error_mean=0.327, cls_error_std_dev=0.054\n",
            "[array([ 0.6283902 ,  0.4226025 ,  0.33029929,  0.39885852, -0.03759869]), 0.5192651449090366, 0.5010960411895883, 0.010102612759500612, 0.018169103719448354, 0.30133333333333356, 0.04804396135022826]\n",
            ">scenario=2, sigma=0.35, n=1000, lr=0.03, log_loss_mean=0.519, log_loss_std_dev=0.010, log_loss_min=0.501,                 excess_risk=0.018, cls_error_mean=0.301, cls_error_std_dev=0.048\n"
          ],
          "name": "stdout"
        }
      ]
    },
    {
      "cell_type": "markdown",
      "metadata": {
        "id": "ytSebM2h1z2y"
      },
      "source": [
        "##### Plot table"
      ]
    },
    {
      "cell_type": "code",
      "metadata": {
        "colab": {
          "base_uri": "https://localhost:8080/",
          "height": 559
        },
        "id": "vhUYrS5Qi2-C",
        "outputId": "34213600-09d4-4790-b765-b0fe5a6449ac"
      },
      "source": [
        "column_name = [\"Scenario\", \"sigma\", \"N\", \"#trails\", \"Loss_Mean\", \"Loss_StdDev\", \"Loss_Min\", \"Loss_ExcessRisk\",\n",
        "             \"Error_Mean\", \"Error_StdDev\"]\n",
        "result_df = pd.DataFrame(result_list, columns = column_name)\n",
        "result_df"
      ],
      "execution_count": 138,
      "outputs": [
        {
          "output_type": "execute_result",
          "data": {
            "text/html": [
              "<div>\n",
              "<style scoped>\n",
              "    .dataframe tbody tr th:only-of-type {\n",
              "        vertical-align: middle;\n",
              "    }\n",
              "\n",
              "    .dataframe tbody tr th {\n",
              "        vertical-align: top;\n",
              "    }\n",
              "\n",
              "    .dataframe thead th {\n",
              "        text-align: right;\n",
              "    }\n",
              "</style>\n",
              "<table border=\"1\" class=\"dataframe\">\n",
              "  <thead>\n",
              "    <tr style=\"text-align: right;\">\n",
              "      <th></th>\n",
              "      <th>Scenario</th>\n",
              "      <th>sigma</th>\n",
              "      <th>N</th>\n",
              "      <th>#trails</th>\n",
              "      <th>Loss_Mean</th>\n",
              "      <th>Loss_StdDev</th>\n",
              "      <th>Loss_Min</th>\n",
              "      <th>Loss_ExcessRisk</th>\n",
              "      <th>Error_Mean</th>\n",
              "      <th>Error_StdDev</th>\n",
              "    </tr>\n",
              "  </thead>\n",
              "  <tbody>\n",
              "    <tr>\n",
              "      <th>0</th>\n",
              "      <td>1</td>\n",
              "      <td>0.10</td>\n",
              "      <td>50</td>\n",
              "      <td>30</td>\n",
              "      <td>0.478278</td>\n",
              "      <td>0.067501</td>\n",
              "      <td>0.352964</td>\n",
              "      <td>0.125314</td>\n",
              "      <td>0.217750</td>\n",
              "      <td>0.195819</td>\n",
              "    </tr>\n",
              "    <tr>\n",
              "      <th>1</th>\n",
              "      <td>1</td>\n",
              "      <td>0.10</td>\n",
              "      <td>100</td>\n",
              "      <td>30</td>\n",
              "      <td>0.416993</td>\n",
              "      <td>0.037942</td>\n",
              "      <td>0.334157</td>\n",
              "      <td>0.082836</td>\n",
              "      <td>0.179667</td>\n",
              "      <td>0.172073</td>\n",
              "    </tr>\n",
              "    <tr>\n",
              "      <th>2</th>\n",
              "      <td>1</td>\n",
              "      <td>0.10</td>\n",
              "      <td>500</td>\n",
              "      <td>30</td>\n",
              "      <td>0.357439</td>\n",
              "      <td>0.018623</td>\n",
              "      <td>0.319678</td>\n",
              "      <td>0.037761</td>\n",
              "      <td>0.022583</td>\n",
              "      <td>0.019132</td>\n",
              "    </tr>\n",
              "    <tr>\n",
              "      <th>3</th>\n",
              "      <td>1</td>\n",
              "      <td>0.10</td>\n",
              "      <td>1000</td>\n",
              "      <td>30</td>\n",
              "      <td>0.344334</td>\n",
              "      <td>0.011261</td>\n",
              "      <td>0.319196</td>\n",
              "      <td>0.025138</td>\n",
              "      <td>0.009000</td>\n",
              "      <td>0.008103</td>\n",
              "    </tr>\n",
              "    <tr>\n",
              "      <th>4</th>\n",
              "      <td>1</td>\n",
              "      <td>0.35</td>\n",
              "      <td>50</td>\n",
              "      <td>30</td>\n",
              "      <td>0.496651</td>\n",
              "      <td>0.057732</td>\n",
              "      <td>0.388830</td>\n",
              "      <td>0.107821</td>\n",
              "      <td>0.258500</td>\n",
              "      <td>0.106536</td>\n",
              "    </tr>\n",
              "    <tr>\n",
              "      <th>5</th>\n",
              "      <td>1</td>\n",
              "      <td>0.35</td>\n",
              "      <td>100</td>\n",
              "      <td>30</td>\n",
              "      <td>0.454405</td>\n",
              "      <td>0.039142</td>\n",
              "      <td>0.384569</td>\n",
              "      <td>0.069836</td>\n",
              "      <td>0.173167</td>\n",
              "      <td>0.067924</td>\n",
              "    </tr>\n",
              "    <tr>\n",
              "      <th>6</th>\n",
              "      <td>1</td>\n",
              "      <td>0.35</td>\n",
              "      <td>500</td>\n",
              "      <td>30</td>\n",
              "      <td>0.388599</td>\n",
              "      <td>0.014437</td>\n",
              "      <td>0.356599</td>\n",
              "      <td>0.032000</td>\n",
              "      <td>0.162667</td>\n",
              "      <td>0.029197</td>\n",
              "    </tr>\n",
              "    <tr>\n",
              "      <th>7</th>\n",
              "      <td>1</td>\n",
              "      <td>0.35</td>\n",
              "      <td>1000</td>\n",
              "      <td>30</td>\n",
              "      <td>0.365337</td>\n",
              "      <td>0.007391</td>\n",
              "      <td>0.348272</td>\n",
              "      <td>0.017064</td>\n",
              "      <td>0.107167</td>\n",
              "      <td>0.017317</td>\n",
              "    </tr>\n",
              "    <tr>\n",
              "      <th>8</th>\n",
              "      <td>2</td>\n",
              "      <td>0.10</td>\n",
              "      <td>50</td>\n",
              "      <td>30</td>\n",
              "      <td>0.574050</td>\n",
              "      <td>0.060937</td>\n",
              "      <td>0.487055</td>\n",
              "      <td>0.086995</td>\n",
              "      <td>0.384500</td>\n",
              "      <td>0.195184</td>\n",
              "    </tr>\n",
              "    <tr>\n",
              "      <th>9</th>\n",
              "      <td>2</td>\n",
              "      <td>0.10</td>\n",
              "      <td>100</td>\n",
              "      <td>30</td>\n",
              "      <td>0.546844</td>\n",
              "      <td>0.038856</td>\n",
              "      <td>0.487513</td>\n",
              "      <td>0.059332</td>\n",
              "      <td>0.303417</td>\n",
              "      <td>0.169155</td>\n",
              "    </tr>\n",
              "    <tr>\n",
              "      <th>10</th>\n",
              "      <td>2</td>\n",
              "      <td>0.10</td>\n",
              "      <td>500</td>\n",
              "      <td>30</td>\n",
              "      <td>0.501091</td>\n",
              "      <td>0.013411</td>\n",
              "      <td>0.479484</td>\n",
              "      <td>0.021607</td>\n",
              "      <td>0.350667</td>\n",
              "      <td>0.114501</td>\n",
              "    </tr>\n",
              "    <tr>\n",
              "      <th>11</th>\n",
              "      <td>2</td>\n",
              "      <td>0.10</td>\n",
              "      <td>1000</td>\n",
              "      <td>30</td>\n",
              "      <td>0.494299</td>\n",
              "      <td>0.011344</td>\n",
              "      <td>0.477639</td>\n",
              "      <td>0.016660</td>\n",
              "      <td>0.351667</td>\n",
              "      <td>0.115174</td>\n",
              "    </tr>\n",
              "    <tr>\n",
              "      <th>12</th>\n",
              "      <td>2</td>\n",
              "      <td>0.35</td>\n",
              "      <td>50</td>\n",
              "      <td>30</td>\n",
              "      <td>0.593439</td>\n",
              "      <td>0.047311</td>\n",
              "      <td>0.511337</td>\n",
              "      <td>0.082102</td>\n",
              "      <td>0.378667</td>\n",
              "      <td>0.119815</td>\n",
              "    </tr>\n",
              "    <tr>\n",
              "      <th>13</th>\n",
              "      <td>2</td>\n",
              "      <td>0.35</td>\n",
              "      <td>100</td>\n",
              "      <td>30</td>\n",
              "      <td>0.578969</td>\n",
              "      <td>0.037193</td>\n",
              "      <td>0.512053</td>\n",
              "      <td>0.066917</td>\n",
              "      <td>0.374667</td>\n",
              "      <td>0.106254</td>\n",
              "    </tr>\n",
              "    <tr>\n",
              "      <th>14</th>\n",
              "      <td>2</td>\n",
              "      <td>0.35</td>\n",
              "      <td>500</td>\n",
              "      <td>30</td>\n",
              "      <td>0.534508</td>\n",
              "      <td>0.014530</td>\n",
              "      <td>0.516074</td>\n",
              "      <td>0.018434</td>\n",
              "      <td>0.327083</td>\n",
              "      <td>0.053612</td>\n",
              "    </tr>\n",
              "    <tr>\n",
              "      <th>15</th>\n",
              "      <td>2</td>\n",
              "      <td>0.35</td>\n",
              "      <td>1000</td>\n",
              "      <td>30</td>\n",
              "      <td>0.519265</td>\n",
              "      <td>0.010103</td>\n",
              "      <td>0.501096</td>\n",
              "      <td>0.018169</td>\n",
              "      <td>0.301333</td>\n",
              "      <td>0.048044</td>\n",
              "    </tr>\n",
              "  </tbody>\n",
              "</table>\n",
              "</div>"
            ],
            "text/plain": [
              "    Scenario  sigma     N  ...  Loss_ExcessRisk  Error_Mean  Error_StdDev\n",
              "0          1   0.10    50  ...         0.125314    0.217750      0.195819\n",
              "1          1   0.10   100  ...         0.082836    0.179667      0.172073\n",
              "2          1   0.10   500  ...         0.037761    0.022583      0.019132\n",
              "3          1   0.10  1000  ...         0.025138    0.009000      0.008103\n",
              "4          1   0.35    50  ...         0.107821    0.258500      0.106536\n",
              "5          1   0.35   100  ...         0.069836    0.173167      0.067924\n",
              "6          1   0.35   500  ...         0.032000    0.162667      0.029197\n",
              "7          1   0.35  1000  ...         0.017064    0.107167      0.017317\n",
              "8          2   0.10    50  ...         0.086995    0.384500      0.195184\n",
              "9          2   0.10   100  ...         0.059332    0.303417      0.169155\n",
              "10         2   0.10   500  ...         0.021607    0.350667      0.114501\n",
              "11         2   0.10  1000  ...         0.016660    0.351667      0.115174\n",
              "12         2   0.35    50  ...         0.082102    0.378667      0.119815\n",
              "13         2   0.35   100  ...         0.066917    0.374667      0.106254\n",
              "14         2   0.35   500  ...         0.018434    0.327083      0.053612\n",
              "15         2   0.35  1000  ...         0.018169    0.301333      0.048044\n",
              "\n",
              "[16 rows x 10 columns]"
            ]
          },
          "metadata": {
            "tags": []
          },
          "execution_count": 138
        }
      ]
    },
    {
      "cell_type": "markdown",
      "metadata": {
        "id": "HQPvINDl18k2"
      },
      "source": [
        "##### Plot grid"
      ]
    },
    {
      "cell_type": "code",
      "metadata": {
        "id": "rJzILW4Y17TC"
      },
      "source": [
        "def plot_result(estimator, result_df):\n",
        "    '''\n",
        "    estimator: \n",
        "        0 is for [\"Loss_ExcessRisk\", \"Loss_StdDev\"]\n",
        "        1 is for [\"Error_Mean\", \"Error_StdDev\"]\n",
        "    result_df:\n",
        "        result table above\n",
        "    \n",
        "    '''\n",
        "    if estimator == 0:\n",
        "        col = [\"Loss_ExcessRisk\", \"Loss_StdDev\"]\n",
        "    else:\n",
        "        col = [\"Error_Mean\", \"Error_StdDev\"]\n",
        "        \n",
        "    fig = plt.figure(figsize = (16, 10))\n",
        "    index = 0\n",
        "    for senario in [1, 2]:\n",
        "        for sigma in [0.1, 0.35]:\n",
        "            index += 1\n",
        "            plt.subplot(2, 2, index)\n",
        "            df = result_df[np.logical_and(result_df[\"Scenario\"] == senario, result_df[\"sigma\"] == sigma)]\n",
        "            excess_risk, excess_risk_var = df[col[0]], df[col[1]]\n",
        "\n",
        "            plt.plot(train_bs, excess_risk, '-o', label = col[0])\n",
        "            plt.errorbar(train_bs, excess_risk, excess_risk_var)\n",
        "\n",
        "            plt.xlabel(\"N\", fontsize = 12)\n",
        "            plt.xticks(fontsize = 12)\n",
        "            plt.ylabel(\"Risk\", fontsize = 12)\n",
        "            plt.yticks(fontsize = 12)\n",
        "            plt.title(\"Scenario \" + str(senario) + \", Sigma=\" + str(sigma), fontsize=15) \n",
        "    fig.legend(col, loc = \"upper right\", fontsize = 13)\n",
        "    plt.tight_layout()\n",
        "    plt.show()"
      ],
      "execution_count": 139,
      "outputs": []
    },
    {
      "cell_type": "markdown",
      "metadata": {
        "id": "LFfG6N4ri2-D"
      },
      "source": [
        "###### Plot excess risk"
      ]
    },
    {
      "cell_type": "code",
      "metadata": {
        "colab": {
          "base_uri": "https://localhost:8080/",
          "height": 552
        },
        "id": "IjXrdqjsi2-D",
        "outputId": "6067ae17-a6cb-4cf2-dd92-f43eba148271"
      },
      "source": [
        "plot_result(0, result_df)"
      ],
      "execution_count": 140,
      "outputs": [
        {
          "output_type": "display_data",
          "data": {
            "image/png": "[encoded data removed]",
            "text/plain": [
              "<Figure size 1152x720 with 4 Axes>"
            ]
          },
          "metadata": {
            "tags": [],
            "needs_background": "light"
          }
        }
      ]
    },
    {
      "cell_type": "markdown",
      "metadata": {
        "id": "GqkkaFAS3p4S"
      },
      "source": [
        "###### Plot classification error"
      ]
    },
    {
      "cell_type": "code",
      "metadata": {
        "colab": {
          "base_uri": "https://localhost:8080/",
          "height": 552
        },
        "id": "HFdxVESki2-D",
        "outputId": "a5478e7c-d9bb-44de-adac-56af5e428c80"
      },
      "source": [
        "plot_result(1, result_df)"
      ],
      "execution_count": 141,
      "outputs": [
        {
          "output_type": "display_data",
          "data": {
            "image/png": "[encoded data removed]",
            "text/plain": [
              "<Figure size 1152x720 with 4 Axes>"
            ]
          },
          "metadata": {
            "tags": [],
            "needs_background": "light"
          }
        }
      ]
    }
  ]
}