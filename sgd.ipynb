{
  "nbformat": 4,
  "nbformat_minor": 0,
  "metadata": {
    "colab": {
      "name": "sgd.ipynb",
      "provenance": [],
      "collapsed_sections": [],
      "toc_visible": true,
      "authorship_tag": "ABX9TyPfkUNVqVfK+cRjfodH/AgH",
      "include_colab_link": true
    },
    "kernelspec": {
      "name": "python3",
      "display_name": "Python 3"
    }
  },
  "cells": [
    {
      "cell_type": "markdown",
      "metadata": {
        "id": "view-in-github",
        "colab_type": "text"
      },
      "source": [
        "<a href=\"https://colab.research.google.com/github/linyuehzzz/5523_project/blob/main/sgd.ipynb\" target=\"_parent\"><img src=\"https://colab.research.google.com/assets/colab-badge.svg\" alt=\"Open In Colab\"/></a>"
      ]
    },
    {
      "cell_type": "markdown",
      "metadata": {
        "id": "FlILGcNEEW0E"
      },
      "source": [
        "##**Stochastic Gradient Descent for Logistic Regression**\n",
        "This code implements and tests the SGD algorithm for logistic regression\n",
        "in different scenarios.  \n",
        "Yifei Zhang (zhang.5387 at osu edu), Yue Lin (lin.3326 at osu.edu)  \n",
        "Created: 11/12/2020"
      ]
    },
    {
      "cell_type": "markdown",
      "metadata": {
        "id": "qGQmKFIeFYKY"
      },
      "source": [
        "#### **Set up libraries**"
      ]
    },
    {
      "cell_type": "code",
      "metadata": {
        "id": "BUex5ElWFaHO"
      },
      "source": [
        "import numpy as np\n",
        "import random\n",
        "import matplotlib.pyplot as plt\n",
        "import pandas as pd"
      ],
      "execution_count": 1,
      "outputs": []
    },
    {
      "cell_type": "markdown",
      "metadata": {
        "id": "YXnNnylopljK"
      },
      "source": [
        "#### **Project**"
      ]
    },
    {
      "cell_type": "markdown",
      "metadata": {
        "id": "MzHKV3T7pvFo"
      },
      "source": [
        "##### Projection function for hypercube"
      ]
    },
    {
      "cell_type": "code",
      "metadata": {
        "id": "9ewruRRFp0kP"
      },
      "source": [
        "def cube_prj(sample):\n",
        "    '''\n",
        "    This function projects both domain and parameter sets to a hypercube.\n",
        "\n",
        "    sample: features or gradients, 1*d array (d: #dimension)\n",
        "\n",
        "    return: \n",
        "        a hypercube with edge length 2 and centered around the origin\n",
        "    '''\n",
        "    return [np.sign(i) * min(np.abs(i), 1) for i in sample]"
      ],
      "execution_count": 2,
      "outputs": []
    },
    {
      "cell_type": "markdown",
      "metadata": {
        "id": "9mrnAQvYqI8q"
      },
      "source": [
        "##### Projection function for unit ball"
      ]
    },
    {
      "cell_type": "code",
      "metadata": {
        "id": "kyUbRJAKqRsd"
      },
      "source": [
        "def ball_prj(sample):\n",
        "    '''\n",
        "    This function projects both domain and parameter sets to a unit ball.\n",
        "\n",
        "    sample: features or gradients, 1*d array (d: #dimension)\n",
        "\n",
        "    return: \n",
        "        a unit ball centered around the origin\n",
        "    '''\n",
        "    ratio = 1 / np.linalg.norm(sample)\n",
        "    return [i * ratio for i in sample]"
      ],
      "execution_count": 3,
      "outputs": []
    },
    {
      "cell_type": "markdown",
      "metadata": {
        "id": "eZXfvRgKqXV2"
      },
      "source": [
        "##### Project data"
      ]
    },
    {
      "cell_type": "code",
      "metadata": {
        "id": "6dwzkd6WqW7X"
      },
      "source": [
        "def prj_data(x, y, prj_code):\n",
        "    '''\n",
        "    This function projects the domain set in terms for two scenarios.\n",
        "\n",
        "    X: feature vectors, n*d array (n: #sample, d: #dimension)\n",
        "    y: labels, 1*n array with values of -1 or +1\n",
        "    prj_code: type of projection, 0 for cube, 1 for ball\n",
        "\n",
        "    return:\n",
        "        prj_x: projected feature vectors \n",
        "        y: labels, same as the input\n",
        "    '''\n",
        "    if prj_code == 0:\n",
        "        prj_x = np.apply_along_axis(cube_prj, 1, x)\n",
        "    elif prj_code == 1:\n",
        "        prj_x = np.apply_along_axis(ball_prj, 1, x)\n",
        "    else:\n",
        "        print(\"Please input correct code for projection type: 0 for cube, 1 for ball\")\n",
        "      \n",
        "    b = np.ones((prj_x.shape[0], 1))\n",
        "    prj_x = np.append(prj_x, b, axis=1)\n",
        "    return prj_x, y"
      ],
      "execution_count": 4,
      "outputs": []
    },
    {
      "cell_type": "markdown",
      "metadata": {
        "id": "eiUQqYKLvAuY"
      },
      "source": [
        "##### Project gradient"
      ]
    },
    {
      "cell_type": "code",
      "metadata": {
        "id": "6ThWld5kvaBT"
      },
      "source": [
        "def prj_grad(g, prj_code):\n",
        "    '''\n",
        "    This function projects the parameter set for two scenarios.\n",
        "\n",
        "    g: gradients, 1*d array (d: #dimension)\n",
        "    prj_code: type of projection, 0 for cube, 1 for ball\n",
        "\n",
        "    return:\n",
        "        prj_g: projected gradients\n",
        "    '''\n",
        "    if prj_code == 0:\n",
        "        prj_g = cube_prj(g)\n",
        "    elif prj_code == 1:\n",
        "        prj_g = ball_prj(g)\n",
        "    else:\n",
        "        print(\"Please input correct code for projection type: 0 for cube, 1 for ball\")\n",
        "    return prj_g"
      ],
      "execution_count": 5,
      "outputs": []
    },
    {
      "cell_type": "markdown",
      "metadata": {
        "id": "tu0jhwwRF5ls"
      },
      "source": [
        "#### **Prepare data**"
      ]
    },
    {
      "cell_type": "code",
      "metadata": {
        "id": "yMDzFiFcrsg8"
      },
      "source": [
        "def gen_data(sig, n, d_dimension):\n",
        "    '''\n",
        "    This function generates the data for training and test.\n",
        "\n",
        "    sig: standard deviation of the Gaussian function\n",
        "    n: number of samples\n",
        "    d_dimension: dimensionality of the feature vectors\n",
        "    \n",
        "    Return:\n",
        "        X: feature vectors, n*d array (n: #sample, d: #dimension)\n",
        "        y: labels, 1*n array with values of -1 and +1\n",
        "    '''\n",
        "    # d_dimension = 4\n",
        "    y = np.random.choice([-1, 1], p = [0.5, 0.5], size = n)\n",
        "    x = np.array([])\n",
        "    for i in range(n):\n",
        "        if y[i] == -1:\n",
        "            mu = -(1 / 4)\n",
        "            negvec = np.random.normal(mu, sig, d_dimension)\n",
        "            x = np.concatenate([x, negvec], axis=0)\n",
        "        else:\n",
        "            mu = (1 / 4)\n",
        "            posvec = np.random.normal(mu, sig, d_dimension)\n",
        "            x = np.concatenate([x, posvec], axis=0)\n",
        "    x = np.reshape(x, (n, d_dimension))\n",
        "    return x, y"
      ],
      "execution_count": 6,
      "outputs": []
    },
    {
      "cell_type": "markdown",
      "metadata": {
        "id": "aAzwTZ79M6oi"
      },
      "source": [
        "#### **Train**\n",
        "https://machinelearningmastery.com/implement-logistic-regression-stochastic-gradient-descent-scratch-python/"
      ]
    },
    {
      "cell_type": "markdown",
      "metadata": {
        "id": "iJfOdxzt4M5T"
      },
      "source": [
        "##### Estimate logistic loss"
      ]
    },
    {
      "cell_type": "code",
      "metadata": {
        "id": "q_3nPdw4BJV0"
      },
      "source": [
        "def log_loss(X, y, w):\n",
        "    '''\n",
        "    This function outputs the logistic loss.\n",
        "\n",
        "    X: feature vector, 1*d array (d: #dimension)\n",
        "    y: label\n",
        "    w: weight vector, 1*d array\n",
        "    \n",
        "    Return: logistic loss\n",
        "    '''\n",
        "    return np.log(1 + np.exp(-y * np.dot(w.T, X)))"
      ],
      "execution_count": 7,
      "outputs": []
    },
    {
      "cell_type": "markdown",
      "metadata": {
        "id": "mnfgixZxQqvj"
      },
      "source": [
        "##### Estimate classification error"
      ]
    },
    {
      "cell_type": "code",
      "metadata": {
        "id": "DZdcop9KQuGF"
      },
      "source": [
        "def err(X, y, w):\n",
        "    '''\n",
        "    This function outputs the classification error.\n",
        "\n",
        "    X: feature vector, 1*d array (d: #dimension)\n",
        "    y: label\n",
        "    w: weight vector, 1*d array\n",
        "    \n",
        "    Return: classification error\n",
        "    '''\n",
        "    yhat = -1 if np.dot(w.T, X) < 0.5 else 1\n",
        "    return 0 if yhat == y else 1"
      ],
      "execution_count": 8,
      "outputs": []
    },
    {
      "cell_type": "markdown",
      "metadata": {
        "id": "XsiXCaLYCn6n"
      },
      "source": [
        "##### SGD"
      ]
    },
    {
      "cell_type": "code",
      "metadata": {
        "id": "O2-5n_kwCnth"
      },
      "source": [
        "def sgd(X, y, w_t, prj_code, l_rate):\n",
        "    '''\n",
        "    This function implements SGD.\n",
        "\n",
        "    X: feature vector at t, 1*d array (d: #dimension)\n",
        "    y: label\n",
        "    w_t: weight vector at t, 1*d array\n",
        "    prj_code: type of projection, 0 for cube, 1 for ball\n",
        "    l_rate: learning rate\n",
        "    \n",
        "    Return: \n",
        "        w_t: updated weight at t+1\n",
        "    '''\n",
        "    w_t = np.array(w_t)\n",
        "    # Calculate gradient\n",
        "    g = (-y * X * np.exp(-y * np.dot(w_t.T, X)) / (1 + np.exp(-y * np.dot(w_t.T, X))))\n",
        "    # Project gradient\n",
        "    w_t = prj_grad(np.add(w_t, np.multiply(-l_rate, g)), prj_code)\n",
        "    return w_t"
      ],
      "execution_count": 9,
      "outputs": []
    },
    {
      "cell_type": "markdown",
      "metadata": {
        "id": "lE93wIbQc9Is"
      },
      "source": [
        "##### Estimate weight vector using SGD"
      ]
    },
    {
      "cell_type": "code",
      "metadata": {
        "id": "Jb_QkJsIc8Vh"
      },
      "source": [
        "def train(train_x, train_y, test_x, test_y, l_rate, n_epoch, bs, prj_code):\n",
        "    '''\n",
        "    This function implements and tests the SGD algorithm for logistic regression.\n",
        "\n",
        "    train_x: feature vectors for training, n*d array (n: #sample, d: #dimension)\n",
        "    train_y: labels for training, 1*n array\n",
        "    test_x: feature vectors for test, n*d array (n: #sample, d: #dimension)\n",
        "    test_y: labels for test, 1*n array\n",
        "    l_rate: learning rate\n",
        "    n_epoch: number of trials\n",
        "    bs: training set size\n",
        "    prj_code: type of projection, 0 for cube, 1 for ball\n",
        "    \n",
        "    Return: \n",
        "        w: final weights\n",
        "        risk_ave: average risk\n",
        "        risk_min: minimum of all risks\n",
        "        risk_var: standard deviation of all risks\n",
        "        exp_excess_risk: expected excess risk\n",
        "        cls_err_ave: average classification error\n",
        "        cls_err_var: standard deviation of all classification errors\n",
        "    '''\n",
        "    risk_all = []\n",
        "    cls_err_all = []\n",
        "\n",
        "    for epoch in range(n_epoch):\n",
        "        w_t = np.random.uniform(-1, 1, (train_x.shape[1]))\n",
        "        risk = cls_err = 0.\n",
        "        w_all = []\n",
        "        for idx in range(epoch * bs, (epoch + 1) * bs):\n",
        "            # Read data\n",
        "            X = train_x[idx]\n",
        "            y = train_y[idx]\n",
        "            # SGD\n",
        "            w_t = sgd(X, y, w_t, prj_code, l_rate)\n",
        "            # Backward propagation\n",
        "            w_all.append(w_t)\n",
        "    \n",
        "        w = np.average(np.array(w_all), axis=0)\n",
        "    \n",
        "        # Evaluate\n",
        "        for idx in range(test_x.shape[0]):\n",
        "            # Read data\n",
        "            X = test_x[idx]\n",
        "            y = test_y[idx]\n",
        "            # Evaluate\n",
        "            risk += log_loss(X, y, w) / test_x.shape[0]\n",
        "            cls_err += err(X, y, w) / test_x.shape[0]\n",
        "    \n",
        "        risk_all = np.append(risk_all, risk)\n",
        "        cls_err_all = np.append(cls_err_all, cls_err)\n",
        "        # print('>epoch=%d, lrate=%.3f, risk=%.3f, classification error=%.3f' % (epoch, l_rate, risk, cls_err))\n",
        "  \n",
        "    # Report risk\n",
        "    # print(risk_all, cls_err_all)\n",
        "    risk_ave = np.average(risk_all)\n",
        "    risk_min = np.amin(risk_all)\n",
        "    risk_var = np.sqrt(np.var(risk_all))\n",
        "    exp_excess_risk = risk_ave - risk_min\n",
        "    # Report classification error\n",
        "    cls_err_ave = np.average(cls_err_all)\n",
        "    cls_err_var = np.sqrt(np.var(cls_err_all))\n",
        "    return [w, risk_ave, risk_min, risk_var, exp_excess_risk, cls_err_ave, cls_err_var]"
      ],
      "execution_count": 10,
      "outputs": []
    },
    {
      "cell_type": "markdown",
      "metadata": {
        "id": "q3SH2Dm7d71V"
      },
      "source": [
        "#### **Wrapper test**"
      ]
    },
    {
      "cell_type": "markdown",
      "metadata": {
        "id": "C0-3MK6Pk7mU"
      },
      "source": [
        "##### Generate data and train"
      ]
    },
    {
      "cell_type": "code",
      "metadata": {
        "id": "iJ68DlKXd6rP",
        "colab": {
          "base_uri": "https://localhost:8080/"
        },
        "outputId": "bd08dc5e-65db-4432-df9e-4ea685ba0f55"
      },
      "source": [
        "# Fixed hyperparameters\n",
        "n_epoch = 30    # training epochs\n",
        "test_n = 400    # size of test set\n",
        "\n",
        "# Unfixed hyperparameters\n",
        "prj_code = 0    # code for two scenario: 0 for cube, 1 for ball\n",
        "l_rate = 0.16  # learning rate: 0.04 for cube, 0.18 for ball\n",
        "train_bs = np.array([50, 100, 500, 1000])   # batch size for each training epoch\n",
        "sigma = 0.1     # variance of Gaussian distribution\n",
        "d_dimension = 4\n",
        "\n",
        "np.random.seed(1)\n",
        "\n",
        "excess_risk = []\n",
        "cls_error = []\n",
        "excess_risk_var = []\n",
        "cls_error_var = []\n",
        "\n",
        "for bs in train_bs:\n",
        "    # Generate training data\n",
        "    train_x, train_y = gen_data(sigma, bs * n_epoch, d_dimension)\n",
        "    train_px, train_py = prj_data(train_x, train_y, prj_code)\n",
        "\n",
        "    # Generate test data\n",
        "    test_x, test_y = gen_data(sigma, test_n, d_dimension)\n",
        "    test_px, test_py = prj_data(test_x, test_y, prj_code)\n",
        "\n",
        "    # Train\n",
        "    output = train(train_px, train_py, test_px, test_py, l_rate, n_epoch, bs, prj_code)\n",
        "    print(output)\n",
        "    print('>scenario=%d, sigma=%.2f, n=%d, log_loss_mean=%.3f, log_loss_std_dev=%.3f, log_loss_min=%.3f, \\\n",
        "            excess_risk=%.3f, cls_error_mean=%.3f, cls_error_std_dev=%.3f' \n",
        "            % (prj_code+1, sigma, bs, output[1], output[3], output[2], output[4], output[5], output[6]))\n",
        "    \n",
        "    excess_risk = np.append(excess_risk, output[4], axis=None)\n",
        "    cls_error = np.append(cls_error, output[5],  axis=None)\n",
        "    excess_risk_var = np.append(excess_risk_var, output[3], axis=None)\n",
        "    cls_error_var = np.append(cls_error_var, output[6],  axis=None)"
      ],
      "execution_count": 11,
      "outputs": [
        {
          "output_type": "stream",
          "text": [
            "[array([-0.18897699,  0.05354815,  0.34840153, -0.07563363, -0.04980467]), 0.5208856714013164, 0.37094769357192814, 0.08603300863131619, 0.14993797782938822, 0.2879166666666669, 0.20731023786157374]\n",
            ">scenario=1, sigma=0.10, n=50, log_loss_mean=0.521, log_loss_std_dev=0.086, log_loss_min=0.371,             excess_risk=0.150, cls_error_mean=0.288, cls_error_std_dev=0.207\n",
            "[array([ 0.9814903 ,  0.94495039,  0.32290242, -0.04594593, -0.11793739]), 0.4530631058684069, 0.3372746650374369, 0.04633832285216711, 0.11578844083097001, 0.18008333333333332, 0.17801156719594244]\n",
            ">scenario=1, sigma=0.10, n=100, log_loss_mean=0.453, log_loss_std_dev=0.046, log_loss_min=0.337,             excess_risk=0.116, cls_error_mean=0.180, cls_error_std_dev=0.178\n",
            "[array([0.92026751, 0.99258903, 0.86635786, 0.78921267, 0.10112228]), 0.3445910000876896, 0.33173363062021854, 0.007622486945538221, 0.01285736946747107, 0.010416666666666666, 0.01373989527697436]\n",
            ">scenario=1, sigma=0.10, n=500, log_loss_mean=0.345, log_loss_std_dev=0.008, log_loss_min=0.332,             excess_risk=0.013, cls_error_mean=0.010, cls_error_std_dev=0.014\n",
            "[array([0.95360249, 0.90905433, 0.96044051, 0.98798487, 0.03924237]), 0.3281938954910119, 0.3198542427404748, 0.003190437354090507, 0.008339652750537108, 0.006666666666666668, 0.004844813951249544]\n",
            ">scenario=1, sigma=0.10, n=1000, log_loss_mean=0.328, log_loss_std_dev=0.003, log_loss_min=0.320,             excess_risk=0.008, cls_error_mean=0.007, cls_error_std_dev=0.005\n"
          ],
          "name": "stdout"
        }
      ]
    },
    {
      "cell_type": "markdown",
      "metadata": {
        "id": "saT_I5DNk0rq"
      },
      "source": [
        "##### Plot excess risk"
      ]
    },
    {
      "cell_type": "code",
      "metadata": {
        "id": "dkARytwCk0Zj",
        "colab": {
          "base_uri": "https://localhost:8080/",
          "height": 297
        },
        "outputId": "b017e25d-f0d9-41d2-84dc-2d280de6e77c"
      },
      "source": [
        "plt.plot(train_bs, excess_risk, '-o', label='Excess risk')\n",
        "plt.errorbar(train_bs, excess_risk, excess_risk_var)\n",
        "plt.legend()\n",
        "plt.tight_layout()\n",
        "plt.show()"
      ],
      "execution_count": 12,
      "outputs": [
        {
          "output_type": "display_data",
          "data": {
            "image/png": "[encoded data removed]",
            "text/plain": [
              "<Figure size 432x288 with 1 Axes>"
            ]
          },
          "metadata": {
            "tags": [],
            "needs_background": "light"
          }
        }
      ]
    },
    {
      "cell_type": "markdown",
      "metadata": {
        "id": "xTAnpHKcoI1N"
      },
      "source": [
        "##### Plot classification error"
      ]
    },
    {
      "cell_type": "code",
      "metadata": {
        "id": "HIBfEnVRoMgT",
        "colab": {
          "base_uri": "https://localhost:8080/",
          "height": 297
        },
        "outputId": "732b2e62-28c2-482d-9d68-ceec4cf15ed8"
      },
      "source": [
        "plt.plot(train_bs, cls_error, '-o', label='Classification error')\n",
        "plt.errorbar(train_bs, cls_error, cls_error_var)\n",
        "plt.legend()\n",
        "plt.tight_layout()\n",
        "plt.show()"
      ],
      "execution_count": 13,
      "outputs": [
        {
          "output_type": "display_data",
          "data": {
            "image/png": "[encoded data removed]",
            "text/plain": [
              "<Figure size 432x288 with 1 Axes>"
            ]
          },
          "metadata": {
            "tags": [],
            "needs_background": "light"
          }
        }
      ]
    },
    {
      "cell_type": "markdown",
      "metadata": {
        "id": "VkFoAOYv0sKN"
      },
      "source": [
        "#### **Wrapper**"
      ]
    },
    {
      "cell_type": "code",
      "metadata": {
        "id": "whKZGg6u1T_P"
      },
      "source": [
        "# Set up hyperparameters\n",
        "n_epoch = 30    # training epochs\n",
        "test_n = 400    # size of test set\n",
        "d_dimension = 4\n",
        "train_bs = np.array([50, 100, 500, 1000])  # batch size for each training epoch\n",
        "\n",
        "np.random.seed(0)"
      ],
      "execution_count": 14,
      "outputs": []
    },
    {
      "cell_type": "markdown",
      "metadata": {
        "id": "D-4LlMyk1ecf"
      },
      "source": [
        "##### Run all experiments"
      ]
    },
    {
      "cell_type": "code",
      "metadata": {
        "id": "0_gFZQDT1W_U",
        "colab": {
          "base_uri": "https://localhost:8080/"
        },
        "outputId": "a888b4a4-94bd-4e34-9939-e37508ff4fba"
      },
      "source": [
        "result_list = []\n",
        "for prj_code in [0, 1]:\n",
        "    for sigma in [0.1, 0.35]:\n",
        "        for bs in train_bs:\n",
        "\n",
        "            if prj_code == 0:\n",
        "                m = 2 * np.sqrt(d_dimension + 1)\n",
        "            else:\n",
        "                m = 2\n",
        "\n",
        "            rho = np.sqrt(d_dimension + 1)\n",
        "            l_rate = m / (rho * np.sqrt(bs))\n",
        "\n",
        "            # Generate training data\n",
        "            train_x, train_y = gen_data(sigma, bs * n_epoch, d_dimension)\n",
        "            train_px, train_py = prj_data(train_x, train_y, prj_code)\n",
        "\n",
        "            # Generate test data\n",
        "            test_x, test_y = gen_data(sigma, test_n, d_dimension)\n",
        "            test_px, test_py = prj_data(test_x, test_y, prj_code)\n",
        "\n",
        "            # Train\n",
        "            output = train(train_px, train_py, test_px, test_py, l_rate, n_epoch, bs, prj_code)\n",
        "\n",
        "            print(output)\n",
        "            print('>scenario=%d, sigma=%.2f, n=%d, lr=%.2f, log_loss_mean=%.3f, log_loss_std_dev=%.3f, log_loss_min=%.3f, \\\n",
        "                excess_risk=%.3f, cls_error_mean=%.3f, cls_error_std_dev=%.3f' \n",
        "                % (prj_code+1, sigma, bs, l_rate, output[1], output[3], output[2], output[4], output[5], output[6]))\n",
        "            result = [prj_code + 1, sigma, bs, n_epoch,output[1], output[3], output[2], output[4], output[5], output[6]]\n",
        "            result_list.append(result)"
      ],
      "execution_count": 15,
      "outputs": [
        {
          "output_type": "stream",
          "text": [
            "[array([0.28020423, 0.3699529 , 0.14712709, 0.1233059 , 0.4993872 ]), 0.4667015225247593, 0.3551326347032276, 0.07255422631457406, 0.11156888782153174, 0.23866666666666683, 0.19840061883864077]\n",
            ">scenario=1, sigma=0.10, n=50, lr=0.28, log_loss_mean=0.467, log_loss_std_dev=0.073, log_loss_min=0.355,                 excess_risk=0.112, cls_error_mean=0.239, cls_error_std_dev=0.198\n",
            "[array([0.3855007 , 0.56488583, 0.34493177, 0.96505341, 0.24852258]), 0.40719097354336176, 0.3486625387498241, 0.04357129927169783, 0.05852843479353764, 0.10800000000000005, 0.12148285201349761]\n",
            ">scenario=1, sigma=0.10, n=100, lr=0.20, log_loss_mean=0.407, log_loss_std_dev=0.044, log_loss_min=0.349,                 excess_risk=0.059, cls_error_mean=0.108, cls_error_std_dev=0.121\n",
            "[array([ 0.91852166,  0.64254904,  0.90449386,  0.88169506, -0.0343642 ]), 0.35418857815962623, 0.32455353461141384, 0.013554616270815525, 0.029635043548212392, 0.007916666666666667, 0.00766711955184098]\n",
            ">scenario=1, sigma=0.10, n=500, lr=0.09, log_loss_mean=0.354, log_loss_std_dev=0.014, log_loss_min=0.325,                 excess_risk=0.030, cls_error_mean=0.008, cls_error_std_dev=0.008\n",
            "[array([0.98555654, 0.95298311, 0.76868515, 0.93080143, 0.09444001]), 0.3451872467737284, 0.3209013003304522, 0.011615835863006426, 0.024285946443276196, 0.012750000000000001, 0.010028085560065791]\n",
            ">scenario=1, sigma=0.10, n=1000, lr=0.06, log_loss_mean=0.345, log_loss_std_dev=0.012, log_loss_min=0.321,                 excess_risk=0.024, cls_error_mean=0.013, cls_error_std_dev=0.010\n",
            "[array([0.88016264, 0.09915907, 0.19227563, 0.51629662, 0.01296591]), 0.4873760628504669, 0.39993697114988713, 0.0559479614310685, 0.08743909170057979, 0.2605000000000002, 0.11174636459411116]\n",
            ">scenario=1, sigma=0.35, n=50, lr=0.28, log_loss_mean=0.487, log_loss_std_dev=0.056, log_loss_min=0.400,                 excess_risk=0.087, cls_error_mean=0.261, cls_error_std_dev=0.112\n",
            "[array([ 0.91440686,  0.65847197,  0.62644179,  0.80867765, -0.29371415]), 0.4483663014213365, 0.3948898151359506, 0.03127361842220449, 0.05347648628538587, 0.21583333333333346, 0.06704579695170232]\n",
            ">scenario=1, sigma=0.35, n=100, lr=0.20, log_loss_mean=0.448, log_loss_std_dev=0.031, log_loss_min=0.395,                 excess_risk=0.053, cls_error_mean=0.216, cls_error_std_dev=0.067\n",
            "[array([ 0.91755772,  0.81242543,  0.84843427,  0.96519207, -0.08326452]), 0.40281671047482975, 0.3832168713415032, 0.010835889759108881, 0.01959983913332658, 0.17666666666666678, 0.020628997929021085]\n",
            ">scenario=1, sigma=0.35, n=500, lr=0.09, log_loss_mean=0.403, log_loss_std_dev=0.011, log_loss_min=0.383,                 excess_risk=0.020, cls_error_mean=0.177, cls_error_std_dev=0.021\n",
            "[array([0.95234543, 0.81204824, 0.78602179, 0.91309698, 0.00470108]), 0.39005120829185397, 0.37479926041371214, 0.006565122008683517, 0.015251947878141825, 0.15808333333333338, 0.017256440021691112]\n",
            ">scenario=1, sigma=0.35, n=1000, lr=0.06, log_loss_mean=0.390, log_loss_std_dev=0.007, log_loss_min=0.375,                 excess_risk=0.015, cls_error_mean=0.158, cls_error_std_dev=0.017\n",
            "[array([-0.39602823,  0.33283585, -0.40039703,  0.20579016,  0.28979867]), 0.4502892878735646, 0.33260686917476184, 0.10292855406471287, 0.11768241869880275, 0.16525000000000004, 0.19223504493197902]\n",
            ">scenario=2, sigma=0.10, n=50, lr=0.13, log_loss_mean=0.450, log_loss_std_dev=0.103, log_loss_min=0.333,                 excess_risk=0.118, cls_error_mean=0.165, cls_error_std_dev=0.192\n",
            "[array([ 0.26710662,  0.68257367,  0.56671736,  0.25851504, -0.05919056]), 0.3968957440934952, 0.3478460145715407, 0.03761711084735407, 0.04904972952195452, 0.07508333333333334, 0.1365443812668817]\n",
            ">scenario=2, sigma=0.10, n=100, lr=0.09, log_loss_mean=0.397, log_loss_std_dev=0.038, log_loss_min=0.348,                 excess_risk=0.049, cls_error_mean=0.075, cls_error_std_dev=0.137\n",
            "[array([ 0.55294491,  0.35757144,  0.46695613,  0.54377249, -0.04358598]), 0.3501313472490334, 0.3303461513524549, 0.013678901785768235, 0.01978519589657851, 0.0016666666666666668, 0.003184162195757133]\n",
            ">scenario=2, sigma=0.10, n=500, lr=0.04, log_loss_mean=0.350, log_loss_std_dev=0.014, log_loss_min=0.330,                 excess_risk=0.020, cls_error_mean=0.002, cls_error_std_dev=0.003\n",
            "[array([ 0.42492269,  0.54688034,  0.42245423,  0.53157351, -0.02685835]), 0.3457539588712441, 0.3334454273904337, 0.00885567817503507, 0.012308531480810403, 0.0, 0.0]\n",
            ">scenario=2, sigma=0.10, n=1000, lr=0.03, log_loss_mean=0.346, log_loss_std_dev=0.009, log_loss_min=0.333,                 excess_risk=0.012, cls_error_mean=0.000, cls_error_std_dev=0.000\n",
            "[array([ 0.67657977,  0.41156937,  0.28651533, -0.29625547,  0.2559107 ]), 0.6038203351639517, 0.49690810813131303, 0.10593767085970375, 0.1069122270326387, 0.3387499999999999, 0.16626754293407064]\n",
            ">scenario=2, sigma=0.35, n=50, lr=0.13, log_loss_mean=0.604, log_loss_std_dev=0.106, log_loss_min=0.497,                 excess_risk=0.107, cls_error_mean=0.339, cls_error_std_dev=0.166\n",
            "[array([ 0.63235027, -0.08984172,  0.35331747,  0.00389324, -0.36666433]), 0.5309633119849162, 0.4617674868082633, 0.042913098881624465, 0.0691958251766529, 0.29000000000000015, 0.11049132695978157]\n",
            ">scenario=2, sigma=0.35, n=100, lr=0.09, log_loss_mean=0.531, log_loss_std_dev=0.043, log_loss_min=0.462,                 excess_risk=0.069, cls_error_mean=0.290, cls_error_std_dev=0.110\n",
            "[array([0.615993  , 0.38113247, 0.20746919, 0.56879721, 0.03961524]), 0.5039838844456935, 0.4672229309514662, 0.026770289151418016, 0.03676095349422731, 0.2292500000000002, 0.08039524757927763]\n",
            ">scenario=2, sigma=0.35, n=500, lr=0.04, log_loss_mean=0.504, log_loss_std_dev=0.027, log_loss_min=0.467,                 excess_risk=0.037, cls_error_mean=0.229, cls_error_std_dev=0.080\n",
            "[array([0.30452728, 0.53704389, 0.49504647, 0.53003527, 0.02211751]), 0.4812266776983918, 0.4635396218415661, 0.013457657287030508, 0.017687055856825673, 0.21533333333333343, 0.06449397043307398]\n",
            ">scenario=2, sigma=0.35, n=1000, lr=0.03, log_loss_mean=0.481, log_loss_std_dev=0.013, log_loss_min=0.464,                 excess_risk=0.018, cls_error_mean=0.215, cls_error_std_dev=0.064\n"
          ],
          "name": "stdout"
        }
      ]
    },
    {
      "cell_type": "markdown",
      "metadata": {
        "id": "ytSebM2h1z2y"
      },
      "source": [
        "##### Plot table"
      ]
    },
    {
      "cell_type": "code",
      "metadata": {
        "colab": {
          "base_uri": "https://localhost:8080/",
          "height": 559
        },
        "id": "vhUYrS5Qi2-C",
        "outputId": "209d60e5-7846-47f0-f238-657010338cdb"
      },
      "source": [
        "column_name = [\"Scenario\", \"sigma\", \"N\", \"#trails\", \"Loss_Mean\", \"Loss_StdDev\", \"Loss_Min\", \"Loss_ExcessRisk\",\n",
        "             \"Error_Mean\", \"Error_StdDev\"]\n",
        "result_df = pd.DataFrame(result_list, columns = column_name)\n",
        "result_df"
      ],
      "execution_count": 16,
      "outputs": [
        {
          "output_type": "execute_result",
          "data": {
            "text/html": [
              "<div>\n",
              "<style scoped>\n",
              "    .dataframe tbody tr th:only-of-type {\n",
              "        vertical-align: middle;\n",
              "    }\n",
              "\n",
              "    .dataframe tbody tr th {\n",
              "        vertical-align: top;\n",
              "    }\n",
              "\n",
              "    .dataframe thead th {\n",
              "        text-align: right;\n",
              "    }\n",
              "</style>\n",
              "<table border=\"1\" class=\"dataframe\">\n",
              "  <thead>\n",
              "    <tr style=\"text-align: right;\">\n",
              "      <th></th>\n",
              "      <th>Scenario</th>\n",
              "      <th>sigma</th>\n",
              "      <th>N</th>\n",
              "      <th>#trails</th>\n",
              "      <th>Loss_Mean</th>\n",
              "      <th>Loss_StdDev</th>\n",
              "      <th>Loss_Min</th>\n",
              "      <th>Loss_ExcessRisk</th>\n",
              "      <th>Error_Mean</th>\n",
              "      <th>Error_StdDev</th>\n",
              "    </tr>\n",
              "  </thead>\n",
              "  <tbody>\n",
              "    <tr>\n",
              "      <th>0</th>\n",
              "      <td>1</td>\n",
              "      <td>0.10</td>\n",
              "      <td>50</td>\n",
              "      <td>30</td>\n",
              "      <td>0.466702</td>\n",
              "      <td>0.072554</td>\n",
              "      <td>0.355133</td>\n",
              "      <td>0.111569</td>\n",
              "      <td>0.238667</td>\n",
              "      <td>0.198401</td>\n",
              "    </tr>\n",
              "    <tr>\n",
              "      <th>1</th>\n",
              "      <td>1</td>\n",
              "      <td>0.10</td>\n",
              "      <td>100</td>\n",
              "      <td>30</td>\n",
              "      <td>0.407191</td>\n",
              "      <td>0.043571</td>\n",
              "      <td>0.348663</td>\n",
              "      <td>0.058528</td>\n",
              "      <td>0.108000</td>\n",
              "      <td>0.121483</td>\n",
              "    </tr>\n",
              "    <tr>\n",
              "      <th>2</th>\n",
              "      <td>1</td>\n",
              "      <td>0.10</td>\n",
              "      <td>500</td>\n",
              "      <td>30</td>\n",
              "      <td>0.354189</td>\n",
              "      <td>0.013555</td>\n",
              "      <td>0.324554</td>\n",
              "      <td>0.029635</td>\n",
              "      <td>0.007917</td>\n",
              "      <td>0.007667</td>\n",
              "    </tr>\n",
              "    <tr>\n",
              "      <th>3</th>\n",
              "      <td>1</td>\n",
              "      <td>0.10</td>\n",
              "      <td>1000</td>\n",
              "      <td>30</td>\n",
              "      <td>0.345187</td>\n",
              "      <td>0.011616</td>\n",
              "      <td>0.320901</td>\n",
              "      <td>0.024286</td>\n",
              "      <td>0.012750</td>\n",
              "      <td>0.010028</td>\n",
              "    </tr>\n",
              "    <tr>\n",
              "      <th>4</th>\n",
              "      <td>1</td>\n",
              "      <td>0.35</td>\n",
              "      <td>50</td>\n",
              "      <td>30</td>\n",
              "      <td>0.487376</td>\n",
              "      <td>0.055948</td>\n",
              "      <td>0.399937</td>\n",
              "      <td>0.087439</td>\n",
              "      <td>0.260500</td>\n",
              "      <td>0.111746</td>\n",
              "    </tr>\n",
              "    <tr>\n",
              "      <th>5</th>\n",
              "      <td>1</td>\n",
              "      <td>0.35</td>\n",
              "      <td>100</td>\n",
              "      <td>30</td>\n",
              "      <td>0.448366</td>\n",
              "      <td>0.031274</td>\n",
              "      <td>0.394890</td>\n",
              "      <td>0.053476</td>\n",
              "      <td>0.215833</td>\n",
              "      <td>0.067046</td>\n",
              "    </tr>\n",
              "    <tr>\n",
              "      <th>6</th>\n",
              "      <td>1</td>\n",
              "      <td>0.35</td>\n",
              "      <td>500</td>\n",
              "      <td>30</td>\n",
              "      <td>0.402817</td>\n",
              "      <td>0.010836</td>\n",
              "      <td>0.383217</td>\n",
              "      <td>0.019600</td>\n",
              "      <td>0.176667</td>\n",
              "      <td>0.020629</td>\n",
              "    </tr>\n",
              "    <tr>\n",
              "      <th>7</th>\n",
              "      <td>1</td>\n",
              "      <td>0.35</td>\n",
              "      <td>1000</td>\n",
              "      <td>30</td>\n",
              "      <td>0.390051</td>\n",
              "      <td>0.006565</td>\n",
              "      <td>0.374799</td>\n",
              "      <td>0.015252</td>\n",
              "      <td>0.158083</td>\n",
              "      <td>0.017256</td>\n",
              "    </tr>\n",
              "    <tr>\n",
              "      <th>8</th>\n",
              "      <td>2</td>\n",
              "      <td>0.10</td>\n",
              "      <td>50</td>\n",
              "      <td>30</td>\n",
              "      <td>0.450289</td>\n",
              "      <td>0.102929</td>\n",
              "      <td>0.332607</td>\n",
              "      <td>0.117682</td>\n",
              "      <td>0.165250</td>\n",
              "      <td>0.192235</td>\n",
              "    </tr>\n",
              "    <tr>\n",
              "      <th>9</th>\n",
              "      <td>2</td>\n",
              "      <td>0.10</td>\n",
              "      <td>100</td>\n",
              "      <td>30</td>\n",
              "      <td>0.396896</td>\n",
              "      <td>0.037617</td>\n",
              "      <td>0.347846</td>\n",
              "      <td>0.049050</td>\n",
              "      <td>0.075083</td>\n",
              "      <td>0.136544</td>\n",
              "    </tr>\n",
              "    <tr>\n",
              "      <th>10</th>\n",
              "      <td>2</td>\n",
              "      <td>0.10</td>\n",
              "      <td>500</td>\n",
              "      <td>30</td>\n",
              "      <td>0.350131</td>\n",
              "      <td>0.013679</td>\n",
              "      <td>0.330346</td>\n",
              "      <td>0.019785</td>\n",
              "      <td>0.001667</td>\n",
              "      <td>0.003184</td>\n",
              "    </tr>\n",
              "    <tr>\n",
              "      <th>11</th>\n",
              "      <td>2</td>\n",
              "      <td>0.10</td>\n",
              "      <td>1000</td>\n",
              "      <td>30</td>\n",
              "      <td>0.345754</td>\n",
              "      <td>0.008856</td>\n",
              "      <td>0.333445</td>\n",
              "      <td>0.012309</td>\n",
              "      <td>0.000000</td>\n",
              "      <td>0.000000</td>\n",
              "    </tr>\n",
              "    <tr>\n",
              "      <th>12</th>\n",
              "      <td>2</td>\n",
              "      <td>0.35</td>\n",
              "      <td>50</td>\n",
              "      <td>30</td>\n",
              "      <td>0.603820</td>\n",
              "      <td>0.105938</td>\n",
              "      <td>0.496908</td>\n",
              "      <td>0.106912</td>\n",
              "      <td>0.338750</td>\n",
              "      <td>0.166268</td>\n",
              "    </tr>\n",
              "    <tr>\n",
              "      <th>13</th>\n",
              "      <td>2</td>\n",
              "      <td>0.35</td>\n",
              "      <td>100</td>\n",
              "      <td>30</td>\n",
              "      <td>0.530963</td>\n",
              "      <td>0.042913</td>\n",
              "      <td>0.461767</td>\n",
              "      <td>0.069196</td>\n",
              "      <td>0.290000</td>\n",
              "      <td>0.110491</td>\n",
              "    </tr>\n",
              "    <tr>\n",
              "      <th>14</th>\n",
              "      <td>2</td>\n",
              "      <td>0.35</td>\n",
              "      <td>500</td>\n",
              "      <td>30</td>\n",
              "      <td>0.503984</td>\n",
              "      <td>0.026770</td>\n",
              "      <td>0.467223</td>\n",
              "      <td>0.036761</td>\n",
              "      <td>0.229250</td>\n",
              "      <td>0.080395</td>\n",
              "    </tr>\n",
              "    <tr>\n",
              "      <th>15</th>\n",
              "      <td>2</td>\n",
              "      <td>0.35</td>\n",
              "      <td>1000</td>\n",
              "      <td>30</td>\n",
              "      <td>0.481227</td>\n",
              "      <td>0.013458</td>\n",
              "      <td>0.463540</td>\n",
              "      <td>0.017687</td>\n",
              "      <td>0.215333</td>\n",
              "      <td>0.064494</td>\n",
              "    </tr>\n",
              "  </tbody>\n",
              "</table>\n",
              "</div>"
            ],
            "text/plain": [
              "    Scenario  sigma     N  ...  Loss_ExcessRisk  Error_Mean  Error_StdDev\n",
              "0          1   0.10    50  ...         0.111569    0.238667      0.198401\n",
              "1          1   0.10   100  ...         0.058528    0.108000      0.121483\n",
              "2          1   0.10   500  ...         0.029635    0.007917      0.007667\n",
              "3          1   0.10  1000  ...         0.024286    0.012750      0.010028\n",
              "4          1   0.35    50  ...         0.087439    0.260500      0.111746\n",
              "5          1   0.35   100  ...         0.053476    0.215833      0.067046\n",
              "6          1   0.35   500  ...         0.019600    0.176667      0.020629\n",
              "7          1   0.35  1000  ...         0.015252    0.158083      0.017256\n",
              "8          2   0.10    50  ...         0.117682    0.165250      0.192235\n",
              "9          2   0.10   100  ...         0.049050    0.075083      0.136544\n",
              "10         2   0.10   500  ...         0.019785    0.001667      0.003184\n",
              "11         2   0.10  1000  ...         0.012309    0.000000      0.000000\n",
              "12         2   0.35    50  ...         0.106912    0.338750      0.166268\n",
              "13         2   0.35   100  ...         0.069196    0.290000      0.110491\n",
              "14         2   0.35   500  ...         0.036761    0.229250      0.080395\n",
              "15         2   0.35  1000  ...         0.017687    0.215333      0.064494\n",
              "\n",
              "[16 rows x 10 columns]"
            ]
          },
          "metadata": {
            "tags": []
          },
          "execution_count": 16
        }
      ]
    },
    {
      "cell_type": "markdown",
      "metadata": {
        "id": "HQPvINDl18k2"
      },
      "source": [
        "##### Plot grid"
      ]
    },
    {
      "cell_type": "code",
      "metadata": {
        "id": "rJzILW4Y17TC"
      },
      "source": [
        "def plot_result(estimator, result_df):\n",
        "    '''\n",
        "    estimator: \n",
        "        0 is for [\"Loss_ExcessRisk\", \"Loss_StdDev\"]\n",
        "        1 is for [\"Error_Mean\", \"Error_StdDev\"]\n",
        "    result_df:\n",
        "        result table above\n",
        "    \n",
        "    '''\n",
        "    if estimator == 0:\n",
        "        col = [\"Loss_ExcessRisk\", \"Loss_StdDev\"]\n",
        "    else:\n",
        "        col = [\"Error_Mean\", \"Error_StdDev\"]\n",
        "        \n",
        "    fig = plt.figure(figsize = (16, 10))\n",
        "    index = 0\n",
        "    for senario in [1, 2]:\n",
        "        for sigma in [0.1, 0.35]:\n",
        "            index += 1\n",
        "            plt.subplot(2, 2, index)\n",
        "            df = result_df[np.logical_and(result_df[\"Scenario\"] == senario, result_df[\"sigma\"] == sigma)]\n",
        "            excess_risk, excess_risk_var = df[col[0]], df[col[1]]\n",
        "\n",
        "            plt.plot(train_bs, excess_risk, '-o', label = col[0])\n",
        "            plt.errorbar(train_bs, excess_risk, excess_risk_var)\n",
        "\n",
        "            plt.xlabel(\"N\", fontsize = 12)\n",
        "            plt.xticks(fontsize = 12)\n",
        "            plt.ylabel(\"Risk\", fontsize = 12)\n",
        "            plt.yticks(fontsize = 12)\n",
        "            plt.title(\"Scenario \" + str(senario) + \", Sigma=\" + str(sigma), fontsize=15) \n",
        "    fig.legend(col, loc = \"upper right\", fontsize = 13)\n",
        "    plt.tight_layout()\n",
        "    plt.show()"
      ],
      "execution_count": 17,
      "outputs": []
    },
    {
      "cell_type": "markdown",
      "metadata": {
        "id": "LFfG6N4ri2-D"
      },
      "source": [
        "###### Plot excess risk"
      ]
    },
    {
      "cell_type": "code",
      "metadata": {
        "colab": {
          "base_uri": "https://localhost:8080/",
          "height": 552
        },
        "id": "IjXrdqjsi2-D",
        "outputId": "088f2a54-fbdb-4f71-9d24-5406bd1aadc3"
      },
      "source": [
        "plot_result(0, result_df)"
      ],
      "execution_count": 18,
      "outputs": [
        {
          "output_type": "display_data",
          "data": {
            "image/png": "[encoded data removed]",
            "text/plain": [
              "<Figure size 1152x720 with 4 Axes>"
            ]
          },
          "metadata": {
            "tags": [],
            "needs_background": "light"
          }
        }
      ]
    },
    {
      "cell_type": "markdown",
      "metadata": {
        "id": "GqkkaFAS3p4S"
      },
      "source": [
        "###### Plot classification error"
      ]
    },
    {
      "cell_type": "code",
      "metadata": {
        "colab": {
          "base_uri": "https://localhost:8080/",
          "height": 552
        },
        "id": "HFdxVESki2-D",
        "outputId": "a37040bc-4140-4b6e-e14d-145c0e39b0d3"
      },
      "source": [
        "plot_result(1, result_df)"
      ],
      "execution_count": 19,
      "outputs": [
        {
          "output_type": "display_data",
          "data": {
            "image/png": "[encoded data removed]",
            "text/plain": [
              "<Figure size 1152x720 with 4 Axes>"
            ]
          },
          "metadata": {
            "tags": [],
            "needs_background": "light"
          }
        }
      ]
    }
  ]
}