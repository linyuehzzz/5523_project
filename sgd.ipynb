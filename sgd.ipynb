{
  "nbformat": 4,
  "nbformat_minor": 0,
  "metadata": {
    "colab": {
      "name": "sgd.ipynb",
      "provenance": [],
      "collapsed_sections": [],
      "toc_visible": true,
      "authorship_tag": "ABX9TyPk5M68ka4uu3HOjdR58Uq+",
      "include_colab_link": true
    },
    "kernelspec": {
      "name": "python3",
      "display_name": "Python 3"
    }
  },
  "cells": [
    {
      "cell_type": "markdown",
      "metadata": {
        "id": "view-in-github",
        "colab_type": "text"
      },
      "source": [
        "<a href=\"https://colab.research.google.com/github/linyuehzzz/5523_project/blob/main/sgd.ipynb\" target=\"_parent\"><img src=\"https://colab.research.google.com/assets/colab-badge.svg\" alt=\"Open In Colab\"/></a>"
      ]
    },
    {
      "cell_type": "markdown",
      "metadata": {
        "id": "FlILGcNEEW0E"
      },
      "source": [
        "##**Stochastic Gradient Descent for Logistic Regression**\n",
        "This code implements and tests the SGD algorithm for logistic regression\n",
        "in different scenarios.  \n",
        "Yue Lin (lin.3326 at osu.edu)  \n",
        "Created: 11/12/2020"
      ]
    },
    {
      "cell_type": "code",
      "metadata": {
        "id": "I3jzXZtrB7Fj"
      },
      "source": [
        "from google.colab import drive\n",
        "drive.mount('/content/gdrive')"
      ],
      "execution_count": null,
      "outputs": []
    },
    {
      "cell_type": "markdown",
      "metadata": {
        "id": "qGQmKFIeFYKY"
      },
      "source": [
        "#### **Set up libraries**"
      ]
    },
    {
      "cell_type": "code",
      "metadata": {
        "id": "BUex5ElWFaHO"
      },
      "source": [
        "import numpy as np\n",
        "import random\n",
        "import math\n",
        "from sklearn.linear_model import SGDClassifier\n",
        "from sklearn.preprocessing import StandardScaler"
      ],
      "execution_count": 14,
      "outputs": []
    },
    {
      "cell_type": "markdown",
      "metadata": {
        "id": "tu0jhwwRF5ls"
      },
      "source": [
        "#### **Prepare data**"
      ]
    },
    {
      "cell_type": "markdown",
      "metadata": {
        "id": "HTRysHMwfe1D"
      },
      "source": [
        "##### Generate training data"
      ]
    },
    {
      "cell_type": "code",
      "metadata": {
        "id": "HSXWx3zyF9B3"
      },
      "source": [
        "def train_data(n_epoch, train_n):\n",
        "  train_x = np.random.uniform(-1, 1, (train_n * n_epoch, 4))\n",
        "  b = np.ones((train_n * n_epoch, 1))\n",
        "  np.append(train_x, b, axis=1)\n",
        "  train_y = np.array([random.randrange(-1, 2, 2) for i in range(train_n * n_epoch)])\n",
        "  # print(train_x, train_y)\n",
        "  return train_x, train_y"
      ],
      "execution_count": 24,
      "outputs": []
    },
    {
      "cell_type": "markdown",
      "metadata": {
        "id": "NRHC29iHfY5G"
      },
      "source": [
        "##### Generate test data"
      ]
    },
    {
      "cell_type": "code",
      "metadata": {
        "id": "8ZNMPtZQe8-t"
      },
      "source": [
        "def test_data(test_n):\n",
        "  test_x = np.random.uniform(-1, 1, (test_n, 4))\n",
        "  b = np.ones((test_n, 1))\n",
        "  np.append(test_x, b, axis=1)\n",
        "  test_y = np.array([random.randrange(-1, 2, 2) for i in range(test_n)])\n",
        "  # print(test_x, test_y)\n",
        "  return test_x, test_y"
      ],
      "execution_count": 21,
      "outputs": []
    },
    {
      "cell_type": "markdown",
      "metadata": {
        "id": "aAzwTZ79M6oi"
      },
      "source": [
        "#### **Train**\n",
        "https://scikit-learn.org/stable/modules/generated/sklearn.linear_model.SGDClassifier.html\n",
        "\n",
        "https://machinelearningmastery.com/implement-logistic-regression-stochastic-gradient-descent-scratch-python/"
      ]
    },
    {
      "cell_type": "markdown",
      "metadata": {
        "id": "s8XQyQ8Ycqpo"
      },
      "source": [
        "##### Predict using logistic regression"
      ]
    },
    {
      "cell_type": "code",
      "metadata": {
        "id": "dzPxwbmIM6NU"
      },
      "source": [
        "# Make a prediction with coefficients\n",
        "def pred(row, w):\n",
        "\tyhat = w[0]\n",
        "\tfor i in range(len(row)-1):\n",
        "\t\tyhat += w[i + 1] * row[i]\n",
        "\treturn 1.0 / (1.0 + exp(-yhat))"
      ],
      "execution_count": null,
      "outputs": []
    },
    {
      "cell_type": "markdown",
      "metadata": {
        "id": "lE93wIbQc9Is"
      },
      "source": [
        "##### Estimate weight vector using SGD"
      ]
    },
    {
      "cell_type": "code",
      "metadata": {
        "id": "Jb_QkJsIc8Vh"
      },
      "source": [
        "def sgd(train, l_rate, n_epoch, bs):\n",
        "  w = np.zeros((1, len(train_x[0])))\n",
        "  for epoch in range(n_epoch):\n",
        "    l_ave = l_min = l_var = 0.\n",
        "    err_ave = err_var = 0.\n",
        "    for row in train[epoch * bs: (epoch + 1) * bs, :]:\n",
        "      yhat = pred(row, w)\n",
        "      error = row[-1] - yhat\n",
        "      sum_error += error**2\n",
        "      w[0] = w[0] + l_rate * error * yhat * (1.0 - yhat)\n",
        "      for i in range(len(row)-1):\n",
        "        w[i + 1] = w[i + 1] + l_rate * error * yhat * (1.0 - yhat) * row[i]\n",
        "    print('>epoch=%d, lrate=%.3f, error=%.3f' % (epoch, l_rate, sum_error))\n",
        "  return w"
      ],
      "execution_count": 34,
      "outputs": []
    },
    {
      "cell_type": "markdown",
      "metadata": {
        "id": "rfEfUEh0Wc4q"
      },
      "source": [
        "#### **Test**\n",
        "https://scikit-learn.org/stable/modules/generated/sklearn.metrics.log_loss.html"
      ]
    },
    {
      "cell_type": "code",
      "metadata": {
        "id": "e7pJiWUOWibi"
      },
      "source": [
        ">>> clf.fit(X, Y)\n",
        "Pipeline(steps=[('standardscaler', StandardScaler()),\n",
        "                ('sgdclassifier', SGDClassifier())])\n",
        ">>> print(clf.predict([[-0.8, -1]]))"
      ],
      "execution_count": null,
      "outputs": []
    },
    {
      "cell_type": "markdown",
      "metadata": {
        "id": "q3SH2Dm7d71V"
      },
      "source": [
        "#### **Wrapper**"
      ]
    },
    {
      "cell_type": "code",
      "metadata": {
        "id": "iJ68DlKXd6rP"
      },
      "source": [
        "# Generate test data\n",
        "test_n = 400\n",
        "test_x, test_y = test_data(test_n)\n",
        "\n",
        "# Generate training data\n",
        "n_epoch = 30\n",
        "train_n = 50\n",
        "train_x, train_y = train_data(n_epoch, train_n)\n"
      ],
      "execution_count": 22,
      "outputs": []
    }
  ]
}