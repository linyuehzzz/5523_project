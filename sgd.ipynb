{
  "nbformat": 4,
  "nbformat_minor": 0,
  "metadata": {
    "colab": {
      "name": "sgd.ipynb",
      "provenance": [],
      "collapsed_sections": [],
      "toc_visible": true,
      "authorship_tag": "ABX9TyO4IwlTJVB9xjR9W8v4XsfU",
      "include_colab_link": true
    },
    "kernelspec": {
      "name": "python3",
      "display_name": "Python 3"
    }
  },
  "cells": [
    {
      "cell_type": "markdown",
      "metadata": {
        "id": "view-in-github",
        "colab_type": "text"
      },
      "source": [
        "<a href=\"https://colab.research.google.com/github/linyuehzzz/5523_project/blob/main/sgd.ipynb\" target=\"_parent\"><img src=\"https://colab.research.google.com/assets/colab-badge.svg\" alt=\"Open In Colab\"/></a>"
      ]
    },
    {
      "cell_type": "markdown",
      "metadata": {
        "id": "FlILGcNEEW0E"
      },
      "source": [
        "##**Stochastic Gradient Descent for Logistic Regression**\n",
        "This code implements and tests the SGD algorithm for logistic regression\n",
        "in different scenarios.  \n",
        "Yifei Zhang (zhang.5387 at osu edu), Yue Lin (lin.3326 at osu.edu)  \n",
        "Created: 11/12/2020"
      ]
    },
    {
      "cell_type": "markdown",
      "metadata": {
        "id": "qGQmKFIeFYKY"
      },
      "source": [
        "#### **Set up libraries**"
      ]
    },
    {
      "cell_type": "code",
      "metadata": {
        "id": "BUex5ElWFaHO"
      },
      "source": [
        "import numpy as np\n",
        "import random\n",
        "import matplotlib.pyplot as plt\n",
        "import pandas as pd"
      ],
      "execution_count": 262,
      "outputs": []
    },
    {
      "cell_type": "markdown",
      "metadata": {
        "id": "YXnNnylopljK"
      },
      "source": [
        "#### **Project**"
      ]
    },
    {
      "cell_type": "markdown",
      "metadata": {
        "id": "MzHKV3T7pvFo"
      },
      "source": [
        "##### Projection function for hypercube"
      ]
    },
    {
      "cell_type": "code",
      "metadata": {
        "id": "9ewruRRFp0kP"
      },
      "source": [
        "def cube_prj(sample):\n",
        "  '''\n",
        "  input: a sample with d dimension (1-D array or list)\n",
        "  onput: the euclidean projection of sample\n",
        "  '''\n",
        "  return [np.sign(i) * min(np.abs(i), 1) for i in sample]"
      ],
      "execution_count": 263,
      "outputs": []
    },
    {
      "cell_type": "markdown",
      "metadata": {
        "id": "9mrnAQvYqI8q"
      },
      "source": [
        "##### Projection function for unit ball"
      ]
    },
    {
      "cell_type": "code",
      "metadata": {
        "id": "kyUbRJAKqRsd"
      },
      "source": [
        "def ball_prj(sample):\n",
        "    '''\n",
        "    input: a sample with d dimension (1-D array or list)\n",
        "    onput: the euclidean projection of sample\n",
        "    '''\n",
        "    ratio = 1 / np.linalg.norm(sample)\n",
        "    return [i * ratio for i in sample]"
      ],
      "execution_count": 264,
      "outputs": []
    },
    {
      "cell_type": "markdown",
      "metadata": {
        "id": "eZXfvRgKqXV2"
      },
      "source": [
        "##### Project data"
      ]
    },
    {
      "cell_type": "code",
      "metadata": {
        "id": "6dwzkd6WqW7X"
      },
      "source": [
        "def prj_data(x, y, prj_code):\n",
        "    '''\n",
        "    This function is for conduct projection on data array\n",
        "    x: n*d array (n is sample#, d is dimension)\n",
        "    y: 1-d array with label of -1 or +1\n",
        "    prj_code: type of projection, 0 for cube, 1 for ball\n",
        "    return:\n",
        "        prj_x: projected x \n",
        "        y: same as input\n",
        "    '''\n",
        "    if prj_code == 0:\n",
        "        prj_x = np.apply_along_axis(cube_prj, 1, x)\n",
        "    elif prj_code == 1:\n",
        "        prj_x = np.apply_along_axis(ball_prj, 1, x)\n",
        "    else:\n",
        "        print(\"Please input correct code for projection type: 0 for cube, 1 for ball\")\n",
        "      \n",
        "    b = np.ones((prj_x.shape[0], 1))\n",
        "    prj_x = np.append(prj_x, b, axis=1)\n",
        "    return prj_x, y"
      ],
      "execution_count": 265,
      "outputs": []
    },
    {
      "cell_type": "markdown",
      "metadata": {
        "id": "eiUQqYKLvAuY"
      },
      "source": [
        "##### Project gradient"
      ]
    },
    {
      "cell_type": "code",
      "metadata": {
        "id": "6ThWld5kvaBT"
      },
      "source": [
        "def prj_grad(g, prj_code):\n",
        "    '''\n",
        "    This function is for conduct projection on gradients\n",
        "    g: 1-d array (d is dimension)\n",
        "    prj_code: type of projection, 0 for cube, 1 for ball\n",
        "    return:\n",
        "        prj_g: projected gradient\n",
        "    '''\n",
        "    if prj_code == 0:\n",
        "        prj_g = cube_prj(g)\n",
        "    elif prj_code == 1:\n",
        "        prj_g = ball_prj(g)\n",
        "    else:\n",
        "        print(\"Please input correct code for projection type: 0 for cube, 1 for ball\")\n",
        "    return prj_g"
      ],
      "execution_count": 266,
      "outputs": []
    },
    {
      "cell_type": "markdown",
      "metadata": {
        "id": "tu0jhwwRF5ls"
      },
      "source": [
        "#### **Prepare data**"
      ]
    },
    {
      "cell_type": "code",
      "metadata": {
        "id": "yMDzFiFcrsg8"
      },
      "source": [
        "def gen_data(sig, n):\n",
        "    '''\n",
        "    The function is to generate data for training and testing\n",
        "    The feature array is 4 dimension array. \n",
        "     + Each feature follows the Normal distribution(mu,sig)\n",
        "     + with probability 1/2, the y =1 , \n",
        "         generate the correspoinding feature vector from N(mu,sig),mu is [1/4,1/4,1/4,1/4],sig is set as you need.\n",
        "    sig: the sigma of  gussian vector\n",
        "    n: the sample number\n",
        "    \n",
        "    Return:\n",
        "     x: n*d_dimension array\n",
        "     y: 1-d dimension array with -1 and +1\n",
        "    '''\n",
        "    d_dimension = 4\n",
        "    y = np.random.choice([-1, 1], p = [0.5, 0.5], size = n)\n",
        "    x = np.array([])\n",
        "    for i in range(n):\n",
        "        if y[i] == -1:\n",
        "            mu = -(1 / 4)\n",
        "            negvec = np.random.normal(mu, sig, d_dimension)\n",
        "            x = np.concatenate([x, negvec], axis=0)\n",
        "        else:\n",
        "            mu = (1 / 4)\n",
        "            posvec = np.random.normal(mu, sig, d_dimension)\n",
        "            x = np.concatenate([x, posvec], axis=0)\n",
        "    x = np.reshape(x, (n, d_dimension))\n",
        "    return x, y"
      ],
      "execution_count": 267,
      "outputs": []
    },
    {
      "cell_type": "markdown",
      "metadata": {
        "id": "aAzwTZ79M6oi"
      },
      "source": [
        "#### **Train**\n",
        "https://machinelearningmastery.com/implement-logistic-regression-stochastic-gradient-descent-scratch-python/"
      ]
    },
    {
      "cell_type": "markdown",
      "metadata": {
        "id": "s8XQyQ8Ycqpo"
      },
      "source": [
        "##### Predict using logistic regression"
      ]
    },
    {
      "cell_type": "code",
      "metadata": {
        "id": "dzPxwbmIM6NU"
      },
      "source": [
        "# Make a prediction with coefficients\n",
        "def pred(X, w):\n",
        "  yhat = 0.\n",
        "  for i in range(X.shape[0]):\n",
        "    yhat += w[i] * X[i]\n",
        "  yhat = 1.0 / (1.0 + np.exp(-yhat))\n",
        "  if yhat < 0.5:\n",
        "    yhat = -1\n",
        "  else:\n",
        "    yhat = 1 \n",
        "  return yhat"
      ],
      "execution_count": 268,
      "outputs": []
    },
    {
      "cell_type": "markdown",
      "metadata": {
        "id": "iJfOdxzt4M5T"
      },
      "source": [
        "##### Estimate logistic loss"
      ]
    },
    {
      "cell_type": "code",
      "metadata": {
        "id": "q_3nPdw4BJV0"
      },
      "source": [
        "def log_loss(X, y, w):\n",
        "  return np.log(1 + np.exp(-y * np.dot(w.T, X)))"
      ],
      "execution_count": 269,
      "outputs": []
    },
    {
      "cell_type": "markdown",
      "metadata": {
        "id": "mnfgixZxQqvj"
      },
      "source": [
        "##### Estimate classification error"
      ]
    },
    {
      "cell_type": "code",
      "metadata": {
        "id": "DZdcop9KQuGF"
      },
      "source": [
        "def err(yhat, y):\n",
        "  if yhat == y:\n",
        "    return 0\n",
        "  else:\n",
        "    return 1"
      ],
      "execution_count": 270,
      "outputs": []
    },
    {
      "cell_type": "markdown",
      "metadata": {
        "id": "XsiXCaLYCn6n"
      },
      "source": [
        "##### SGD"
      ]
    },
    {
      "cell_type": "code",
      "metadata": {
        "id": "O2-5n_kwCnth"
      },
      "source": [
        "def sgd(X, y, w_t, prj_code, l_rate):\n",
        "  w_t = np.array(w_t)\n",
        "  # Calculate gradient\n",
        "  g = (-y * X * np.exp(-y * np.dot(w_t.T, X)) / (1 + np.exp(-y * np.dot(w_t.T, X))))\n",
        "  # Project gradient\n",
        "  w_t = prj_grad(np.add(w_t, np.multiply(-l_rate, g)), prj_code)\n",
        "  return w_t"
      ],
      "execution_count": 271,
      "outputs": []
    },
    {
      "cell_type": "markdown",
      "metadata": {
        "id": "lE93wIbQc9Is"
      },
      "source": [
        "##### Estimate weight vector using SGD"
      ]
    },
    {
      "cell_type": "code",
      "metadata": {
        "id": "Jb_QkJsIc8Vh"
      },
      "source": [
        "def train(train_x, train_y, test_x, test_y, l_rate, n_epoch, bs, prj_code):\n",
        "  w_t = np.random.uniform(-1, 1, (train_x.shape[1]))\n",
        "  risk_all = []\n",
        "  cls_err_all = []\n",
        "\n",
        "  for epoch in range(n_epoch):\n",
        "    risk = cls_err = 0.\n",
        "    w_all = []\n",
        "    for idx in range(epoch * bs, (epoch + 1) * bs):\n",
        "      # Read data\n",
        "      X = train_x[idx]\n",
        "      y = train_y[idx]\n",
        "      # SGD\n",
        "      w_t = sgd(X, y, w_t, prj_code, l_rate)\n",
        "      # Backward propagation\n",
        "      w_all.append(w_t)\n",
        "    \n",
        "    w = np.average(np.array(w_all), axis=0)\n",
        "    # print(w_all, w)\n",
        "    \n",
        "    # Evaluate\n",
        "    for idx in range(test_x.shape[0]):\n",
        "      # Read data\n",
        "      X = test_x[idx]\n",
        "      y = test_y[idx]\n",
        "      # Predict\n",
        "      yhat = pred(X, w)\n",
        "      # Evaluate\n",
        "      risk += log_loss(X, y, w) / test_x.shape[0]\n",
        "      cls_err += err(yhat, y) / test_x.shape[0]\n",
        "    \n",
        "    risk_all = np.append(risk_all, risk)\n",
        "    cls_err_all = np.append(cls_err_all, cls_err)\n",
        "    # print('>epoch=%d, lrate=%.3f, risk=%.3f, classification error=%.3f' % (epoch, l_rate, risk, cls_err))\n",
        "  \n",
        "  # Report risk\n",
        "  # print(risk_all, cls_err_all)\n",
        "  risk_ave = np.average(risk_all)\n",
        "  risk_min = np.amin(risk_all)\n",
        "  risk_var = np.sqrt(np.var(risk_all))\n",
        "  exp_excess_risk = risk_ave - risk_min\n",
        "  # Report classification error\n",
        "  cls_err_ave = np.average(cls_err_all)\n",
        "  cls_err_var = np.sqrt(np.var(cls_err_all))\n",
        "  return [w, risk_ave, risk_min, risk_var, exp_excess_risk, cls_err_ave, cls_err_var]"
      ],
      "execution_count": 272,
      "outputs": []
    },
    {
      "cell_type": "markdown",
      "metadata": {
        "id": "q3SH2Dm7d71V"
      },
      "source": [
        "#### **Wrapper test**"
      ]
    },
    {
      "cell_type": "markdown",
      "metadata": {
        "id": "C0-3MK6Pk7mU"
      },
      "source": [
        "##### Generate data and train"
      ]
    },
    {
      "cell_type": "code",
      "metadata": {
        "id": "iJ68DlKXd6rP",
        "colab": {
          "base_uri": "https://localhost:8080/"
        },
        "outputId": "9adc10ba-1e19-40b2-a880-e499aa2ecf89"
      },
      "source": [
        "# Fixed hyperparameters\n",
        "n_epoch = 30    # training epochs\n",
        "test_n = 400    # size of test set\n",
        "\n",
        "# Unfixed hyperparameters\n",
        "prj_code = 0    # code for two scenario: 0 for cube, 1 for ball\n",
        "l_rate = 0.16  # learning rate: 0.04 for cube, 0.18 for ball\n",
        "train_bs = np.array([50, 100, 500, 1000])   # batch size for each training epoch\n",
        "sigma = 0.1     # variance of Gaussian distribution\n",
        "\n",
        "np.random.seed(1)\n",
        "\n",
        "excess_risk = []\n",
        "cls_error = []\n",
        "excess_risk_var = []\n",
        "cls_error_var = []\n",
        "\n",
        "for bs in train_bs:\n",
        "  # Generate training data\n",
        "  train_x, train_y = gen_data(sigma, bs * n_epoch)\n",
        "  train_px, train_py = prj_data(train_x, train_y, prj_code)\n",
        "\n",
        "  # Generate test data\n",
        "  test_x, test_y = gen_data(sigma, test_n)\n",
        "  test_px, test_py = prj_data(test_x, test_y, prj_code)\n",
        "\n",
        "  # Train\n",
        "  output = train(train_px, train_py, test_px, test_py, l_rate, n_epoch, bs, prj_code)\n",
        "  print(output)\n",
        "  print('>scenario=%d, sigma=%.2f, n=%d, log_loss_mean=%.3f, log_loss_std_dev=%.3f, log_loss_min=%.3f, \\\n",
        "        excess_risk=%.3f, cls_error_mean=%.3f, cls_error_std_dev=%.3f' \n",
        "        % (prj_code+1, sigma, bs, output[1], output[3], output[2], output[4], output[5], output[6]))\n",
        "  \n",
        "  excess_risk = np.append(excess_risk, output[4], axis=None)\n",
        "  cls_error = np.append(cls_error, output[5],  axis=None)\n",
        "  excess_risk_var = np.append(excess_risk_var, output[3], axis=None)\n",
        "  cls_error_var = np.append(cls_error_var, output[6],  axis=None)"
      ],
      "execution_count": 295,
      "outputs": [
        {
          "output_type": "stream",
          "text": [
            "[array([ 1.        ,  0.99992731,  0.99999563,  0.999985  , -0.13014499]), 0.33087507148682044, 0.3185711693095517, 0.044220647703935495, 0.012303902177268733, 0.005083333333333336, 0.02737458776960042]\n",
            ">scenario=1, sigma=0.10, n=50, log_loss_mean=0.331, log_loss_std_dev=0.044, log_loss_min=0.319,         excess_risk=0.012, cls_error_mean=0.005, cls_error_std_dev=0.027\n",
            "[array([0.99999756, 1.        , 1.        , 1.        , 0.1153873 ]), 0.32404837244173434, 0.3186535474137653, 0.019968137107285823, 0.0053948250279690635, 0.0, 0.0]\n",
            ">scenario=1, sigma=0.10, n=100, log_loss_mean=0.324, log_loss_std_dev=0.020, log_loss_min=0.319,         excess_risk=0.005, cls_error_mean=0.000, cls_error_std_dev=0.000\n",
            "[array([0.99999799, 0.99998403, 0.99997079, 0.99998768, 0.0482796 ]), 0.32086986297824216, 0.31968481492087814, 0.0012917369824736642, 0.0011850480573640243, 0.0, 0.0]\n",
            ">scenario=1, sigma=0.10, n=500, log_loss_mean=0.321, log_loss_std_dev=0.001, log_loss_min=0.320,         excess_risk=0.001, cls_error_mean=0.000, cls_error_std_dev=0.000\n",
            "[array([0.99998923, 0.99999462, 0.99999296, 0.99999283, 0.02559525]), 0.3171414445318643, 0.3165549377600086, 0.002173223437121909, 0.0005865067718557326, 0.0, 0.0]\n",
            ">scenario=1, sigma=0.10, n=1000, log_loss_mean=0.317, log_loss_std_dev=0.002, log_loss_min=0.317,         excess_risk=0.001, cls_error_mean=0.000, cls_error_std_dev=0.000\n"
          ],
          "name": "stdout"
        }
      ]
    },
    {
      "cell_type": "markdown",
      "metadata": {
        "id": "saT_I5DNk0rq"
      },
      "source": [
        "##### Plot excess risk"
      ]
    },
    {
      "cell_type": "code",
      "metadata": {
        "id": "dkARytwCk0Zj",
        "colab": {
          "base_uri": "https://localhost:8080/",
          "height": 297
        },
        "outputId": "2fc1c2ee-b1df-41c9-9bc0-8b703401b5cd"
      },
      "source": [
        "plt.plot(train_bs, excess_risk, '-o', label='Excess risk')\n",
        "plt.errorbar(train_bs, excess_risk, excess_risk_var)\n",
        "plt.legend()\n",
        "plt.tight_layout()\n",
        "plt.show()"
      ],
      "execution_count": 296,
      "outputs": [
        {
          "output_type": "display_data",
          "data": {
            "image/png": "[encoded data removed]",
            "text/plain": [
              "<Figure size 432x288 with 1 Axes>"
            ]
          },
          "metadata": {
            "tags": [],
            "needs_background": "light"
          }
        }
      ]
    },
    {
      "cell_type": "markdown",
      "metadata": {
        "id": "xTAnpHKcoI1N"
      },
      "source": [
        "##### Plot classification error"
      ]
    },
    {
      "cell_type": "code",
      "metadata": {
        "id": "HIBfEnVRoMgT",
        "colab": {
          "base_uri": "https://localhost:8080/",
          "height": 297
        },
        "outputId": "f4878b00-7f0c-485c-a340-33bf10bf06d3"
      },
      "source": [
        "plt.plot(train_bs, cls_error, '-o', label='Classification error')\n",
        "plt.errorbar(train_bs, cls_error, cls_error_var)\n",
        "plt.legend()\n",
        "plt.tight_layout()\n",
        "plt.show()"
      ],
      "execution_count": 297,
      "outputs": [
        {
          "output_type": "display_data",
          "data": {
            "image/png": "[encoded data removed]",
            "text/plain": [
              "<Figure size 432x288 with 1 Axes>"
            ]
          },
          "metadata": {
            "tags": [],
            "needs_background": "light"
          }
        }
      ]
    },
    {
      "cell_type": "markdown",
      "metadata": {
        "id": "VkFoAOYv0sKN"
      },
      "source": [
        "#### **Wrapper**"
      ]
    },
    {
      "cell_type": "code",
      "metadata": {
        "id": "whKZGg6u1T_P"
      },
      "source": [
        "# Fixed hyperparameters\n",
        "n_epoch = 30    # training epochs\n",
        "test_n = 400    # size of test set\n",
        "\n",
        "# Unfixed hyperparameters\n",
        "prj_code = 0   # code for two scenario: 0 for cube, 1 for ball\n",
        "# l_rate = 0.04  # learning rate: 0.16 for cube, 0.07 for ball\n",
        "train_bs = np.array([50, 100, 500, 1000])  # batch size for each training epoch\n",
        "sigma = 0.1     # variance of Gaussian distribution\n",
        "np.random.seed(1)"
      ],
      "execution_count": 283,
      "outputs": []
    },
    {
      "cell_type": "markdown",
      "metadata": {
        "id": "D-4LlMyk1ecf"
      },
      "source": [
        "##### Run all experiments"
      ]
    },
    {
      "cell_type": "code",
      "metadata": {
        "id": "0_gFZQDT1W_U",
        "colab": {
          "base_uri": "https://localhost:8080/"
        },
        "outputId": "3e234a98-e43f-4243-d357-fa256434ac7f"
      },
      "source": [
        "result_list = []\n",
        "for prj_code in [0, 1]:\n",
        "    if prj_code == 0:\n",
        "        l_rate = 0.16\n",
        "    else:\n",
        "        l_rate = 0.07\n",
        "    for sigma in [0.1, 0.35]:\n",
        "        for bs in train_bs:\n",
        "          # Generate training data\n",
        "            train_x, train_y = gen_data(sigma, bs * n_epoch)\n",
        "            train_px, train_py = prj_data(train_x, train_y, prj_code)\n",
        "\n",
        "            # Generate test data\n",
        "            test_x, test_y = gen_data(sigma, test_n)\n",
        "            test_px, test_py = prj_data(test_x, test_y, prj_code)\n",
        "\n",
        "            # Train\n",
        "            output = train(train_px, train_py, test_px, test_py, l_rate, n_epoch, bs, prj_code)\n",
        "            #[w, risk_ave, risk_min, risk_var, exp_excess_risk, cls_err_ave, cls_err_var]\n",
        "\n",
        "            print(output)\n",
        "            print('>scenario=%d, sigma=%.2f, n=%d, log_loss_mean=%.3f, log_loss_std_dev=%.3f, log_loss_min=%.3f, \\\n",
        "                excess_risk=%.3f, cls_error_mean=%.3f, cls_error_std_dev=%.3f' \n",
        "                % (prj_code+1, sigma, bs, output[1], output[3], output[2], output[4], output[5], output[6]))\n",
        "            result = [prj_code + 1, sigma, bs, n_epoch,output[1], output[3], output[2], output[4], output[5], output[6]]\n",
        "            result_list.append(result)"
      ],
      "execution_count": 301,
      "outputs": [
        {
          "output_type": "stream",
          "text": [
            "[array([1.        , 0.99999415, 1.        , 1.        , 0.00836061]), 0.3250744618089535, 0.31615221721019615, 0.028945801945564103, 0.008922244598757345, 8.333333333333333e-05, 0.0004487637339278754]\n",
            ">scenario=1, sigma=0.10, n=50, log_loss_mean=0.325, log_loss_std_dev=0.029, log_loss_min=0.316,                 excess_risk=0.009, cls_error_mean=0.000, cls_error_std_dev=0.000\n",
            "[array([ 1.        ,  1.        ,  1.        ,  0.99999038, -0.04921228]), 0.3266852322237354, 0.31826748110636727, 0.03626064179381351, 0.008417751117368144, 0.0, 0.0]\n",
            ">scenario=1, sigma=0.10, n=100, log_loss_mean=0.327, log_loss_std_dev=0.036, log_loss_min=0.318,                 excess_risk=0.008, cls_error_mean=0.000, cls_error_std_dev=0.000\n",
            "[array([ 0.99999582,  0.99999646,  0.99998948,  0.99997856, -0.0763223 ]), 0.31859051213428174, 0.3172408420371814, 0.0035970683252163913, 0.0013496700971003528, 0.0, 0.0]\n",
            ">scenario=1, sigma=0.10, n=500, log_loss_mean=0.319, log_loss_std_dev=0.004, log_loss_min=0.317,                 excess_risk=0.001, cls_error_mean=0.000, cls_error_std_dev=0.000\n",
            "[array([0.99998835, 0.99998954, 0.99998738, 0.99998393, 0.02022568]), 0.31438902651994777, 0.3138488548203541, 0.0014659253019841238, 0.0005401716995936945, 0.0, 0.0]\n",
            ">scenario=1, sigma=0.10, n=1000, log_loss_mean=0.314, log_loss_std_dev=0.001, log_loss_min=0.314,                 excess_risk=0.001, cls_error_mean=0.000, cls_error_std_dev=0.000\n",
            "[array([0.961632  , 0.98187963, 0.99519107, 0.98435336, 0.07761248]), 0.3613806309582751, 0.3503587610405371, 0.02396148363659814, 0.011021869917738014, 0.07900000000000001, 0.019317522270381034]\n",
            ">scenario=1, sigma=0.35, n=50, log_loss_mean=0.361, log_loss_std_dev=0.024, log_loss_min=0.350,                 excess_risk=0.011, cls_error_mean=0.079, cls_error_std_dev=0.019\n",
            "[array([ 0.99600976,  0.99207549,  0.99280136,  0.9932277 , -0.04107612]), 0.3730889294947596, 0.3645721788326875, 0.020597716175656845, 0.008516750662072081, 0.08308333333333336, 0.008131300975585376]\n",
            ">scenario=1, sigma=0.35, n=100, log_loss_mean=0.373, log_loss_std_dev=0.021, log_loss_min=0.365,                 excess_risk=0.009, cls_error_mean=0.083, cls_error_std_dev=0.008\n",
            "[array([0.984589  , 0.9904922 , 0.9905381 , 0.99230289, 0.05034277]), 0.3621478837774644, 0.35950106217568506, 0.0029186894257354564, 0.0026468216017793145, 0.06925000000000003, 0.005289533690852788]\n",
            ">scenario=1, sigma=0.35, n=500, log_loss_mean=0.362, log_loss_std_dev=0.003, log_loss_min=0.360,                 excess_risk=0.003, cls_error_mean=0.069, cls_error_std_dev=0.005\n",
            "[array([0.99070132, 0.98509267, 0.98862194, 0.99056895, 0.065161  ]), 0.37657412160486375, 0.3754529755174428, 0.0010336267403646484, 0.0011211460874209767, 0.08641666666666671, 0.004902522026694247]\n",
            ">scenario=1, sigma=0.35, n=1000, log_loss_mean=0.377, log_loss_std_dev=0.001, log_loss_min=0.375,                 excess_risk=0.001, cls_error_mean=0.086, cls_error_std_dev=0.005\n",
            "[array([ 0.50961525,  0.48939117,  0.50906698,  0.48614288, -0.06143762]), 0.3347498557813743, 0.3303851266586746, 0.014466568191583075, 0.004364729122699695, 8.333333333333333e-05, 0.0004487637339278754]\n",
            ">scenario=2, sigma=0.10, n=50, log_loss_mean=0.335, log_loss_std_dev=0.014, log_loss_min=0.330,                 excess_risk=0.004, cls_error_mean=0.000, cls_error_std_dev=0.000\n",
            "[array([0.48969177, 0.49522266, 0.48891194, 0.5149325 , 0.07003278]), 0.3362342459522404, 0.3295231318316233, 0.029785126252990363, 0.00671111412061709, 0.0, 0.0]\n",
            ">scenario=2, sigma=0.10, n=100, log_loss_mean=0.336, log_loss_std_dev=0.030, log_loss_min=0.330,                 excess_risk=0.007, cls_error_mean=0.000, cls_error_std_dev=0.000\n",
            "[array([ 0.49701495,  0.51437305,  0.48831927,  0.49528548, -0.01623379]), 0.33052931841074845, 0.32930480379866617, 0.004028544366404166, 0.0012245146120822836, 0.0, 0.0]\n",
            ">scenario=2, sigma=0.10, n=500, log_loss_mean=0.331, log_loss_std_dev=0.004, log_loss_min=0.329,                 excess_risk=0.001, cls_error_mean=0.000, cls_error_std_dev=0.000\n",
            "[array([ 0.49787237,  0.4997457 ,  0.4982983 ,  0.4978785 , -0.0158027 ]), 0.32996685775441237, 0.3294234018067903, 0.0007562695222163005, 0.0005434559476220624, 0.0, 0.0]\n",
            ">scenario=2, sigma=0.10, n=1000, log_loss_mean=0.330, log_loss_std_dev=0.001, log_loss_min=0.329,                 excess_risk=0.001, cls_error_mean=0.000, cls_error_std_dev=0.000\n",
            "[array([ 0.55418003,  0.42663991,  0.5217186 ,  0.47750997, -0.00605568]), 0.47115792943655843, 0.46137856012715317, 0.028671168235711995, 0.009779369309405261, 0.08166666666666669, 0.0453612046675228]\n",
            ">scenario=2, sigma=0.35, n=50, log_loss_mean=0.471, log_loss_std_dev=0.029, log_loss_min=0.461,                 excess_risk=0.010, cls_error_mean=0.082, cls_error_std_dev=0.045\n",
            "[array([ 0.51784317,  0.53224591,  0.51488792,  0.39888757, -0.11889959]), 0.46598015052079894, 0.45819791005900457, 0.026296166415399974, 0.007782240461794376, 0.09375000000000004, 0.03541862739670566]\n",
            ">scenario=2, sigma=0.35, n=100, log_loss_mean=0.466, log_loss_std_dev=0.026, log_loss_min=0.458,                 excess_risk=0.008, cls_error_mean=0.094, cls_error_std_dev=0.035\n",
            "[array([ 0.50223595,  0.52374167,  0.48214437,  0.47229097, -0.00297573]), 0.45763108965582494, 0.4558917539891129, 0.002635176753192018, 0.0017393356667120274, 0.06541666666666669, 0.00398347280090571]\n",
            ">scenario=2, sigma=0.35, n=500, log_loss_mean=0.458, log_loss_std_dev=0.003, log_loss_min=0.456,                 excess_risk=0.002, cls_error_mean=0.065, cls_error_std_dev=0.004\n",
            "[array([0.52884344, 0.43432557, 0.52971401, 0.47584613, 0.01629471]), 0.4564710095498211, 0.4551704151592044, 0.0017669923259719502, 0.001300594390616694, 0.0856666666666667, 0.002953340857778228]\n",
            ">scenario=2, sigma=0.35, n=1000, log_loss_mean=0.456, log_loss_std_dev=0.002, log_loss_min=0.455,                 excess_risk=0.001, cls_error_mean=0.086, cls_error_std_dev=0.003\n"
          ],
          "name": "stdout"
        }
      ]
    },
    {
      "cell_type": "markdown",
      "metadata": {
        "id": "ytSebM2h1z2y"
      },
      "source": [
        "##### Plot table"
      ]
    },
    {
      "cell_type": "code",
      "metadata": {
        "colab": {
          "base_uri": "https://localhost:8080/",
          "height": 559
        },
        "id": "vhUYrS5Qi2-C",
        "outputId": "233516e7-42a8-4ce3-abc3-0ae51aaa9147"
      },
      "source": [
        "column_name = [\"Scenario\", \"sigma\", \"N\", \"#trails\", \"Loss_Mean\", \"Loss_StdDev\", \"Loss_Min\", \"Loss_ExcessRisk\",\n",
        "             \"Error_Mean\", \"Error_StdDev\"]\n",
        "result_df = pd.DataFrame(result_list, columns = column_name)\n",
        "result_df"
      ],
      "execution_count": 303,
      "outputs": [
        {
          "output_type": "execute_result",
          "data": {
            "text/html": [
              "<div>\n",
              "<style scoped>\n",
              "    .dataframe tbody tr th:only-of-type {\n",
              "        vertical-align: middle;\n",
              "    }\n",
              "\n",
              "    .dataframe tbody tr th {\n",
              "        vertical-align: top;\n",
              "    }\n",
              "\n",
              "    .dataframe thead th {\n",
              "        text-align: right;\n",
              "    }\n",
              "</style>\n",
              "<table border=\"1\" class=\"dataframe\">\n",
              "  <thead>\n",
              "    <tr style=\"text-align: right;\">\n",
              "      <th></th>\n",
              "      <th>Scenario</th>\n",
              "      <th>sigma</th>\n",
              "      <th>N</th>\n",
              "      <th>#trails</th>\n",
              "      <th>Loss_Mean</th>\n",
              "      <th>Loss_StdDev</th>\n",
              "      <th>Loss_Min</th>\n",
              "      <th>Loss_ExcessRisk</th>\n",
              "      <th>Error_Mean</th>\n",
              "      <th>Error_StdDev</th>\n",
              "    </tr>\n",
              "  </thead>\n",
              "  <tbody>\n",
              "    <tr>\n",
              "      <th>0</th>\n",
              "      <td>1</td>\n",
              "      <td>0.10</td>\n",
              "      <td>50</td>\n",
              "      <td>30</td>\n",
              "      <td>0.325074</td>\n",
              "      <td>0.028946</td>\n",
              "      <td>0.316152</td>\n",
              "      <td>0.008922</td>\n",
              "      <td>0.000083</td>\n",
              "      <td>0.000449</td>\n",
              "    </tr>\n",
              "    <tr>\n",
              "      <th>1</th>\n",
              "      <td>1</td>\n",
              "      <td>0.10</td>\n",
              "      <td>100</td>\n",
              "      <td>30</td>\n",
              "      <td>0.326685</td>\n",
              "      <td>0.036261</td>\n",
              "      <td>0.318267</td>\n",
              "      <td>0.008418</td>\n",
              "      <td>0.000000</td>\n",
              "      <td>0.000000</td>\n",
              "    </tr>\n",
              "    <tr>\n",
              "      <th>2</th>\n",
              "      <td>1</td>\n",
              "      <td>0.10</td>\n",
              "      <td>500</td>\n",
              "      <td>30</td>\n",
              "      <td>0.318591</td>\n",
              "      <td>0.003597</td>\n",
              "      <td>0.317241</td>\n",
              "      <td>0.001350</td>\n",
              "      <td>0.000000</td>\n",
              "      <td>0.000000</td>\n",
              "    </tr>\n",
              "    <tr>\n",
              "      <th>3</th>\n",
              "      <td>1</td>\n",
              "      <td>0.10</td>\n",
              "      <td>1000</td>\n",
              "      <td>30</td>\n",
              "      <td>0.314389</td>\n",
              "      <td>0.001466</td>\n",
              "      <td>0.313849</td>\n",
              "      <td>0.000540</td>\n",
              "      <td>0.000000</td>\n",
              "      <td>0.000000</td>\n",
              "    </tr>\n",
              "    <tr>\n",
              "      <th>4</th>\n",
              "      <td>1</td>\n",
              "      <td>0.35</td>\n",
              "      <td>50</td>\n",
              "      <td>30</td>\n",
              "      <td>0.361381</td>\n",
              "      <td>0.023961</td>\n",
              "      <td>0.350359</td>\n",
              "      <td>0.011022</td>\n",
              "      <td>0.079000</td>\n",
              "      <td>0.019318</td>\n",
              "    </tr>\n",
              "    <tr>\n",
              "      <th>5</th>\n",
              "      <td>1</td>\n",
              "      <td>0.35</td>\n",
              "      <td>100</td>\n",
              "      <td>30</td>\n",
              "      <td>0.373089</td>\n",
              "      <td>0.020598</td>\n",
              "      <td>0.364572</td>\n",
              "      <td>0.008517</td>\n",
              "      <td>0.083083</td>\n",
              "      <td>0.008131</td>\n",
              "    </tr>\n",
              "    <tr>\n",
              "      <th>6</th>\n",
              "      <td>1</td>\n",
              "      <td>0.35</td>\n",
              "      <td>500</td>\n",
              "      <td>30</td>\n",
              "      <td>0.362148</td>\n",
              "      <td>0.002919</td>\n",
              "      <td>0.359501</td>\n",
              "      <td>0.002647</td>\n",
              "      <td>0.069250</td>\n",
              "      <td>0.005290</td>\n",
              "    </tr>\n",
              "    <tr>\n",
              "      <th>7</th>\n",
              "      <td>1</td>\n",
              "      <td>0.35</td>\n",
              "      <td>1000</td>\n",
              "      <td>30</td>\n",
              "      <td>0.376574</td>\n",
              "      <td>0.001034</td>\n",
              "      <td>0.375453</td>\n",
              "      <td>0.001121</td>\n",
              "      <td>0.086417</td>\n",
              "      <td>0.004903</td>\n",
              "    </tr>\n",
              "    <tr>\n",
              "      <th>8</th>\n",
              "      <td>2</td>\n",
              "      <td>0.10</td>\n",
              "      <td>50</td>\n",
              "      <td>30</td>\n",
              "      <td>0.334750</td>\n",
              "      <td>0.014467</td>\n",
              "      <td>0.330385</td>\n",
              "      <td>0.004365</td>\n",
              "      <td>0.000083</td>\n",
              "      <td>0.000449</td>\n",
              "    </tr>\n",
              "    <tr>\n",
              "      <th>9</th>\n",
              "      <td>2</td>\n",
              "      <td>0.10</td>\n",
              "      <td>100</td>\n",
              "      <td>30</td>\n",
              "      <td>0.336234</td>\n",
              "      <td>0.029785</td>\n",
              "      <td>0.329523</td>\n",
              "      <td>0.006711</td>\n",
              "      <td>0.000000</td>\n",
              "      <td>0.000000</td>\n",
              "    </tr>\n",
              "    <tr>\n",
              "      <th>10</th>\n",
              "      <td>2</td>\n",
              "      <td>0.10</td>\n",
              "      <td>500</td>\n",
              "      <td>30</td>\n",
              "      <td>0.330529</td>\n",
              "      <td>0.004029</td>\n",
              "      <td>0.329305</td>\n",
              "      <td>0.001225</td>\n",
              "      <td>0.000000</td>\n",
              "      <td>0.000000</td>\n",
              "    </tr>\n",
              "    <tr>\n",
              "      <th>11</th>\n",
              "      <td>2</td>\n",
              "      <td>0.10</td>\n",
              "      <td>1000</td>\n",
              "      <td>30</td>\n",
              "      <td>0.329967</td>\n",
              "      <td>0.000756</td>\n",
              "      <td>0.329423</td>\n",
              "      <td>0.000543</td>\n",
              "      <td>0.000000</td>\n",
              "      <td>0.000000</td>\n",
              "    </tr>\n",
              "    <tr>\n",
              "      <th>12</th>\n",
              "      <td>2</td>\n",
              "      <td>0.35</td>\n",
              "      <td>50</td>\n",
              "      <td>30</td>\n",
              "      <td>0.471158</td>\n",
              "      <td>0.028671</td>\n",
              "      <td>0.461379</td>\n",
              "      <td>0.009779</td>\n",
              "      <td>0.081667</td>\n",
              "      <td>0.045361</td>\n",
              "    </tr>\n",
              "    <tr>\n",
              "      <th>13</th>\n",
              "      <td>2</td>\n",
              "      <td>0.35</td>\n",
              "      <td>100</td>\n",
              "      <td>30</td>\n",
              "      <td>0.465980</td>\n",
              "      <td>0.026296</td>\n",
              "      <td>0.458198</td>\n",
              "      <td>0.007782</td>\n",
              "      <td>0.093750</td>\n",
              "      <td>0.035419</td>\n",
              "    </tr>\n",
              "    <tr>\n",
              "      <th>14</th>\n",
              "      <td>2</td>\n",
              "      <td>0.35</td>\n",
              "      <td>500</td>\n",
              "      <td>30</td>\n",
              "      <td>0.457631</td>\n",
              "      <td>0.002635</td>\n",
              "      <td>0.455892</td>\n",
              "      <td>0.001739</td>\n",
              "      <td>0.065417</td>\n",
              "      <td>0.003983</td>\n",
              "    </tr>\n",
              "    <tr>\n",
              "      <th>15</th>\n",
              "      <td>2</td>\n",
              "      <td>0.35</td>\n",
              "      <td>1000</td>\n",
              "      <td>30</td>\n",
              "      <td>0.456471</td>\n",
              "      <td>0.001767</td>\n",
              "      <td>0.455170</td>\n",
              "      <td>0.001301</td>\n",
              "      <td>0.085667</td>\n",
              "      <td>0.002953</td>\n",
              "    </tr>\n",
              "  </tbody>\n",
              "</table>\n",
              "</div>"
            ],
            "text/plain": [
              "    Scenario  sigma     N  ...  Loss_ExcessRisk  Error_Mean  Error_StdDev\n",
              "0          1   0.10    50  ...         0.008922    0.000083      0.000449\n",
              "1          1   0.10   100  ...         0.008418    0.000000      0.000000\n",
              "2          1   0.10   500  ...         0.001350    0.000000      0.000000\n",
              "3          1   0.10  1000  ...         0.000540    0.000000      0.000000\n",
              "4          1   0.35    50  ...         0.011022    0.079000      0.019318\n",
              "5          1   0.35   100  ...         0.008517    0.083083      0.008131\n",
              "6          1   0.35   500  ...         0.002647    0.069250      0.005290\n",
              "7          1   0.35  1000  ...         0.001121    0.086417      0.004903\n",
              "8          2   0.10    50  ...         0.004365    0.000083      0.000449\n",
              "9          2   0.10   100  ...         0.006711    0.000000      0.000000\n",
              "10         2   0.10   500  ...         0.001225    0.000000      0.000000\n",
              "11         2   0.10  1000  ...         0.000543    0.000000      0.000000\n",
              "12         2   0.35    50  ...         0.009779    0.081667      0.045361\n",
              "13         2   0.35   100  ...         0.007782    0.093750      0.035419\n",
              "14         2   0.35   500  ...         0.001739    0.065417      0.003983\n",
              "15         2   0.35  1000  ...         0.001301    0.085667      0.002953\n",
              "\n",
              "[16 rows x 10 columns]"
            ]
          },
          "metadata": {
            "tags": []
          },
          "execution_count": 303
        }
      ]
    },
    {
      "cell_type": "markdown",
      "metadata": {
        "id": "HQPvINDl18k2"
      },
      "source": [
        "##### Plot grid"
      ]
    },
    {
      "cell_type": "code",
      "metadata": {
        "id": "rJzILW4Y17TC"
      },
      "source": [
        "def plot_result(estimator, result_df):\n",
        "    '''\n",
        "    estimator: \n",
        "        0 is for [\"Loss_ExcessRisk\", \"Loss_StdDev\"]\n",
        "        1 is for [\"Error_Mean\", \"Error_StdDev\"]\n",
        "    result_df:\n",
        "        result table above\n",
        "    \n",
        "    '''\n",
        "    if estimator == 0:\n",
        "        col = [\"Loss_ExcessRisk\", \"Loss_StdDev\"]\n",
        "    else:\n",
        "        col = [\"Error_Mean\", \"Error_StdDev\"]\n",
        "        \n",
        "    fig = plt.figure(figsize = (16, 10))\n",
        "    index = 0\n",
        "    for senario in [1, 2]:\n",
        "        for sigma in [0.1, 0.35]:\n",
        "            index += 1\n",
        "            plt.subplot(2, 2, index)\n",
        "            df = result_df[np.logical_and(result_df[\"Scenario\"] == senario, result_df[\"sigma\"] == sigma)]\n",
        "            excess_risk, excess_risk_var = df[col[0]], df[col[1]]\n",
        "\n",
        "            plt.plot(train_bs, excess_risk, '-o', label = col[0])\n",
        "            plt.errorbar(train_bs, excess_risk, excess_risk_var)\n",
        "\n",
        "            plt.xlabel(\"N\", fontsize = 12)\n",
        "            plt.xticks(fontsize = 12)\n",
        "            plt.ylabel(\"Risk\", fontsize = 12)\n",
        "            plt.yticks(fontsize = 12)\n",
        "            plt.title(\"Scenario \" + str(senario) + \", Sigma=\" + str(sigma), fontsize=15) \n",
        "    fig.legend(col, loc = \"upper right\", fontsize = 13)\n",
        "    plt.tight_layout()\n",
        "    plt.show()"
      ],
      "execution_count": 304,
      "outputs": []
    },
    {
      "cell_type": "markdown",
      "metadata": {
        "id": "LFfG6N4ri2-D"
      },
      "source": [
        "###### Plot excess risk"
      ]
    },
    {
      "cell_type": "code",
      "metadata": {
        "colab": {
          "base_uri": "https://localhost:8080/",
          "height": 552
        },
        "id": "IjXrdqjsi2-D",
        "outputId": "e9106294-d835-4af8-9ea5-eb4d1e5f4427"
      },
      "source": [
        "plot_result(0, result_df)"
      ],
      "execution_count": 305,
      "outputs": [
        {
          "output_type": "display_data",
          "data": {
            "image/png": "[encoded data removed]",
            "text/plain": [
              "<Figure size 1152x720 with 4 Axes>"
            ]
          },
          "metadata": {
            "tags": [],
            "needs_background": "light"
          }
        }
      ]
    },
    {
      "cell_type": "markdown",
      "metadata": {
        "id": "GqkkaFAS3p4S"
      },
      "source": [
        "###### Plot classification error"
      ]
    },
    {
      "cell_type": "code",
      "metadata": {
        "colab": {
          "base_uri": "https://localhost:8080/",
          "height": 552
        },
        "id": "HFdxVESki2-D",
        "outputId": "ce45cb87-cbcb-4365-9848-9031013613ee"
      },
      "source": [
        "plot_result(1, result_df)"
      ],
      "execution_count": 306,
      "outputs": [
        {
          "output_type": "display_data",
          "data": {
            "image/png": "[encoded data removed]",
            "text/plain": [
              "<Figure size 1152x720 with 4 Axes>"
            ]
          },
          "metadata": {
            "tags": [],
            "needs_background": "light"
          }
        }
      ]
    }
  ]
}