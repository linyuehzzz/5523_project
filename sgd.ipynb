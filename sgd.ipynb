{
  "nbformat": 4,
  "nbformat_minor": 0,
  "metadata": {
    "colab": {
      "name": "sgd.ipynb",
      "provenance": [],
      "collapsed_sections": [],
      "toc_visible": true,
      "authorship_tag": "ABX9TyPMzjgi9zuWDUDVXT9pQCtL",
      "include_colab_link": true
    },
    "kernelspec": {
      "name": "python3",
      "display_name": "Python 3"
    }
  },
  "cells": [
    {
      "cell_type": "markdown",
      "metadata": {
        "id": "view-in-github",
        "colab_type": "text"
      },
      "source": [
        "<a href=\"https://colab.research.google.com/github/linyuehzzz/5523_project/blob/main/sgd.ipynb\" target=\"_parent\"><img src=\"https://colab.research.google.com/assets/colab-badge.svg\" alt=\"Open In Colab\"/></a>"
      ]
    },
    {
      "cell_type": "markdown",
      "metadata": {
        "id": "FlILGcNEEW0E"
      },
      "source": [
        "##**Stochastic Gradient Descent for Logistic Regression**\n",
        "This code implements and tests the SGD algorithm for logistic regression\n",
        "in different scenarios.  \n",
        "Yifei Zhang (zhang.5387 at osu edu), Yue Lin (lin.3326 at osu.edu)  \n",
        "Created: 11/12/2020"
      ]
    },
    {
      "cell_type": "markdown",
      "metadata": {
        "id": "qGQmKFIeFYKY"
      },
      "source": [
        "#### **Set up libraries**"
      ]
    },
    {
      "cell_type": "code",
      "metadata": {
        "id": "BUex5ElWFaHO"
      },
      "source": [
        "import numpy as np\n",
        "import random\n",
        "import matplotlib.pyplot as plt\n",
        "import pandas as pd"
      ],
      "execution_count": 1,
      "outputs": []
    },
    {
      "cell_type": "markdown",
      "metadata": {
        "id": "YXnNnylopljK"
      },
      "source": [
        "#### **Project**"
      ]
    },
    {
      "cell_type": "markdown",
      "metadata": {
        "id": "MzHKV3T7pvFo"
      },
      "source": [
        "##### Projection function for hypercube"
      ]
    },
    {
      "cell_type": "code",
      "metadata": {
        "id": "9ewruRRFp0kP"
      },
      "source": [
        "def cube_prj(sample):\n",
        "    '''\n",
        "    This function projects both domain and parameter sets to a hypercube.\n",
        "\n",
        "    sample: features or gradients, 1*d array (d: #dimension)\n",
        "\n",
        "    return: \n",
        "        the projected vector onto a hypercube with edge length 2 and centered around the origin\n",
        "    '''\n",
        "    return [np.sign(i) * min(np.abs(i), 1) for i in sample]"
      ],
      "execution_count": 2,
      "outputs": []
    },
    {
      "cell_type": "markdown",
      "metadata": {
        "id": "9mrnAQvYqI8q"
      },
      "source": [
        "##### Projection function for unit ball"
      ]
    },
    {
      "cell_type": "code",
      "metadata": {
        "id": "kyUbRJAKqRsd"
      },
      "source": [
        "def ball_prj(sample):\n",
        "    '''\n",
        "    This function projects both domain and parameter sets to a unit ball.\n",
        "\n",
        "    sample: features or gradients, 1*d array (d: #dimension)\n",
        "\n",
        "    return: \n",
        "        the projected vector onto a unit ball centered around the origin\n",
        "    '''\n",
        "    if np.linalg.norm(sample, ord=2) > 1:\n",
        "        return sample / np.linalg.norm(sample, ord=2)\n",
        "    else:\n",
        "        return sample"
      ],
      "execution_count": 3,
      "outputs": []
    },
    {
      "cell_type": "markdown",
      "metadata": {
        "id": "eZXfvRgKqXV2"
      },
      "source": [
        "##### Project data"
      ]
    },
    {
      "cell_type": "code",
      "metadata": {
        "id": "6dwzkd6WqW7X"
      },
      "source": [
        "def prj_data(x, y, prj_code):\n",
        "    '''\n",
        "    This function projects the domain set in terms for two scenarios.\n",
        "\n",
        "    X: feature vectors, n*d array (n: #sample, d: #dimension)\n",
        "    y: labels, 1*n array with values of -1 or +1\n",
        "    prj_code: type of projection, 0 for cube, 1 for ball\n",
        "\n",
        "    return:\n",
        "        prj_x: projected feature vectors \n",
        "        y: labels, same as the input\n",
        "    '''\n",
        "    if prj_code == 0:\n",
        "        prj_x = np.apply_along_axis(cube_prj, 1, x)\n",
        "    elif prj_code == 1:\n",
        "        prj_x = np.apply_along_axis(ball_prj, 1, x)\n",
        "    else:\n",
        "        print(\"Please input correct code for projection type: 0 for cube, 1 for ball\")\n",
        "      \n",
        "    b = np.ones((prj_x.shape[0], 1))\n",
        "    prj_x = np.append(prj_x, b, axis=1)\n",
        "    return prj_x, y"
      ],
      "execution_count": 4,
      "outputs": []
    },
    {
      "cell_type": "markdown",
      "metadata": {
        "id": "eiUQqYKLvAuY"
      },
      "source": [
        "##### Project gradient"
      ]
    },
    {
      "cell_type": "code",
      "metadata": {
        "id": "6ThWld5kvaBT"
      },
      "source": [
        "def prj_grad(g, prj_code):\n",
        "    '''\n",
        "    This function projects the parameter set for two scenarios.\n",
        "\n",
        "    g: gradients, 1*d array (d: #dimension)\n",
        "    prj_code: type of projection, 0 for cube, 1 for ball\n",
        "\n",
        "    return:\n",
        "        prj_g: projected gradients\n",
        "    '''\n",
        "    if prj_code == 0:\n",
        "        prj_g = cube_prj(g)\n",
        "    elif prj_code == 1:\n",
        "        prj_g = ball_prj(g)\n",
        "    else:\n",
        "        print(\"Please input correct code for projection type: 0 for cube, 1 for ball\")\n",
        "    return prj_g"
      ],
      "execution_count": 5,
      "outputs": []
    },
    {
      "cell_type": "markdown",
      "metadata": {
        "id": "tu0jhwwRF5ls"
      },
      "source": [
        "#### **Prepare data**"
      ]
    },
    {
      "cell_type": "code",
      "metadata": {
        "id": "yMDzFiFcrsg8"
      },
      "source": [
        "def gen_data(sig, n, d_dimension):\n",
        "    '''\n",
        "    This function generates the data for training and test.\n",
        "\n",
        "    sig: standard deviation of the Gaussian function\n",
        "    n: number of samples\n",
        "    d_dimension: dimensionality of the feature vectors\n",
        "    \n",
        "    Return:\n",
        "        X: feature vectors, n*d array (n: #sample, d: #dimension)\n",
        "        y: labels, 1*n array with values of -1 and +1\n",
        "    '''\n",
        "    # d_dimension = 4\n",
        "    y = np.random.choice([-1, 1], p = [0.5, 0.5], size = n)\n",
        "    x = np.array([])\n",
        "    for i in range(n):\n",
        "        if y[i] == -1:\n",
        "            mu = -(1 / 4)\n",
        "            negvec = np.random.normal(mu, sig, d_dimension)\n",
        "            x = np.concatenate([x, negvec], axis=0)\n",
        "        else:\n",
        "            mu = (1 / 4)\n",
        "            posvec = np.random.normal(mu, sig, d_dimension)\n",
        "            x = np.concatenate([x, posvec], axis=0)\n",
        "    x = np.reshape(x, (n, d_dimension))\n",
        "    return x, y"
      ],
      "execution_count": 6,
      "outputs": []
    },
    {
      "cell_type": "markdown",
      "metadata": {
        "id": "aAzwTZ79M6oi"
      },
      "source": [
        "#### **Train**\n",
        "https://machinelearningmastery.com/implement-logistic-regression-stochastic-gradient-descent-scratch-python/"
      ]
    },
    {
      "cell_type": "markdown",
      "metadata": {
        "id": "iJfOdxzt4M5T"
      },
      "source": [
        "##### Estimate logistic loss"
      ]
    },
    {
      "cell_type": "code",
      "metadata": {
        "id": "q_3nPdw4BJV0"
      },
      "source": [
        "def log_loss(X, y, w):\n",
        "    '''\n",
        "    This function outputs the logistic loss.\n",
        "\n",
        "    X: feature vector, 1*d array (d: #dimension)\n",
        "    y: label\n",
        "    w: weight vector, 1*d array\n",
        "    \n",
        "    Return: logistic loss\n",
        "    '''\n",
        "    return np.log(1 + np.exp(-y * np.dot(w.T, X)))"
      ],
      "execution_count": 7,
      "outputs": []
    },
    {
      "cell_type": "markdown",
      "metadata": {
        "id": "mnfgixZxQqvj"
      },
      "source": [
        "##### Estimate classification error"
      ]
    },
    {
      "cell_type": "code",
      "metadata": {
        "id": "DZdcop9KQuGF"
      },
      "source": [
        "def err(X, y, w):\n",
        "    '''\n",
        "    This function outputs the classification error.\n",
        "\n",
        "    X: feature vector, 1*d array (d: #dimension)\n",
        "    y: label\n",
        "    w: weight vector, 1*d array\n",
        "    \n",
        "    Return: classification error\n",
        "    '''\n",
        "    yhat = -1 if np.dot(w.T, X) < 0.5 else 1\n",
        "    return 0 if yhat == y else 1"
      ],
      "execution_count": 8,
      "outputs": []
    },
    {
      "cell_type": "markdown",
      "metadata": {
        "id": "XsiXCaLYCn6n"
      },
      "source": [
        "##### SGD"
      ]
    },
    {
      "cell_type": "code",
      "metadata": {
        "id": "O2-5n_kwCnth"
      },
      "source": [
        "def sdg(train_x, train_y):\n",
        "    '''\n",
        "    train_x: feature vectors one batch\n",
        "    train_y: lables in one batch\n",
        "    return: \n",
        "            w: weight vector trained on one batch\n",
        "    '''\n",
        "    w_all = []\n",
        "    w_t = np.zeros(train_x.shape[1])\n",
        "    for idx in range(train_x.shape[0]):\n",
        "        # Read data\n",
        "        X = train_x[idx]\n",
        "        y = train_y[idx]\n",
        "        w_t = np.array(w_t)\n",
        "        # Calculate gradient\n",
        "        g = (-y * X * np.exp(-y * np.dot(w_t.T, X)) / (1 + np.exp(-y * np.dot(w_t.T, X))))\n",
        "        # Project gradient\n",
        "        w_t = prj_grad(np.add(w_t, np.multiply(-l_rate, g)), prj_code)\n",
        "        # Backward propagation\n",
        "        w_all.append(w_t)\n",
        "    return np.average(np.array(w_all), axis=0)"
      ],
      "execution_count": 9,
      "outputs": []
    },
    {
      "cell_type": "markdown",
      "metadata": {
        "id": "lE93wIbQc9Is"
      },
      "source": [
        "##### Estimate weight vector using SGD"
      ]
    },
    {
      "cell_type": "code",
      "metadata": {
        "id": "Jb_QkJsIc8Vh"
      },
      "source": [
        "def train(train_x, train_y, test_x, test_y, l_rate, n_epoch, bs, prj_code):\n",
        "    '''\n",
        "    This function implements and tests the SGD algorithm for logistic regression.\n",
        "\n",
        "    train_x: feature vectors for training, n*d array (n: #sample, d: #dimension)\n",
        "    train_y: labels for training, 1*n array\n",
        "    test_x: feature vectors for test, n*d array (n: #sample, d: #dimension)\n",
        "    test_y: labels for test, 1*n array\n",
        "    l_rate: learning rate\n",
        "    n_epoch: number of trials\n",
        "    bs: training set size\n",
        "    prj_code: type of projection, 0 for cube, 1 for ball\n",
        "    \n",
        "    Return: \n",
        "        w: final weights\n",
        "        risk_ave: average risk\n",
        "        risk_min: minimum of all risks\n",
        "        risk_var: standard deviation of all risks\n",
        "        exp_excess_risk: expected excess risk\n",
        "        cls_err_ave: average classification error\n",
        "        cls_err_var: standard deviation of all classification errors\n",
        "    '''\n",
        "    risk_all = []\n",
        "    cls_err_all = []\n",
        "\n",
        "    for epoch in range(n_epoch):\n",
        "        risk = cls_err = 0.\n",
        "        train_x0 = train_x[epoch * bs: (epoch + 1) * bs] ## use current batch to for trainning\n",
        "        train_y0 = train_y[epoch * bs: (epoch + 1) * bs] ## use current batch to for trainning\n",
        "        w = sdg(train_x0, train_y0)\n",
        "    \n",
        "        # Evaluate\n",
        "        for idx in range(test_x.shape[0]):\n",
        "            # Read data\n",
        "            X = test_x[idx]\n",
        "            y = test_y[idx]\n",
        "            # Evaluate\n",
        "            risk += log_loss(X, y, w) / test_x.shape[0]\n",
        "            cls_err += err(X, y, w) / test_x.shape[0]\n",
        "    \n",
        "        risk_all = np.append(risk_all, risk)\n",
        "        cls_err_all = np.append(cls_err_all, cls_err)\n",
        "        # print('>epoch=%d, lrate=%.3f, risk=%.3f, classification error=%.3f' % (epoch, l_rate, risk, cls_err))\n",
        "  \n",
        "    # Report risk\n",
        "    # print(risk_all, cls_err_all)\n",
        "    risk_ave = np.average(risk_all)\n",
        "    risk_min = np.amin(risk_all)\n",
        "    risk_var = np.sqrt(np.var(risk_all))\n",
        "    exp_excess_risk = risk_ave - risk_min\n",
        "    # Report classification error\n",
        "    cls_err_ave = np.average(cls_err_all)\n",
        "    cls_err_var = np.sqrt(np.var(cls_err_all))\n",
        "    return [w, risk_ave, risk_min, risk_var, exp_excess_risk, cls_err_ave, cls_err_var]"
      ],
      "execution_count": 10,
      "outputs": []
    },
    {
      "cell_type": "markdown",
      "metadata": {
        "id": "q3SH2Dm7d71V"
      },
      "source": [
        "#### **Wrapper test**"
      ]
    },
    {
      "cell_type": "markdown",
      "metadata": {
        "id": "C0-3MK6Pk7mU"
      },
      "source": [
        "##### Generate data and train"
      ]
    },
    {
      "cell_type": "code",
      "metadata": {
        "id": "iJ68DlKXd6rP",
        "colab": {
          "base_uri": "https://localhost:8080/"
        },
        "outputId": "bf841564-ec60-46a1-9cb6-48962b4f741a"
      },
      "source": [
        "# Fixed hyperparameters\n",
        "n_epoch = 30    # training epochs\n",
        "test_n = 400    # size of test set\n",
        "\n",
        "# Unfixed hyperparameters\n",
        "prj_code = 0    # code for two scenario: 0 for cube, 1 for ball\n",
        "l_rate = 0.16  # learning rate: 0.04 for cube, 0.18 for ball\n",
        "train_bs = np.array([50, 100, 500, 1000])   # batch size for each training epoch\n",
        "sigma = 0.1     # variance of Gaussian distribution\n",
        "d_dimension = 4\n",
        "\n",
        "# np.random.seed(0)\n",
        "\n",
        "excess_risk = []\n",
        "cls_error = []\n",
        "excess_risk_var = []\n",
        "cls_error_var = []\n",
        "\n",
        "for bs in train_bs:\n",
        "    # Generate training data\n",
        "    train_x, train_y = gen_data(sigma, bs * n_epoch, d_dimension)\n",
        "    train_px, train_py = prj_data(train_x, train_y, prj_code)\n",
        "\n",
        "    # Generate test data\n",
        "    test_x, test_y = gen_data(sigma, test_n, d_dimension)\n",
        "    test_px, test_py = prj_data(test_x, test_y, prj_code)\n",
        "\n",
        "    # Train\n",
        "    output = train(train_px, train_py, test_px, test_py, l_rate, n_epoch, bs, prj_code)\n",
        "    print(output)\n",
        "    print('>scenario=%d, sigma=%.2f, n=%d, log_loss_mean=%.3f, log_loss_std_dev=%.3f, log_loss_min=%.3f, \\\n",
        "            excess_risk=%.3f, cls_error_mean=%.3f, cls_error_std_dev=%.3f' \n",
        "            % (prj_code+1, sigma, bs, output[1], output[3], output[2], output[4], output[5], output[6]))\n",
        "    \n",
        "    excess_risk = np.append(excess_risk, output[4], axis=None)\n",
        "    cls_error = np.append(cls_error, output[5],  axis=None)\n",
        "    excess_risk_var = np.append(excess_risk_var, output[3], axis=None)\n",
        "    cls_error_var = np.append(cls_error_var, output[6],  axis=None)"
      ],
      "execution_count": 11,
      "outputs": [
        {
          "output_type": "stream",
          "text": [
            "[array([0.39787819, 0.46658027, 0.43502632, 0.43030737, 0.17618118]), 0.5022878940056468, 0.4886053363980076, 0.0076505456467132645, 0.0136825576076392, 0.3470833333333335, 0.16707044838098167]\n",
            ">scenario=1, sigma=0.10, n=50, log_loss_mean=0.502, log_loss_std_dev=0.008, log_loss_min=0.489,             excess_risk=0.014, cls_error_mean=0.347, cls_error_std_dev=0.167\n",
            "[array([ 0.70016221,  0.74708007,  0.70730865,  0.70210267, -0.15517946]), 0.4092921634617162, 0.40023540891546344, 0.004782043136769133, 0.009056754546252765, 0.08525000000000003, 0.10212400550311379]\n",
            ">scenario=1, sigma=0.10, n=100, log_loss_mean=0.409, log_loss_std_dev=0.005, log_loss_min=0.400,             excess_risk=0.009, cls_error_mean=0.085, cls_error_std_dev=0.102\n",
            "[array([ 0.94010568,  0.93936096,  0.94569267,  0.93503651, -0.08285695]), 0.331503155273418, 0.3298722937350734, 0.0006947689377842319, 0.00163086153834463, 0.008083333333333335, 0.004729487874554238]\n",
            ">scenario=1, sigma=0.10, n=500, log_loss_mean=0.332, log_loss_std_dev=0.001, log_loss_min=0.330,             excess_risk=0.002, cls_error_mean=0.008, cls_error_std_dev=0.005\n",
            "[array([0.96631362, 0.97184804, 0.9703715 , 0.96995827, 0.04150382]), 0.32934708455498996, 0.32866065265272215, 0.0003799035773805983, 0.0006864319022678034, 0.008500000000000002, 0.005537749241945383]\n",
            ">scenario=1, sigma=0.10, n=1000, log_loss_mean=0.329, log_loss_std_dev=0.000, log_loss_min=0.329,             excess_risk=0.001, cls_error_mean=0.009, cls_error_std_dev=0.006\n"
          ],
          "name": "stdout"
        }
      ]
    },
    {
      "cell_type": "markdown",
      "metadata": {
        "id": "saT_I5DNk0rq"
      },
      "source": [
        "##### Plot excess risk"
      ]
    },
    {
      "cell_type": "code",
      "metadata": {
        "id": "dkARytwCk0Zj",
        "colab": {
          "base_uri": "https://localhost:8080/",
          "height": 297
        },
        "outputId": "978533c8-7f9a-4416-84ab-fae2c6baa351"
      },
      "source": [
        "plt.plot(train_bs, excess_risk, '-o', label='Excess risk')\n",
        "plt.errorbar(train_bs, excess_risk, excess_risk_var)\n",
        "plt.legend()\n",
        "plt.tight_layout()\n",
        "plt.show()"
      ],
      "execution_count": 12,
      "outputs": [
        {
          "output_type": "display_data",
          "data": {
            "image/png": "[encoded data removed]",
            "text/plain": [
              "<Figure size 432x288 with 1 Axes>"
            ]
          },
          "metadata": {
            "tags": [],
            "needs_background": "light"
          }
        }
      ]
    },
    {
      "cell_type": "markdown",
      "metadata": {
        "id": "xTAnpHKcoI1N"
      },
      "source": [
        "##### Plot classification error"
      ]
    },
    {
      "cell_type": "code",
      "metadata": {
        "id": "HIBfEnVRoMgT",
        "colab": {
          "base_uri": "https://localhost:8080/",
          "height": 297
        },
        "outputId": "3d13412b-f8b4-4c84-8121-2ff44ca2578d"
      },
      "source": [
        "plt.plot(train_bs, cls_error, '-o', label='Classification error')\n",
        "plt.errorbar(train_bs, cls_error, cls_error_var)\n",
        "plt.legend()\n",
        "plt.tight_layout()\n",
        "plt.show()"
      ],
      "execution_count": 13,
      "outputs": [
        {
          "output_type": "display_data",
          "data": {
            "image/png": "[encoded data removed]",
            "text/plain": [
              "<Figure size 432x288 with 1 Axes>"
            ]
          },
          "metadata": {
            "tags": [],
            "needs_background": "light"
          }
        }
      ]
    },
    {
      "cell_type": "markdown",
      "metadata": {
        "id": "VkFoAOYv0sKN"
      },
      "source": [
        "#### **Wrapper**"
      ]
    },
    {
      "cell_type": "code",
      "metadata": {
        "id": "whKZGg6u1T_P"
      },
      "source": [
        "# Set up hyperparameters\n",
        "n_epoch = 30    # training epochs\n",
        "test_n = 400    # size of test set\n",
        "d_dimension = 4\n",
        "train_bs = np.array([50, 100, 500, 1000])  # batch size for each training epoch\n",
        "\n",
        "np.random.seed(3)"
      ],
      "execution_count": 14,
      "outputs": []
    },
    {
      "cell_type": "markdown",
      "metadata": {
        "id": "D-4LlMyk1ecf"
      },
      "source": [
        "##### Run all experiments"
      ]
    },
    {
      "cell_type": "code",
      "metadata": {
        "id": "0_gFZQDT1W_U",
        "colab": {
          "base_uri": "https://localhost:8080/"
        },
        "outputId": "922d1dc6-093d-4906-d24e-9878f555e314"
      },
      "source": [
        "result_list = []\n",
        "for prj_code in [0, 1]:\n",
        "    for sigma in [0.1, 0.35]:\n",
        "        for bs in train_bs:\n",
        "\n",
        "            if prj_code == 0:\n",
        "                m = 2 * np.sqrt(d_dimension + 1)\n",
        "            else:\n",
        "                m = 2\n",
        "\n",
        "            rho = np.sqrt(d_dimension + 1)\n",
        "            l_rate = m / (rho * np.sqrt(bs))\n",
        "\n",
        "            # Generate training data\n",
        "            train_x, train_y = gen_data(sigma, bs * n_epoch, d_dimension)\n",
        "            train_px, train_py = prj_data(train_x, train_y, prj_code)\n",
        "\n",
        "            # Generate test data\n",
        "            test_x, test_y = gen_data(sigma, test_n, d_dimension)\n",
        "            test_px, test_py = prj_data(test_x, test_y, prj_code)\n",
        "\n",
        "            # Train\n",
        "            output = train(train_px, train_py, test_px, test_py, l_rate, n_epoch, bs, prj_code)\n",
        "\n",
        "            print(output)\n",
        "            print('>scenario=%d, sigma=%.2f, n=%d, lr=%.2f, log_loss_mean=%.3f, log_loss_std_dev=%.3f, log_loss_min=%.3f, \\\n",
        "                excess_risk=%.3f, cls_error_mean=%.3f, cls_error_std_dev=%.3f' \n",
        "                % (prj_code+1, sigma, bs, l_rate, output[1], output[3], output[2], output[4], output[5], output[6]))\n",
        "            result = [prj_code + 1, sigma, bs, n_epoch,output[1], output[3], output[2], output[4], output[5], output[6]]\n",
        "            result_list.append(result)"
      ],
      "execution_count": 15,
      "outputs": [
        {
          "output_type": "stream",
          "text": [
            "[array([ 0.67547051,  0.6758275 ,  0.65342979,  0.66033909, -0.11939478]), 0.4222767948915829, 0.411645021105253, 0.010351662389670294, 0.010631773786329901, 0.1290000000000001, 0.14415645435891294]\n",
            ">scenario=1, sigma=0.10, n=50, lr=0.28, log_loss_mean=0.422, log_loss_std_dev=0.010, log_loss_min=0.412,                 excess_risk=0.011, cls_error_mean=0.129, cls_error_std_dev=0.144\n",
            "[array([0.77445133, 0.78500146, 0.70571113, 0.78316496, 0.00525608]), 0.3849366578114302, 0.3786385794830568, 0.003894441748600809, 0.006298078328373424, 0.050833333333333355, 0.07338066654250444]\n",
            ">scenario=1, sigma=0.10, n=100, lr=0.20, log_loss_mean=0.385, log_loss_std_dev=0.004, log_loss_min=0.379,                 excess_risk=0.006, cls_error_mean=0.051, cls_error_std_dev=0.073\n",
            "[array([ 0.89551235,  0.88866145,  0.89292803,  0.89159092, -0.028138  ]), 0.3499273608999994, 0.348222461281334, 0.0009981842923834315, 0.0017048996186653786, 0.021166666666666667, 0.012259916621068657]\n",
            ">scenario=1, sigma=0.10, n=500, lr=0.09, log_loss_mean=0.350, log_loss_std_dev=0.001, log_loss_min=0.348,                 excess_risk=0.002, cls_error_mean=0.021, cls_error_std_dev=0.012\n",
            "[array([0.92294585, 0.92224426, 0.92575085, 0.92501723, 0.01354258]), 0.33492362118667535, 0.33348696797020977, 0.0008839133461024971, 0.0014366532164655776, 0.007916666666666667, 0.0027449448486667675]\n",
            ">scenario=1, sigma=0.10, n=1000, lr=0.06, log_loss_mean=0.335, log_loss_std_dev=0.001, log_loss_min=0.333,                 excess_risk=0.001, cls_error_mean=0.008, cls_error_std_dev=0.003\n",
            "[array([0.68975257, 0.38965902, 0.74220516, 0.69510632, 0.10067775]), 0.46922454867831986, 0.44077434198489873, 0.014752610708096392, 0.02845020669342113, 0.23108333333333347, 0.07888198815671146]\n",
            ">scenario=1, sigma=0.35, n=50, lr=0.28, log_loss_mean=0.469, log_loss_std_dev=0.015, log_loss_min=0.441,                 excess_risk=0.028, cls_error_mean=0.231, cls_error_std_dev=0.079\n",
            "[array([ 0.68125261,  0.63895617,  0.75181863,  0.77485222, -0.23745412]), 0.4242137320772668, 0.40487275709193815, 0.0068709398770241785, 0.019340974985328663, 0.1612500000000001, 0.046751782497212555]\n",
            ">scenario=1, sigma=0.35, n=100, lr=0.20, log_loss_mean=0.424, log_loss_std_dev=0.007, log_loss_min=0.405,                 excess_risk=0.019, cls_error_mean=0.161, cls_error_std_dev=0.047\n",
            "[array([ 0.89138448,  0.86112512,  0.87483902,  0.87312006, -0.10437303]), 0.39438749112823035, 0.38859753794697355, 0.0021064273978501275, 0.005789953181256802, 0.1518333333333334, 0.013600449338982246]\n",
            ">scenario=1, sigma=0.35, n=500, lr=0.09, log_loss_mean=0.394, log_loss_std_dev=0.002, log_loss_min=0.389,                 excess_risk=0.006, cls_error_mean=0.152, cls_error_std_dev=0.014\n",
            "[array([0.92101507, 0.9119142 , 0.90433189, 0.88813354, 0.04212   ]), 0.3951251147987768, 0.39313478653973033, 0.0011071419268643468, 0.001990328259046492, 0.1559166666666668, 0.007970867093498821]\n",
            ">scenario=1, sigma=0.35, n=1000, lr=0.06, log_loss_mean=0.395, log_loss_std_dev=0.001, log_loss_min=0.393,                 excess_risk=0.002, cls_error_mean=0.156, cls_error_std_dev=0.008\n",
            "[array([ 0.32161742,  0.304506  ,  0.33228453,  0.31373508, -0.18917618]), 0.5470876227084127, 0.5385378592323878, 0.007107559733605177, 0.008549763476024874, 0.4596666666666667, 0.11341430930687513]\n",
            ">scenario=2, sigma=0.10, n=50, lr=0.13, log_loss_mean=0.547, log_loss_std_dev=0.007, log_loss_min=0.539,                 excess_risk=0.009, cls_error_mean=0.460, cls_error_std_dev=0.113\n",
            "[array([ 0.35999724,  0.39625396,  0.37662222,  0.41339353, -0.02821117]), 0.5247490720302698, 0.520317777365669, 0.003035785827771734, 0.004431294664600793, 0.43316666666666664, 0.1308767443903698]\n",
            ">scenario=2, sigma=0.10, n=100, lr=0.09, log_loss_mean=0.525, log_loss_std_dev=0.003, log_loss_min=0.520,                 excess_risk=0.004, cls_error_mean=0.433, cls_error_std_dev=0.131\n",
            "[array([0.45333699, 0.44315795, 0.44668797, 0.43254407, 0.06755546]), 0.4958732705627599, 0.49419640301702067, 0.0008086369900120216, 0.001676867545739258, 0.3600000000000004, 0.07198668858430246]\n",
            ">scenario=2, sigma=0.10, n=500, lr=0.04, log_loss_mean=0.496, log_loss_std_dev=0.001, log_loss_min=0.494,                 excess_risk=0.002, cls_error_mean=0.360, cls_error_std_dev=0.072\n",
            "[array([ 0.46175578,  0.46193995,  0.45592497,  0.46545025, -0.03787926]), 0.4889869252786688, 0.48763141066619126, 0.0007401835728804803, 0.0013555146124775708, 0.3325833333333337, 0.049939477258866986]\n",
            ">scenario=2, sigma=0.10, n=1000, lr=0.03, log_loss_mean=0.489, log_loss_std_dev=0.001, log_loss_min=0.488,                 excess_risk=0.001, cls_error_mean=0.333, cls_error_std_dev=0.050\n",
            "[array([ 0.21873723,  0.3358746 ,  0.33809502,  0.34027631, -0.20290405]), 0.5664507230737588, 0.5497929416480549, 0.008860215602499798, 0.016657781425703844, 0.38983333333333364, 0.09420485951136263]\n",
            ">scenario=2, sigma=0.35, n=50, lr=0.13, log_loss_mean=0.566, log_loss_std_dev=0.009, log_loss_min=0.550,                 excess_risk=0.017, cls_error_mean=0.390, cls_error_std_dev=0.094\n",
            "[array([ 0.28335493,  0.4212812 ,  0.32495921,  0.39096235, -0.11088568]), 0.5415969488312165, 0.531674235104888, 0.006745191026833225, 0.00992271372632847, 0.31900000000000023, 0.0669284443765629]\n",
            ">scenario=2, sigma=0.35, n=100, lr=0.09, log_loss_mean=0.542, log_loss_std_dev=0.007, log_loss_min=0.532,                 excess_risk=0.010, cls_error_mean=0.319, cls_error_std_dev=0.067\n",
            "[array([ 0.40250011,  0.44074679,  0.46164823,  0.45083103, -0.05193707]), 0.5208455218246307, 0.5180305650937505, 0.0014304222083714494, 0.0028149567308802803, 0.2772500000000002, 0.03762949862364192]\n",
            ">scenario=2, sigma=0.35, n=500, lr=0.04, log_loss_mean=0.521, log_loss_std_dev=0.001, log_loss_min=0.518,                 excess_risk=0.003, cls_error_mean=0.277, cls_error_std_dev=0.038\n",
            "[array([0.42560305, 0.45788986, 0.46264244, 0.46932762, 0.04302935]), 0.5071968110098835, 0.5055757283195002, 0.0007532773947265405, 0.001621082690383302, 0.2576666666666669, 0.017089632984811465]\n",
            ">scenario=2, sigma=0.35, n=1000, lr=0.03, log_loss_mean=0.507, log_loss_std_dev=0.001, log_loss_min=0.506,                 excess_risk=0.002, cls_error_mean=0.258, cls_error_std_dev=0.017\n"
          ],
          "name": "stdout"
        }
      ]
    },
    {
      "cell_type": "markdown",
      "metadata": {
        "id": "ytSebM2h1z2y"
      },
      "source": [
        "##### Plot table"
      ]
    },
    {
      "cell_type": "code",
      "metadata": {
        "colab": {
          "base_uri": "https://localhost:8080/",
          "height": 559
        },
        "id": "vhUYrS5Qi2-C",
        "outputId": "bef16dff-6b68-48df-88e1-bbdb943cec9b"
      },
      "source": [
        "column_name = [\"Scenario\", \"sigma\", \"N\", \"#trails\", \"Loss_Mean\", \"Loss_StdDev\", \"Loss_Min\", \"Loss_ExcessRisk\",\n",
        "             \"Error_Mean\", \"Error_StdDev\"]\n",
        "result_df = pd.DataFrame(result_list, columns = column_name)\n",
        "result_df"
      ],
      "execution_count": 16,
      "outputs": [
        {
          "output_type": "execute_result",
          "data": {
            "text/html": [
              "<div>\n",
              "<style scoped>\n",
              "    .dataframe tbody tr th:only-of-type {\n",
              "        vertical-align: middle;\n",
              "    }\n",
              "\n",
              "    .dataframe tbody tr th {\n",
              "        vertical-align: top;\n",
              "    }\n",
              "\n",
              "    .dataframe thead th {\n",
              "        text-align: right;\n",
              "    }\n",
              "</style>\n",
              "<table border=\"1\" class=\"dataframe\">\n",
              "  <thead>\n",
              "    <tr style=\"text-align: right;\">\n",
              "      <th></th>\n",
              "      <th>Scenario</th>\n",
              "      <th>sigma</th>\n",
              "      <th>N</th>\n",
              "      <th>#trails</th>\n",
              "      <th>Loss_Mean</th>\n",
              "      <th>Loss_StdDev</th>\n",
              "      <th>Loss_Min</th>\n",
              "      <th>Loss_ExcessRisk</th>\n",
              "      <th>Error_Mean</th>\n",
              "      <th>Error_StdDev</th>\n",
              "    </tr>\n",
              "  </thead>\n",
              "  <tbody>\n",
              "    <tr>\n",
              "      <th>0</th>\n",
              "      <td>1</td>\n",
              "      <td>0.10</td>\n",
              "      <td>50</td>\n",
              "      <td>30</td>\n",
              "      <td>0.422277</td>\n",
              "      <td>0.010352</td>\n",
              "      <td>0.411645</td>\n",
              "      <td>0.010632</td>\n",
              "      <td>0.129000</td>\n",
              "      <td>0.144156</td>\n",
              "    </tr>\n",
              "    <tr>\n",
              "      <th>1</th>\n",
              "      <td>1</td>\n",
              "      <td>0.10</td>\n",
              "      <td>100</td>\n",
              "      <td>30</td>\n",
              "      <td>0.384937</td>\n",
              "      <td>0.003894</td>\n",
              "      <td>0.378639</td>\n",
              "      <td>0.006298</td>\n",
              "      <td>0.050833</td>\n",
              "      <td>0.073381</td>\n",
              "    </tr>\n",
              "    <tr>\n",
              "      <th>2</th>\n",
              "      <td>1</td>\n",
              "      <td>0.10</td>\n",
              "      <td>500</td>\n",
              "      <td>30</td>\n",
              "      <td>0.349927</td>\n",
              "      <td>0.000998</td>\n",
              "      <td>0.348222</td>\n",
              "      <td>0.001705</td>\n",
              "      <td>0.021167</td>\n",
              "      <td>0.012260</td>\n",
              "    </tr>\n",
              "    <tr>\n",
              "      <th>3</th>\n",
              "      <td>1</td>\n",
              "      <td>0.10</td>\n",
              "      <td>1000</td>\n",
              "      <td>30</td>\n",
              "      <td>0.334924</td>\n",
              "      <td>0.000884</td>\n",
              "      <td>0.333487</td>\n",
              "      <td>0.001437</td>\n",
              "      <td>0.007917</td>\n",
              "      <td>0.002745</td>\n",
              "    </tr>\n",
              "    <tr>\n",
              "      <th>4</th>\n",
              "      <td>1</td>\n",
              "      <td>0.35</td>\n",
              "      <td>50</td>\n",
              "      <td>30</td>\n",
              "      <td>0.469225</td>\n",
              "      <td>0.014753</td>\n",
              "      <td>0.440774</td>\n",
              "      <td>0.028450</td>\n",
              "      <td>0.231083</td>\n",
              "      <td>0.078882</td>\n",
              "    </tr>\n",
              "    <tr>\n",
              "      <th>5</th>\n",
              "      <td>1</td>\n",
              "      <td>0.35</td>\n",
              "      <td>100</td>\n",
              "      <td>30</td>\n",
              "      <td>0.424214</td>\n",
              "      <td>0.006871</td>\n",
              "      <td>0.404873</td>\n",
              "      <td>0.019341</td>\n",
              "      <td>0.161250</td>\n",
              "      <td>0.046752</td>\n",
              "    </tr>\n",
              "    <tr>\n",
              "      <th>6</th>\n",
              "      <td>1</td>\n",
              "      <td>0.35</td>\n",
              "      <td>500</td>\n",
              "      <td>30</td>\n",
              "      <td>0.394387</td>\n",
              "      <td>0.002106</td>\n",
              "      <td>0.388598</td>\n",
              "      <td>0.005790</td>\n",
              "      <td>0.151833</td>\n",
              "      <td>0.013600</td>\n",
              "    </tr>\n",
              "    <tr>\n",
              "      <th>7</th>\n",
              "      <td>1</td>\n",
              "      <td>0.35</td>\n",
              "      <td>1000</td>\n",
              "      <td>30</td>\n",
              "      <td>0.395125</td>\n",
              "      <td>0.001107</td>\n",
              "      <td>0.393135</td>\n",
              "      <td>0.001990</td>\n",
              "      <td>0.155917</td>\n",
              "      <td>0.007971</td>\n",
              "    </tr>\n",
              "    <tr>\n",
              "      <th>8</th>\n",
              "      <td>2</td>\n",
              "      <td>0.10</td>\n",
              "      <td>50</td>\n",
              "      <td>30</td>\n",
              "      <td>0.547088</td>\n",
              "      <td>0.007108</td>\n",
              "      <td>0.538538</td>\n",
              "      <td>0.008550</td>\n",
              "      <td>0.459667</td>\n",
              "      <td>0.113414</td>\n",
              "    </tr>\n",
              "    <tr>\n",
              "      <th>9</th>\n",
              "      <td>2</td>\n",
              "      <td>0.10</td>\n",
              "      <td>100</td>\n",
              "      <td>30</td>\n",
              "      <td>0.524749</td>\n",
              "      <td>0.003036</td>\n",
              "      <td>0.520318</td>\n",
              "      <td>0.004431</td>\n",
              "      <td>0.433167</td>\n",
              "      <td>0.130877</td>\n",
              "    </tr>\n",
              "    <tr>\n",
              "      <th>10</th>\n",
              "      <td>2</td>\n",
              "      <td>0.10</td>\n",
              "      <td>500</td>\n",
              "      <td>30</td>\n",
              "      <td>0.495873</td>\n",
              "      <td>0.000809</td>\n",
              "      <td>0.494196</td>\n",
              "      <td>0.001677</td>\n",
              "      <td>0.360000</td>\n",
              "      <td>0.071987</td>\n",
              "    </tr>\n",
              "    <tr>\n",
              "      <th>11</th>\n",
              "      <td>2</td>\n",
              "      <td>0.10</td>\n",
              "      <td>1000</td>\n",
              "      <td>30</td>\n",
              "      <td>0.488987</td>\n",
              "      <td>0.000740</td>\n",
              "      <td>0.487631</td>\n",
              "      <td>0.001356</td>\n",
              "      <td>0.332583</td>\n",
              "      <td>0.049939</td>\n",
              "    </tr>\n",
              "    <tr>\n",
              "      <th>12</th>\n",
              "      <td>2</td>\n",
              "      <td>0.35</td>\n",
              "      <td>50</td>\n",
              "      <td>30</td>\n",
              "      <td>0.566451</td>\n",
              "      <td>0.008860</td>\n",
              "      <td>0.549793</td>\n",
              "      <td>0.016658</td>\n",
              "      <td>0.389833</td>\n",
              "      <td>0.094205</td>\n",
              "    </tr>\n",
              "    <tr>\n",
              "      <th>13</th>\n",
              "      <td>2</td>\n",
              "      <td>0.35</td>\n",
              "      <td>100</td>\n",
              "      <td>30</td>\n",
              "      <td>0.541597</td>\n",
              "      <td>0.006745</td>\n",
              "      <td>0.531674</td>\n",
              "      <td>0.009923</td>\n",
              "      <td>0.319000</td>\n",
              "      <td>0.066928</td>\n",
              "    </tr>\n",
              "    <tr>\n",
              "      <th>14</th>\n",
              "      <td>2</td>\n",
              "      <td>0.35</td>\n",
              "      <td>500</td>\n",
              "      <td>30</td>\n",
              "      <td>0.520846</td>\n",
              "      <td>0.001430</td>\n",
              "      <td>0.518031</td>\n",
              "      <td>0.002815</td>\n",
              "      <td>0.277250</td>\n",
              "      <td>0.037629</td>\n",
              "    </tr>\n",
              "    <tr>\n",
              "      <th>15</th>\n",
              "      <td>2</td>\n",
              "      <td>0.35</td>\n",
              "      <td>1000</td>\n",
              "      <td>30</td>\n",
              "      <td>0.507197</td>\n",
              "      <td>0.000753</td>\n",
              "      <td>0.505576</td>\n",
              "      <td>0.001621</td>\n",
              "      <td>0.257667</td>\n",
              "      <td>0.017090</td>\n",
              "    </tr>\n",
              "  </tbody>\n",
              "</table>\n",
              "</div>"
            ],
            "text/plain": [
              "    Scenario  sigma     N  ...  Loss_ExcessRisk  Error_Mean  Error_StdDev\n",
              "0          1   0.10    50  ...         0.010632    0.129000      0.144156\n",
              "1          1   0.10   100  ...         0.006298    0.050833      0.073381\n",
              "2          1   0.10   500  ...         0.001705    0.021167      0.012260\n",
              "3          1   0.10  1000  ...         0.001437    0.007917      0.002745\n",
              "4          1   0.35    50  ...         0.028450    0.231083      0.078882\n",
              "5          1   0.35   100  ...         0.019341    0.161250      0.046752\n",
              "6          1   0.35   500  ...         0.005790    0.151833      0.013600\n",
              "7          1   0.35  1000  ...         0.001990    0.155917      0.007971\n",
              "8          2   0.10    50  ...         0.008550    0.459667      0.113414\n",
              "9          2   0.10   100  ...         0.004431    0.433167      0.130877\n",
              "10         2   0.10   500  ...         0.001677    0.360000      0.071987\n",
              "11         2   0.10  1000  ...         0.001356    0.332583      0.049939\n",
              "12         2   0.35    50  ...         0.016658    0.389833      0.094205\n",
              "13         2   0.35   100  ...         0.009923    0.319000      0.066928\n",
              "14         2   0.35   500  ...         0.002815    0.277250      0.037629\n",
              "15         2   0.35  1000  ...         0.001621    0.257667      0.017090\n",
              "\n",
              "[16 rows x 10 columns]"
            ]
          },
          "metadata": {
            "tags": []
          },
          "execution_count": 16
        }
      ]
    },
    {
      "cell_type": "markdown",
      "metadata": {
        "id": "HQPvINDl18k2"
      },
      "source": [
        "##### Plot grid"
      ]
    },
    {
      "cell_type": "code",
      "metadata": {
        "id": "rJzILW4Y17TC"
      },
      "source": [
        "def plot_result(estimator, result_df):\n",
        "    '''\n",
        "    estimator: \n",
        "        0 is for [\"Loss_ExcessRisk\", \"Loss_StdDev\"]\n",
        "        1 is for [\"Error_Mean\", \"Error_StdDev\"]\n",
        "    result_df:\n",
        "        result table above\n",
        "    \n",
        "    '''\n",
        "    labels = {0: \"Excess Risk\", 1: \"Error\"}\n",
        "    if estimator == 0:\n",
        "        col = [\"Loss_ExcessRisk\", \"Loss_StdDev\"]\n",
        "    else:\n",
        "        col = [\"Error_Mean\", \"Error_StdDev\"]\n",
        "        \n",
        "    fig = plt.figure(figsize = (16, 10))\n",
        "    index = 0\n",
        "    for senario in [1, 2]:\n",
        "        for sigma in [0.1, 0.35]:\n",
        "            index += 1\n",
        "            plt.subplot(2, 2, index)\n",
        "            df = result_df[np.logical_and(result_df[\"Scenario\"] == senario, result_df[\"sigma\"] == sigma)]\n",
        "            excess_risk, excess_risk_var = df[col[0]], df[col[1]]\n",
        "\n",
        "            plt.plot(train_bs, excess_risk, 'D', label = col[0])\n",
        "            plt.errorbar(train_bs, excess_risk, excess_risk_var, ecolor=\"black\", ls=\"--\")\n",
        "\n",
        "            plt.xlabel(\"n\", fontsize = 12)\n",
        "            plt.xticks(fontsize = 12)\n",
        "            plt.ylabel(labels[estimator], fontsize = 12)\n",
        "            plt.yticks(fontsize = 12)\n",
        "            plt.title(\"Scenario \" + str(senario) + \", Sigma=\" + str(sigma), fontsize=15) \n",
        "    fig.legend(col, loc = \"upper right\", fontsize=13)\n",
        "    plt.tight_layout()\n",
        "    plt.show()"
      ],
      "execution_count": 26,
      "outputs": []
    },
    {
      "cell_type": "markdown",
      "metadata": {
        "id": "LFfG6N4ri2-D"
      },
      "source": [
        "###### Plot excess risk"
      ]
    },
    {
      "cell_type": "code",
      "metadata": {
        "colab": {
          "base_uri": "https://localhost:8080/",
          "height": 553
        },
        "id": "IjXrdqjsi2-D",
        "outputId": "3ecff533-8297-43ec-cf6a-8aa8329f0adf"
      },
      "source": [
        "plot_result(0, result_df)"
      ],
      "execution_count": 23,
      "outputs": [
        {
          "output_type": "display_data",
          "data": {
            "image/png": "[encoded data removed]",
            "text/plain": [
              "<Figure size 1152x720 with 4 Axes>"
            ]
          },
          "metadata": {
            "tags": [],
            "needs_background": "light"
          }
        }
      ]
    },
    {
      "cell_type": "markdown",
      "metadata": {
        "id": "GqkkaFAS3p4S"
      },
      "source": [
        "###### Plot classification error"
      ]
    },
    {
      "cell_type": "code",
      "metadata": {
        "colab": {
          "base_uri": "https://localhost:8080/",
          "height": 553
        },
        "id": "HFdxVESki2-D",
        "outputId": "905cf643-b45f-494a-b936-d81ef2264715"
      },
      "source": [
        "plot_result(1, result_df)"
      ],
      "execution_count": 27,
      "outputs": [
        {
          "output_type": "display_data",
          "data": {
            "image/png": "[encoded data removed]",
            "text/plain": [
              "<Figure size 1152x720 with 4 Axes>"
            ]
          },
          "metadata": {
            "tags": [],
            "needs_background": "light"
          }
        }
      ]
    }
  ]
}