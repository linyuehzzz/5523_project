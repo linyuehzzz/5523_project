{
  "nbformat": 4,
  "nbformat_minor": 0,
  "metadata": {
    "colab": {
      "name": "sgd.ipynb",
      "provenance": [],
      "collapsed_sections": [],
      "toc_visible": true,
      "authorship_tag": "ABX9TyNzi/GgGfwVwloJX0hiNPzd",
      "include_colab_link": true
    },
    "kernelspec": {
      "name": "python3",
      "display_name": "Python 3"
    }
  },
  "cells": [
    {
      "cell_type": "markdown",
      "metadata": {
        "id": "view-in-github",
        "colab_type": "text"
      },
      "source": [
        "<a href=\"https://colab.research.google.com/github/linyuehzzz/5523_project/blob/main/sgd.ipynb\" target=\"_parent\"><img src=\"https://colab.research.google.com/assets/colab-badge.svg\" alt=\"Open In Colab\"/></a>"
      ]
    },
    {
      "cell_type": "markdown",
      "metadata": {
        "id": "FlILGcNEEW0E"
      },
      "source": [
        "##**Stochastic Gradient Descent for Logistic Regression**\n",
        "This code implements and tests the SGD algorithm for logistic regression\n",
        "in different scenarios.  \n",
        "Yifei Zhang (zhang.5387 at osu edu), Yue Lin (lin.3326 at osu.edu)  \n",
        "Created: 11/12/2020"
      ]
    },
    {
      "cell_type": "markdown",
      "metadata": {
        "id": "qGQmKFIeFYKY"
      },
      "source": [
        "#### **Set up libraries**"
      ]
    },
    {
      "cell_type": "code",
      "metadata": {
        "id": "BUex5ElWFaHO"
      },
      "source": [
        "import numpy as np\n",
        "import random\n",
        "import matplotlib.pyplot as plt\n",
        "import pandas as pd"
      ],
      "execution_count": null,
      "outputs": []
    },
    {
      "cell_type": "markdown",
      "metadata": {
        "id": "YXnNnylopljK"
      },
      "source": [
        "#### **Project**"
      ]
    },
    {
      "cell_type": "markdown",
      "metadata": {
        "id": "MzHKV3T7pvFo"
      },
      "source": [
        "##### Projection function for hypercube"
      ]
    },
    {
      "cell_type": "code",
      "metadata": {
        "id": "9ewruRRFp0kP"
      },
      "source": [
        "def cube_prj(sample):\n",
        "    '''\n",
        "    This function projects both domain and parameter sets to a hypercube.\n",
        "\n",
        "    sample: features or gradients, 1*d array (d: #dimension)\n",
        "\n",
        "    return: \n",
        "        a hypercube with edge length 2 and centered around the origin\n",
        "    '''\n",
        "    return [np.sign(i) * min(np.abs(i), 1) for i in sample]"
      ],
      "execution_count": null,
      "outputs": []
    },
    {
      "cell_type": "markdown",
      "metadata": {
        "id": "9mrnAQvYqI8q"
      },
      "source": [
        "##### Projection function for unit ball"
      ]
    },
    {
      "cell_type": "code",
      "metadata": {
        "id": "kyUbRJAKqRsd"
      },
      "source": [
        "def ball_prj(sample):\n",
        "    '''\n",
        "    This function projects both domain and parameter sets to a unit ball.\n",
        "\n",
        "    sample: features or gradients, 1*d array (d: #dimension)\n",
        "\n",
        "    return: \n",
        "        a unit ball centered around the origin\n",
        "    '''\n",
        "    ratio = 1 / np.linalg.norm(sample)\n",
        "    return [i * ratio for i in sample]"
      ],
      "execution_count": null,
      "outputs": []
    },
    {
      "cell_type": "markdown",
      "metadata": {
        "id": "eZXfvRgKqXV2"
      },
      "source": [
        "##### Project data"
      ]
    },
    {
      "cell_type": "code",
      "metadata": {
        "id": "6dwzkd6WqW7X"
      },
      "source": [
        "def prj_data(x, y, prj_code):\n",
        "    '''\n",
        "    This function projects the domain set in terms for two scenarios.\n",
        "\n",
        "    X: feature vectors, n*d array (n: #sample, d: #dimension)\n",
        "    y: labels, 1*n array with values of -1 or +1\n",
        "    prj_code: type of projection, 0 for cube, 1 for ball\n",
        "\n",
        "    return:\n",
        "        prj_x: projected feature vectors \n",
        "        y: labels, same as the input\n",
        "    '''\n",
        "    if prj_code == 0:\n",
        "        prj_x = np.apply_along_axis(cube_prj, 1, x)\n",
        "    elif prj_code == 1:\n",
        "        prj_x = np.apply_along_axis(ball_prj, 1, x)\n",
        "    else:\n",
        "        print(\"Please input correct code for projection type: 0 for cube, 1 for ball\")\n",
        "      \n",
        "    b = np.ones((prj_x.shape[0], 1))\n",
        "    prj_x = np.append(prj_x, b, axis=1)\n",
        "    return prj_x, y"
      ],
      "execution_count": null,
      "outputs": []
    },
    {
      "cell_type": "markdown",
      "metadata": {
        "id": "eiUQqYKLvAuY"
      },
      "source": [
        "##### Project gradient"
      ]
    },
    {
      "cell_type": "code",
      "metadata": {
        "id": "6ThWld5kvaBT"
      },
      "source": [
        "def prj_grad(g, prj_code):\n",
        "    '''\n",
        "    This function projects the parameter set for two scenarios.\n",
        "\n",
        "    g: gradients, 1*d array (d: #dimension)\n",
        "    prj_code: type of projection, 0 for cube, 1 for ball\n",
        "\n",
        "    return:\n",
        "        prj_g: projected gradients\n",
        "    '''\n",
        "    if prj_code == 0:\n",
        "        prj_g = cube_prj(g)\n",
        "    elif prj_code == 1:\n",
        "        prj_g = ball_prj(g)\n",
        "    else:\n",
        "        print(\"Please input correct code for projection type: 0 for cube, 1 for ball\")\n",
        "    return prj_g"
      ],
      "execution_count": null,
      "outputs": []
    },
    {
      "cell_type": "markdown",
      "metadata": {
        "id": "tu0jhwwRF5ls"
      },
      "source": [
        "#### **Prepare data**"
      ]
    },
    {
      "cell_type": "code",
      "metadata": {
        "id": "yMDzFiFcrsg8"
      },
      "source": [
        "def gen_data(sig, n, d_dimension):\n",
        "    '''\n",
        "    This function generates the data for training and test.\n",
        "\n",
        "    sig: standard deviation of the Gaussian function\n",
        "    n: number of samples\n",
        "    d_dimension: dimensionality of the feature vectors\n",
        "    \n",
        "    Return:\n",
        "        X: feature vectors, n*d array (n: #sample, d: #dimension)\n",
        "        y: labels, 1*n array with values of -1 and +1\n",
        "    '''\n",
        "    # d_dimension = 4\n",
        "    y = np.random.choice([-1, 1], p = [0.5, 0.5], size = n)\n",
        "    x = np.array([])\n",
        "    for i in range(n):\n",
        "        if y[i] == -1:\n",
        "            mu = -(1 / 4)\n",
        "            negvec = np.random.normal(mu, sig, d_dimension)\n",
        "            x = np.concatenate([x, negvec], axis=0)\n",
        "        else:\n",
        "            mu = (1 / 4)\n",
        "            posvec = np.random.normal(mu, sig, d_dimension)\n",
        "            x = np.concatenate([x, posvec], axis=0)\n",
        "    x = np.reshape(x, (n, d_dimension))\n",
        "    return x, y"
      ],
      "execution_count": null,
      "outputs": []
    },
    {
      "cell_type": "markdown",
      "metadata": {
        "id": "aAzwTZ79M6oi"
      },
      "source": [
        "#### **Train**\n",
        "https://machinelearningmastery.com/implement-logistic-regression-stochastic-gradient-descent-scratch-python/"
      ]
    },
    {
      "cell_type": "markdown",
      "metadata": {
        "id": "s8XQyQ8Ycqpo"
      },
      "source": [
        "##### Predict using logistic regression"
      ]
    },
    {
      "cell_type": "code",
      "metadata": {
        "id": "dzPxwbmIM6NU"
      },
      "source": [
        "def pred(X, w):\n",
        "    '''\n",
        "    This function makes binary classification using logistic regression.\n",
        "\n",
        "    X: feature vector, 1*d array (d: #dimension)\n",
        "    w: weight vector, 1*d array\n",
        "    \n",
        "    Return:\n",
        "        yhat: predicted output\n",
        "    '''\n",
        "    yhat = 0.\n",
        "    for i in range(X.shape[0]):\n",
        "        yhat += w[i] * X[i]\n",
        "    yhat = 1.0 / (1.0 + np.exp(-yhat))\n",
        "    if yhat < 0.5:\n",
        "        yhat = -1\n",
        "    else:\n",
        "        yhat = 1 \n",
        "    return yhat"
      ],
      "execution_count": null,
      "outputs": []
    },
    {
      "cell_type": "markdown",
      "metadata": {
        "id": "iJfOdxzt4M5T"
      },
      "source": [
        "##### Estimate logistic loss"
      ]
    },
    {
      "cell_type": "code",
      "metadata": {
        "id": "q_3nPdw4BJV0"
      },
      "source": [
        "def log_loss(X, y, w):\n",
        "    '''\n",
        "    This function outputs the logistic loss.\n",
        "\n",
        "    X: feature vectors, n*d array (n: #sample, d: #dimension)\n",
        "    y: labels, 1*n array\n",
        "    w: weight vectors, n*d array\n",
        "    \n",
        "    Return: logistic loss\n",
        "    '''\n",
        "    return np.log(1 + np.exp(-y * np.dot(w.T, X)))"
      ],
      "execution_count": null,
      "outputs": []
    },
    {
      "cell_type": "markdown",
      "metadata": {
        "id": "mnfgixZxQqvj"
      },
      "source": [
        "##### Estimate classification error"
      ]
    },
    {
      "cell_type": "code",
      "metadata": {
        "id": "DZdcop9KQuGF"
      },
      "source": [
        "def err(yhat, y):\n",
        "    '''\n",
        "    This function outputs the classification error.\n",
        "\n",
        "    yhat: predicted label\n",
        "    y: label\n",
        "    \n",
        "    Return: classification error\n",
        "    '''\n",
        "    if yhat == y:\n",
        "        return 0\n",
        "    else:\n",
        "        return 1"
      ],
      "execution_count": null,
      "outputs": []
    },
    {
      "cell_type": "markdown",
      "metadata": {
        "id": "XsiXCaLYCn6n"
      },
      "source": [
        "##### SGD"
      ]
    },
    {
      "cell_type": "code",
      "metadata": {
        "id": "O2-5n_kwCnth"
      },
      "source": [
        "def sgd(X, y, w_t, prj_code, l_rate):\n",
        "    '''\n",
        "    This function implements SGD.\n",
        "\n",
        "    X: feature vectors, n*d array (n: #sample, d: #dimension)\n",
        "    y: labels, 1*n array\n",
        "    w_t: weights at t, n*d array\n",
        "    prj_code: type of projection, 0 for cube, 1 for ball\n",
        "    l_rate: learning rate\n",
        "    \n",
        "    Return: \n",
        "        w_t: updated weight at t+1\n",
        "    '''\n",
        "    w_t = np.array(w_t)\n",
        "    # Calculate gradient\n",
        "    g = (-y * X * np.exp(-y * np.dot(w_t.T, X)) / (1 + np.exp(-y * np.dot(w_t.T, X))))\n",
        "    # Project gradient\n",
        "    w_t = prj_grad(np.add(w_t, np.multiply(-l_rate, g)), prj_code)\n",
        "    return w_t"
      ],
      "execution_count": null,
      "outputs": []
    },
    {
      "cell_type": "markdown",
      "metadata": {
        "id": "lE93wIbQc9Is"
      },
      "source": [
        "##### Estimate weight vector using SGD"
      ]
    },
    {
      "cell_type": "code",
      "metadata": {
        "id": "Jb_QkJsIc8Vh"
      },
      "source": [
        "def train(train_x, train_y, test_x, test_y, l_rate, n_epoch, bs, prj_code):\n",
        "    '''\n",
        "    This function implements and tests the SGD algorithm for logistic regression.\n",
        "\n",
        "    train_x: feature vectors for training, n*d array (n: #sample, d: #dimension)\n",
        "    train_y: labels for training, 1*n array\n",
        "    test_x: feature vectors for test, n*d array (n: #sample, d: #dimension)\n",
        "    test_y: labels for test, 1*n array\n",
        "    l_rate: learning rate\n",
        "    n_epoch: number of trials\n",
        "    bs: training set size\n",
        "    prj_code: type of projection, 0 for cube, 1 for ball\n",
        "    \n",
        "    Return: \n",
        "        w: final weights\n",
        "        risk_ave: average risk\n",
        "        risk_min: minimum of all risks\n",
        "        risk_var: standard deviation of all risks\n",
        "        exp_excess_risk: expected excess risk\n",
        "        cls_err_ave: average classification error\n",
        "        cls_err_var: standard deviation of all classification errors\n",
        "    '''\n",
        "    risk_all = []\n",
        "    cls_err_all = []\n",
        "\n",
        "    for epoch in range(n_epoch):\n",
        "        w_t = np.random.uniform(-1, 1, (train_x.shape[1]))\n",
        "        risk = cls_err = 0.\n",
        "        w_all = []\n",
        "        for idx in range(epoch * bs, (epoch + 1) * bs):\n",
        "            # Read data\n",
        "            X = train_x[idx]\n",
        "            y = train_y[idx]\n",
        "            # SGD\n",
        "            w_t = sgd(X, y, w_t, prj_code, l_rate)\n",
        "            # Backward propagation\n",
        "            w_all.append(w_t)\n",
        "    \n",
        "        w = np.average(np.array(w_all), axis=0)\n",
        "        # print(w_all, w)\n",
        "    \n",
        "        # Evaluate\n",
        "        for idx in range(test_x.shape[0]):\n",
        "            # Read data\n",
        "            X = test_x[idx]\n",
        "            y = test_y[idx]\n",
        "            # Predict\n",
        "            yhat = pred(X, w)\n",
        "            # Evaluate\n",
        "            risk += log_loss(X, y, w) / test_x.shape[0]\n",
        "            cls_err += err(yhat, y) / test_x.shape[0]\n",
        "    \n",
        "        risk_all = np.append(risk_all, risk)\n",
        "        cls_err_all = np.append(cls_err_all, cls_err)\n",
        "        # print('>epoch=%d, lrate=%.3f, risk=%.3f, classification error=%.3f' % (epoch, l_rate, risk, cls_err))\n",
        "  \n",
        "    # Report risk\n",
        "    # print(risk_all, cls_err_all)\n",
        "    risk_ave = np.average(risk_all)\n",
        "    risk_min = np.amin(risk_all)\n",
        "    risk_var = np.sqrt(np.var(risk_all))\n",
        "    exp_excess_risk = risk_ave - risk_min\n",
        "    # Report classification error\n",
        "    cls_err_ave = np.average(cls_err_all)\n",
        "    cls_err_var = np.sqrt(np.var(cls_err_all))\n",
        "    return [w, risk_ave, risk_min, risk_var, exp_excess_risk, cls_err_ave, cls_err_var]"
      ],
      "execution_count": null,
      "outputs": []
    },
    {
      "cell_type": "markdown",
      "metadata": {
        "id": "q3SH2Dm7d71V"
      },
      "source": [
        "#### **Wrapper test**"
      ]
    },
    {
      "cell_type": "markdown",
      "metadata": {
        "id": "C0-3MK6Pk7mU"
      },
      "source": [
        "##### Generate data and train"
      ]
    },
    {
      "cell_type": "code",
      "metadata": {
        "id": "iJ68DlKXd6rP",
        "colab": {
          "base_uri": "https://localhost:8080/"
        },
        "outputId": "9f835f30-2765-4116-8d9a-a8a1144c58d3"
      },
      "source": [
        "# Fixed hyperparameters\n",
        "n_epoch = 30    # training epochs\n",
        "test_n = 400    # size of test set\n",
        "\n",
        "# Unfixed hyperparameters\n",
        "prj_code = 0    # code for two scenario: 0 for cube, 1 for ball\n",
        "l_rate = 0.16  # learning rate: 0.04 for cube, 0.18 for ball\n",
        "train_bs = np.array([50, 100, 500, 1000])   # batch size for each training epoch\n",
        "sigma = 0.1     # variance of Gaussian distribution\n",
        "d_dimension = 4\n",
        "\n",
        "np.random.seed(1)\n",
        "\n",
        "excess_risk = []\n",
        "cls_error = []\n",
        "excess_risk_var = []\n",
        "cls_error_var = []\n",
        "\n",
        "for bs in train_bs:\n",
        "    # Generate training data\n",
        "    train_x, train_y = gen_data(sigma, bs * n_epoch, d_dimension)\n",
        "    train_px, train_py = prj_data(train_x, train_y, prj_code)\n",
        "\n",
        "    # Generate test data\n",
        "    test_x, test_y = gen_data(sigma, test_n, d_dimension)\n",
        "    test_px, test_py = prj_data(test_x, test_y, prj_code)\n",
        "\n",
        "    # Train\n",
        "    output = train(train_px, train_py, test_px, test_py, l_rate, n_epoch, bs, prj_code)\n",
        "    print(output)\n",
        "    print('>scenario=%d, sigma=%.2f, n=%d, log_loss_mean=%.3f, log_loss_std_dev=%.3f, log_loss_min=%.3f, \\\n",
        "            excess_risk=%.3f, cls_error_mean=%.3f, cls_error_std_dev=%.3f' \n",
        "            % (prj_code+1, sigma, bs, output[1], output[3], output[2], output[4], output[5], output[6]))\n",
        "    \n",
        "    excess_risk = np.append(excess_risk, output[4], axis=None)\n",
        "    cls_error = np.append(cls_error, output[5],  axis=None)\n",
        "    excess_risk_var = np.append(excess_risk_var, output[3], axis=None)\n",
        "    cls_error_var = np.append(cls_error_var, output[6],  axis=None)"
      ],
      "execution_count": null,
      "outputs": [
        {
          "output_type": "stream",
          "text": [
            "[array([-0.18897699,  0.05354815,  0.34840153, -0.07563363, -0.04980467]), 0.5208856714013164, 0.37094769357192814, 0.08603300863131619, 0.14993797782938822, 0.14925000000000008, 0.16691833082878196]\n",
            ">scenario=1, sigma=0.10, n=50, log_loss_mean=0.521, log_loss_std_dev=0.086, log_loss_min=0.371,             excess_risk=0.150, cls_error_mean=0.149, cls_error_std_dev=0.167\n",
            "[array([ 0.9814903 ,  0.94495039,  0.32290242, -0.04594593, -0.11793739]), 0.4530631058684069, 0.3372746650374369, 0.04633832285216711, 0.11578844083097001, 0.00325, 0.007307245262979293]\n",
            ">scenario=1, sigma=0.10, n=100, log_loss_mean=0.453, log_loss_std_dev=0.046, log_loss_min=0.337,             excess_risk=0.116, cls_error_mean=0.003, cls_error_std_dev=0.007\n",
            "[array([0.92026751, 0.99258903, 0.86635786, 0.78921267, 0.10112228]), 0.3445910000876896, 0.33173363062021854, 0.007622486945538221, 0.01285736946747107, 0.0, 0.0]\n",
            ">scenario=1, sigma=0.10, n=500, log_loss_mean=0.345, log_loss_std_dev=0.008, log_loss_min=0.332,             excess_risk=0.013, cls_error_mean=0.000, cls_error_std_dev=0.000\n",
            "[array([0.95360249, 0.90905433, 0.96044051, 0.98798487, 0.03924237]), 0.3281938954910119, 0.3198542427404748, 0.003190437354090507, 0.008339652750537108, 0.0, 0.0]\n",
            ">scenario=1, sigma=0.10, n=1000, log_loss_mean=0.328, log_loss_std_dev=0.003, log_loss_min=0.320,             excess_risk=0.008, cls_error_mean=0.000, cls_error_std_dev=0.000\n"
          ],
          "name": "stdout"
        }
      ]
    },
    {
      "cell_type": "markdown",
      "metadata": {
        "id": "saT_I5DNk0rq"
      },
      "source": [
        "##### Plot excess risk"
      ]
    },
    {
      "cell_type": "code",
      "metadata": {
        "id": "dkARytwCk0Zj",
        "colab": {
          "base_uri": "https://localhost:8080/",
          "height": 297
        },
        "outputId": "1161364f-5836-4d21-ee25-c907610427a6"
      },
      "source": [
        "plt.plot(train_bs, excess_risk, '-o', label='Excess risk')\n",
        "plt.errorbar(train_bs, excess_risk, excess_risk_var)\n",
        "plt.legend()\n",
        "plt.tight_layout()\n",
        "plt.show()"
      ],
      "execution_count": null,
      "outputs": [
        {
          "output_type": "display_data",
          "data": {
            "image/png": "[encoded data removed]",
            "text/plain": [
              "<Figure size 432x288 with 1 Axes>"
            ]
          },
          "metadata": {
            "tags": [],
            "needs_background": "light"
          }
        }
      ]
    },
    {
      "cell_type": "markdown",
      "metadata": {
        "id": "xTAnpHKcoI1N"
      },
      "source": [
        "##### Plot classification error"
      ]
    },
    {
      "cell_type": "code",
      "metadata": {
        "id": "HIBfEnVRoMgT",
        "colab": {
          "base_uri": "https://localhost:8080/",
          "height": 297
        },
        "outputId": "2c63ffb2-25a3-4818-8687-9d507c2b4470"
      },
      "source": [
        "plt.plot(train_bs, cls_error, '-o', label='Classification error')\n",
        "plt.errorbar(train_bs, cls_error, cls_error_var)\n",
        "plt.legend()\n",
        "plt.tight_layout()\n",
        "plt.show()"
      ],
      "execution_count": null,
      "outputs": [
        {
          "output_type": "display_data",
          "data": {
            "image/png": "[encoded data removed]",
            "text/plain": [
              "<Figure size 432x288 with 1 Axes>"
            ]
          },
          "metadata": {
            "tags": [],
            "needs_background": "light"
          }
        }
      ]
    },
    {
      "cell_type": "markdown",
      "metadata": {
        "id": "VkFoAOYv0sKN"
      },
      "source": [
        "#### **Wrapper**"
      ]
    },
    {
      "cell_type": "code",
      "metadata": {
        "id": "whKZGg6u1T_P"
      },
      "source": [
        "# Set up hyperparameters\n",
        "n_epoch = 30    # training epochs\n",
        "test_n = 400    # size of test set\n",
        "d_dimension = 4\n",
        "train_bs = np.array([50, 100, 500, 1000])  # batch size for each training epoch\n",
        "\n",
        "np.random.seed(1)"
      ],
      "execution_count": null,
      "outputs": []
    },
    {
      "cell_type": "markdown",
      "metadata": {
        "id": "D-4LlMyk1ecf"
      },
      "source": [
        "##### Run all experiments"
      ]
    },
    {
      "cell_type": "code",
      "metadata": {
        "id": "0_gFZQDT1W_U",
        "colab": {
          "base_uri": "https://localhost:8080/"
        },
        "outputId": "8e6785aa-fb8e-4d9f-ce18-45978555dc50"
      },
      "source": [
        "result_list = []\n",
        "for prj_code in [0, 1]:\n",
        "    for sigma in [0.1, 0.35]:\n",
        "        for bs in train_bs:\n",
        "\n",
        "            if prj_code == 0:\n",
        "                m = 2 * np.sqrt(d_dimension + 1)\n",
        "            else:\n",
        "                m = 2\n",
        "\n",
        "            rho = d_dimension + 1\n",
        "            l_rate = m / (rho * np.sqrt(bs))\n",
        "\n",
        "            # Generate training data\n",
        "            train_x, train_y = gen_data(sigma, bs * n_epoch, d_dimension)\n",
        "            train_px, train_py = prj_data(train_x, train_y, prj_code)\n",
        "\n",
        "            # Generate test data\n",
        "            test_x, test_y = gen_data(sigma, test_n, d_dimension)\n",
        "            test_px, test_py = prj_data(test_x, test_y, prj_code)\n",
        "\n",
        "            # Train\n",
        "            output = train(train_px, train_py, test_px, test_py, l_rate, n_epoch, bs, prj_code)\n",
        "            #[w, risk_ave, risk_min, risk_var, exp_excess_risk, cls_err_ave, cls_err_var]\n",
        "\n",
        "            print(output)\n",
        "            print('>scenario=%d, sigma=%.2f, n=%d, lr=%.2f, log_loss_mean=%.3f, log_loss_std_dev=%.3f, log_loss_min=%.3f, \\\n",
        "                excess_risk=%.3f, cls_error_mean=%.3f, cls_error_std_dev=%.3f' \n",
        "                % (prj_code+1, sigma, bs, l_rate, output[1], output[3], output[2], output[4], output[5], output[6]))\n",
        "            result = [prj_code + 1, sigma, bs, n_epoch,output[1], output[3], output[2], output[4], output[5], output[6]]\n",
        "            result_list.append(result)"
      ],
      "execution_count": null,
      "outputs": [
        {
          "output_type": "stream",
          "text": [
            "[array([-0.30213708, -0.04556574,  0.24957251, -0.18296978,  0.00961437]), 0.5493448990903909, 0.38202462039170165, 0.0961496852184802, 0.1673202786986892, 0.2364999999999998, 0.23441647410822677]\n",
            ">scenario=1, sigma=0.10, n=50, lr=0.13, log_loss_mean=0.549, log_loss_std_dev=0.096, log_loss_min=0.382,                 excess_risk=0.167, cls_error_mean=0.236, cls_error_std_dev=0.234\n",
            "[array([ 0.96393855,  0.91094144, -0.0239014 , -0.38505455, -0.21325635]), 0.5366265668640656, 0.35834690538255304, 0.07715830587575896, 0.17827966148151259, 0.11825000000000009, 0.14850946939505252]\n",
            ">scenario=1, sigma=0.10, n=100, lr=0.09, log_loss_mean=0.537, log_loss_std_dev=0.077, log_loss_min=0.358,                 excess_risk=0.178, cls_error_mean=0.118, cls_error_std_dev=0.149\n",
            "[array([ 0.67194848,  0.97265623,  0.45761492,  0.15884505, -0.04393008]), 0.4212756006212695, 0.36536653995281837, 0.03533393194251, 0.05590906066845114, 0.001333333333333333, 0.004687453703475077]\n",
            ">scenario=1, sigma=0.10, n=500, lr=0.04, log_loss_mean=0.421, log_loss_std_dev=0.035, log_loss_min=0.365,                 excess_risk=0.056, cls_error_mean=0.001, cls_error_std_dev=0.005\n",
            "[array([0.7317308 , 0.45765541, 0.78448099, 0.92408834, 0.02284529]), 0.39051220934116515, 0.33797876799079457, 0.02024684676119863, 0.05253344135037058, 0.0, 0.0]\n",
            ">scenario=1, sigma=0.10, n=1000, lr=0.03, log_loss_mean=0.391, log_loss_std_dev=0.020, log_loss_min=0.338,                 excess_risk=0.053, cls_error_mean=0.000, cls_error_std_dev=0.000\n",
            "[array([-0.4398611 ,  0.20941075,  0.52595377,  0.41595089, -0.4664619 ]), 0.562976620492612, 0.4337381354516752, 0.07521941612735439, 0.12923848504093677, 0.2766666666666669, 0.10229926142885344]\n",
            ">scenario=1, sigma=0.35, n=50, lr=0.13, log_loss_mean=0.563, log_loss_std_dev=0.075, log_loss_min=0.434,                 excess_risk=0.129, cls_error_mean=0.277, cls_error_std_dev=0.102\n",
            "[array([ 0.31659128,  0.99053761, -0.15634707,  0.78721472,  0.19053347]), 0.5370272332659296, 0.3879745981597224, 0.08571979694094105, 0.1490526351062072, 0.22533333333333339, 0.13123727451536826]\n",
            ">scenario=1, sigma=0.35, n=100, lr=0.09, log_loss_mean=0.537, log_loss_std_dev=0.086, log_loss_min=0.388,                 excess_risk=0.149, cls_error_mean=0.225, cls_error_std_dev=0.131\n",
            "[array([0.43101183, 0.26580699, 0.8737456 , 0.81756137, 0.10512687]), 0.4414654570433842, 0.38690261663263537, 0.03080405746251754, 0.054562840410748825, 0.11183333333333338, 0.019663135276168173]\n",
            ">scenario=1, sigma=0.35, n=500, lr=0.04, log_loss_mean=0.441, log_loss_std_dev=0.031, log_loss_min=0.387,                 excess_risk=0.055, cls_error_mean=0.112, cls_error_std_dev=0.020\n",
            "[array([ 0.92219911,  0.64481273,  0.40233707,  0.47462078, -0.11706702]), 0.41809101005752974, 0.3754849077747432, 0.023252308154605855, 0.04260610228278655, 0.08433333333333339, 0.012598500792642848]\n",
            ">scenario=1, sigma=0.35, n=1000, lr=0.03, log_loss_mean=0.418, log_loss_std_dev=0.023, log_loss_min=0.375,                 excess_risk=0.043, cls_error_mean=0.084, cls_error_std_dev=0.013\n",
            "[array([ 0.35380631,  0.73690525, -0.36640805,  0.25556194,  0.22877772]), 0.5347302123752345, 0.34165217241337414, 0.13098992106192844, 0.1930780399618604, 0.22624999999999953, 0.25384604093820196]\n",
            ">scenario=2, sigma=0.10, n=50, lr=0.06, log_loss_mean=0.535, log_loss_std_dev=0.131, log_loss_min=0.342,                 excess_risk=0.193, cls_error_mean=0.226, cls_error_std_dev=0.254\n",
            "[array([ 0.33217009,  0.85723085, -0.15457412, -0.00177075, -0.04869606]), 0.5180173445720563, 0.3364788993761428, 0.15344682996048617, 0.1815384451959135, 0.16074999999999973, 0.23426227289087695]\n",
            ">scenario=2, sigma=0.10, n=100, lr=0.04, log_loss_mean=0.518, log_loss_std_dev=0.153, log_loss_min=0.336,                 excess_risk=0.182, cls_error_mean=0.161, cls_error_std_dev=0.234\n",
            "[array([ 0.13314414,  0.27687908,  0.80414133,  0.2146819 , -0.0170769 ]), 0.38838848400679943, 0.33978231814487836, 0.03635791471638706, 0.04860616586192107, 0.004500000000000002, 0.02241093483101498]\n",
            ">scenario=2, sigma=0.10, n=500, lr=0.02, log_loss_mean=0.388, log_loss_std_dev=0.036, log_loss_min=0.340,                 excess_risk=0.049, cls_error_mean=0.005, cls_error_std_dev=0.022\n",
            "[array([0.54972729, 0.47623675, 0.48887681, 0.43343682, 0.13105175]), 0.3829787624275553, 0.3434755372604703, 0.036235444421373615, 0.03950322516708499, 0.0, 0.0]\n",
            ">scenario=2, sigma=0.10, n=1000, lr=0.01, log_loss_mean=0.383, log_loss_std_dev=0.036, log_loss_min=0.343,                 excess_risk=0.040, cls_error_mean=0.000, cls_error_std_dev=0.000\n",
            "[array([ 0.01496344,  0.83327849, -0.33507279,  0.24324932,  0.30493677]), 0.6917561768231855, 0.4820969589447377, 0.13660413244537256, 0.20965921787844777, 0.42349999999999915, 0.19856422134916304]\n",
            ">scenario=2, sigma=0.35, n=50, lr=0.06, log_loss_mean=0.692, log_loss_std_dev=0.137, log_loss_min=0.482,                 excess_risk=0.210, cls_error_mean=0.423, cls_error_std_dev=0.199\n",
            "[array([ 0.18204094,  0.31686555,  0.2439292 ,  0.88259675, -0.01295216]), 0.6458937566527861, 0.4662185508228436, 0.11358726029913817, 0.17967520582994256, 0.3562499999999999, 0.17212489409340656]\n",
            ">scenario=2, sigma=0.35, n=100, lr=0.04, log_loss_mean=0.646, log_loss_std_dev=0.114, log_loss_min=0.466,                 excess_risk=0.180, cls_error_mean=0.356, cls_error_std_dev=0.172\n",
            "[array([0.23046059, 0.59073884, 0.06936426, 0.49444269, 0.40756402]), 0.5327711970804453, 0.47988516441420886, 0.05007534822436679, 0.05288603266623643, 0.1682500000000001, 0.08510324611905243]\n",
            ">scenario=2, sigma=0.35, n=500, lr=0.02, log_loss_mean=0.533, log_loss_std_dev=0.050, log_loss_min=0.480,                 excess_risk=0.053, cls_error_mean=0.168, cls_error_std_dev=0.085\n",
            "[array([ 0.21974619,  0.04327824,  0.74996481,  0.32325856, -0.17018148]), 0.5224390642756646, 0.4768030283655321, 0.0317854011755724, 0.04563603591013243, 0.14066666666666672, 0.04488844196697214]\n",
            ">scenario=2, sigma=0.35, n=1000, lr=0.01, log_loss_mean=0.522, log_loss_std_dev=0.032, log_loss_min=0.477,                 excess_risk=0.046, cls_error_mean=0.141, cls_error_std_dev=0.045\n"
          ],
          "name": "stdout"
        }
      ]
    },
    {
      "cell_type": "markdown",
      "metadata": {
        "id": "ytSebM2h1z2y"
      },
      "source": [
        "##### Plot table"
      ]
    },
    {
      "cell_type": "code",
      "metadata": {
        "colab": {
          "base_uri": "https://localhost:8080/",
          "height": 559
        },
        "id": "vhUYrS5Qi2-C",
        "outputId": "33d2b550-ca6c-49e3-e6f7-d1d058daf5c3"
      },
      "source": [
        "column_name = [\"Scenario\", \"sigma\", \"N\", \"#trails\", \"Loss_Mean\", \"Loss_StdDev\", \"Loss_Min\", \"Loss_ExcessRisk\",\n",
        "             \"Error_Mean\", \"Error_StdDev\"]\n",
        "result_df = pd.DataFrame(result_list, columns = column_name)\n",
        "result_df"
      ],
      "execution_count": null,
      "outputs": [
        {
          "output_type": "execute_result",
          "data": {
            "text/html": [
              "<div>\n",
              "<style scoped>\n",
              "    .dataframe tbody tr th:only-of-type {\n",
              "        vertical-align: middle;\n",
              "    }\n",
              "\n",
              "    .dataframe tbody tr th {\n",
              "        vertical-align: top;\n",
              "    }\n",
              "\n",
              "    .dataframe thead th {\n",
              "        text-align: right;\n",
              "    }\n",
              "</style>\n",
              "<table border=\"1\" class=\"dataframe\">\n",
              "  <thead>\n",
              "    <tr style=\"text-align: right;\">\n",
              "      <th></th>\n",
              "      <th>Scenario</th>\n",
              "      <th>sigma</th>\n",
              "      <th>N</th>\n",
              "      <th>#trails</th>\n",
              "      <th>Loss_Mean</th>\n",
              "      <th>Loss_StdDev</th>\n",
              "      <th>Loss_Min</th>\n",
              "      <th>Loss_ExcessRisk</th>\n",
              "      <th>Error_Mean</th>\n",
              "      <th>Error_StdDev</th>\n",
              "    </tr>\n",
              "  </thead>\n",
              "  <tbody>\n",
              "    <tr>\n",
              "      <th>0</th>\n",
              "      <td>1</td>\n",
              "      <td>0.10</td>\n",
              "      <td>50</td>\n",
              "      <td>30</td>\n",
              "      <td>0.549345</td>\n",
              "      <td>0.096150</td>\n",
              "      <td>0.382025</td>\n",
              "      <td>0.167320</td>\n",
              "      <td>0.236500</td>\n",
              "      <td>0.234416</td>\n",
              "    </tr>\n",
              "    <tr>\n",
              "      <th>1</th>\n",
              "      <td>1</td>\n",
              "      <td>0.10</td>\n",
              "      <td>100</td>\n",
              "      <td>30</td>\n",
              "      <td>0.536627</td>\n",
              "      <td>0.077158</td>\n",
              "      <td>0.358347</td>\n",
              "      <td>0.178280</td>\n",
              "      <td>0.118250</td>\n",
              "      <td>0.148509</td>\n",
              "    </tr>\n",
              "    <tr>\n",
              "      <th>2</th>\n",
              "      <td>1</td>\n",
              "      <td>0.10</td>\n",
              "      <td>500</td>\n",
              "      <td>30</td>\n",
              "      <td>0.421276</td>\n",
              "      <td>0.035334</td>\n",
              "      <td>0.365367</td>\n",
              "      <td>0.055909</td>\n",
              "      <td>0.001333</td>\n",
              "      <td>0.004687</td>\n",
              "    </tr>\n",
              "    <tr>\n",
              "      <th>3</th>\n",
              "      <td>1</td>\n",
              "      <td>0.10</td>\n",
              "      <td>1000</td>\n",
              "      <td>30</td>\n",
              "      <td>0.390512</td>\n",
              "      <td>0.020247</td>\n",
              "      <td>0.337979</td>\n",
              "      <td>0.052533</td>\n",
              "      <td>0.000000</td>\n",
              "      <td>0.000000</td>\n",
              "    </tr>\n",
              "    <tr>\n",
              "      <th>4</th>\n",
              "      <td>1</td>\n",
              "      <td>0.35</td>\n",
              "      <td>50</td>\n",
              "      <td>30</td>\n",
              "      <td>0.562977</td>\n",
              "      <td>0.075219</td>\n",
              "      <td>0.433738</td>\n",
              "      <td>0.129238</td>\n",
              "      <td>0.276667</td>\n",
              "      <td>0.102299</td>\n",
              "    </tr>\n",
              "    <tr>\n",
              "      <th>5</th>\n",
              "      <td>1</td>\n",
              "      <td>0.35</td>\n",
              "      <td>100</td>\n",
              "      <td>30</td>\n",
              "      <td>0.537027</td>\n",
              "      <td>0.085720</td>\n",
              "      <td>0.387975</td>\n",
              "      <td>0.149053</td>\n",
              "      <td>0.225333</td>\n",
              "      <td>0.131237</td>\n",
              "    </tr>\n",
              "    <tr>\n",
              "      <th>6</th>\n",
              "      <td>1</td>\n",
              "      <td>0.35</td>\n",
              "      <td>500</td>\n",
              "      <td>30</td>\n",
              "      <td>0.441465</td>\n",
              "      <td>0.030804</td>\n",
              "      <td>0.386903</td>\n",
              "      <td>0.054563</td>\n",
              "      <td>0.111833</td>\n",
              "      <td>0.019663</td>\n",
              "    </tr>\n",
              "    <tr>\n",
              "      <th>7</th>\n",
              "      <td>1</td>\n",
              "      <td>0.35</td>\n",
              "      <td>1000</td>\n",
              "      <td>30</td>\n",
              "      <td>0.418091</td>\n",
              "      <td>0.023252</td>\n",
              "      <td>0.375485</td>\n",
              "      <td>0.042606</td>\n",
              "      <td>0.084333</td>\n",
              "      <td>0.012599</td>\n",
              "    </tr>\n",
              "    <tr>\n",
              "      <th>8</th>\n",
              "      <td>2</td>\n",
              "      <td>0.10</td>\n",
              "      <td>50</td>\n",
              "      <td>30</td>\n",
              "      <td>0.534730</td>\n",
              "      <td>0.130990</td>\n",
              "      <td>0.341652</td>\n",
              "      <td>0.193078</td>\n",
              "      <td>0.226250</td>\n",
              "      <td>0.253846</td>\n",
              "    </tr>\n",
              "    <tr>\n",
              "      <th>9</th>\n",
              "      <td>2</td>\n",
              "      <td>0.10</td>\n",
              "      <td>100</td>\n",
              "      <td>30</td>\n",
              "      <td>0.518017</td>\n",
              "      <td>0.153447</td>\n",
              "      <td>0.336479</td>\n",
              "      <td>0.181538</td>\n",
              "      <td>0.160750</td>\n",
              "      <td>0.234262</td>\n",
              "    </tr>\n",
              "    <tr>\n",
              "      <th>10</th>\n",
              "      <td>2</td>\n",
              "      <td>0.10</td>\n",
              "      <td>500</td>\n",
              "      <td>30</td>\n",
              "      <td>0.388388</td>\n",
              "      <td>0.036358</td>\n",
              "      <td>0.339782</td>\n",
              "      <td>0.048606</td>\n",
              "      <td>0.004500</td>\n",
              "      <td>0.022411</td>\n",
              "    </tr>\n",
              "    <tr>\n",
              "      <th>11</th>\n",
              "      <td>2</td>\n",
              "      <td>0.10</td>\n",
              "      <td>1000</td>\n",
              "      <td>30</td>\n",
              "      <td>0.382979</td>\n",
              "      <td>0.036235</td>\n",
              "      <td>0.343476</td>\n",
              "      <td>0.039503</td>\n",
              "      <td>0.000000</td>\n",
              "      <td>0.000000</td>\n",
              "    </tr>\n",
              "    <tr>\n",
              "      <th>12</th>\n",
              "      <td>2</td>\n",
              "      <td>0.35</td>\n",
              "      <td>50</td>\n",
              "      <td>30</td>\n",
              "      <td>0.691756</td>\n",
              "      <td>0.136604</td>\n",
              "      <td>0.482097</td>\n",
              "      <td>0.209659</td>\n",
              "      <td>0.423500</td>\n",
              "      <td>0.198564</td>\n",
              "    </tr>\n",
              "    <tr>\n",
              "      <th>13</th>\n",
              "      <td>2</td>\n",
              "      <td>0.35</td>\n",
              "      <td>100</td>\n",
              "      <td>30</td>\n",
              "      <td>0.645894</td>\n",
              "      <td>0.113587</td>\n",
              "      <td>0.466219</td>\n",
              "      <td>0.179675</td>\n",
              "      <td>0.356250</td>\n",
              "      <td>0.172125</td>\n",
              "    </tr>\n",
              "    <tr>\n",
              "      <th>14</th>\n",
              "      <td>2</td>\n",
              "      <td>0.35</td>\n",
              "      <td>500</td>\n",
              "      <td>30</td>\n",
              "      <td>0.532771</td>\n",
              "      <td>0.050075</td>\n",
              "      <td>0.479885</td>\n",
              "      <td>0.052886</td>\n",
              "      <td>0.168250</td>\n",
              "      <td>0.085103</td>\n",
              "    </tr>\n",
              "    <tr>\n",
              "      <th>15</th>\n",
              "      <td>2</td>\n",
              "      <td>0.35</td>\n",
              "      <td>1000</td>\n",
              "      <td>30</td>\n",
              "      <td>0.522439</td>\n",
              "      <td>0.031785</td>\n",
              "      <td>0.476803</td>\n",
              "      <td>0.045636</td>\n",
              "      <td>0.140667</td>\n",
              "      <td>0.044888</td>\n",
              "    </tr>\n",
              "  </tbody>\n",
              "</table>\n",
              "</div>"
            ],
            "text/plain": [
              "    Scenario  sigma     N  ...  Loss_ExcessRisk  Error_Mean  Error_StdDev\n",
              "0          1   0.10    50  ...         0.167320    0.236500      0.234416\n",
              "1          1   0.10   100  ...         0.178280    0.118250      0.148509\n",
              "2          1   0.10   500  ...         0.055909    0.001333      0.004687\n",
              "3          1   0.10  1000  ...         0.052533    0.000000      0.000000\n",
              "4          1   0.35    50  ...         0.129238    0.276667      0.102299\n",
              "5          1   0.35   100  ...         0.149053    0.225333      0.131237\n",
              "6          1   0.35   500  ...         0.054563    0.111833      0.019663\n",
              "7          1   0.35  1000  ...         0.042606    0.084333      0.012599\n",
              "8          2   0.10    50  ...         0.193078    0.226250      0.253846\n",
              "9          2   0.10   100  ...         0.181538    0.160750      0.234262\n",
              "10         2   0.10   500  ...         0.048606    0.004500      0.022411\n",
              "11         2   0.10  1000  ...         0.039503    0.000000      0.000000\n",
              "12         2   0.35    50  ...         0.209659    0.423500      0.198564\n",
              "13         2   0.35   100  ...         0.179675    0.356250      0.172125\n",
              "14         2   0.35   500  ...         0.052886    0.168250      0.085103\n",
              "15         2   0.35  1000  ...         0.045636    0.140667      0.044888\n",
              "\n",
              "[16 rows x 10 columns]"
            ]
          },
          "metadata": {
            "tags": []
          },
          "execution_count": 17
        }
      ]
    },
    {
      "cell_type": "markdown",
      "metadata": {
        "id": "HQPvINDl18k2"
      },
      "source": [
        "##### Plot grid"
      ]
    },
    {
      "cell_type": "code",
      "metadata": {
        "id": "rJzILW4Y17TC"
      },
      "source": [
        "def plot_result(estimator, result_df):\n",
        "    '''\n",
        "    estimator: \n",
        "        0 is for [\"Loss_ExcessRisk\", \"Loss_StdDev\"]\n",
        "        1 is for [\"Error_Mean\", \"Error_StdDev\"]\n",
        "    result_df:\n",
        "        result table above\n",
        "    \n",
        "    '''\n",
        "    if estimator == 0:\n",
        "        col = [\"Loss_ExcessRisk\", \"Loss_StdDev\"]\n",
        "    else:\n",
        "        col = [\"Error_Mean\", \"Error_StdDev\"]\n",
        "        \n",
        "    fig = plt.figure(figsize = (16, 10))\n",
        "    index = 0\n",
        "    for senario in [1, 2]:\n",
        "        for sigma in [0.1, 0.35]:\n",
        "            index += 1\n",
        "            plt.subplot(2, 2, index)\n",
        "            df = result_df[np.logical_and(result_df[\"Scenario\"] == senario, result_df[\"sigma\"] == sigma)]\n",
        "            excess_risk, excess_risk_var = df[col[0]], df[col[1]]\n",
        "\n",
        "            plt.plot(train_bs, excess_risk, '-o', label = col[0])\n",
        "            plt.errorbar(train_bs, excess_risk, excess_risk_var)\n",
        "\n",
        "            plt.xlabel(\"N\", fontsize = 12)\n",
        "            plt.xticks(fontsize = 12)\n",
        "            plt.ylabel(\"Risk\", fontsize = 12)\n",
        "            plt.yticks(fontsize = 12)\n",
        "            plt.title(\"Scenario \" + str(senario) + \", Sigma=\" + str(sigma), fontsize=15) \n",
        "    fig.legend(col, loc = \"upper right\", fontsize = 13)\n",
        "    plt.tight_layout()\n",
        "    plt.show()"
      ],
      "execution_count": null,
      "outputs": []
    },
    {
      "cell_type": "markdown",
      "metadata": {
        "id": "LFfG6N4ri2-D"
      },
      "source": [
        "###### Plot excess risk"
      ]
    },
    {
      "cell_type": "code",
      "metadata": {
        "colab": {
          "base_uri": "https://localhost:8080/",
          "height": 552
        },
        "id": "IjXrdqjsi2-D",
        "outputId": "2d093041-1fac-4220-ed1b-5d8d006434b2"
      },
      "source": [
        "plot_result(0, result_df)"
      ],
      "execution_count": null,
      "outputs": [
        {
          "output_type": "display_data",
          "data": {
            "image/png": "[encoded data removed]",
            "text/plain": [
              "<Figure size 1152x720 with 4 Axes>"
            ]
          },
          "metadata": {
            "tags": [],
            "needs_background": "light"
          }
        }
      ]
    },
    {
      "cell_type": "markdown",
      "metadata": {
        "id": "GqkkaFAS3p4S"
      },
      "source": [
        "###### Plot classification error"
      ]
    },
    {
      "cell_type": "code",
      "metadata": {
        "colab": {
          "base_uri": "https://localhost:8080/",
          "height": 552
        },
        "id": "HFdxVESki2-D",
        "outputId": "0073a150-4fba-4e5e-ab3f-32c32d569310"
      },
      "source": [
        "plot_result(1, result_df)"
      ],
      "execution_count": null,
      "outputs": [
        {
          "output_type": "display_data",
          "data": {
            "image/png": "[encoded data removed]",
            "text/plain": [
              "<Figure size 1152x720 with 4 Axes>"
            ]
          },
          "metadata": {
            "tags": [],
            "needs_background": "light"
          }
        }
      ]
    }
  ]
}